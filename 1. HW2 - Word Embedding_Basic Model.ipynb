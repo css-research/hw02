{
 "cells": [
  {
   "cell_type": "code",
   "execution_count": 1,
   "metadata": {},
   "outputs": [
    {
     "name": "stderr",
     "output_type": "stream",
     "text": [
      "Using TensorFlow backend.\n"
     ]
    }
   ],
   "source": [
    "import os \n",
    "import matplotlib.pyplot as plt\n",
    "\n",
    "from keras.preprocessing.text import Tokenizer\n",
    "from keras.preprocessing.sequence import pad_sequences\n",
    "from keras.utils import to_categorical\n",
    "import numpy as np"
   ]
  },
  {
   "cell_type": "code",
   "execution_count": 2,
   "metadata": {},
   "outputs": [],
   "source": [
    "#import the data \n",
    "os.chdir(\"./data\")\n",
    "\n",
    "def read_data(file_name):\n",
    "    labels = []\n",
    "    titles = []\n",
    "    with open(file_name, 'r') as f:\n",
    "        lines = f.readlines()\n",
    "        for line in lines:\n",
    "            if 'BillID' not in line:\n",
    "                split = line.split(\"\\t\")\n",
    "                label = split[-1].rstrip(\"\\n\")\n",
    "                if label == \"23\":\n",
    "                    label = \"11\"\n",
    "                labels.append(label)\n",
    "                title = split[-2].replace('\"', \"\").replace(\",\", \"\").replace(\".\", \"\").lower()\n",
    "                titles.append(title)\n",
    "                \n",
    "    return (titles, np.asarray(labels))\n",
    "\n",
    "train_titles_raw, train_labels_raw = read_data(\"congress_train.txt\")\n",
    "val_titles_raw, val_labels_raw = read_data(\"congress_val.txt\")\n",
    "test_titles_raw, test_labels_raw = read_data(\"congress_test.txt\")"
   ]
  },
  {
   "cell_type": "code",
   "execution_count": 3,
   "metadata": {},
   "outputs": [
    {
     "name": "stdout",
     "output_type": "stream",
     "text": [
      "278612 278612\n",
      "69649 69649\n",
      "38693 38693\n"
     ]
    }
   ],
   "source": [
    "#check the data length \n",
    "\n",
    "print (len(train_titles_raw), len(train_labels_raw))\n",
    "print (len(val_titles_raw), len(val_labels_raw))\n",
    "print (len(test_titles_raw), len(test_labels_raw))"
   ]
  },
  {
   "cell_type": "code",
   "execution_count": 6,
   "metadata": {},
   "outputs": [],
   "source": [
    "#setting up_data\n",
    "maxlen = 100\n",
    "max_words = 10000\n",
    "\n",
    "#training data\n",
    "tokenizer = Tokenizer(num_words=max_words)\n",
    "tokenizer.fit_on_texts(train_titles_raw)\n",
    "training_sequences = tokenizer.texts_to_sequences(train_titles_raw)\n",
    "word_index = tokenizer.word_index\n",
    "x_train = pad_sequences(training_sequences, maxlen=100)\n",
    "\n",
    "#validation\n",
    "val_sequences = tokenizer.texts_to_sequences(val_titles_raw)\n",
    "x_val = pad_sequences(val_sequences, maxlen=100)\n",
    "\n",
    "#test\n",
    "test_sequences = tokenizer.texts_to_sequences(test_titles_raw)\n",
    "x_test = pad_sequences(test_sequences, maxlen =100)\n",
    "\n",
    "\n",
    "y_train = to_categorical(train_labels_raw)\n",
    "y_val = to_categorical(val_labels_raw)\n",
    "y_test = to_categorical(test_labels_raw)\n"
   ]
  },
  {
   "cell_type": "markdown",
   "metadata": {},
   "source": [
    "### Estimate a basic feed-forward network"
   ]
  },
  {
   "cell_type": "code",
   "execution_count": 7,
   "metadata": {},
   "outputs": [
    {
     "name": "stdout",
     "output_type": "stream",
     "text": [
      "WARNING:tensorflow:From /home/ubuntu/anaconda3/envs/tensorflow_p36/lib/python3.6/site-packages/tensorflow/python/framework/op_def_library.py:263: colocate_with (from tensorflow.python.framework.ops) is deprecated and will be removed in a future version.\n",
      "Instructions for updating:\n",
      "Colocations handled automatically by placer.\n",
      "_________________________________________________________________\n",
      "Layer (type)                 Output Shape              Param #   \n",
      "=================================================================\n",
      "embedding_1 (Embedding)      (None, 100, 32)           320000    \n",
      "_________________________________________________________________\n",
      "flatten_1 (Flatten)          (None, 3200)              0         \n",
      "_________________________________________________________________\n",
      "dense_1 (Dense)              (None, 22)                70422     \n",
      "=================================================================\n",
      "Total params: 390,422\n",
      "Trainable params: 390,422\n",
      "Non-trainable params: 0\n",
      "_________________________________________________________________\n",
      "WARNING:tensorflow:From /home/ubuntu/anaconda3/envs/tensorflow_p36/lib/python3.6/site-packages/tensorflow/python/ops/math_ops.py:3066: to_int32 (from tensorflow.python.ops.math_ops) is deprecated and will be removed in a future version.\n",
      "Instructions for updating:\n",
      "Use tf.cast instead.\n",
      "Train on 278612 samples, validate on 38693 samples\n",
      "Epoch 1/20\n",
      "278612/278612 [==============================] - 5s 18us/step - loss: 2.1171 - acc: 0.4148 - val_loss: 1.3412 - val_acc: 0.6640\n",
      "Epoch 2/20\n",
      "278612/278612 [==============================] - 2s 8us/step - loss: 0.9899 - acc: 0.7485 - val_loss: 0.8104 - val_acc: 0.7834\n",
      "Epoch 3/20\n",
      "278612/278612 [==============================] - 2s 8us/step - loss: 0.7047 - acc: 0.8114 - val_loss: 0.6872 - val_acc: 0.8116\n",
      "Epoch 4/20\n",
      "278612/278612 [==============================] - 2s 8us/step - loss: 0.6101 - acc: 0.8335 - val_loss: 0.6385 - val_acc: 0.8248\n",
      "Epoch 5/20\n",
      "278612/278612 [==============================] - 2s 8us/step - loss: 0.5568 - acc: 0.8469 - val_loss: 0.6122 - val_acc: 0.8352\n",
      "Epoch 6/20\n",
      "278612/278612 [==============================] - 2s 8us/step - loss: 0.5199 - acc: 0.8560 - val_loss: 0.5943 - val_acc: 0.8401\n",
      "Epoch 7/20\n",
      "278612/278612 [==============================] - 2s 8us/step - loss: 0.4911 - acc: 0.8633 - val_loss: 0.5853 - val_acc: 0.8406\n",
      "Epoch 8/20\n",
      "278612/278612 [==============================] - 2s 8us/step - loss: 0.4678 - acc: 0.8693 - val_loss: 0.5772 - val_acc: 0.8436\n",
      "Epoch 9/20\n",
      "278612/278612 [==============================] - 2s 8us/step - loss: 0.4478 - acc: 0.8745 - val_loss: 0.5690 - val_acc: 0.8487\n",
      "Epoch 10/20\n",
      "278612/278612 [==============================] - 2s 8us/step - loss: 0.4302 - acc: 0.8789 - val_loss: 0.5683 - val_acc: 0.8476\n",
      "Epoch 11/20\n",
      "278612/278612 [==============================] - 2s 8us/step - loss: 0.4145 - acc: 0.8834 - val_loss: 0.5658 - val_acc: 0.8506\n",
      "Epoch 12/20\n",
      "278612/278612 [==============================] - 2s 8us/step - loss: 0.4001 - acc: 0.8871 - val_loss: 0.5655 - val_acc: 0.8509\n",
      "Epoch 13/20\n",
      "278612/278612 [==============================] - 2s 8us/step - loss: 0.3872 - acc: 0.8910 - val_loss: 0.5682 - val_acc: 0.8516\n",
      "Epoch 14/20\n",
      "278612/278612 [==============================] - 2s 8us/step - loss: 0.3751 - acc: 0.8940 - val_loss: 0.5654 - val_acc: 0.8508\n",
      "Epoch 15/20\n",
      "278612/278612 [==============================] - 2s 8us/step - loss: 0.3639 - acc: 0.8974 - val_loss: 0.5674 - val_acc: 0.8532\n",
      "Epoch 16/20\n",
      "278612/278612 [==============================] - 2s 8us/step - loss: 0.3535 - acc: 0.9002 - val_loss: 0.5674 - val_acc: 0.8524\n",
      "Epoch 17/20\n",
      "278612/278612 [==============================] - 2s 8us/step - loss: 0.3438 - acc: 0.9030 - val_loss: 0.5696 - val_acc: 0.8525\n",
      "Epoch 18/20\n",
      "278612/278612 [==============================] - 2s 8us/step - loss: 0.3345 - acc: 0.9050 - val_loss: 0.5722 - val_acc: 0.8526\n",
      "Epoch 19/20\n",
      "278612/278612 [==============================] - 2s 8us/step - loss: 0.3259 - acc: 0.9072 - val_loss: 0.5750 - val_acc: 0.8532\n",
      "Epoch 20/20\n",
      "278612/278612 [==============================] - 2s 8us/step - loss: 0.3178 - acc: 0.9093 - val_loss: 0.5806 - val_acc: 0.8516\n"
     ]
    }
   ],
   "source": [
    "from keras.models import Sequential\n",
    "from keras.layers import Flatten, Dense, Embedding\n",
    "\n",
    "basic_model = Sequential()\n",
    "\n",
    "# output dim = 32\n",
    "basic_model.add(Embedding(10000, 32, input_length = 100))\n",
    "basic_model.add(Flatten())\n",
    "basic_model.add(Dense(22, activation='softmax'))\n",
    "\n",
    "basic_model.compile(optimizer='rmsprop', loss='categorical_crossentropy', metrics=['acc'])\n",
    "basic_model.summary()\n",
    "\n",
    "history = basic_model.fit(x_train, y_train, \n",
    "                          epochs= 20, \n",
    "                          batch_size= 1024,\n",
    "                         validation_data = (x_test, y_test))"
   ]
  },
  {
   "cell_type": "code",
   "execution_count": 8,
   "metadata": {},
   "outputs": [
    {
     "data": {
      "image/png": "[encoded data removed]",
      "text/plain": [
       "<Figure size 432x288 with 1 Axes>"
      ]
     },
     "metadata": {},
     "output_type": "display_data"
    },
    {
     "data": {
      "text/plain": [
       "<Figure size 432x288 with 0 Axes>"
      ]
     },
     "metadata": {},
     "output_type": "display_data"
    }
   ],
   "source": [
    "basic_val_acc = history.history['val_acc']\n",
    "basic_val_loss = history.history['val_loss']\n",
    "\n",
    "epochs = range(1, len(basic_val_acc) + 1)\n",
    "\n",
    "plt.plot(epochs, basic_val_acc, 'b', marker='o', label='Validation acc')\n",
    "plt.title('Validation accuracy')\n",
    "plt.xlabel(\"Epoch\")\n",
    "plt.figure()\n",
    "plt.show()"
   ]
  },
  {
   "cell_type": "code",
   "execution_count": 9,
   "metadata": {},
   "outputs": [
    {
     "data": {
      "image/png": "[encoded data removed]",
      "text/plain": [
       "<Figure size 432x288 with 1 Axes>"
      ]
     },
     "metadata": {},
     "output_type": "display_data"
    }
   ],
   "source": [
    "plt.clf()\n",
    "plt.plot(epochs, basic_val_loss, 'r',marker = \"o\", label='Validation loss')\n",
    "plt.title('Validation loss')\n",
    "plt.xlabel(\"Epoch\")\n",
    "plt.legend()\n",
    "plt.show()"
   ]
  },
  {
   "cell_type": "markdown",
   "metadata": {},
   "source": [
    "### Estimate a recurrent neural network (RNN) with a layer_simple_rnn"
   ]
  },
  {
   "cell_type": "code",
   "execution_count": 10,
   "metadata": {
    "scrolled": true
   },
   "outputs": [
    {
     "name": "stdout",
     "output_type": "stream",
     "text": [
      "_________________________________________________________________\n",
      "Layer (type)                 Output Shape              Param #   \n",
      "=================================================================\n",
      "embedding_2 (Embedding)      (None, 100, 32)           320000    \n",
      "_________________________________________________________________\n",
      "simple_rnn_1 (SimpleRNN)     (None, 32)                2080      \n",
      "_________________________________________________________________\n",
      "dense_2 (Dense)              (None, 22)                726       \n",
      "=================================================================\n",
      "Total params: 322,806\n",
      "Trainable params: 322,806\n",
      "Non-trainable params: 0\n",
      "_________________________________________________________________\n",
      "Train on 278612 samples, validate on 69649 samples\n",
      "Epoch 1/20\n",
      "278612/278612 [==============================] - 27s 97us/step - loss: 2.4079 - acc: 0.2886 - val_loss: 2.0551 - val_acc: 0.3451\n",
      "Epoch 2/20\n",
      "278612/278612 [==============================] - 27s 96us/step - loss: 1.6014 - acc: 0.5374 - val_loss: 1.4024 - val_acc: 0.6065\n",
      "Epoch 3/20\n",
      "278612/278612 [==============================] - 27s 97us/step - loss: 1.2396 - acc: 0.6680 - val_loss: 1.1621 - val_acc: 0.6950\n",
      "Epoch 4/20\n",
      "278612/278612 [==============================] - 27s 98us/step - loss: 1.0114 - acc: 0.7382 - val_loss: 1.0458 - val_acc: 0.7292\n",
      "Epoch 5/20\n",
      "278612/278612 [==============================] - 28s 100us/step - loss: 0.8856 - acc: 0.7716 - val_loss: 0.9304 - val_acc: 0.7592\n",
      "Epoch 6/20\n",
      "278612/278612 [==============================] - 27s 98us/step - loss: 0.8109 - acc: 0.7916 - val_loss: 0.8610 - val_acc: 0.7799\n",
      "Epoch 7/20\n",
      "278612/278612 [==============================] - 27s 95us/step - loss: 0.7550 - acc: 0.8058 - val_loss: 0.9125 - val_acc: 0.7620\n",
      "Epoch 8/20\n",
      "278612/278612 [==============================] - 27s 96us/step - loss: 0.7100 - acc: 0.8177 - val_loss: 0.8426 - val_acc: 0.7826\n",
      "Epoch 9/20\n",
      "278612/278612 [==============================] - 28s 100us/step - loss: 0.6702 - acc: 0.8283 - val_loss: 0.9053 - val_acc: 0.7605\n",
      "Epoch 10/20\n",
      "278612/278612 [==============================] - 27s 97us/step - loss: 0.6408 - acc: 0.8349 - val_loss: 0.7961 - val_acc: 0.7971\n",
      "Epoch 11/20\n",
      "278612/278612 [==============================] - 27s 97us/step - loss: 0.6188 - acc: 0.8397 - val_loss: 0.7700 - val_acc: 0.8008\n",
      "Epoch 12/20\n",
      "278612/278612 [==============================] - 28s 100us/step - loss: 0.5882 - acc: 0.8472 - val_loss: 0.7666 - val_acc: 0.8017\n",
      "Epoch 13/20\n",
      "278612/278612 [==============================] - 25s 88us/step - loss: 0.5688 - acc: 0.8522 - val_loss: 0.7422 - val_acc: 0.8103\n",
      "Epoch 14/20\n",
      "278612/278612 [==============================] - 23s 81us/step - loss: 0.5497 - acc: 0.8570 - val_loss: 0.7493 - val_acc: 0.8095\n",
      "Epoch 15/20\n",
      "278612/278612 [==============================] - 25s 88us/step - loss: 0.5341 - acc: 0.8610 - val_loss: 0.9131 - val_acc: 0.7593\n",
      "Epoch 16/20\n",
      "278612/278612 [==============================] - 27s 95us/step - loss: 0.5208 - acc: 0.8639 - val_loss: 0.7335 - val_acc: 0.8150\n",
      "Epoch 17/20\n",
      "278612/278612 [==============================] - 27s 95us/step - loss: 0.5055 - acc: 0.8677 - val_loss: 0.8207 - val_acc: 0.7894\n",
      "Epoch 18/20\n",
      "278612/278612 [==============================] - 27s 95us/step - loss: 0.4948 - acc: 0.8701 - val_loss: 0.7486 - val_acc: 0.8096\n",
      "Epoch 19/20\n",
      "278612/278612 [==============================] - 27s 95us/step - loss: 0.4811 - acc: 0.8736 - val_loss: 0.7450 - val_acc: 0.8108\n",
      "Epoch 20/20\n",
      "278612/278612 [==============================] - 26s 94us/step - loss: 0.4695 - acc: 0.8766 - val_loss: 0.7925 - val_acc: 0.8001\n"
     ]
    }
   ],
   "source": [
    "from keras.layers import SimpleRNN\n",
    "\n",
    "simple_rnn = Sequential()\n",
    "simple_rnn.add(Embedding(10000, 32, input_length = 100))\n",
    "simple_rnn.add(SimpleRNN(32))\n",
    "simple_rnn.add(Dense(22, activation='softmax'))\n",
    "\n",
    "simple_rnn.compile(optimizer='rmsprop', \n",
    "                   loss='categorical_crossentropy', \n",
    "                   metrics=['acc'])\n",
    "simple_rnn.summary()\n",
    "\n",
    "rnn_history = simple_rnn.fit(x_train, y_train, epochs= 20, batch_size= 1024,\n",
    "                         validation_data = (x_val, y_val))"
   ]
  },
  {
   "cell_type": "code",
   "execution_count": 11,
   "metadata": {},
   "outputs": [
    {
     "data": {
      "image/png": "[encoded data removed]",
      "text/plain": [
       "<Figure size 432x288 with 1 Axes>"
      ]
     },
     "metadata": {},
     "output_type": "display_data"
    },
    {
     "data": {
      "text/plain": [
       "<Figure size 432x288 with 0 Axes>"
      ]
     },
     "metadata": {},
     "output_type": "display_data"
    }
   ],
   "source": [
    "rnn_val_acc = rnn_history.history['val_acc']\n",
    "rnn_val_loss = rnn_history.history['val_loss']\n",
    "\n",
    "epochs = range(1, len(rnn_val_acc) + 1)\n",
    "\n",
    "plt.plot(epochs, rnn_val_acc, 'b', marker='o', label='Validation acc')\n",
    "plt.title('Validation accuracy')\n",
    "plt.xlabel(\"Epoch\")\n",
    "plt.figure()\n",
    "plt.show()"
   ]
  },
  {
   "cell_type": "code",
   "execution_count": 12,
   "metadata": {},
   "outputs": [
    {
     "data": {
      "image/png": "[encoded data removed]",
      "text/plain": [
       "<Figure size 432x288 with 1 Axes>"
      ]
     },
     "metadata": {},
     "output_type": "display_data"
    }
   ],
   "source": [
    "plt.clf()\n",
    "plt.plot(epochs, rnn_val_loss, 'r',marker = \"o\", label='Validation loss')\n",
    "plt.title('Validation loss')\n",
    "plt.xlabel(\"Epoch\")\n",
    "plt.legend()\n",
    "plt.show()"
   ]
  },
  {
   "cell_type": "markdown",
   "metadata": {},
   "source": [
    "### Estimate an RNN with an LSTM layer"
   ]
  },
  {
   "cell_type": "code",
   "execution_count": 13,
   "metadata": {},
   "outputs": [
    {
     "name": "stdout",
     "output_type": "stream",
     "text": [
      "_________________________________________________________________\n",
      "Layer (type)                 Output Shape              Param #   \n",
      "=================================================================\n",
      "embedding_3 (Embedding)      (None, 100, 32)           320000    \n",
      "_________________________________________________________________\n",
      "lstm_1 (LSTM)                (None, 32)                8320      \n",
      "_________________________________________________________________\n",
      "dense_3 (Dense)              (None, 22)                726       \n",
      "=================================================================\n",
      "Total params: 329,046\n",
      "Trainable params: 329,046\n",
      "Non-trainable params: 0\n",
      "_________________________________________________________________\n",
      "Train on 278612 samples, validate on 69649 samples\n",
      "Epoch 1/20\n",
      "278612/278612 [==============================] - 62s 222us/step - loss: 2.4128 - acc: 0.2828 - val_loss: 1.9120 - val_acc: 0.4403\n",
      "Epoch 2/20\n",
      "278612/278612 [==============================] - 61s 219us/step - loss: 1.5648 - acc: 0.5700 - val_loss: 1.3657 - val_acc: 0.6258\n",
      "Epoch 3/20\n",
      "278612/278612 [==============================] - 61s 218us/step - loss: 1.1366 - acc: 0.7046 - val_loss: 1.0680 - val_acc: 0.7244\n",
      "Epoch 4/20\n",
      "278612/278612 [==============================] - 61s 220us/step - loss: 0.9268 - acc: 0.7689 - val_loss: 0.9423 - val_acc: 0.7604\n",
      "Epoch 5/20\n",
      "278612/278612 [==============================] - 61s 219us/step - loss: 0.7844 - acc: 0.8044 - val_loss: 0.8376 - val_acc: 0.7870\n",
      "Epoch 6/20\n",
      "278612/278612 [==============================] - 61s 219us/step - loss: 0.6977 - acc: 0.8236 - val_loss: 0.7948 - val_acc: 0.7941\n",
      "Epoch 7/20\n",
      "278612/278612 [==============================] - 61s 219us/step - loss: 0.6363 - acc: 0.8366 - val_loss: 0.7160 - val_acc: 0.8123\n",
      "Epoch 8/20\n",
      "278612/278612 [==============================] - 61s 219us/step - loss: 0.5938 - acc: 0.8455 - val_loss: 0.6670 - val_acc: 0.8242\n",
      "Epoch 9/20\n",
      "278612/278612 [==============================] - 61s 218us/step - loss: 0.5585 - acc: 0.8523 - val_loss: 0.6844 - val_acc: 0.8170\n",
      "Epoch 10/20\n",
      "278612/278612 [==============================] - 61s 218us/step - loss: 0.5316 - acc: 0.8580 - val_loss: 0.6333 - val_acc: 0.8312\n",
      "Epoch 11/20\n",
      "278612/278612 [==============================] - 61s 219us/step - loss: 0.5082 - acc: 0.8626 - val_loss: 0.6275 - val_acc: 0.8296\n",
      "Epoch 12/20\n",
      "278612/278612 [==============================] - 62s 222us/step - loss: 0.4894 - acc: 0.8665 - val_loss: 0.5994 - val_acc: 0.8380\n",
      "Epoch 13/20\n",
      "278612/278612 [==============================] - 62s 222us/step - loss: 0.4722 - acc: 0.8702 - val_loss: 0.5863 - val_acc: 0.8411\n",
      "Epoch 14/20\n",
      "278612/278612 [==============================] - 62s 222us/step - loss: 0.4575 - acc: 0.8731 - val_loss: 0.5916 - val_acc: 0.8399\n",
      "Epoch 15/20\n",
      "278612/278612 [==============================] - 62s 222us/step - loss: 0.4446 - acc: 0.8759 - val_loss: 0.5859 - val_acc: 0.8413\n",
      "Epoch 16/20\n",
      "278612/278612 [==============================] - 62s 222us/step - loss: 0.4343 - acc: 0.8786 - val_loss: 0.5709 - val_acc: 0.8445\n",
      "Epoch 17/20\n",
      "278612/278612 [==============================] - 62s 223us/step - loss: 0.4239 - acc: 0.8808 - val_loss: 0.5660 - val_acc: 0.8478\n",
      "Epoch 18/20\n",
      "278612/278612 [==============================] - 62s 223us/step - loss: 0.4148 - acc: 0.8824 - val_loss: 0.5556 - val_acc: 0.8486\n",
      "Epoch 19/20\n",
      "278612/278612 [==============================] - 62s 222us/step - loss: 0.4064 - acc: 0.8846 - val_loss: 0.5679 - val_acc: 0.8450\n",
      "Epoch 20/20\n",
      "278612/278612 [==============================] - 62s 223us/step - loss: 0.3986 - acc: 0.8865 - val_loss: 0.5607 - val_acc: 0.8482\n"
     ]
    }
   ],
   "source": [
    "from keras.layers import LSTM\n",
    "\n",
    "rnn_lstm = Sequential()\n",
    "rnn_lstm.add(Embedding(10000, 32, input_length = 100))\n",
    "rnn_lstm.add(LSTM(32))\n",
    "rnn_lstm.add(Dense(22, activation='softmax'))\n",
    "\n",
    "rnn_lstm.compile(optimizer='rmsprop', \n",
    "                   loss='categorical_crossentropy', \n",
    "                   metrics=['acc'])\n",
    "rnn_lstm.summary()\n",
    "\n",
    "lstm_history = rnn_lstm.fit(x_train, y_train, epochs= 20, batch_size= 1024,\n",
    "                         validation_data = (x_val, y_val))"
   ]
  },
  {
   "cell_type": "code",
   "execution_count": 14,
   "metadata": {},
   "outputs": [
    {
     "data": {
      "image/png": "[encoded data removed]",
      "text/plain": [
       "<Figure size 432x288 with 1 Axes>"
      ]
     },
     "metadata": {},
     "output_type": "display_data"
    },
    {
     "data": {
      "text/plain": [
       "<Figure size 432x288 with 0 Axes>"
      ]
     },
     "metadata": {},
     "output_type": "display_data"
    }
   ],
   "source": [
    "lstm_val_acc = lstm_history.history['val_acc']\n",
    "lstm_val_loss = lstm_history.history['val_loss']\n",
    "\n",
    "epochs = range(1, len(lstm_val_acc) + 1)\n",
    "\n",
    "plt.plot(epochs, lstm_val_acc, 'b', marker='o', label='Validation acc')\n",
    "plt.title('Validation accuracy')\n",
    "plt.xlabel(\"Epoch\")\n",
    "plt.figure()\n",
    "plt.show()"
   ]
  },
  {
   "cell_type": "code",
   "execution_count": 15,
   "metadata": {},
   "outputs": [
    {
     "data": {
      "image/png": "[encoded data removed]",
      "text/plain": [
       "<Figure size 432x288 with 1 Axes>"
      ]
     },
     "metadata": {},
     "output_type": "display_data"
    }
   ],
   "source": [
    "plt.clf()\n",
    "plt.plot(epochs, lstm_val_loss, 'r',marker = \"o\", label='Validation loss')\n",
    "plt.title('Validation loss')\n",
    "plt.xlabel(\"Epoch\")\n",
    "plt.legend()\n",
    "plt.show()"
   ]
  },
  {
   "cell_type": "markdown",
   "metadata": {},
   "source": [
    "### Estimate an RNN with a GRU layer"
   ]
  },
  {
   "cell_type": "code",
   "execution_count": 16,
   "metadata": {
    "scrolled": true
   },
   "outputs": [
    {
     "name": "stdout",
     "output_type": "stream",
     "text": [
      "_________________________________________________________________\n",
      "Layer (type)                 Output Shape              Param #   \n",
      "=================================================================\n",
      "embedding_4 (Embedding)      (None, 100, 32)           320000    \n",
      "_________________________________________________________________\n",
      "gru_1 (GRU)                  (None, 32)                6240      \n",
      "_________________________________________________________________\n",
      "dense_4 (Dense)              (None, 22)                726       \n",
      "=================================================================\n",
      "Total params: 326,966\n",
      "Trainable params: 326,966\n",
      "Non-trainable params: 0\n",
      "_________________________________________________________________\n",
      "Train on 278612 samples, validate on 69649 samples\n",
      "Epoch 1/20\n",
      "278612/278612 [==============================] - 51s 184us/step - loss: 2.5550 - acc: 0.2120 - val_loss: 2.2538 - val_acc: 0.3025\n",
      "Epoch 2/20\n",
      "278612/278612 [==============================] - 50s 180us/step - loss: 1.9728 - acc: 0.4200 - val_loss: 1.6966 - val_acc: 0.5303\n",
      "Epoch 3/20\n",
      "278612/278612 [==============================] - 50s 180us/step - loss: 1.3387 - acc: 0.6485 - val_loss: 1.1198 - val_acc: 0.7222\n",
      "Epoch 4/20\n",
      "278612/278612 [==============================] - 50s 180us/step - loss: 0.9798 - acc: 0.7595 - val_loss: 0.9309 - val_acc: 0.7714\n",
      "Epoch 5/20\n",
      "278612/278612 [==============================] - 50s 180us/step - loss: 0.8255 - acc: 0.7962 - val_loss: 0.8488 - val_acc: 0.7858\n",
      "Epoch 6/20\n",
      "278612/278612 [==============================] - 50s 180us/step - loss: 0.7256 - acc: 0.8172 - val_loss: 0.7497 - val_acc: 0.8107\n",
      "Epoch 7/20\n",
      "278612/278612 [==============================] - 50s 180us/step - loss: 0.6591 - acc: 0.8306 - val_loss: 0.7018 - val_acc: 0.8205\n",
      "Epoch 8/20\n",
      "278612/278612 [==============================] - 50s 180us/step - loss: 0.6110 - acc: 0.8409 - val_loss: 0.6727 - val_acc: 0.8234\n",
      "Epoch 9/20\n",
      "278612/278612 [==============================] - 50s 179us/step - loss: 0.5748 - acc: 0.8485 - val_loss: 0.6478 - val_acc: 0.8306\n",
      "Epoch 10/20\n",
      "278612/278612 [==============================] - 50s 179us/step - loss: 0.5449 - acc: 0.8549 - val_loss: 0.6118 - val_acc: 0.8394\n",
      "Epoch 11/20\n",
      "278612/278612 [==============================] - 50s 179us/step - loss: 0.5218 - acc: 0.8600 - val_loss: 0.6054 - val_acc: 0.8386\n",
      "Epoch 12/20\n",
      "278612/278612 [==============================] - 50s 179us/step - loss: 0.5023 - acc: 0.8640 - val_loss: 0.5857 - val_acc: 0.8455\n",
      "Epoch 13/20\n",
      "278612/278612 [==============================] - 50s 179us/step - loss: 0.4859 - acc: 0.8678 - val_loss: 0.6127 - val_acc: 0.8370\n",
      "Epoch 14/20\n",
      "278612/278612 [==============================] - 50s 179us/step - loss: 0.4714 - acc: 0.8711 - val_loss: 0.5648 - val_acc: 0.8495\n",
      "Epoch 15/20\n",
      "278612/278612 [==============================] - 50s 179us/step - loss: 0.4587 - acc: 0.8739 - val_loss: 0.5639 - val_acc: 0.8498\n",
      "Epoch 16/20\n",
      "278612/278612 [==============================] - 50s 179us/step - loss: 0.4471 - acc: 0.8766 - val_loss: 0.5634 - val_acc: 0.8499\n",
      "Epoch 17/20\n",
      "278612/278612 [==============================] - 50s 179us/step - loss: 0.4362 - acc: 0.8792 - val_loss: 0.5560 - val_acc: 0.8509\n",
      "Epoch 18/20\n",
      "278612/278612 [==============================] - 50s 179us/step - loss: 0.4267 - acc: 0.8810 - val_loss: 0.5534 - val_acc: 0.8525\n",
      "Epoch 19/20\n",
      "278612/278612 [==============================] - 50s 179us/step - loss: 0.4177 - acc: 0.8834 - val_loss: 0.5429 - val_acc: 0.8541\n",
      "Epoch 20/20\n",
      "278612/278612 [==============================] - 50s 179us/step - loss: 0.4094 - acc: 0.8854 - val_loss: 0.5504 - val_acc: 0.8521\n"
     ]
    }
   ],
   "source": [
    "from keras.layers import GRU\n",
    "\n",
    "gru = Sequential()\n",
    "gru.add(Embedding(10000, 32, input_length = 100))\n",
    "gru.add(GRU(32))\n",
    "gru.add(Dense(22, activation='softmax'))\n",
    "\n",
    "gru.compile(optimizer='rmsprop', \n",
    "                   loss='categorical_crossentropy', \n",
    "                   metrics=['acc'])\n",
    "gru.summary()\n",
    "\n",
    "gru_history = gru.fit(x_train, y_train, epochs= 20, batch_size= 1024,\n",
    "                         validation_data = (x_val, y_val))"
   ]
  },
  {
   "cell_type": "code",
   "execution_count": 17,
   "metadata": {},
   "outputs": [
    {
     "data": {
      "image/png": "[encoded data removed]",
      "text/plain": [
       "<Figure size 432x288 with 1 Axes>"
      ]
     },
     "metadata": {},
     "output_type": "display_data"
    },
    {
     "data": {
      "text/plain": [
       "<Figure size 432x288 with 0 Axes>"
      ]
     },
     "metadata": {},
     "output_type": "display_data"
    }
   ],
   "source": [
    "gru_val_acc = gru_history.history['val_acc']\n",
    "gru_val_loss = gru_history.history['val_loss']\n",
    "\n",
    "epochs = range(1, len(gru_val_acc) + 1)\n",
    "\n",
    "plt.plot(epochs, gru_val_acc, 'b', marker='o', label='Validation acc')\n",
    "plt.title('Validation accuracy')\n",
    "plt.xlabel(\"Epoch\")\n",
    "plt.figure()\n",
    "plt.show()"
   ]
  },
  {
   "cell_type": "code",
   "execution_count": 18,
   "metadata": {},
   "outputs": [
    {
     "data": {
      "image/png": "[encoded data removed]",
      "text/plain": [
       "<Figure size 432x288 with 1 Axes>"
      ]
     },
     "metadata": {},
     "output_type": "display_data"
    }
   ],
   "source": [
    "plt.clf()\n",
    "plt.plot(epochs, gru_val_loss, 'r',marker = \"o\", label='Validation loss')\n",
    "plt.title('Validation loss')\n",
    "plt.xlabel(\"Epoch\")\n",
    "plt.legend()\n",
    "plt.show()"
   ]
  },
  {
   "cell_type": "code",
   "execution_count": 20,
   "metadata": {},
   "outputs": [],
   "source": [
    "import pickle \n",
    "\n",
    "output = open('data_part_1.pkl', 'wb')\n",
    "lst = [history, rnn_history, lstm_history, gru_history]\n",
    "pickle.dump(lst, output)\n",
    "output.close()"
   ]
  }
 ],
 "metadata": {
  "kernelspec": {
   "display_name": "Python [conda env:tensorflow_p36]",
   "language": "python",
   "name": "conda-env-tensorflow_p36-py"
  },
  "language_info": {
   "codemirror_mode": {
    "name": "ipython",
    "version": 3
   },
   "file_extension": ".py",
   "mimetype": "text/x-python",
   "name": "python",
   "nbconvert_exporter": "python",
   "pygments_lexer": "ipython3",
   "version": "3.6.5"
  }
 },
 "nbformat": 4,
 "nbformat_minor": 2
}
