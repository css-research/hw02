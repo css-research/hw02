{
 "cells": [
  {
   "cell_type": "code",
   "execution_count": 1,
   "metadata": {},
   "outputs": [
    {
     "name": "stderr",
     "output_type": "stream",
     "text": [
      "Using TensorFlow backend.\n"
     ]
    }
   ],
   "source": [
    "import os \n",
    "import matplotlib.pyplot as plt\n",
    "\n",
    "from keras.preprocessing.text import Tokenizer\n",
    "from keras.preprocessing.sequence import pad_sequences\n",
    "from keras.utils import to_categorical\n",
    "import numpy as np"
   ]
  },
  {
   "cell_type": "code",
   "execution_count": 2,
   "metadata": {},
   "outputs": [],
   "source": [
    "#import the data \n",
    "os.chdir(\"./data\")\n",
    "\n",
    "def read_data(file_name):\n",
    "    labels = []\n",
    "    titles = []\n",
    "    with open(file_name, 'r') as f:\n",
    "        lines = f.readlines()\n",
    "        for line in lines:\n",
    "            if 'BillID' not in line:\n",
    "                split = line.split(\"\\t\")\n",
    "                label = split[-1].rstrip(\"\\n\")\n",
    "                if label == \"23\":\n",
    "                    label = \"11\"\n",
    "                labels.append(label)\n",
    "                title = split[-2].replace('\"', \"\").replace(\",\", \"\").replace(\".\", \"\").lower()\n",
    "                titles.append(title)\n",
    "                \n",
    "    return (titles, np.asarray(labels))\n",
    "\n",
    "train_titles_raw, train_labels_raw = read_data(\"congress_train.txt\")\n",
    "val_titles_raw, val_labels_raw = read_data(\"congress_val.txt\")\n",
    "test_titles_raw, test_labels_raw = read_data(\"congress_test.txt\")"
   ]
  },
  {
   "cell_type": "code",
   "execution_count": 5,
   "metadata": {},
   "outputs": [
    {
     "name": "stdout",
     "output_type": "stream",
     "text": [
      "278612 278612\n",
      "69649 69649\n",
      "38693 38693\n"
     ]
    }
   ],
   "source": [
    "#check the data length \n",
    "\n",
    "print (len(train_titles_raw), len(train_labels_raw))\n",
    "print (len(val_titles_raw), len(val_labels_raw))\n",
    "print (len(test_titles_raw), len(test_labels_raw))"
   ]
  },
  {
   "cell_type": "code",
   "execution_count": 3,
   "metadata": {},
   "outputs": [],
   "source": [
    "#setting up_data\n",
    "maxlen = 100\n",
    "max_words = 10000\n",
    "\n",
    "#training data\n",
    "tokenizer = Tokenizer(num_words=max_words)\n",
    "tokenizer.fit_on_texts(train_titles_raw)\n",
    "training_sequences = tokenizer.texts_to_sequences(train_titles_raw)\n",
    "word_index = tokenizer.word_index\n",
    "x_train = pad_sequences(training_sequences, maxlen=100)\n",
    "\n",
    "#validation\n",
    "val_sequences = tokenizer.texts_to_sequences(val_titles_raw)\n",
    "x_val = pad_sequences(val_sequences, maxlen=100)\n",
    "\n",
    "#test\n",
    "test_sequences = tokenizer.texts_to_sequences(test_titles_raw)\n",
    "x_test = pad_sequences(test_sequences, maxlen =100)\n",
    "\n",
    "\n",
    "y_train = to_categorical(train_labels_raw)\n",
    "y_val = to_categorical(val_labels_raw)\n",
    "y_test = to_categorical(test_labels_raw)\n"
   ]
  },
  {
   "cell_type": "markdown",
   "metadata": {},
   "source": [
    "### Estimate a basic feed-forward network"
   ]
  },
  {
   "cell_type": "code",
   "execution_count": 5,
   "metadata": {},
   "outputs": [
    {
     "name": "stdout",
     "output_type": "stream",
     "text": [
      "WARNING:tensorflow:From /home/ubuntu/anaconda3/envs/tensorflow_p36/lib/python3.6/site-packages/tensorflow/python/framework/op_def_library.py:263: colocate_with (from tensorflow.python.framework.ops) is deprecated and will be removed in a future version.\n",
      "Instructions for updating:\n",
      "Colocations handled automatically by placer.\n",
      "_________________________________________________________________\n",
      "Layer (type)                 Output Shape              Param #   \n",
      "=================================================================\n",
      "embedding_1 (Embedding)      (None, 100, 24)           240000    \n",
      "_________________________________________________________________\n",
      "flatten_1 (Flatten)          (None, 2400)              0         \n",
      "_________________________________________________________________\n",
      "dense_1 (Dense)              (None, 22)                52822     \n",
      "=================================================================\n",
      "Total params: 292,822\n",
      "Trainable params: 292,822\n",
      "Non-trainable params: 0\n",
      "_________________________________________________________________\n",
      "WARNING:tensorflow:From /home/ubuntu/anaconda3/envs/tensorflow_p36/lib/python3.6/site-packages/tensorflow/python/ops/math_ops.py:3066: to_int32 (from tensorflow.python.ops.math_ops) is deprecated and will be removed in a future version.\n",
      "Instructions for updating:\n",
      "Use tf.cast instead.\n",
      "Train on 278612 samples, validate on 38693 samples\n",
      "Epoch 1/20\n",
      "278612/278612 [==============================] - 3s 11us/step - loss: 2.2052 - acc: 0.3871 - val_loss: 1.4756 - val_acc: 0.6205\n",
      "Epoch 2/20\n",
      "278612/278612 [==============================] - 2s 7us/step - loss: 1.1091 - acc: 0.7187 - val_loss: 0.8973 - val_acc: 0.7674\n",
      "Epoch 3/20\n",
      "278612/278612 [==============================] - 2s 7us/step - loss: 0.7742 - acc: 0.7961 - val_loss: 0.7374 - val_acc: 0.8019\n",
      "Epoch 4/20\n",
      "278612/278612 [==============================] - 2s 7us/step - loss: 0.6576 - acc: 0.8230 - val_loss: 0.6753 - val_acc: 0.8193\n",
      "Epoch 5/20\n",
      "278612/278612 [==============================] - 2s 7us/step - loss: 0.5969 - acc: 0.8377 - val_loss: 0.6394 - val_acc: 0.8297\n",
      "Epoch 6/20\n",
      "278612/278612 [==============================] - 2s 7us/step - loss: 0.5564 - acc: 0.8470 - val_loss: 0.6176 - val_acc: 0.8331\n",
      "Epoch 7/20\n",
      "278612/278612 [==============================] - 2s 7us/step - loss: 0.5261 - acc: 0.8548 - val_loss: 0.6041 - val_acc: 0.8381\n",
      "Epoch 8/20\n",
      "278612/278612 [==============================] - 2s 7us/step - loss: 0.5019 - acc: 0.8610 - val_loss: 0.5941 - val_acc: 0.8408\n",
      "Epoch 9/20\n",
      "278612/278612 [==============================] - 2s 7us/step - loss: 0.4816 - acc: 0.8663 - val_loss: 0.5870 - val_acc: 0.8426\n",
      "Epoch 10/20\n",
      "278612/278612 [==============================] - 2s 7us/step - loss: 0.4641 - acc: 0.8709 - val_loss: 0.5814 - val_acc: 0.8442\n",
      "Epoch 11/20\n",
      "278612/278612 [==============================] - 2s 7us/step - loss: 0.4486 - acc: 0.8751 - val_loss: 0.5792 - val_acc: 0.8446\n",
      "Epoch 12/20\n",
      "278612/278612 [==============================] - 2s 7us/step - loss: 0.4351 - acc: 0.8786 - val_loss: 0.5767 - val_acc: 0.8475\n",
      "Epoch 13/20\n",
      "278612/278612 [==============================] - 2s 7us/step - loss: 0.4226 - acc: 0.8819 - val_loss: 0.5754 - val_acc: 0.8464\n",
      "Epoch 14/20\n",
      "278612/278612 [==============================] - 2s 7us/step - loss: 0.4113 - acc: 0.8848 - val_loss: 0.5726 - val_acc: 0.8490\n",
      "Epoch 15/20\n",
      "278612/278612 [==============================] - 2s 7us/step - loss: 0.4008 - acc: 0.8877 - val_loss: 0.5750 - val_acc: 0.8487\n",
      "Epoch 16/20\n",
      "278612/278612 [==============================] - 2s 7us/step - loss: 0.3912 - acc: 0.8904 - val_loss: 0.5748 - val_acc: 0.8499\n",
      "Epoch 17/20\n",
      "278612/278612 [==============================] - 2s 7us/step - loss: 0.3823 - acc: 0.8927 - val_loss: 0.5760 - val_acc: 0.8505\n",
      "Epoch 18/20\n",
      "278612/278612 [==============================] - 2s 7us/step - loss: 0.3739 - acc: 0.8951 - val_loss: 0.5781 - val_acc: 0.8512\n",
      "Epoch 19/20\n",
      "278612/278612 [==============================] - 2s 7us/step - loss: 0.3660 - acc: 0.8971 - val_loss: 0.5777 - val_acc: 0.8523\n",
      "Epoch 20/20\n",
      "278612/278612 [==============================] - 2s 7us/step - loss: 0.3586 - acc: 0.8990 - val_loss: 0.5819 - val_acc: 0.8526\n"
     ]
    }
   ],
   "source": [
    "from keras.models import Sequential\n",
    "from keras.layers import Flatten, Dense, Embedding\n",
    "\n",
    "basic_model = Sequential()\n",
    "\n",
    "# output dim = 32\n",
    "basic_model.add(Embedding(10000, 24, input_length = 100))\n",
    "basic_model.add(Flatten())\n",
    "basic_model.add(Dense(22, activation='softmax'))\n",
    "\n",
    "basic_model.compile(optimizer='rmsprop', loss='categorical_crossentropy', metrics=['acc'])\n",
    "basic_model.summary()\n",
    "\n",
    "history = basic_model.fit(x_train, y_train, \n",
    "                          epochs= 20, \n",
    "                          batch_size= 1024,\n",
    "                         validation_data = (x_test, y_test))\n",
    "basic_model.save('basic_model.h5')"
   ]
  },
  {
   "cell_type": "code",
   "execution_count": null,
   "metadata": {},
   "outputs": [],
   "source": [
    "basic_model.evaluate(x_val, y_val)"
   ]
  },
  {
   "cell_type": "code",
   "execution_count": 8,
   "metadata": {},
   "outputs": [
    {
     "data": {
      "image/png": "[encoded data removed]",
      "text/plain": [
       "<Figure size 432x288 with 1 Axes>"
      ]
     },
     "metadata": {},
     "output_type": "display_data"
    },
    {
     "data": {
      "text/plain": [
       "<Figure size 432x288 with 0 Axes>"
      ]
     },
     "metadata": {},
     "output_type": "display_data"
    }
   ],
   "source": [
    "basic_val_acc = history.history['val_acc']\n",
    "basic_val_loss = history.history['val_loss']\n",
    "\n",
    "epochs = range(1, len(basic_val_acc) + 1)\n",
    "\n",
    "plt.plot(epochs, basic_val_acc, 'b', marker='o', label='Validation acc')\n",
    "plt.title('Validation accuracy')\n",
    "plt.xlabel(\"Epoch\")\n",
    "plt.figure()\n",
    "plt.show()"
   ]
  },
  {
   "cell_type": "code",
   "execution_count": 9,
   "metadata": {},
   "outputs": [
    {
     "data": {
      "image/png": "[encoded data removed]",
      "text/plain": [
       "<Figure size 432x288 with 1 Axes>"
      ]
     },
     "metadata": {},
     "output_type": "display_data"
    }
   ],
   "source": [
    "plt.clf()\n",
    "plt.plot(epochs, basic_val_loss, 'r',marker = \"o\", label='Validation loss')\n",
    "plt.title('Validation loss')\n",
    "plt.xlabel(\"Epoch\")\n",
    "plt.legend()\n",
    "plt.show()"
   ]
  },
  {
   "cell_type": "markdown",
   "metadata": {},
   "source": [
    "### Estimate a recurrent neural network (RNN) with a layer_simple_rnn"
   ]
  },
  {
   "cell_type": "code",
   "execution_count": 10,
   "metadata": {
    "scrolled": true
   },
   "outputs": [
    {
     "name": "stdout",
     "output_type": "stream",
     "text": [
      "_________________________________________________________________\n",
      "Layer (type)                 Output Shape              Param #   \n",
      "=================================================================\n",
      "embedding_2 (Embedding)      (None, 100, 24)           240000    \n",
      "_________________________________________________________________\n",
      "simple_rnn_1 (SimpleRNN)     (None, 24)                1176      \n",
      "_________________________________________________________________\n",
      "dense_2 (Dense)              (None, 22)                550       \n",
      "=================================================================\n",
      "Total params: 241,726\n",
      "Trainable params: 241,726\n",
      "Non-trainable params: 0\n",
      "_________________________________________________________________\n",
      "Train on 278612 samples, validate on 69649 samples\n",
      "Epoch 1/20\n",
      "278612/278612 [==============================] - 28s 99us/step - loss: 2.6548 - acc: 0.2325 - val_loss: 2.3592 - val_acc: 0.3293\n",
      "Epoch 2/20\n",
      "278612/278612 [==============================] - 27s 98us/step - loss: 1.9484 - acc: 0.4355 - val_loss: 1.7233 - val_acc: 0.5144\n",
      "Epoch 3/20\n",
      "278612/278612 [==============================] - 27s 98us/step - loss: 1.5555 - acc: 0.5597 - val_loss: 1.6104 - val_acc: 0.5316\n",
      "Epoch 4/20\n",
      "278612/278612 [==============================] - 27s 98us/step - loss: 1.3481 - acc: 0.6272 - val_loss: 1.3659 - val_acc: 0.6222\n",
      "Epoch 5/20\n",
      "278612/278612 [==============================] - 32s 115us/step - loss: 1.2023 - acc: 0.6730 - val_loss: 1.3517 - val_acc: 0.6164\n",
      "Epoch 6/20\n",
      "278612/278612 [==============================] - 36s 130us/step - loss: 1.0915 - acc: 0.7060 - val_loss: 1.1365 - val_acc: 0.6930\n",
      "Epoch 7/20\n",
      "278612/278612 [==============================] - 41s 147us/step - loss: 1.0006 - acc: 0.7334 - val_loss: 1.2101 - val_acc: 0.6692\n",
      "Epoch 8/20\n",
      "278612/278612 [==============================] - 41s 147us/step - loss: 0.9318 - acc: 0.7543 - val_loss: 1.0686 - val_acc: 0.7149\n",
      "Epoch 9/20\n",
      "278612/278612 [==============================] - 41s 147us/step - loss: 0.8764 - acc: 0.7700 - val_loss: 1.0511 - val_acc: 0.7238\n",
      "Epoch 10/20\n",
      "278612/278612 [==============================] - 29s 104us/step - loss: 0.8312 - acc: 0.7828 - val_loss: 1.0233 - val_acc: 0.7285\n",
      "Epoch 11/20\n",
      "278612/278612 [==============================] - 27s 98us/step - loss: 0.7950 - acc: 0.7928 - val_loss: 1.0149 - val_acc: 0.7303\n",
      "Epoch 12/20\n",
      "278612/278612 [==============================] - 27s 98us/step - loss: 0.7631 - acc: 0.8021 - val_loss: 0.9584 - val_acc: 0.7477\n",
      "Epoch 13/20\n",
      "278612/278612 [==============================] - 32s 114us/step - loss: 0.7353 - acc: 0.8100 - val_loss: 0.9121 - val_acc: 0.7658\n",
      "Epoch 14/20\n",
      "278612/278612 [==============================] - 40s 145us/step - loss: 0.7132 - acc: 0.8150 - val_loss: 0.9051 - val_acc: 0.7667\n",
      "Epoch 15/20\n",
      "278612/278612 [==============================] - 40s 145us/step - loss: 0.6914 - acc: 0.8209 - val_loss: 1.0533 - val_acc: 0.7224\n",
      "Epoch 16/20\n",
      "278612/278612 [==============================] - 31s 110us/step - loss: 0.6737 - acc: 0.8254 - val_loss: 0.9081 - val_acc: 0.7678\n",
      "Epoch 17/20\n",
      "278612/278612 [==============================] - 27s 97us/step - loss: 0.6560 - acc: 0.8302 - val_loss: 0.9447 - val_acc: 0.7588\n",
      "Epoch 18/20\n",
      "278612/278612 [==============================] - 27s 98us/step - loss: 0.6402 - acc: 0.8341 - val_loss: 0.9184 - val_acc: 0.7687\n",
      "Epoch 19/20\n",
      "278612/278612 [==============================] - 27s 97us/step - loss: 0.6249 - acc: 0.8385 - val_loss: 0.9684 - val_acc: 0.7500\n",
      "Epoch 20/20\n",
      "278612/278612 [==============================] - 27s 97us/step - loss: 0.6120 - acc: 0.8420 - val_loss: 0.9023 - val_acc: 0.7715\n"
     ]
    }
   ],
   "source": [
    "from keras.layers import SimpleRNN\n",
    "\n",
    "simple_rnn = Sequential()\n",
    "simple_rnn.add(Embedding(10000, 24, input_length = 100))\n",
    "simple_rnn.add(SimpleRNN(24))\n",
    "simple_rnn.add(Dense(22, activation='softmax'))\n",
    "\n",
    "simple_rnn.compile(optimizer='rmsprop', \n",
    "                   loss='categorical_crossentropy', \n",
    "                   metrics=['acc'])\n",
    "simple_rnn.summary()\n",
    "\n",
    "rnn_history = simple_rnn.fit(x_train, y_train, epochs= 20, batch_size= 1024,\n",
    "                         validation_data = (x_val, y_val))\n",
    "simple_rnn.save('simple_rnn__model.h5')"
   ]
  },
  {
   "cell_type": "code",
   "execution_count": null,
   "metadata": {},
   "outputs": [],
   "source": [
    "simple_rnn.evaluate(x_val, y_val)"
   ]
  },
  {
   "cell_type": "code",
   "execution_count": 11,
   "metadata": {},
   "outputs": [
    {
     "data": {
      "image/png": "[encoded data removed]",
      "text/plain": [
       "<Figure size 432x288 with 1 Axes>"
      ]
     },
     "metadata": {},
     "output_type": "display_data"
    },
    {
     "data": {
      "text/plain": [
       "<Figure size 432x288 with 0 Axes>"
      ]
     },
     "metadata": {},
     "output_type": "display_data"
    }
   ],
   "source": [
    "rnn_val_acc = rnn_history.history['val_acc']\n",
    "rnn_val_loss = rnn_history.history['val_loss']\n",
    "\n",
    "epochs = range(1, len(rnn_val_acc) + 1)\n",
    "\n",
    "plt.plot(epochs, rnn_val_acc, 'b', marker='o', label='Validation acc')\n",
    "plt.title('Validation accuracy')\n",
    "plt.xlabel(\"Epoch\")\n",
    "plt.figure()\n",
    "plt.show()"
   ]
  },
  {
   "cell_type": "code",
   "execution_count": 12,
   "metadata": {},
   "outputs": [
    {
     "data": {
      "image/png": "[encoded data removed]",
      "text/plain": [
       "<Figure size 432x288 with 1 Axes>"
      ]
     },
     "metadata": {},
     "output_type": "display_data"
    }
   ],
   "source": [
    "plt.clf()\n",
    "plt.plot(epochs, rnn_val_loss, 'r',marker = \"o\", label='Validation loss')\n",
    "plt.title('Validation loss')\n",
    "plt.xlabel(\"Epoch\")\n",
    "plt.legend()\n",
    "plt.show()"
   ]
  },
  {
   "cell_type": "markdown",
   "metadata": {},
   "source": [
    "### Estimate an RNN with an LSTM layer"
   ]
  },
  {
   "cell_type": "code",
   "execution_count": 15,
   "metadata": {},
   "outputs": [
    {
     "name": "stdout",
     "output_type": "stream",
     "text": [
      "_________________________________________________________________\n",
      "Layer (type)                 Output Shape              Param #   \n",
      "=================================================================\n",
      "embedding_5 (Embedding)      (None, 100, 24)           240000    \n",
      "_________________________________________________________________\n",
      "lstm_2 (LSTM)                (None, 24)                4704      \n",
      "_________________________________________________________________\n",
      "dense_5 (Dense)              (None, 22)                550       \n",
      "=================================================================\n",
      "Total params: 245,254\n",
      "Trainable params: 245,254\n",
      "Non-trainable params: 0\n",
      "_________________________________________________________________\n",
      "Train on 278612 samples, validate on 69649 samples\n",
      "Epoch 1/20\n",
      "278612/278612 [==============================] - 91s 328us/step - loss: 2.4751 - acc: 0.2459 - val_loss: 2.0953 - val_acc: 0.3445\n",
      "Epoch 2/20\n",
      "278612/278612 [==============================] - 67s 239us/step - loss: 1.8976 - acc: 0.4605 - val_loss: 1.6606 - val_acc: 0.5506\n",
      "Epoch 3/20\n",
      "278612/278612 [==============================] - 66s 239us/step - loss: 1.4643 - acc: 0.6028 - val_loss: 1.4139 - val_acc: 0.6082\n",
      "Epoch 4/20\n",
      "278612/278612 [==============================] - 67s 239us/step - loss: 1.1412 - acc: 0.7042 - val_loss: 1.1051 - val_acc: 0.7211\n",
      "Epoch 5/20\n",
      "278612/278612 [==============================] - 66s 239us/step - loss: 0.9055 - acc: 0.7765 - val_loss: 0.8956 - val_acc: 0.7742\n",
      "Epoch 6/20\n",
      "278612/278612 [==============================] - 67s 239us/step - loss: 0.7773 - acc: 0.8077 - val_loss: 0.8384 - val_acc: 0.7883\n",
      "Epoch 7/20\n",
      "278612/278612 [==============================] - 66s 239us/step - loss: 0.7033 - acc: 0.8231 - val_loss: 0.7605 - val_acc: 0.8076\n",
      "Epoch 8/20\n",
      "278612/278612 [==============================] - 66s 238us/step - loss: 0.6538 - acc: 0.8336 - val_loss: 0.7272 - val_acc: 0.8135\n",
      "Epoch 9/20\n",
      "278612/278612 [==============================] - 66s 238us/step - loss: 0.6173 - acc: 0.8412 - val_loss: 0.6718 - val_acc: 0.8281\n",
      "Epoch 10/20\n",
      "278612/278612 [==============================] - 66s 238us/step - loss: 0.5879 - acc: 0.8474 - val_loss: 0.6686 - val_acc: 0.8276\n",
      "Epoch 11/20\n",
      "278612/278612 [==============================] - 67s 239us/step - loss: 0.5648 - acc: 0.8519 - val_loss: 0.6571 - val_acc: 0.8281\n",
      "Epoch 12/20\n",
      "278612/278612 [==============================] - 66s 239us/step - loss: 0.5446 - acc: 0.8563 - val_loss: 0.6519 - val_acc: 0.8277\n",
      "Epoch 13/20\n",
      "278612/278612 [==============================] - 66s 238us/step - loss: 0.5283 - acc: 0.8595 - val_loss: 0.6592 - val_acc: 0.8266\n",
      "Epoch 14/20\n",
      "278612/278612 [==============================] - 66s 239us/step - loss: 0.5134 - acc: 0.8624 - val_loss: 0.6209 - val_acc: 0.8372\n",
      "Epoch 15/20\n",
      "278612/278612 [==============================] - 66s 238us/step - loss: 0.5002 - acc: 0.8655 - val_loss: 0.6358 - val_acc: 0.8331\n",
      "Epoch 16/20\n",
      "278612/278612 [==============================] - 66s 238us/step - loss: 0.4885 - acc: 0.8681 - val_loss: 0.6143 - val_acc: 0.8373\n",
      "Epoch 17/20\n",
      "278612/278612 [==============================] - 67s 239us/step - loss: 0.4776 - acc: 0.8707 - val_loss: 0.6560 - val_acc: 0.8266\n",
      "Epoch 18/20\n",
      "278612/278612 [==============================] - 66s 238us/step - loss: 0.4672 - acc: 0.8729 - val_loss: 0.5967 - val_acc: 0.8432\n",
      "Epoch 19/20\n",
      "278612/278612 [==============================] - 67s 239us/step - loss: 0.4581 - acc: 0.8749 - val_loss: 0.5933 - val_acc: 0.8439\n",
      "Epoch 20/20\n",
      "278612/278612 [==============================] - 67s 239us/step - loss: 0.4492 - acc: 0.8766 - val_loss: 0.5793 - val_acc: 0.8468\n"
     ]
    }
   ],
   "source": [
    "from keras.layers import LSTM\n",
    "\n",
    "rnn_lstm = Sequential()\n",
    "rnn_lstm.add(Embedding(10000, 24, input_length = 100))\n",
    "rnn_lstm.add(LSTM(24))\n",
    "rnn_lstm.add(Dense(22, activation='softmax'))\n",
    "\n",
    "rnn_lstm.compile(optimizer='rmsprop', \n",
    "                   loss='categorical_crossentropy', \n",
    "                   metrics=['acc'])\n",
    "rnn_lstm.summary()\n",
    "\n",
    "lstm_history = rnn_lstm.fit(x_train, y_train, epochs= 20, batch_size= 1024,\n",
    "                         validation_data = (x_val, y_val))\n",
    "rnn_lstm.save('lstm_model.h5')"
   ]
  },
  {
   "cell_type": "code",
   "execution_count": 16,
   "metadata": {},
   "outputs": [
    {
     "data": {
      "image/png": "[encoded data removed]",
      "text/plain": [
       "<Figure size 432x288 with 1 Axes>"
      ]
     },
     "metadata": {},
     "output_type": "display_data"
    },
    {
     "data": {
      "text/plain": [
       "<Figure size 432x288 with 0 Axes>"
      ]
     },
     "metadata": {},
     "output_type": "display_data"
    }
   ],
   "source": [
    "lstm_val_acc = lstm_history.history['val_acc']\n",
    "lstm_val_loss = lstm_history.history['val_loss']\n",
    "\n",
    "epochs = range(1, len(lstm_val_acc) + 1)\n",
    "\n",
    "plt.plot(epochs, lstm_val_acc, 'b', marker='o', label='Validation acc')\n",
    "plt.title('Validation accuracy')\n",
    "plt.xlabel(\"Epoch\")\n",
    "plt.figure()\n",
    "plt.show()"
   ]
  },
  {
   "cell_type": "code",
   "execution_count": 17,
   "metadata": {},
   "outputs": [
    {
     "data": {
      "image/png": "[encoded data removed]",
      "text/plain": [
       "<Figure size 432x288 with 1 Axes>"
      ]
     },
     "metadata": {},
     "output_type": "display_data"
    }
   ],
   "source": [
    "plt.clf()\n",
    "plt.plot(epochs, lstm_val_loss, 'r',marker = \"o\", label='Validation loss')\n",
    "plt.title('Validation loss')\n",
    "plt.xlabel(\"Epoch\")\n",
    "plt.legend()\n",
    "plt.show()"
   ]
  },
  {
   "cell_type": "markdown",
   "metadata": {},
   "source": [
    "### Estimate an RNN with a GRU layer"
   ]
  },
  {
   "cell_type": "code",
   "execution_count": 6,
   "metadata": {
    "scrolled": true
   },
   "outputs": [
    {
     "name": "stdout",
     "output_type": "stream",
     "text": [
      "_________________________________________________________________\n",
      "Layer (type)                 Output Shape              Param #   \n",
      "=================================================================\n",
      "embedding_2 (Embedding)      (None, 100, 24)           240000    \n",
      "_________________________________________________________________\n",
      "gru_1 (GRU)                  (None, 24)                3528      \n",
      "_________________________________________________________________\n",
      "dense_2 (Dense)              (None, 22)                550       \n",
      "=================================================================\n",
      "Total params: 244,078\n",
      "Trainable params: 244,078\n",
      "Non-trainable params: 0\n",
      "_________________________________________________________________\n",
      "Train on 278612 samples, validate on 69649 samples\n",
      "Epoch 1/20\n",
      "278612/278612 [==============================] - 49s 176us/step - loss: 2.6081 - acc: 0.1888 - val_loss: 2.3626 - val_acc: 0.2563\n",
      "Epoch 2/20\n",
      "278612/278612 [==============================] - 48s 173us/step - loss: 2.1605 - acc: 0.3627 - val_loss: 1.9258 - val_acc: 0.4550\n",
      "Epoch 3/20\n",
      "278612/278612 [==============================] - 48s 173us/step - loss: 1.6190 - acc: 0.5572 - val_loss: 1.3334 - val_acc: 0.6662\n",
      "Epoch 4/20\n",
      "278612/278612 [==============================] - 48s 173us/step - loss: 1.1203 - acc: 0.7229 - val_loss: 1.0412 - val_acc: 0.7421\n",
      "Epoch 5/20\n",
      "278612/278612 [==============================] - 50s 180us/step - loss: 0.9086 - acc: 0.7753 - val_loss: 0.9043 - val_acc: 0.7750\n",
      "Epoch 6/20\n",
      "278612/278612 [==============================] - 63s 225us/step - loss: 0.8054 - acc: 0.7999 - val_loss: 0.8314 - val_acc: 0.7913\n",
      "Epoch 7/20\n",
      "278612/278612 [==============================] - 49s 176us/step - loss: 0.7365 - acc: 0.8143 - val_loss: 0.7699 - val_acc: 0.8066\n",
      "Epoch 8/20\n",
      "278612/278612 [==============================] - 48s 173us/step - loss: 0.6836 - acc: 0.8261 - val_loss: 0.7746 - val_acc: 0.8001\n",
      "Epoch 9/20\n",
      "278612/278612 [==============================] - 48s 173us/step - loss: 0.6439 - acc: 0.8346 - val_loss: 0.7196 - val_acc: 0.8151\n",
      "Epoch 10/20\n",
      "278612/278612 [==============================] - 51s 185us/step - loss: 0.6142 - acc: 0.8410 - val_loss: 0.6844 - val_acc: 0.8236\n",
      "Epoch 11/20\n",
      "278612/278612 [==============================] - 63s 227us/step - loss: 0.5897 - acc: 0.8458 - val_loss: 0.6768 - val_acc: 0.8233\n",
      "Epoch 12/20\n",
      "278612/278612 [==============================] - 71s 256us/step - loss: 0.5687 - acc: 0.8509 - val_loss: 0.6497 - val_acc: 0.8327\n",
      "Epoch 13/20\n",
      "278612/278612 [==============================] - 69s 249us/step - loss: 0.5514 - acc: 0.8546 - val_loss: 0.6466 - val_acc: 0.8316\n",
      "Epoch 14/20\n",
      "278612/278612 [==============================] - 62s 221us/step - loss: 0.5355 - acc: 0.8577 - val_loss: 0.6399 - val_acc: 0.8336\n",
      "Epoch 15/20\n",
      "278612/278612 [==============================] - 48s 172us/step - loss: 0.5224 - acc: 0.8611 - val_loss: 0.6219 - val_acc: 0.8381\n",
      "Epoch 16/20\n",
      "278612/278612 [==============================] - 48s 172us/step - loss: 0.5100 - acc: 0.8636 - val_loss: 0.6117 - val_acc: 0.8404\n",
      "Epoch 17/20\n",
      "278612/278612 [==============================] - 48s 172us/step - loss: 0.4985 - acc: 0.8663 - val_loss: 0.6160 - val_acc: 0.8384\n",
      "Epoch 18/20\n",
      "278612/278612 [==============================] - 48s 171us/step - loss: 0.4886 - acc: 0.8685 - val_loss: 0.6052 - val_acc: 0.8416\n",
      "Epoch 19/20\n",
      "278612/278612 [==============================] - 48s 171us/step - loss: 0.4794 - acc: 0.8708 - val_loss: 0.5914 - val_acc: 0.8444\n",
      "Epoch 20/20\n",
      "278612/278612 [==============================] - 48s 171us/step - loss: 0.4704 - acc: 0.8726 - val_loss: 0.5920 - val_acc: 0.8450\n"
     ]
    }
   ],
   "source": [
    "from keras.layers import GRU\n",
    "\n",
    "gru = Sequential()\n",
    "gru.add(Embedding(10000, 24, input_length = 100))\n",
    "gru.add(GRU(24))\n",
    "gru.add(Dense(22, activation='softmax'))\n",
    "\n",
    "gru.compile(optimizer='rmsprop', \n",
    "                   loss='categorical_crossentropy', \n",
    "                   metrics=['acc'])\n",
    "gru.summary()\n",
    "\n",
    "gru_history = gru.fit(x_train, y_train, epochs= 20, batch_size= 1024,\n",
    "                         validation_data = (x_val, y_val))\n",
    "gru.save('grn_model.h5')"
   ]
  },
  {
   "cell_type": "code",
   "execution_count": 7,
   "metadata": {},
   "outputs": [
    {
     "data": {
      "image/png": "[encoded data removed]",
      "text/plain": [
       "<Figure size 432x288 with 1 Axes>"
      ]
     },
     "metadata": {},
     "output_type": "display_data"
    },
    {
     "data": {
      "text/plain": [
       "<Figure size 432x288 with 0 Axes>"
      ]
     },
     "metadata": {},
     "output_type": "display_data"
    }
   ],
   "source": [
    "gru_val_acc = gru_history.history['val_acc']\n",
    "gru_val_loss = gru_history.history['val_loss']\n",
    "\n",
    "epochs = range(1, len(gru_val_acc) + 1)\n",
    "\n",
    "plt.plot(epochs, gru_val_acc, 'b', marker='o', label='Validation acc')\n",
    "plt.title('Validation accuracy')\n",
    "plt.xlabel(\"Epoch\")\n",
    "plt.figure()\n",
    "plt.show()"
   ]
  },
  {
   "cell_type": "code",
   "execution_count": 8,
   "metadata": {},
   "outputs": [
    {
     "data": {
      "image/png": "[encoded data removed]",
      "text/plain": [
       "<Figure size 432x288 with 1 Axes>"
      ]
     },
     "metadata": {},
     "output_type": "display_data"
    }
   ],
   "source": [
    "plt.clf()\n",
    "plt.plot(epochs, gru_val_loss, 'r',marker = \"o\", label='Validation loss')\n",
    "plt.title('Validation loss')\n",
    "plt.xlabel(\"Epoch\")\n",
    "plt.legend()\n",
    "plt.show()"
   ]
  }
 ],
 "metadata": {
  "kernelspec": {
   "display_name": "Python [conda env:tensorflow_p36]",
   "language": "python",
   "name": "conda-env-tensorflow_p36-py"
  },
  "language_info": {
   "codemirror_mode": {
    "name": "ipython",
    "version": 3
   },
   "file_extension": ".py",
   "mimetype": "text/x-python",
   "name": "python",
   "nbconvert_exporter": "python",
   "pygments_lexer": "ipython3",
   "version": "3.6.5"
  }
 },
 "nbformat": 4,
 "nbformat_minor": 2
}
