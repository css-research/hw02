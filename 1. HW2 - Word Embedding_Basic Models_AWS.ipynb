{
 "cells": [
  {
   "cell_type": "code",
   "execution_count": 25,
   "metadata": {},
   "outputs": [],
   "source": [
    "import os \n",
    "import matplotlib.pyplot as plt\n",
    "\n",
    "from keras.preprocessing.text import Tokenizer\n",
    "from keras.preprocessing.sequence import pad_sequences\n",
    "from keras.utils import to_categorical\n",
    "import numpy as np"
   ]
  },
  {
   "cell_type": "code",
   "execution_count": 50,
   "metadata": {
    "scrolled": true
   },
   "outputs": [],
   "source": [
    "import pandas as pd\n",
    "\n",
    "#import the data \n",
    "# os.chdir(\"./data\")\n",
    "\n",
    "def read_data(file_name):\n",
    "    labels = []\n",
    "    titles = []\n",
    "    with open(file_name, 'r') as f:\n",
    "        lines = f.readlines()\n",
    "        for line in lines:\n",
    "            if 'BillID' not in line:\n",
    "                split = line.split(\"\\t\")\n",
    "                label = int(split[-1].rstrip(\"\\n\"))\n",
    "                labels.append(label)\n",
    "                title = split[-2].replace('\"', \"\").replace(\",\", \"\").replace(\".\", \"\").lower()\n",
    "                titles.append(title)\n",
    "                \n",
    "    return (titles, labels)\n",
    "\n",
    "train_titles_raw, train_labels_raw = read_data(\"congress_train.txt\")\n",
    "val_titles_raw, val_labels_raw = read_data(\"congress_val.txt\")\n",
    "test_titles_raw, test_labels_raw = read_data(\"congress_test.txt\")"
   ]
  },
  {
   "cell_type": "code",
   "execution_count": 51,
   "metadata": {},
   "outputs": [
    {
     "name": "stdout",
     "output_type": "stream",
     "text": [
      "278612 278612\n",
      "69649 69649\n",
      "38693 38693\n"
     ]
    }
   ],
   "source": [
    "#check the data length \n",
    "\n",
    "print (len(train_titles_raw), len(train_labels_raw))\n",
    "print (len(val_titles_raw), len(val_labels_raw))\n",
    "print (len(test_titles_raw), len(test_labels_raw))"
   ]
  },
  {
   "cell_type": "code",
   "execution_count": 52,
   "metadata": {
    "collapsed": true
   },
   "outputs": [],
   "source": [
    "#setting up_data\n",
    "def setting_data(text_lst,maxlen, max_words):\n",
    "    maxlen = maxlen\n",
    "    max_words = max_words\n",
    "\n",
    "    tokenizer = Tokenizer(num_words=max_words)\n",
    "    tokenizer.fit_on_texts(text_lst)\n",
    "    sequences = tokenizer.texts_to_sequences(text_lst)\n",
    "\n",
    "    word_index = tokenizer.word_index\n",
    "    print('Found %s unique tokens.' % len(word_index))\n",
    "\n",
    "    data = pad_sequences(sequences, maxlen=maxlen)\n",
    "\n",
    "    print('Shape of data tensor:', data.shape)\n",
    "    return (data)"
   ]
  },
  {
   "cell_type": "code",
   "execution_count": 53,
   "metadata": {},
   "outputs": [
    {
     "name": "stdout",
     "output_type": "stream",
     "text": [
      "Found 44329 unique tokens.\n",
      "Shape of data tensor: (278612, 100)\n",
      "Found 25840 unique tokens.\n",
      "Shape of data tensor: (69649, 100)\n",
      "Found 20362 unique tokens.\n",
      "Shape of data tensor: (38693, 100)\n"
     ]
    }
   ],
   "source": [
    "#preprocessing train data \n",
    "x_train = setting_data(train_titles_raw, \n",
    "                       maxlen = 100,\n",
    "                       max_words = 10000)\n",
    "\n",
    "y_train = to_categorical(train_labels_raw)\n",
    "\n",
    "#preprocessing validation data \n",
    "x_val = setting_data(val_titles_raw, \n",
    "                     maxlen = 100, \n",
    "                     max_words = 10000)\n",
    "\n",
    "y_val = to_categorical(val_labels_raw)\n",
    "\n",
    "#preprocessing test data \n",
    "x_test = setting_data(test_titles_raw, \n",
    "                      maxlen = 100,\n",
    "                      max_words = 10000)\n",
    "\n",
    "y_test = to_categorical(test_labels_raw)"
   ]
  },
  {
   "cell_type": "code",
   "execution_count": 56,
   "metadata": {},
   "outputs": [
    {
     "data": {
      "text/plain": [
       "array([[  0,   0,   0, ...,   5,  11,  13],\n",
       "       [  0,   0,   0, ...,   5,  26, 186],\n",
       "       [  0,   0,   0, ...,   5, 168,  13],\n",
       "       ...,\n",
       "       [  0,   0,   0, ...,   5,  11,  13],\n",
       "       [  0,   0,   0, ...,  14,  23, 158],\n",
       "       [  0,   0,   0, ...,   5,  11,  13]])"
      ]
     },
     "execution_count": 56,
     "metadata": {},
     "output_type": "execute_result"
    }
   ],
   "source": [
    "x_val"
   ]
  },
  {
   "cell_type": "markdown",
   "metadata": {},
   "source": [
    "### Estimate a basic feed-forward network"
   ]
  },
  {
   "cell_type": "code",
   "execution_count": 57,
   "metadata": {
    "scrolled": true
   },
   "outputs": [
    {
     "name": "stdout",
     "output_type": "stream",
     "text": [
      "_________________________________________________________________\n",
      "Layer (type)                 Output Shape              Param #   \n",
      "=================================================================\n",
      "embedding_3 (Embedding)      (None, 100, 32)           320000    \n",
      "_________________________________________________________________\n",
      "flatten_2 (Flatten)          (None, 3200)              0         \n",
      "_________________________________________________________________\n",
      "dense_3 (Dense)              (None, 24)                76824     \n",
      "=================================================================\n",
      "Total params: 396,824\n",
      "Trainable params: 396,824\n",
      "Non-trainable params: 0\n",
      "_________________________________________________________________\n",
      "Train on 278612 samples, validate on 69649 samples\n",
      "Epoch 1/10\n",
      "278612/278612 [==============================] - 20s 71us/step - loss: 2.1255 - acc: 0.4137 - val_loss: 2.6988 - val_acc: 0.1944\n",
      "Epoch 2/10\n",
      "278612/278612 [==============================] - 20s 71us/step - loss: 1.0025 - acc: 0.7449 - val_loss: 3.0519 - val_acc: 0.1542\n",
      "Epoch 3/10\n",
      "278612/278612 [==============================] - 20s 70us/step - loss: 0.7112 - acc: 0.8104 - val_loss: 3.2745 - val_acc: 0.1409\n",
      "Epoch 4/10\n",
      "278612/278612 [==============================] - 21s 75us/step - loss: 0.6128 - acc: 0.8338 - val_loss: 3.4531 - val_acc: 0.1461\n",
      "Epoch 5/10\n",
      "278612/278612 [==============================] - 21s 76us/step - loss: 0.5583 - acc: 0.8467 - val_loss: 3.5721 - val_acc: 0.1377\n",
      "Epoch 6/10\n",
      "278612/278612 [==============================] - 21s 76us/step - loss: 0.5207 - acc: 0.8561 - val_loss: 3.6814 - val_acc: 0.1371\n",
      "Epoch 7/10\n",
      "278612/278612 [==============================] - 20s 73us/step - loss: 0.4919 - acc: 0.8636 - val_loss: 3.7736 - val_acc: 0.1381\n",
      "Epoch 8/10\n",
      "278612/278612 [==============================] - 21s 77us/step - loss: 0.4685 - acc: 0.8694 - val_loss: 3.8503 - val_acc: 0.1342\n",
      "Epoch 9/10\n",
      "278612/278612 [==============================] - 27s 97us/step - loss: 0.4483 - acc: 0.8746 - val_loss: 3.9474 - val_acc: 0.1371\n",
      "Epoch 10/10\n",
      "278612/278612 [==============================] - 24s 88us/step - loss: 0.4308 - acc: 0.8793 - val_loss: 4.0031 - val_acc: 0.1327\n"
     ]
    }
   ],
   "source": [
    "from keras.models import Sequential\n",
    "from keras.layers import Flatten, Dense, Embedding\n",
    "\n",
    "basic_model = Sequential()\n",
    "\n",
    "# output dim = 32\n",
    "basic_model.add(Embedding(10000, 32, input_length = 100))\n",
    "basic_model.add(Flatten())\n",
    "basic_model.add(Dense(24, activation='softmax'))\n",
    "\n",
    "basic_model.compile(optimizer='rmsprop', loss='categorical_crossentropy', metrics=['acc'])\n",
    "basic_model.summary()\n",
    "\n",
    "history = basic_model.fit(x_train, y_train, \n",
    "                          epochs= 10, \n",
    "                          batch_size= 1024,\n",
    "                         validation_data = (x_val, y_val))"
   ]
  },
  {
   "cell_type": "code",
   "execution_count": 58,
   "metadata": {},
   "outputs": [
    {
     "data": {
      "image/png": "[encoded data removed]",
      "text/plain": [
       "<Figure size 432x288 with 1 Axes>"
      ]
     },
     "metadata": {},
     "output_type": "display_data"
    },
    {
     "data": {
      "text/plain": [
       "<Figure size 432x288 with 0 Axes>"
      ]
     },
     "metadata": {},
     "output_type": "display_data"
    }
   ],
   "source": [
    "basic_val_acc = history.history['val_acc']\n",
    "basic_val_loss = history.history['val_loss']\n",
    "\n",
    "epochs = range(1, len(basic_val_acc) + 1)\n",
    "\n",
    "plt.plot(epochs, basic_val_acc, 'b', marker='o', label='Validation acc')\n",
    "plt.title('Validation accuracy')\n",
    "plt.xlabel(\"Epoch\")\n",
    "plt.figure()\n",
    "plt.show()"
   ]
  },
  {
   "cell_type": "code",
   "execution_count": 59,
   "metadata": {},
   "outputs": [
    {
     "data": {
      "image/png": "[encoded data removed]",
      "text/plain": [
       "<Figure size 432x288 with 1 Axes>"
      ]
     },
     "metadata": {},
     "output_type": "display_data"
    }
   ],
   "source": [
    "plt.clf()\n",
    "plt.plot(epochs, basic_val_loss, 'r',marker = \"o\", label='Validation loss')\n",
    "plt.title('Validation loss')\n",
    "plt.xlabel(\"Epoch\")\n",
    "plt.legend()\n",
    "plt.show()"
   ]
  },
  {
   "cell_type": "markdown",
   "metadata": {},
   "source": [
    "### Estimate a recurrent neural network (RNN) with a layer_simple_rnn"
   ]
  },
  {
   "cell_type": "code",
   "execution_count": null,
   "metadata": {
    "scrolled": true
   },
   "outputs": [
    {
     "name": "stdout",
     "output_type": "stream",
     "text": [
      "_________________________________________________________________\n",
      "Layer (type)                 Output Shape              Param #   \n",
      "=================================================================\n",
      "embedding_5 (Embedding)      (None, 100, 32)           320000    \n",
      "_________________________________________________________________\n",
      "simple_rnn_3 (SimpleRNN)     (None, 32)                2080      \n",
      "_________________________________________________________________\n",
      "dense_5 (Dense)              (None, 24)                792       \n",
      "=================================================================\n",
      "Total params: 322,872\n",
      "Trainable params: 322,872\n",
      "Non-trainable params: 0\n",
      "_________________________________________________________________\n",
      "Train on 278612 samples, validate on 69649 samples\n",
      "Epoch 1/10\n",
      "278612/278612 [==============================] - 69s 249us/step - loss: 2.3529 - acc: 0.3098 - val_loss: 3.3397 - val_acc: 0.1321\n",
      "Epoch 2/10\n",
      "278612/278612 [==============================] - 63s 226us/step - loss: 1.4941 - acc: 0.5871 - val_loss: 3.9578 - val_acc: 0.1077\n",
      "Epoch 3/10\n",
      "278612/278612 [==============================] - 65s 234us/step - loss: 1.1544 - acc: 0.6960 - val_loss: 4.2771 - val_acc: 0.0973\n",
      "Epoch 4/10\n",
      "278612/278612 [==============================] - 61s 220us/step - loss: 0.9880 - acc: 0.7517 - val_loss: 4.5509 - val_acc: 0.1041\n",
      "Epoch 5/10\n",
      "278528/278612 [============================>.] - ETA: 0s - loss: 0.8816 - acc: 0.7810"
     ]
    }
   ],
   "source": [
    "from keras.layers import SimpleRNN\n",
    "\n",
    "simple_rnn = Sequential()\n",
    "simple_rnn.add(Embedding(10000, 32, input_length = 100))\n",
    "simple_rnn.add(SimpleRNN(32))\n",
    "simple_rnn.add(Dense(24, activation='softmax'))\n",
    "\n",
    "simple_rnn.compile(optimizer='rmsprop', \n",
    "                   loss='categorical_crossentropy', \n",
    "                   metrics=['acc'])\n",
    "simple_rnn.summary()\n",
    "\n",
    "rnn_history = simple_rnn.fit(x_train, y_train, epochs= 10, batch_size= 1024,\n",
    "                         validation_data = (x_val, y_val))"
   ]
  },
  {
   "cell_type": "code",
   "execution_count": 11,
   "metadata": {},
   "outputs": [
    {
     "data": {
      "image/png": "[encoded data removed]",
      "text/plain": [
       "<Figure size 432x288 with 1 Axes>"
      ]
     },
     "metadata": {},
     "output_type": "display_data"
    },
    {
     "data": {
      "text/plain": [
       "<Figure size 432x288 with 0 Axes>"
      ]
     },
     "metadata": {},
     "output_type": "display_data"
    }
   ],
   "source": [
    "rnn_val_acc = rnn_history.history['val_acc']\n",
    "rnn_val_loss = rnn_history.history['val_loss']\n",
    "\n",
    "epochs = range(1, len(rnn_val_acc) + 1)\n",
    "\n",
    "plt.plot(epochs, rnn_val_acc, 'b', marker='o', label='Validation acc')\n",
    "plt.title('Validation accuracy')\n",
    "plt.xlabel(\"Epoch\")\n",
    "plt.figure()\n",
    "plt.show()"
   ]
  },
  {
   "cell_type": "code",
   "execution_count": 12,
   "metadata": {},
   "outputs": [
    {
     "data": {
      "image/png": "[encoded data removed]",
      "text/plain": [
       "<Figure size 432x288 with 1 Axes>"
      ]
     },
     "metadata": {},
     "output_type": "display_data"
    }
   ],
   "source": [
    "plt.clf()\n",
    "plt.plot(epochs, rnn_val_loss, 'r',marker = \"o\", label='Validation loss')\n",
    "plt.title('Validation loss')\n",
    "plt.xlabel(\"Epoch\")\n",
    "plt.legend()\n",
    "plt.show()"
   ]
  },
  {
   "cell_type": "markdown",
   "metadata": {},
   "source": [
    "### Estimate an RNN with an LSTM layer"
   ]
  },
  {
   "cell_type": "code",
   "execution_count": 13,
   "metadata": {
    "scrolled": true
   },
   "outputs": [
    {
     "name": "stdout",
     "output_type": "stream",
     "text": [
      "_________________________________________________________________\n",
      "Layer (type)                 Output Shape              Param #   \n",
      "=================================================================\n",
      "embedding_3 (Embedding)      (None, 100, 8)            80000     \n",
      "_________________________________________________________________\n",
      "lstm_1 (LSTM)                (None, 8)                 544       \n",
      "_________________________________________________________________\n",
      "dense_3 (Dense)              (None, 24)                216       \n",
      "=================================================================\n",
      "Total params: 80,760\n",
      "Trainable params: 80,760\n",
      "Non-trainable params: 0\n",
      "_________________________________________________________________\n",
      "Train on 274482 samples, validate on 69649 samples\n",
      "Epoch 1/10\n",
      "274482/274482 [==============================] - 28s 100us/step - loss: 2.9621 - acc: 0.0933 - val_loss: 2.9551 - val_acc: 0.1319\n",
      "Epoch 2/10\n",
      "274482/274482 [==============================] - 27s 97us/step - loss: 2.7003 - acc: 0.1533 - val_loss: 2.9414 - val_acc: 0.1318\n",
      "Epoch 3/10\n",
      "274482/274482 [==============================] - 27s 97us/step - loss: 2.5436 - acc: 0.1962 - val_loss: 2.9861 - val_acc: 0.1097\n",
      "Epoch 4/10\n",
      "274482/274482 [==============================] - 27s 97us/step - loss: 2.3628 - acc: 0.2683 - val_loss: 3.1230 - val_acc: 0.1307\n",
      "Epoch 5/10\n",
      "274482/274482 [==============================] - 27s 97us/step - loss: 2.1731 - acc: 0.3583 - val_loss: 3.2347 - val_acc: 0.1276\n",
      "Epoch 6/10\n",
      "274482/274482 [==============================] - 27s 97us/step - loss: 1.9940 - acc: 0.4409 - val_loss: 3.4025 - val_acc: 0.1247\n",
      "Epoch 7/10\n",
      "274482/274482 [==============================] - 27s 97us/step - loss: 1.8291 - acc: 0.4925 - val_loss: 3.5978 - val_acc: 0.1208\n",
      "Epoch 8/10\n",
      "274482/274482 [==============================] - 27s 97us/step - loss: 1.6870 - acc: 0.5270 - val_loss: 3.6536 - val_acc: 0.1177\n",
      "Epoch 9/10\n",
      "274482/274482 [==============================] - 27s 97us/step - loss: 1.5552 - acc: 0.5612 - val_loss: 3.7152 - val_acc: 0.1098\n",
      "Epoch 10/10\n",
      "274482/274482 [==============================] - 27s 97us/step - loss: 1.4340 - acc: 0.5907 - val_loss: 3.8014 - val_acc: 0.1046\n"
     ]
    }
   ],
   "source": [
    "from keras.layers import LSTM\n",
    "\n",
    "rnn_lstm = Sequential()\n",
    "rnn_lstm.add(Embedding(10000, 32, input_length = 100))\n",
    "rnn_lstm.add(LSTM(32))\n",
    "rnn_lstm.add(Dense(24, activation='softmax'))\n",
    "\n",
    "rnn_lstm.compile(optimizer='rmsprop', \n",
    "                   loss='categorical_crossentropy', \n",
    "                   metrics=['acc'])\n",
    "rnn_lstm.summary()\n",
    "\n",
    "lstm_history = rnn_lstm.fit(x_train, y_train, epochs= 10, batch_size= 1024,\n",
    "                         validation_data = (x_val, y_val))"
   ]
  },
  {
   "cell_type": "code",
   "execution_count": 14,
   "metadata": {},
   "outputs": [
    {
     "data": {
      "image/png": "[encoded data removed]",
      "text/plain": [
       "<Figure size 432x288 with 1 Axes>"
      ]
     },
     "metadata": {},
     "output_type": "display_data"
    },
    {
     "data": {
      "text/plain": [
       "<Figure size 432x288 with 0 Axes>"
      ]
     },
     "metadata": {},
     "output_type": "display_data"
    }
   ],
   "source": [
    "lstm_val_acc = lstm_history.history['val_acc']\n",
    "lstm_val_loss = lstm_history.history['val_loss']\n",
    "\n",
    "epochs = range(1, len(lstm_val_acc) + 1)\n",
    "\n",
    "plt.plot(epochs, lstm_val_acc, 'b', marker='o', label='Validation acc')\n",
    "plt.title('Validation accuracy')\n",
    "plt.xlabel(\"Epoch\")\n",
    "plt.figure()\n",
    "plt.show()"
   ]
  },
  {
   "cell_type": "code",
   "execution_count": 15,
   "metadata": {},
   "outputs": [
    {
     "data": {
      "image/png": "[encoded data removed]",
      "text/plain": [
       "<Figure size 432x288 with 1 Axes>"
      ]
     },
     "metadata": {},
     "output_type": "display_data"
    }
   ],
   "source": [
    "plt.clf()\n",
    "plt.plot(epochs, lstm_val_loss, 'r',marker = \"o\", label='Validation loss')\n",
    "plt.title('Validation loss')\n",
    "plt.xlabel(\"Epoch\")\n",
    "plt.legend()\n",
    "plt.show()"
   ]
  },
  {
   "cell_type": "markdown",
   "metadata": {},
   "source": [
    "### Estimate an RNN with a GRU layer"
   ]
  },
  {
   "cell_type": "code",
   "execution_count": null,
   "metadata": {},
   "outputs": [
    {
     "name": "stdout",
     "output_type": "stream",
     "text": [
      "_________________________________________________________________\n",
      "Layer (type)                 Output Shape              Param #   \n",
      "=================================================================\n",
      "embedding_4 (Embedding)      (None, 100, 8)            80000     \n",
      "_________________________________________________________________\n",
      "gru_1 (GRU)                  (None, 8)                 408       \n",
      "_________________________________________________________________\n",
      "dense_4 (Dense)              (None, 24)                216       \n",
      "=================================================================\n",
      "Total params: 80,624\n",
      "Trainable params: 80,624\n",
      "Non-trainable params: 0\n",
      "_________________________________________________________________\n",
      "Train on 274482 samples, validate on 69649 samples\n",
      "Epoch 1/10\n",
      "274482/274482 [==============================] - 23s 85us/step - loss: 2.9987 - acc: 0.0991 - val_loss: 2.8981 - val_acc: 0.1323\n",
      "Epoch 2/10\n",
      "274482/274482 [==============================] - 22s 82us/step - loss: 2.7175 - acc: 0.1599 - val_loss: 2.9497 - val_acc: 0.1247\n",
      "Epoch 3/10\n",
      "274482/274482 [==============================] - 22s 82us/step - loss: 2.5274 - acc: 0.2307 - val_loss: 3.0881 - val_acc: 0.1202\n",
      "Epoch 4/10\n",
      "274482/274482 [==============================] - 22s 81us/step - loss: 2.4006 - acc: 0.2554 - val_loss: 3.1760 - val_acc: 0.1159\n",
      "Epoch 5/10\n",
      "274482/274482 [==============================] - 22s 81us/step - loss: 2.2757 - acc: 0.2855 - val_loss: 3.2646 - val_acc: 0.1133\n",
      "Epoch 6/10\n",
      " 53248/274482 [====>.........................] - ETA: 16s - loss: 2.1968 - acc: 0.3095"
     ]
    }
   ],
   "source": [
    "from keras.layers import GRU\n",
    "\n",
    "gru = Sequential()\n",
    "gru.add(Embedding(10000, 32, input_length = 100))\n",
    "gru.add(GRU(32))\n",
    "gru.add(Dense(24, activation='softmax'))\n",
    "\n",
    "gru.compile(optimizer='rmsprop', \n",
    "                   loss='categorical_crossentropy', \n",
    "                   metrics=['acc'])\n",
    "gru.summary()\n",
    "\n",
    "gru_history = gru.fit(x_train, y_train, epochs= 10, batch_size= 1024,\n",
    "                         validation_data = (x_val, y_val))"
   ]
  },
  {
   "cell_type": "code",
   "execution_count": null,
   "metadata": {
    "collapsed": true
   },
   "outputs": [],
   "source": [
    "gru_val_acc = gru_history.history['val_acc']\n",
    "gru_val_loss = gru_history.history['val_loss']\n",
    "\n",
    "epochs = range(1, len(gru_val_acc) + 1)\n",
    "\n",
    "plt.plot(epochs, gru_val_acc, 'b', marker='o', label='Validation acc')\n",
    "plt.title('Validation accuracy')\n",
    "plt.xlabel(\"Epoch\")\n",
    "plt.figure()\n",
    "plt.show()"
   ]
  },
  {
   "cell_type": "code",
   "execution_count": null,
   "metadata": {
    "collapsed": true
   },
   "outputs": [],
   "source": [
    "plt.clf()\n",
    "plt.plot(epochs, gru_val_loss, 'r',marker = \"o\", label='Validation loss')\n",
    "plt.title('Validation loss')\n",
    "plt.xlabel(\"Epoch\")\n",
    "plt.legend()\n",
    "plt.show()"
   ]
  },
  {
   "cell_type": "code",
   "execution_count": null,
   "metadata": {
    "collapsed": true
   },
   "outputs": [],
   "source": [
    "# import pickle\n",
    "\n",
    "# history_lst = [history, rnn_history, lstm_history, gru_history]\n",
    "# pickle.dump(history_lst, open(\"history_lst_1.p\", \"wb\"))"
   ]
  }
 ],
 "metadata": {
  "kernelspec": {
   "display_name": "Python 3",
   "language": "python",
   "name": "python3"
  },
  "language_info": {
   "codemirror_mode": {
    "name": "ipython",
    "version": 3
   },
   "file_extension": ".py",
   "mimetype": "text/x-python",
   "name": "python",
   "nbconvert_exporter": "python",
   "pygments_lexer": "ipython3",
   "version": "3.6.7"
  }
 },
 "nbformat": 4,
 "nbformat_minor": 2
}
