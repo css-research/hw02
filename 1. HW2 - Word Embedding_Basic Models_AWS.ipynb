{
 "cells": [
  {
   "cell_type": "code",
   "execution_count": 1,
   "metadata": {},
   "outputs": [
    {
     "name": "stderr",
     "output_type": "stream",
     "text": [
      "Using TensorFlow backend.\n"
     ]
    }
   ],
   "source": [
    "import os \n",
    "import matplotlib.pyplot as plt\n",
    "\n",
    "from keras.preprocessing.text import Tokenizer\n",
    "from keras.preprocessing.sequence import pad_sequences\n",
    "from keras.utils import to_categorical\n",
    "import numpy as np"
   ]
  },
  {
   "cell_type": "code",
   "execution_count": 33,
   "metadata": {},
   "outputs": [
    {
     "name": "stdout",
     "output_type": "stream",
     "text": [
      "114-HR-435,435,\"To direct the Secretary of the Interior to sell certain Federal lands in Arizona, Colorado, Idaho, Montana, Nebraska, Nevada, New Mexico, Oregon, Utah, and Wyoming, previously identified as suitable for disposal, and for other purposes.\",21\n",
      "\n"
     ]
    },
    {
     "ename": "TypeError",
     "evalue": "'NoneType' object is not iterable",
     "output_type": "error",
     "traceback": [
      "\u001b[0;31m---------------------------------------------------------------------------\u001b[0m",
      "\u001b[0;31mTypeError\u001b[0m                                 Traceback (most recent call last)",
      "\u001b[0;32m<ipython-input-33-67cfc293e249>\u001b[0m in \u001b[0;36m<module>\u001b[0;34m()\u001b[0m\n\u001b[1;32m     28\u001b[0m \u001b[0;31m# train_titles_raw, train_labels_raw = read_data(\"congress_train.csv\")\u001b[0m\u001b[0;34m\u001b[0m\u001b[0;34m\u001b[0m\u001b[0m\n\u001b[1;32m     29\u001b[0m \u001b[0;31m# val_titles_raw, val_labels_raw = read_data(\"congress_val.csv\")\u001b[0m\u001b[0;34m\u001b[0m\u001b[0;34m\u001b[0m\u001b[0m\n\u001b[0;32m---> 30\u001b[0;31m \u001b[0mtest_titles_raw\u001b[0m\u001b[0;34m,\u001b[0m \u001b[0mtest_labels_raw\u001b[0m \u001b[0;34m=\u001b[0m \u001b[0mread_data\u001b[0m\u001b[0;34m(\u001b[0m\u001b[0;34m\"congress_test.csv\"\u001b[0m\u001b[0;34m)\u001b[0m\u001b[0;34m\u001b[0m\u001b[0m\n\u001b[0m",
      "\u001b[0;31mTypeError\u001b[0m: 'NoneType' object is not iterable"
     ]
    }
   ],
   "source": [
    "#import the data \n",
    "# os.chdir(\"./data\")\n",
    "\n",
    "def read_data(file_name):\n",
    "    labels = []\n",
    "    titles = []\n",
    "    \n",
    "    with open(file_name, 'r') as f:\n",
    "        for line in f:\n",
    "            if 'BillID,' in line:\n",
    "                 pass\n",
    "            elif '\"' in line:\n",
    "                split_1 = line.split('\"')\n",
    "                label = int(split_1[-1].lstrip(\",\").rstrip(\"\\n\"))\n",
    "                \n",
    "                print (label)\n",
    "#                     title = title.replace(\",\", \"\").replace(\".\", \"\").lower() #here I deleted \",\" from the titles.\n",
    "#                 titles.append(title)\n",
    "            else:\n",
    "                pass\n",
    "\n",
    "            \n",
    "\n",
    "# train_titles_raw, train_labels_raw = read_data(\"congress_train.csv\")\n",
    "# val_titles_raw, val_labels_raw = read_data(\"congress_val.csv\")\n",
    "test_titles_raw, test_labels_raw = read_data(\"congress_test.csv\")"
   ]
  },
  {
   "cell_type": "code",
   "execution_count": 3,
   "metadata": {},
   "outputs": [
    {
     "name": "stdout",
     "output_type": "stream",
     "text": [
      "274482 274482\n",
      "69649 69649\n",
      "37733 37733\n"
     ]
    }
   ],
   "source": [
    "#check the data length \n",
    "\n",
    "print (len(train_titles_raw), len(train_labels_raw))\n",
    "print (len(val_titles_raw), len(val_labels_raw))\n",
    "print (len(test_titles_raw), len(test_labels_raw))"
   ]
  },
  {
   "cell_type": "code",
   "execution_count": 4,
   "metadata": {},
   "outputs": [],
   "source": [
    "#setting up_data\n",
    "def setting_data(text_lst,maxlen, max_words):\n",
    "    maxlen = maxlen\n",
    "    max_words = max_words\n",
    "\n",
    "    tokenizer = Tokenizer(num_words=max_words)\n",
    "    tokenizer.fit_on_texts(text_lst)\n",
    "    sequences = tokenizer.texts_to_sequences(text_lst)\n",
    "\n",
    "    word_index = tokenizer.word_index\n",
    "    print('Found %s unique tokens.' % len(word_index))\n",
    "\n",
    "    data = pad_sequences(sequences, maxlen=maxlen)\n",
    "\n",
    "    print('Shape of data tensor:', data.shape)\n",
    "    return (data)"
   ]
  },
  {
   "cell_type": "code",
   "execution_count": 5,
   "metadata": {},
   "outputs": [
    {
     "name": "stdout",
     "output_type": "stream",
     "text": [
      "Found 42197 unique tokens.\n",
      "Shape of data tensor: (274482, 100)\n",
      "Found 24985 unique tokens.\n",
      "Shape of data tensor: (69649, 100)\n",
      "Found 19565 unique tokens.\n",
      "Shape of data tensor: (37733, 100)\n"
     ]
    }
   ],
   "source": [
    "#preprocessing train data \n",
    "x_train = setting_data(train_titles_raw, \n",
    "                       maxlen = 100,\n",
    "                       max_words = 10000)\n",
    "\n",
    "y_train = to_categorical(train_labels_raw)\n",
    "\n",
    "#preprocessing validation data \n",
    "x_val = setting_data(val_titles_raw, \n",
    "                     maxlen = 100, \n",
    "                     max_words = 10000)\n",
    "\n",
    "y_val = to_categorical(val_labels_raw)\n",
    "\n",
    "#preprocessing test data \n",
    "x_test = setting_data(test_titles_raw, \n",
    "                      maxlen = 100,\n",
    "                      max_words = 10000)\n",
    "\n",
    "y_test = to_categorical(test_labels_raw)"
   ]
  },
  {
   "cell_type": "code",
   "execution_count": 6,
   "metadata": {},
   "outputs": [
    {
     "data": {
      "text/plain": [
       "24"
      ]
     },
     "execution_count": 6,
     "metadata": {},
     "output_type": "execute_result"
    }
   ],
   "source": [
    "len(y_train[0])"
   ]
  },
  {
   "cell_type": "markdown",
   "metadata": {},
   "source": [
    "### Estimate a basic feed-forward network"
   ]
  },
  {
   "cell_type": "code",
   "execution_count": 7,
   "metadata": {},
   "outputs": [
    {
     "name": "stdout",
     "output_type": "stream",
     "text": [
      "WARNING:tensorflow:From /home/ubuntu/anaconda3/envs/tensorflow_p36/lib/python3.6/site-packages/tensorflow/python/framework/op_def_library.py:263: colocate_with (from tensorflow.python.framework.ops) is deprecated and will be removed in a future version.\n",
      "Instructions for updating:\n",
      "Colocations handled automatically by placer.\n",
      "_________________________________________________________________\n",
      "Layer (type)                 Output Shape              Param #   \n",
      "=================================================================\n",
      "embedding_1 (Embedding)      (None, 100, 8)            80000     \n",
      "_________________________________________________________________\n",
      "flatten_1 (Flatten)          (None, 800)               0         \n",
      "_________________________________________________________________\n",
      "dense_1 (Dense)              (None, 24)                19224     \n",
      "=================================================================\n",
      "Total params: 99,224\n",
      "Trainable params: 99,224\n",
      "Non-trainable params: 0\n",
      "_________________________________________________________________\n",
      "WARNING:tensorflow:From /home/ubuntu/anaconda3/envs/tensorflow_p36/lib/python3.6/site-packages/tensorflow/python/ops/math_ops.py:3066: to_int32 (from tensorflow.python.ops.math_ops) is deprecated and will be removed in a future version.\n",
      "Instructions for updating:\n",
      "Use tf.cast instead.\n",
      "Train on 274482 samples, validate on 69649 samples\n",
      "Epoch 1/10\n",
      "274482/274482 [==============================] - 2s 8us/step - loss: 2.7604 - acc: 0.1802 - val_loss: 2.7471 - val_acc: 0.1672\n",
      "Epoch 2/10\n",
      "274482/274482 [==============================] - 1s 4us/step - loss: 2.2469 - acc: 0.3882 - val_loss: 2.6766 - val_acc: 0.1990\n",
      "Epoch 3/10\n",
      "274482/274482 [==============================] - 1s 4us/step - loss: 1.7325 - acc: 0.5425 - val_loss: 2.7347 - val_acc: 0.1978\n",
      "Epoch 4/10\n",
      "274482/274482 [==============================] - 1s 4us/step - loss: 1.3823 - acc: 0.6308 - val_loss: 2.8933 - val_acc: 0.1737\n",
      "Epoch 5/10\n",
      "274482/274482 [==============================] - 1s 4us/step - loss: 1.1609 - acc: 0.6906 - val_loss: 3.0650 - val_acc: 0.1576\n",
      "Epoch 6/10\n",
      "274482/274482 [==============================] - 1s 4us/step - loss: 1.0152 - acc: 0.7334 - val_loss: 3.2361 - val_acc: 0.1474\n",
      "Epoch 7/10\n",
      "274482/274482 [==============================] - 1s 4us/step - loss: 0.9163 - acc: 0.7609 - val_loss: 3.3872 - val_acc: 0.1382\n",
      "Epoch 8/10\n",
      "274482/274482 [==============================] - 1s 4us/step - loss: 0.8470 - acc: 0.7789 - val_loss: 3.5030 - val_acc: 0.1363\n",
      "Epoch 9/10\n",
      "274482/274482 [==============================] - 1s 4us/step - loss: 0.7969 - acc: 0.7916 - val_loss: 3.6020 - val_acc: 0.1327\n",
      "Epoch 10/10\n",
      "274482/274482 [==============================] - 1s 4us/step - loss: 0.7594 - acc: 0.8016 - val_loss: 3.7049 - val_acc: 0.1278\n"
     ]
    }
   ],
   "source": [
    "from keras.models import Sequential\n",
    "from keras.layers import Flatten, Dense, Embedding\n",
    "\n",
    "maxlen = 100\n",
    "\n",
    "basic_model = Sequential()\n",
    "\n",
    "# output dim = 8\n",
    "basic_model.add(Embedding(10000, 8, input_length = maxlen))\n",
    "basic_model.add(Flatten())\n",
    "basic_model.add(Dense(24, activation='softmax'))\n",
    "\n",
    "basic_model.compile(optimizer='rmsprop', loss='categorical_crossentropy', metrics=['acc'])\n",
    "basic_model.summary()\n",
    "\n",
    "history = basic_model.fit(x_train, y_train, epochs= 10, batch_size= 2048,\n",
    "                         validation_data = (x_val, y_val))"
   ]
  },
  {
   "cell_type": "code",
   "execution_count": 8,
   "metadata": {},
   "outputs": [
    {
     "data": {
      "image/png": "[encoded data removed]",
      "text/plain": [
       "<Figure size 432x288 with 1 Axes>"
      ]
     },
     "metadata": {},
     "output_type": "display_data"
    },
    {
     "data": {
      "text/plain": [
       "<Figure size 432x288 with 0 Axes>"
      ]
     },
     "metadata": {},
     "output_type": "display_data"
    }
   ],
   "source": [
    "basic_val_acc = history.history['val_acc']\n",
    "basic_val_loss = history.history['val_loss']\n",
    "\n",
    "epochs = range(1, len(basic_val_acc) + 1)\n",
    "\n",
    "plt.plot(epochs, basic_val_acc, 'b', marker='o', label='Validation acc')\n",
    "plt.title('Validation accuracy')\n",
    "plt.xlabel(\"Epoch\")\n",
    "plt.figure()\n",
    "plt.show()"
   ]
  },
  {
   "cell_type": "code",
   "execution_count": 9,
   "metadata": {},
   "outputs": [
    {
     "data": {
      "image/png": "[encoded data removed]",
      "text/plain": [
       "<Figure size 432x288 with 1 Axes>"
      ]
     },
     "metadata": {},
     "output_type": "display_data"
    }
   ],
   "source": [
    "plt.clf()\n",
    "plt.plot(epochs, basic_val_loss, 'r',marker = \"o\", label='Validation loss')\n",
    "plt.title('Validation loss')\n",
    "plt.xlabel(\"Epoch\")\n",
    "plt.legend()\n",
    "plt.show()"
   ]
  },
  {
   "cell_type": "markdown",
   "metadata": {},
   "source": [
    "### Estimate a recurrent neural network (RNN) with a layer_simple_rnn"
   ]
  },
  {
   "cell_type": "code",
   "execution_count": 10,
   "metadata": {
    "scrolled": true
   },
   "outputs": [
    {
     "name": "stdout",
     "output_type": "stream",
     "text": [
      "_________________________________________________________________\n",
      "Layer (type)                 Output Shape              Param #   \n",
      "=================================================================\n",
      "embedding_2 (Embedding)      (None, 100, 8)            80000     \n",
      "_________________________________________________________________\n",
      "simple_rnn_1 (SimpleRNN)     (None, 8)                 136       \n",
      "_________________________________________________________________\n",
      "dense_2 (Dense)              (None, 24)                216       \n",
      "=================================================================\n",
      "Total params: 80,352\n",
      "Trainable params: 80,352\n",
      "Non-trainable params: 0\n",
      "_________________________________________________________________\n",
      "Train on 274482 samples, validate on 69649 samples\n",
      "Epoch 1/10\n",
      "274482/274482 [==============================] - 12s 43us/step - loss: 2.9288 - acc: 0.1843 - val_loss: 2.9866 - val_acc: 0.1340\n",
      "Epoch 2/10\n",
      "274482/274482 [==============================] - 11s 41us/step - loss: 2.6028 - acc: 0.2317 - val_loss: 3.0009 - val_acc: 0.1270\n",
      "Epoch 3/10\n",
      "274482/274482 [==============================] - 11s 41us/step - loss: 2.3997 - acc: 0.2646 - val_loss: 3.0555 - val_acc: 0.1243\n",
      "Epoch 4/10\n",
      "274482/274482 [==============================] - 11s 41us/step - loss: 2.2624 - acc: 0.2946 - val_loss: 3.1393 - val_acc: 0.1277\n",
      "Epoch 5/10\n",
      "274482/274482 [==============================] - 11s 41us/step - loss: 2.1598 - acc: 0.3241 - val_loss: 3.2814 - val_acc: 0.1134\n",
      "Epoch 6/10\n",
      "274482/274482 [==============================] - 11s 41us/step - loss: 2.0814 - acc: 0.3511 - val_loss: 3.3224 - val_acc: 0.1232\n",
      "Epoch 7/10\n",
      "274482/274482 [==============================] - 11s 41us/step - loss: 2.0181 - acc: 0.3753 - val_loss: 3.8798 - val_acc: 0.0745\n",
      "Epoch 8/10\n",
      "274482/274482 [==============================] - 11s 41us/step - loss: 1.9661 - acc: 0.3972 - val_loss: 3.4988 - val_acc: 0.1110\n",
      "Epoch 9/10\n",
      "274482/274482 [==============================] - 11s 41us/step - loss: 1.9114 - acc: 0.4172 - val_loss: 3.5606 - val_acc: 0.1147\n",
      "Epoch 10/10\n",
      "274482/274482 [==============================] - 11s 41us/step - loss: 1.8698 - acc: 0.4320 - val_loss: 3.6042 - val_acc: 0.1158\n"
     ]
    }
   ],
   "source": [
    "from keras.layers import SimpleRNN\n",
    "\n",
    "maxlen = 100\n",
    "\n",
    "simple_rnn = Sequential()\n",
    "simple_rnn.add(Embedding(10000, 8, input_length = maxlen))\n",
    "simple_rnn.add(SimpleRNN(8))\n",
    "simple_rnn.add(Dense(24, activation='softmax'))\n",
    "\n",
    "simple_rnn.compile(optimizer='rmsprop', \n",
    "                   loss='categorical_crossentropy', \n",
    "                   metrics=['acc'])\n",
    "simple_rnn.summary()\n",
    "\n",
    "rnn_history = simple_rnn.fit(x_train, y_train, epochs= 10, batch_size= 2048,\n",
    "                         validation_data = (x_val, y_val))"
   ]
  },
  {
   "cell_type": "code",
   "execution_count": 11,
   "metadata": {},
   "outputs": [
    {
     "data": {
      "image/png": "[encoded data removed]",
      "text/plain": [
       "<Figure size 432x288 with 1 Axes>"
      ]
     },
     "metadata": {},
     "output_type": "display_data"
    },
    {
     "data": {
      "text/plain": [
       "<Figure size 432x288 with 0 Axes>"
      ]
     },
     "metadata": {},
     "output_type": "display_data"
    }
   ],
   "source": [
    "rnn_val_acc = rnn_history.history['val_acc']\n",
    "rnn_val_loss = rnn_history.history['val_loss']\n",
    "\n",
    "epochs = range(1, len(rnn_val_acc) + 1)\n",
    "\n",
    "plt.plot(epochs, rnn_val_acc, 'b', marker='o', label='Validation acc')\n",
    "plt.title('Validation accuracy')\n",
    "plt.xlabel(\"Epoch\")\n",
    "plt.figure()\n",
    "plt.show()"
   ]
  },
  {
   "cell_type": "code",
   "execution_count": 12,
   "metadata": {},
   "outputs": [
    {
     "data": {
      "image/png": "[encoded data removed]",
      "text/plain": [
       "<Figure size 432x288 with 1 Axes>"
      ]
     },
     "metadata": {},
     "output_type": "display_data"
    }
   ],
   "source": [
    "plt.clf()\n",
    "plt.plot(epochs, rnn_val_loss, 'r',marker = \"o\", label='Validation loss')\n",
    "plt.title('Validation loss')\n",
    "plt.xlabel(\"Epoch\")\n",
    "plt.legend()\n",
    "plt.show()"
   ]
  },
  {
   "cell_type": "markdown",
   "metadata": {},
   "source": [
    "### Estimate an RNN with an LSTM layer"
   ]
  },
  {
   "cell_type": "code",
   "execution_count": 13,
   "metadata": {
    "scrolled": true
   },
   "outputs": [
    {
     "name": "stdout",
     "output_type": "stream",
     "text": [
      "_________________________________________________________________\n",
      "Layer (type)                 Output Shape              Param #   \n",
      "=================================================================\n",
      "embedding_3 (Embedding)      (None, 100, 8)            80000     \n",
      "_________________________________________________________________\n",
      "lstm_1 (LSTM)                (None, 8)                 544       \n",
      "_________________________________________________________________\n",
      "dense_3 (Dense)              (None, 24)                216       \n",
      "=================================================================\n",
      "Total params: 80,760\n",
      "Trainable params: 80,760\n",
      "Non-trainable params: 0\n",
      "_________________________________________________________________\n",
      "Train on 274482 samples, validate on 69649 samples\n",
      "Epoch 1/10\n",
      "274482/274482 [==============================] - 28s 100us/step - loss: 2.9621 - acc: 0.0933 - val_loss: 2.9551 - val_acc: 0.1319\n",
      "Epoch 2/10\n",
      "274482/274482 [==============================] - 27s 97us/step - loss: 2.7003 - acc: 0.1533 - val_loss: 2.9414 - val_acc: 0.1318\n",
      "Epoch 3/10\n",
      "274482/274482 [==============================] - 27s 97us/step - loss: 2.5436 - acc: 0.1962 - val_loss: 2.9861 - val_acc: 0.1097\n",
      "Epoch 4/10\n",
      "274482/274482 [==============================] - 27s 97us/step - loss: 2.3628 - acc: 0.2683 - val_loss: 3.1230 - val_acc: 0.1307\n",
      "Epoch 5/10\n",
      "274482/274482 [==============================] - 27s 97us/step - loss: 2.1731 - acc: 0.3583 - val_loss: 3.2347 - val_acc: 0.1276\n",
      "Epoch 6/10\n",
      "274482/274482 [==============================] - 27s 97us/step - loss: 1.9940 - acc: 0.4409 - val_loss: 3.4025 - val_acc: 0.1247\n",
      "Epoch 7/10\n",
      "274482/274482 [==============================] - 27s 97us/step - loss: 1.8291 - acc: 0.4925 - val_loss: 3.5978 - val_acc: 0.1208\n",
      "Epoch 8/10\n",
      "274482/274482 [==============================] - 27s 97us/step - loss: 1.6870 - acc: 0.5270 - val_loss: 3.6536 - val_acc: 0.1177\n",
      "Epoch 9/10\n",
      "274482/274482 [==============================] - 27s 97us/step - loss: 1.5552 - acc: 0.5612 - val_loss: 3.7152 - val_acc: 0.1098\n",
      "Epoch 10/10\n",
      "274482/274482 [==============================] - 27s 97us/step - loss: 1.4340 - acc: 0.5907 - val_loss: 3.8014 - val_acc: 0.1046\n"
     ]
    }
   ],
   "source": [
    "from keras.layers import LSTM\n",
    "\n",
    "maxlen = 100\n",
    "\n",
    "rnn_lstm = Sequential()\n",
    "rnn_lstm.add(Embedding(10000, 8, input_length = maxlen))\n",
    "rnn_lstm.add(LSTM(8))\n",
    "rnn_lstm.add(Dense(24, activation='softmax'))\n",
    "\n",
    "rnn_lstm.compile(optimizer='rmsprop', \n",
    "                   loss='categorical_crossentropy', \n",
    "                   metrics=['acc'])\n",
    "rnn_lstm.summary()\n",
    "\n",
    "lstm_history = rnn_lstm.fit(x_train, y_train, epochs= 10, batch_size= 2048,\n",
    "                         validation_data = (x_val, y_val))"
   ]
  },
  {
   "cell_type": "code",
   "execution_count": 14,
   "metadata": {},
   "outputs": [
    {
     "data": {
      "image/png": "[encoded data removed]",
      "text/plain": [
       "<Figure size 432x288 with 1 Axes>"
      ]
     },
     "metadata": {},
     "output_type": "display_data"
    },
    {
     "data": {
      "text/plain": [
       "<Figure size 432x288 with 0 Axes>"
      ]
     },
     "metadata": {},
     "output_type": "display_data"
    }
   ],
   "source": [
    "lstm_val_acc = lstm_history.history['val_acc']\n",
    "lstm_val_loss = lstm_history.history['val_loss']\n",
    "\n",
    "epochs = range(1, len(lstm_val_acc) + 1)\n",
    "\n",
    "plt.plot(epochs, lstm_val_acc, 'b', marker='o', label='Validation acc')\n",
    "plt.title('Validation accuracy')\n",
    "plt.xlabel(\"Epoch\")\n",
    "plt.figure()\n",
    "plt.show()"
   ]
  },
  {
   "cell_type": "code",
   "execution_count": 15,
   "metadata": {},
   "outputs": [
    {
     "data": {
      "image/png": "[encoded data removed]",
      "text/plain": [
       "<Figure size 432x288 with 1 Axes>"
      ]
     },
     "metadata": {},
     "output_type": "display_data"
    }
   ],
   "source": [
    "plt.clf()\n",
    "plt.plot(epochs, lstm_val_loss, 'r',marker = \"o\", label='Validation loss')\n",
    "plt.title('Validation loss')\n",
    "plt.xlabel(\"Epoch\")\n",
    "plt.legend()\n",
    "plt.show()"
   ]
  },
  {
   "cell_type": "markdown",
   "metadata": {},
   "source": [
    "### Estimate an RNN with a GRU layer"
   ]
  },
  {
   "cell_type": "code",
   "execution_count": null,
   "metadata": {},
   "outputs": [
    {
     "name": "stdout",
     "output_type": "stream",
     "text": [
      "_________________________________________________________________\n",
      "Layer (type)                 Output Shape              Param #   \n",
      "=================================================================\n",
      "embedding_4 (Embedding)      (None, 100, 8)            80000     \n",
      "_________________________________________________________________\n",
      "gru_1 (GRU)                  (None, 8)                 408       \n",
      "_________________________________________________________________\n",
      "dense_4 (Dense)              (None, 24)                216       \n",
      "=================================================================\n",
      "Total params: 80,624\n",
      "Trainable params: 80,624\n",
      "Non-trainable params: 0\n",
      "_________________________________________________________________\n",
      "Train on 274482 samples, validate on 69649 samples\n",
      "Epoch 1/10\n",
      "274482/274482 [==============================] - 23s 85us/step - loss: 2.9987 - acc: 0.0991 - val_loss: 2.8981 - val_acc: 0.1323\n",
      "Epoch 2/10\n",
      "274482/274482 [==============================] - 22s 82us/step - loss: 2.7175 - acc: 0.1599 - val_loss: 2.9497 - val_acc: 0.1247\n",
      "Epoch 3/10\n",
      "274482/274482 [==============================] - 22s 82us/step - loss: 2.5274 - acc: 0.2307 - val_loss: 3.0881 - val_acc: 0.1202\n",
      "Epoch 4/10\n",
      "274482/274482 [==============================] - 22s 81us/step - loss: 2.4006 - acc: 0.2554 - val_loss: 3.1760 - val_acc: 0.1159\n",
      "Epoch 5/10\n",
      "274482/274482 [==============================] - 22s 81us/step - loss: 2.2757 - acc: 0.2855 - val_loss: 3.2646 - val_acc: 0.1133\n",
      "Epoch 6/10\n",
      " 53248/274482 [====>.........................] - ETA: 16s - loss: 2.1968 - acc: 0.3095"
     ]
    }
   ],
   "source": [
    "from keras.layers import GRU\n",
    "\n",
    "maxlen = 100\n",
    "\n",
    "gru = Sequential()\n",
    "gru.add(Embedding(10000, 8, input_length = maxlen))\n",
    "gru.add(GRU(8))\n",
    "gru.add(Dense(24, activation='softmax'))\n",
    "\n",
    "gru.compile(optimizer='rmsprop', \n",
    "                   loss='categorical_crossentropy', \n",
    "                   metrics=['acc'])\n",
    "gru.summary()\n",
    "\n",
    "gru_history = gru.fit(x_train, y_train, epochs= 10, batch_size= 2048,\n",
    "                         validation_data = (x_val, y_val))"
   ]
  },
  {
   "cell_type": "code",
   "execution_count": null,
   "metadata": {},
   "outputs": [],
   "source": [
    "gru_val_acc = gru_history.history['val_acc']\n",
    "gru_val_loss = gru_history.history['val_loss']\n",
    "\n",
    "epochs = range(1, len(gru_val_acc) + 1)\n",
    "\n",
    "plt.plot(epochs, gru_val_acc, 'b', marker='o', label='Validation acc')\n",
    "plt.title('Validation accuracy')\n",
    "plt.xlabel(\"Epoch\")\n",
    "plt.figure()\n",
    "plt.show()"
   ]
  },
  {
   "cell_type": "code",
   "execution_count": null,
   "metadata": {},
   "outputs": [],
   "source": [
    "plt.clf()\n",
    "plt.plot(epochs, gru_val_loss, 'r',marker = \"o\", label='Validation loss')\n",
    "plt.title('Validation loss')\n",
    "plt.xlabel(\"Epoch\")\n",
    "plt.legend()\n",
    "plt.show()"
   ]
  },
  {
   "cell_type": "code",
   "execution_count": null,
   "metadata": {},
   "outputs": [],
   "source": [
    "import pickle\n",
    "\n",
    "history_lst = [history, rnn_history, lstm_history, gru_history]\n",
    "pickle.dump(history_lst, open(\"history_lst_1.p\", \"wb\"))"
   ]
  }
 ],
 "metadata": {
  "kernelspec": {
   "display_name": "Python [conda env:tensorflow_p36]",
   "language": "python",
   "name": "conda-env-tensorflow_p36-py"
  },
  "language_info": {
   "codemirror_mode": {
    "name": "ipython",
    "version": 3
   },
   "file_extension": ".py",
   "mimetype": "text/x-python",
   "name": "python",
   "nbconvert_exporter": "python",
   "pygments_lexer": "ipython3",
   "version": "3.6.5"
  }
 },
 "nbformat": 4,
 "nbformat_minor": 2
}
