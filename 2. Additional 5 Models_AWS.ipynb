{
 "cells": [
  {
   "cell_type": "code",
   "execution_count": 1,
   "metadata": {},
   "outputs": [
    {
     "name": "stderr",
     "output_type": "stream",
     "text": [
      "Using TensorFlow backend.\n"
     ]
    }
   ],
   "source": [
    "import os \n",
    "import matplotlib.pyplot as plt\n",
    "\n",
    "from keras.preprocessing.text import Tokenizer\n",
    "from keras.preprocessing.sequence import pad_sequences\n",
    "from keras.utils import to_categorical\n",
    "import numpy as np"
   ]
  },
  {
   "cell_type": "code",
   "execution_count": 2,
   "metadata": {},
   "outputs": [],
   "source": [
    "#import the data \n",
    "os.chdir(\"./data\")\n",
    "\n",
    "def read_data(file_name):\n",
    "    labels = []\n",
    "    titles = []\n",
    "    with open(file_name, 'r') as f:\n",
    "        lines = f.readlines()\n",
    "        for line in lines:\n",
    "            if 'BillID' not in line:\n",
    "                split = line.split(\"\\t\")\n",
    "                label = split[-1].rstrip(\"\\n\")\n",
    "                if label == \"23\":\n",
    "                    label = \"11\"\n",
    "                labels.append(label)\n",
    "                title = split[-2].replace('\"', \"\").replace(\",\", \"\").replace(\".\", \"\").lower()\n",
    "                titles.append(title)\n",
    "                \n",
    "    return (titles, np.asarray(labels))\n",
    "\n",
    "train_titles_raw, train_labels_raw = read_data(\"congress_train.txt\")\n",
    "val_titles_raw, val_labels_raw = read_data(\"congress_val.txt\")\n",
    "test_titles_raw, test_labels_raw = read_data(\"congress_test.txt\")"
   ]
  },
  {
   "cell_type": "code",
   "execution_count": 3,
   "metadata": {},
   "outputs": [],
   "source": [
    "#setting up_data\n",
    "maxlen = 100\n",
    "max_words = 10000\n",
    "\n",
    "#training data\n",
    "tokenizer = Tokenizer(num_words=max_words)\n",
    "tokenizer.fit_on_texts(train_titles_raw)\n",
    "training_sequences = tokenizer.texts_to_sequences(train_titles_raw)\n",
    "word_index = tokenizer.word_index\n",
    "x_train = pad_sequences(training_sequences, maxlen=100)\n",
    "\n",
    "#validation\n",
    "val_sequences = tokenizer.texts_to_sequences(val_titles_raw)\n",
    "x_val = pad_sequences(val_sequences, maxlen=100)\n",
    "\n",
    "#test\n",
    "test_sequences = tokenizer.texts_to_sequences(test_titles_raw)\n",
    "x_test = pad_sequences(test_sequences, maxlen =100)\n",
    "\n",
    "\n",
    "y_train = to_categorical(train_labels_raw)\n",
    "y_val = to_categorical(val_labels_raw)\n",
    "y_test = to_categorical(test_labels_raw)"
   ]
  },
  {
   "cell_type": "code",
   "execution_count": 4,
   "metadata": {},
   "outputs": [],
   "source": [
    "from keras.models import Sequential\n",
    "from keras.layers import Flatten, Dense, Embedding, GRU, LSTM"
   ]
  },
  {
   "cell_type": "markdown",
   "metadata": {},
   "source": [
    "###  Estimate five additional neural network models with different configurations of hyperparameters (e.g. number of layers, number of hidden units, dropout, weight regularization, pre-trained word embeddings) "
   ]
  },
  {
   "cell_type": "code",
   "execution_count": 5,
   "metadata": {},
   "outputs": [
    {
     "name": "stdout",
     "output_type": "stream",
     "text": [
      "WARNING:tensorflow:From /home/ubuntu/anaconda3/envs/tensorflow_p36/lib/python3.6/site-packages/tensorflow/python/framework/op_def_library.py:263: colocate_with (from tensorflow.python.framework.ops) is deprecated and will be removed in a future version.\n",
      "Instructions for updating:\n",
      "Colocations handled automatically by placer.\n",
      "WARNING:tensorflow:From /home/ubuntu/anaconda3/envs/tensorflow_p36/lib/python3.6/site-packages/keras/backend/tensorflow_backend.py:3445: calling dropout (from tensorflow.python.ops.nn_ops) with keep_prob is deprecated and will be removed in a future version.\n",
      "Instructions for updating:\n",
      "Please use `rate` instead of `keep_prob`. Rate should be set to `rate = 1 - keep_prob`.\n",
      "_________________________________________________________________\n",
      "Layer (type)                 Output Shape              Param #   \n",
      "=================================================================\n",
      "embedding_1 (Embedding)      (None, 100, 32)           320000    \n",
      "_________________________________________________________________\n",
      "lstm_1 (LSTM)                (None, 32)                8320      \n",
      "_________________________________________________________________\n",
      "dense_1 (Dense)              (None, 22)                726       \n",
      "=================================================================\n",
      "Total params: 329,046\n",
      "Trainable params: 329,046\n",
      "Non-trainable params: 0\n",
      "_________________________________________________________________\n",
      "WARNING:tensorflow:From /home/ubuntu/anaconda3/envs/tensorflow_p36/lib/python3.6/site-packages/tensorflow/python/ops/math_ops.py:3066: to_int32 (from tensorflow.python.ops.math_ops) is deprecated and will be removed in a future version.\n",
      "Instructions for updating:\n",
      "Use tf.cast instead.\n",
      "Train on 278612 samples, validate on 69649 samples\n",
      "Epoch 1/20\n",
      "278612/278612 [==============================] - 70s 252us/step - loss: 2.4600 - acc: 0.2688 - val_loss: 1.8187 - val_acc: 0.4793\n",
      "Epoch 2/20\n",
      "278612/278612 [==============================] - 68s 244us/step - loss: 1.5371 - acc: 0.5696 - val_loss: 1.1538 - val_acc: 0.7039\n",
      "Epoch 3/20\n",
      "278612/278612 [==============================] - 68s 245us/step - loss: 1.0580 - acc: 0.7283 - val_loss: 0.8396 - val_acc: 0.7890\n",
      "Epoch 4/20\n",
      "278612/278612 [==============================] - 68s 243us/step - loss: 0.8269 - acc: 0.7877 - val_loss: 0.7267 - val_acc: 0.8148\n",
      "Epoch 5/20\n",
      "278612/278612 [==============================] - 68s 244us/step - loss: 0.7148 - acc: 0.8125 - val_loss: 0.6600 - val_acc: 0.8251\n",
      "Epoch 6/20\n",
      "278612/278612 [==============================] - 68s 244us/step - loss: 0.6476 - acc: 0.8265 - val_loss: 0.6195 - val_acc: 0.8339\n",
      "Epoch 7/20\n",
      "278612/278612 [==============================] - 68s 244us/step - loss: 0.6046 - acc: 0.8360 - val_loss: 0.5988 - val_acc: 0.8357\n",
      "Epoch 8/20\n",
      "278612/278612 [==============================] - 68s 243us/step - loss: 0.5748 - acc: 0.8416 - val_loss: 0.5790 - val_acc: 0.8394\n",
      "Epoch 9/20\n",
      "278612/278612 [==============================] - 68s 243us/step - loss: 0.5488 - acc: 0.8472 - val_loss: 0.5622 - val_acc: 0.8445\n",
      "Epoch 10/20\n",
      "278612/278612 [==============================] - 67s 242us/step - loss: 0.5311 - acc: 0.8515 - val_loss: 0.5515 - val_acc: 0.8464\n",
      "Epoch 11/20\n",
      "278612/278612 [==============================] - 68s 243us/step - loss: 0.5159 - acc: 0.8535 - val_loss: 0.5464 - val_acc: 0.8460\n",
      "Epoch 12/20\n",
      "278612/278612 [==============================] - 68s 243us/step - loss: 0.5033 - acc: 0.8571 - val_loss: 0.5339 - val_acc: 0.8498\n",
      "Epoch 13/20\n",
      "278612/278612 [==============================] - 68s 243us/step - loss: 0.4913 - acc: 0.8598 - val_loss: 0.5305 - val_acc: 0.8506\n",
      "Epoch 14/20\n",
      "278612/278612 [==============================] - 68s 243us/step - loss: 0.4823 - acc: 0.8615 - val_loss: 0.5249 - val_acc: 0.8517\n",
      "Epoch 15/20\n",
      "278612/278612 [==============================] - 68s 243us/step - loss: 0.4741 - acc: 0.8632 - val_loss: 0.5237 - val_acc: 0.8521\n",
      "Epoch 16/20\n",
      "278612/278612 [==============================] - 67s 242us/step - loss: 0.4668 - acc: 0.8650 - val_loss: 0.5155 - val_acc: 0.8542\n",
      "Epoch 17/20\n",
      "278612/278612 [==============================] - 68s 243us/step - loss: 0.4606 - acc: 0.8668 - val_loss: 0.5131 - val_acc: 0.8549\n",
      "Epoch 18/20\n",
      "278612/278612 [==============================] - 68s 243us/step - loss: 0.4544 - acc: 0.8681 - val_loss: 0.5139 - val_acc: 0.8551\n",
      "Epoch 19/20\n",
      "278612/278612 [==============================] - 68s 243us/step - loss: 0.4494 - acc: 0.8692 - val_loss: 0.5087 - val_acc: 0.8560\n",
      "Epoch 20/20\n",
      "278612/278612 [==============================] - 68s 244us/step - loss: 0.4441 - acc: 0.8702 - val_loss: 0.5085 - val_acc: 0.8554\n"
     ]
    }
   ],
   "source": [
    "#Mod_1\n",
    "\n",
    "maxlen = 100\n",
    "\n",
    "mod_1 = Sequential()\n",
    "mod_1.add(Embedding(10000, 32, input_length = maxlen))\n",
    "mod_1.add(LSTM(32,\n",
    "          dropout=0.2,\n",
    "          recurrent_dropout=0.2))\n",
    "mod_1.add(Dense(22, activation='softmax'))\n",
    "\n",
    "mod_1.compile(optimizer='rmsprop', \n",
    "                   loss='categorical_crossentropy', \n",
    "                   metrics=['acc'])\n",
    "mod_1.summary()\n",
    "\n",
    "mod_1_history = mod_1.fit(x_train, y_train, epochs= 20, batch_size= 1024,\n",
    "                         validation_data = (x_val, y_val))\n",
    "mod_1.save('my_model_1.h5')"
   ]
  },
  {
   "cell_type": "code",
   "execution_count": 22,
   "metadata": {},
   "outputs": [
    {
     "name": "stdout",
     "output_type": "stream",
     "text": [
      "69649/69649 [==============================] - 69s 984us/step\n"
     ]
    },
    {
     "data": {
      "text/plain": [
       "[0.5084839100714406, 0.8554465965096129]"
      ]
     },
     "execution_count": 22,
     "metadata": {},
     "output_type": "execute_result"
    }
   ],
   "source": [
    "mod_1.evaluate(x_val, y_val, batch_size = 128)"
   ]
  },
  {
   "cell_type": "code",
   "execution_count": 6,
   "metadata": {},
   "outputs": [
    {
     "name": "stdout",
     "output_type": "stream",
     "text": [
      "_________________________________________________________________\n",
      "Layer (type)                 Output Shape              Param #   \n",
      "=================================================================\n",
      "embedding_2 (Embedding)      (None, 100, 32)           320000    \n",
      "_________________________________________________________________\n",
      "gru_1 (GRU)                  (None, 32)                6240      \n",
      "_________________________________________________________________\n",
      "dense_2 (Dense)              (None, 22)                726       \n",
      "=================================================================\n",
      "Total params: 326,966\n",
      "Trainable params: 326,966\n",
      "Non-trainable params: 0\n",
      "_________________________________________________________________\n",
      "Train on 278612 samples, validate on 69649 samples\n",
      "Epoch 1/20\n",
      "278612/278612 [==============================] - 56s 201us/step - loss: 2.5797 - acc: 0.2107 - val_loss: 2.1893 - val_acc: 0.3786\n",
      "Epoch 2/20\n",
      "278612/278612 [==============================] - 55s 197us/step - loss: 1.8743 - acc: 0.4733 - val_loss: 1.4582 - val_acc: 0.6377\n",
      "Epoch 3/20\n",
      "278612/278612 [==============================] - 55s 197us/step - loss: 1.2828 - acc: 0.6668 - val_loss: 1.0058 - val_acc: 0.7489\n",
      "Epoch 4/20\n",
      "278612/278612 [==============================] - 55s 196us/step - loss: 0.9478 - acc: 0.7578 - val_loss: 0.7758 - val_acc: 0.7991\n",
      "Epoch 5/20\n",
      "278612/278612 [==============================] - 55s 196us/step - loss: 0.7704 - acc: 0.7972 - val_loss: 0.6717 - val_acc: 0.8181\n",
      "Epoch 6/20\n",
      "278612/278612 [==============================] - 55s 196us/step - loss: 0.6814 - acc: 0.8135 - val_loss: 0.6187 - val_acc: 0.8277\n",
      "Epoch 7/20\n",
      "278612/278612 [==============================] - 55s 196us/step - loss: 0.6333 - acc: 0.8234 - val_loss: 0.5912 - val_acc: 0.8326\n",
      "Epoch 8/20\n",
      "278612/278612 [==============================] - 55s 197us/step - loss: 0.5991 - acc: 0.8306 - val_loss: 0.5712 - val_acc: 0.8372\n",
      "Epoch 9/20\n",
      "278612/278612 [==============================] - 55s 197us/step - loss: 0.5754 - acc: 0.8361 - val_loss: 0.5570 - val_acc: 0.8410\n",
      "Epoch 10/20\n",
      "278612/278612 [==============================] - 55s 197us/step - loss: 0.5561 - acc: 0.8407 - val_loss: 0.5476 - val_acc: 0.8428\n",
      "Epoch 11/20\n",
      "278612/278612 [==============================] - 55s 197us/step - loss: 0.5399 - acc: 0.8440 - val_loss: 0.5384 - val_acc: 0.8449\n",
      "Epoch 12/20\n",
      "278612/278612 [==============================] - 55s 196us/step - loss: 0.5272 - acc: 0.8470 - val_loss: 0.5324 - val_acc: 0.8466\n",
      "Epoch 13/20\n",
      "278612/278612 [==============================] - 55s 196us/step - loss: 0.5152 - acc: 0.8500 - val_loss: 0.5271 - val_acc: 0.8479\n",
      "Epoch 14/20\n",
      "278612/278612 [==============================] - 55s 196us/step - loss: 0.5068 - acc: 0.8526 - val_loss: 0.5224 - val_acc: 0.8494\n",
      "Epoch 15/20\n",
      "278612/278612 [==============================] - 55s 196us/step - loss: 0.4981 - acc: 0.8547 - val_loss: 0.5185 - val_acc: 0.8506\n",
      "Epoch 16/20\n",
      "278612/278612 [==============================] - 55s 197us/step - loss: 0.4907 - acc: 0.8560 - val_loss: 0.5150 - val_acc: 0.8520\n",
      "Epoch 17/20\n",
      "278612/278612 [==============================] - 55s 196us/step - loss: 0.4830 - acc: 0.8582 - val_loss: 0.5118 - val_acc: 0.8527\n",
      "Epoch 18/20\n",
      "278612/278612 [==============================] - 55s 197us/step - loss: 0.4765 - acc: 0.8595 - val_loss: 0.5089 - val_acc: 0.8533\n",
      "Epoch 19/20\n",
      "278612/278612 [==============================] - 55s 197us/step - loss: 0.4698 - acc: 0.8615 - val_loss: 0.5068 - val_acc: 0.8546\n",
      "Epoch 20/20\n",
      "278612/278612 [==============================] - 55s 197us/step - loss: 0.4648 - acc: 0.8633 - val_loss: 0.5052 - val_acc: 0.8558\n"
     ]
    }
   ],
   "source": [
    "#Mod_2\n",
    "maxlen = 100\n",
    "\n",
    "mod_2 = Sequential()\n",
    "mod_2.add(Embedding(10000, 32, input_length = maxlen))\n",
    "mod_2.add(GRU(32,\n",
    "          dropout=0.1,\n",
    "          recurrent_dropout=0.5))\n",
    "mod_2.add(Dense(22, activation='softmax'))\n",
    "\n",
    "mod_2.compile(optimizer='rmsprop', \n",
    "                   loss='categorical_crossentropy', \n",
    "                   metrics=['acc'])\n",
    "mod_2.summary()\n",
    "\n",
    "mod_2_history = mod_2.fit(x_train, y_train, epochs= 20, batch_size= 1024,\n",
    "                         validation_data = (x_val, y_val))\n",
    "mod_2.save('my_model_2.h5')"
   ]
  },
  {
   "cell_type": "code",
   "execution_count": 21,
   "metadata": {},
   "outputs": [
    {
     "name": "stdout",
     "output_type": "stream",
     "text": [
      "69649/69649 [==============================] - 34s 488us/step\n"
     ]
    },
    {
     "data": {
      "text/plain": [
       "[0.5051882864456786, 0.8557624660859056]"
      ]
     },
     "execution_count": 21,
     "metadata": {},
     "output_type": "execute_result"
    }
   ],
   "source": [
    "mod_2.evaluate(x_val, y_val, batch_size = 128)"
   ]
  },
  {
   "cell_type": "code",
   "execution_count": 10,
   "metadata": {
    "scrolled": true
   },
   "outputs": [
    {
     "name": "stdout",
     "output_type": "stream",
     "text": [
      "_________________________________________________________________\n",
      "Layer (type)                 Output Shape              Param #   \n",
      "=================================================================\n",
      "embedding_4 (Embedding)      (None, 100, 16)           160000    \n",
      "_________________________________________________________________\n",
      "gru_4 (GRU)                  (None, 100, 16)           1584      \n",
      "_________________________________________________________________\n",
      "gru_5 (GRU)                  (None, 16)                1584      \n",
      "_________________________________________________________________\n",
      "dense_4 (Dense)              (None, 22)                374       \n",
      "=================================================================\n",
      "Total params: 163,542\n",
      "Trainable params: 163,542\n",
      "Non-trainable params: 0\n",
      "_________________________________________________________________\n",
      "Train on 278612 samples, validate on 69649 samples\n",
      "Epoch 1/20\n",
      "278612/278612 [==============================] - 106s 381us/step - loss: 2.6324 - acc: 0.1706 - val_loss: 2.3677 - val_acc: 0.2225\n",
      "Epoch 2/20\n",
      "278612/278612 [==============================] - 104s 372us/step - loss: 2.2305 - acc: 0.2837 - val_loss: 1.9326 - val_acc: 0.4365\n",
      "Epoch 3/20\n",
      "278612/278612 [==============================] - 104s 372us/step - loss: 1.8008 - acc: 0.4733 - val_loss: 1.5132 - val_acc: 0.6080\n",
      "Epoch 4/20\n",
      "278612/278612 [==============================] - 104s 372us/step - loss: 1.5084 - acc: 0.5739 - val_loss: 1.3112 - val_acc: 0.6546\n",
      "Epoch 5/20\n",
      "278612/278612 [==============================] - 104s 372us/step - loss: 1.3570 - acc: 0.6213 - val_loss: 1.1940 - val_acc: 0.6852\n",
      "Epoch 6/20\n",
      "278612/278612 [==============================] - 104s 372us/step - loss: 1.2557 - acc: 0.6540 - val_loss: 1.1343 - val_acc: 0.7048\n",
      "Epoch 7/20\n",
      "278612/278612 [==============================] - 104s 372us/step - loss: 1.1709 - acc: 0.6812 - val_loss: 1.0192 - val_acc: 0.7387\n",
      "Epoch 8/20\n",
      "278612/278612 [==============================] - 104s 372us/step - loss: 1.0979 - acc: 0.7041 - val_loss: 0.9555 - val_acc: 0.7564\n",
      "Epoch 9/20\n",
      "278612/278612 [==============================] - 104s 372us/step - loss: 1.0356 - acc: 0.7225 - val_loss: 0.9016 - val_acc: 0.7711\n",
      "Epoch 10/20\n",
      "278612/278612 [==============================] - 104s 372us/step - loss: 0.9857 - acc: 0.7367 - val_loss: 0.8637 - val_acc: 0.7761\n",
      "Epoch 11/20\n",
      "278612/278612 [==============================] - 104s 372us/step - loss: 0.9436 - acc: 0.7479 - val_loss: 0.8182 - val_acc: 0.7880\n",
      "Epoch 12/20\n",
      "278612/278612 [==============================] - 103s 371us/step - loss: 0.9083 - acc: 0.7581 - val_loss: 0.7977 - val_acc: 0.7943\n",
      "Epoch 13/20\n",
      "278612/278612 [==============================] - 103s 371us/step - loss: 0.8780 - acc: 0.7662 - val_loss: 0.7693 - val_acc: 0.8008\n",
      "Epoch 14/20\n",
      "278612/278612 [==============================] - 103s 371us/step - loss: 0.8515 - acc: 0.7729 - val_loss: 0.7475 - val_acc: 0.8037\n",
      "Epoch 15/20\n",
      "278612/278612 [==============================] - 104s 372us/step - loss: 0.8333 - acc: 0.7774 - val_loss: 0.7353 - val_acc: 0.8074\n",
      "Epoch 16/20\n",
      "278612/278612 [==============================] - 103s 371us/step - loss: 0.8146 - acc: 0.7833 - val_loss: 0.7161 - val_acc: 0.8118\n",
      "Epoch 17/20\n",
      "278612/278612 [==============================] - 104s 372us/step - loss: 0.7987 - acc: 0.7860 - val_loss: 0.7064 - val_acc: 0.8147\n",
      "Epoch 18/20\n",
      "278612/278612 [==============================] - 103s 371us/step - loss: 0.7857 - acc: 0.7904 - val_loss: 0.6940 - val_acc: 0.8180\n",
      "Epoch 19/20\n",
      "278612/278612 [==============================] - 104s 372us/step - loss: 0.7729 - acc: 0.7932 - val_loss: 0.6901 - val_acc: 0.8177\n",
      "Epoch 20/20\n",
      "278612/278612 [==============================] - 103s 371us/step - loss: 0.7633 - acc: 0.7954 - val_loss: 0.6853 - val_acc: 0.8178\n"
     ]
    }
   ],
   "source": [
    "from keras.layers import Reshape\n",
    "#Mod_3\n",
    "\n",
    "maxlen = 100\n",
    "\n",
    "mod_3 = Sequential()\n",
    "mod_3.add(Embedding(10000, 16, input_length = maxlen))\n",
    "mod_3.add(GRU(16, dropout=0.2, \n",
    "              recurrent_dropout=0.3,\n",
    "              return_sequences=True))\n",
    "mod_3.add(GRU(16, dropout=0.2,\n",
    "             recurrent_dropout=0.3))\n",
    "mod_3.add(Dense(22, activation='softmax'))\n",
    "\n",
    "mod_3.compile(optimizer='rmsprop', \n",
    "                   loss='categorical_crossentropy', \n",
    "                   metrics=['acc'])\n",
    "mod_3.summary()\n",
    "\n",
    "mod_3_history = mod_3.fit(x_train, y_train, epochs= 20, batch_size= 1024,\n",
    "                         validation_data = (x_val, y_val))\n",
    "mod_3.save('my_model_3.h5')"
   ]
  },
  {
   "cell_type": "code",
   "execution_count": 20,
   "metadata": {},
   "outputs": [
    {
     "name": "stdout",
     "output_type": "stream",
     "text": [
      "69649/69649 [==============================] - 108s 2ms/step\n"
     ]
    },
    {
     "data": {
      "text/plain": [
       "[0.6852672913132378, 0.8178437594282363]"
      ]
     },
     "execution_count": 20,
     "metadata": {},
     "output_type": "execute_result"
    }
   ],
   "source": [
    "mod_3.evaluate(x_val, y_val, batch_size = 128)"
   ]
  },
  {
   "cell_type": "code",
   "execution_count": 11,
   "metadata": {
    "scrolled": true
   },
   "outputs": [
    {
     "name": "stdout",
     "output_type": "stream",
     "text": [
      "_________________________________________________________________\n",
      "Layer (type)                 Output Shape              Param #   \n",
      "=================================================================\n",
      "embedding_5 (Embedding)      (None, 100, 24)           240000    \n",
      "_________________________________________________________________\n",
      "gru_6 (GRU)                  (None, 100, 24)           3528      \n",
      "_________________________________________________________________\n",
      "gru_7 (GRU)                  (None, 100, 24)           3528      \n",
      "_________________________________________________________________\n",
      "gru_8 (GRU)                  (None, 24)                3528      \n",
      "_________________________________________________________________\n",
      "dense_5 (Dense)              (None, 22)                550       \n",
      "=================================================================\n",
      "Total params: 251,134\n",
      "Trainable params: 251,134\n",
      "Non-trainable params: 0\n",
      "_________________________________________________________________\n",
      "Train on 278612 samples, validate on 69649 samples\n",
      "Epoch 1/20\n",
      "278612/278612 [==============================] - 161s 578us/step - loss: 2.4622 - acc: 0.2195 - val_loss: 1.9547 - val_acc: 0.3992\n",
      "Epoch 2/20\n",
      "278612/278612 [==============================] - 157s 565us/step - loss: 1.8334 - acc: 0.4429 - val_loss: 1.5811 - val_acc: 0.5589\n",
      "Epoch 3/20\n",
      "278612/278612 [==============================] - 157s 564us/step - loss: 1.5093 - acc: 0.5682 - val_loss: 1.2961 - val_acc: 0.6536\n",
      "Epoch 4/20\n",
      "278612/278612 [==============================] - 157s 564us/step - loss: 1.2877 - acc: 0.6453 - val_loss: 1.1226 - val_acc: 0.6998\n",
      "Epoch 5/20\n",
      "278612/278612 [==============================] - 157s 563us/step - loss: 1.1345 - acc: 0.6978 - val_loss: 1.0018 - val_acc: 0.7412\n",
      "Epoch 6/20\n",
      "278612/278612 [==============================] - 157s 563us/step - loss: 1.0401 - acc: 0.7287 - val_loss: 0.9364 - val_acc: 0.7627\n",
      "Epoch 7/20\n",
      "278612/278612 [==============================] - 157s 563us/step - loss: 0.9772 - acc: 0.7473 - val_loss: 0.8888 - val_acc: 0.7751\n",
      "Epoch 8/20\n",
      "278612/278612 [==============================] - 157s 563us/step - loss: 0.9337 - acc: 0.7601 - val_loss: 0.8645 - val_acc: 0.7820\n",
      "Epoch 9/20\n",
      "278612/278612 [==============================] - 157s 563us/step - loss: 0.8959 - acc: 0.7712 - val_loss: 0.8352 - val_acc: 0.7893\n",
      "Epoch 10/20\n",
      "278612/278612 [==============================] - 157s 563us/step - loss: 0.8599 - acc: 0.7797 - val_loss: 0.7990 - val_acc: 0.7982\n",
      "Epoch 11/20\n",
      "278612/278612 [==============================] - 157s 563us/step - loss: 0.8279 - acc: 0.7876 - val_loss: 0.7583 - val_acc: 0.8088\n",
      "Epoch 12/20\n",
      "278612/278612 [==============================] - 157s 563us/step - loss: 0.7987 - acc: 0.7951 - val_loss: 0.7390 - val_acc: 0.8117\n",
      "Epoch 13/20\n",
      "278612/278612 [==============================] - 157s 563us/step - loss: 0.7752 - acc: 0.8005 - val_loss: 0.7271 - val_acc: 0.8149\n",
      "Epoch 14/20\n",
      "278612/278612 [==============================] - 157s 563us/step - loss: 0.7553 - acc: 0.8058 - val_loss: 0.7057 - val_acc: 0.8182\n",
      "Epoch 15/20\n",
      "278612/278612 [==============================] - 157s 563us/step - loss: 0.7381 - acc: 0.8095 - val_loss: 0.7002 - val_acc: 0.8221\n",
      "Epoch 16/20\n",
      "278612/278612 [==============================] - 157s 563us/step - loss: 0.7206 - acc: 0.8132 - val_loss: 0.6783 - val_acc: 0.8265\n",
      "Epoch 17/20\n",
      "278612/278612 [==============================] - 157s 563us/step - loss: 0.7069 - acc: 0.8167 - val_loss: 0.6670 - val_acc: 0.8303\n",
      "Epoch 18/20\n",
      "278612/278612 [==============================] - 157s 563us/step - loss: 0.6966 - acc: 0.8192 - val_loss: 0.6721 - val_acc: 0.8269\n",
      "Epoch 19/20\n",
      "278612/278612 [==============================] - 157s 563us/step - loss: 0.6846 - acc: 0.8216 - val_loss: 0.6612 - val_acc: 0.8311\n",
      "Epoch 20/20\n",
      "278612/278612 [==============================] - 157s 563us/step - loss: 0.6756 - acc: 0.8237 - val_loss: 0.6480 - val_acc: 0.8341\n"
     ]
    }
   ],
   "source": [
    "#Mod_4\n",
    "#Mod_4\n",
    "maxlen = 100\n",
    "\n",
    "mod_4 = Sequential()\n",
    "mod_4.add(Embedding(10000, 24, input_length = maxlen))\n",
    "mod_4.add(GRU(24,\n",
    "          dropout=0.1,\n",
    "          recurrent_dropout=0.3,\n",
    "          return_sequences=True))\n",
    "mod_4.add(GRU(24,\n",
    "          dropout=0.1,\n",
    "          recurrent_dropout=0.3,\n",
    "          return_sequences=True))\n",
    "mod_4.add(GRU(24,\n",
    "          dropout=0.3,\n",
    "          recurrent_dropout=0.7))\n",
    "mod_4.add(Dense(22, activation='softmax'))\n",
    "\n",
    "mod_4.compile(optimizer='rmsprop', \n",
    "                   loss='categorical_crossentropy', \n",
    "                   metrics=['acc'])\n",
    "mod_4.summary()\n",
    "\n",
    "mod_4_history = mod_4.fit(x_train, y_train, epochs= 20, batch_size= 1024,\n",
    "                         validation_data = (x_val, y_val))\n",
    "mod_4.save('my_model_4.h5')"
   ]
  },
  {
   "cell_type": "code",
   "execution_count": 19,
   "metadata": {},
   "outputs": [
    {
     "name": "stdout",
     "output_type": "stream",
     "text": [
      "69649/69649 [==============================] - 162s 2ms/step\n"
     ]
    },
    {
     "data": {
      "text/plain": [
       "[0.6480362773819626, 0.834125400227955]"
      ]
     },
     "execution_count": 19,
     "metadata": {},
     "output_type": "execute_result"
    }
   ],
   "source": [
    "mod_4.evaluate(x_val, y_val, batch_size = 128)"
   ]
  },
  {
   "cell_type": "code",
   "execution_count": 16,
   "metadata": {
    "scrolled": true
   },
   "outputs": [
    {
     "name": "stdout",
     "output_type": "stream",
     "text": [
      "_________________________________________________________________\n",
      "Layer (type)                 Output Shape              Param #   \n",
      "=================================================================\n",
      "embedding_9 (Embedding)      (None, 100, 64)           640000    \n",
      "_________________________________________________________________\n",
      "lstm_9 (LSTM)                (None, 100, 64)           33024     \n",
      "_________________________________________________________________\n",
      "lstm_10 (LSTM)               (None, 48)                21696     \n",
      "_________________________________________________________________\n",
      "dense_9 (Dense)              (None, 22)                1078      \n",
      "=================================================================\n",
      "Total params: 695,798\n",
      "Trainable params: 695,798\n",
      "Non-trainable params: 0\n",
      "_________________________________________________________________\n",
      "Train on 278612 samples, validate on 69649 samples\n",
      "Epoch 1/20\n",
      "130048/278612 [=============>................] - ETA: 1:16 - loss: 2.4244 - acc: 0.2599"
     ]
    },
    {
     "ename": "KeyboardInterrupt",
     "evalue": "",
     "output_type": "error",
     "traceback": [
      "\u001b[0;31m---------------------------------------------------------------------------\u001b[0m",
      "\u001b[0;31mKeyboardInterrupt\u001b[0m                         Traceback (most recent call last)",
      "\u001b[0;32m<ipython-input-16-a8f8e692ccfb>\u001b[0m in \u001b[0;36m<module>\u001b[0;34m()\u001b[0m\n\u001b[1;32m     19\u001b[0m \u001b[0;34m\u001b[0m\u001b[0m\n\u001b[1;32m     20\u001b[0m mod_5_history = mod_5.fit(x_train, y_train, epochs= 20, batch_size= 1024,\n\u001b[0;32m---> 21\u001b[0;31m                          validation_data = (x_val, y_val))\n\u001b[0m\u001b[1;32m     22\u001b[0m \u001b[0mmod_5\u001b[0m\u001b[0;34m.\u001b[0m\u001b[0msave\u001b[0m\u001b[0;34m(\u001b[0m\u001b[0;34m'my_model_5.h5'\u001b[0m\u001b[0;34m)\u001b[0m\u001b[0;34m\u001b[0m\u001b[0m\n",
      "\u001b[0;32m~/anaconda3/envs/tensorflow_p36/lib/python3.6/site-packages/keras/engine/training.py\u001b[0m in \u001b[0;36mfit\u001b[0;34m(self, x, y, batch_size, epochs, verbose, callbacks, validation_split, validation_data, shuffle, class_weight, sample_weight, initial_epoch, steps_per_epoch, validation_steps, **kwargs)\u001b[0m\n\u001b[1;32m   1037\u001b[0m                                         \u001b[0minitial_epoch\u001b[0m\u001b[0;34m=\u001b[0m\u001b[0minitial_epoch\u001b[0m\u001b[0;34m,\u001b[0m\u001b[0;34m\u001b[0m\u001b[0m\n\u001b[1;32m   1038\u001b[0m                                         \u001b[0msteps_per_epoch\u001b[0m\u001b[0;34m=\u001b[0m\u001b[0msteps_per_epoch\u001b[0m\u001b[0;34m,\u001b[0m\u001b[0;34m\u001b[0m\u001b[0m\n\u001b[0;32m-> 1039\u001b[0;31m                                         validation_steps=validation_steps)\n\u001b[0m\u001b[1;32m   1040\u001b[0m \u001b[0;34m\u001b[0m\u001b[0m\n\u001b[1;32m   1041\u001b[0m     def evaluate(self, x=None, y=None,\n",
      "\u001b[0;32m~/anaconda3/envs/tensorflow_p36/lib/python3.6/site-packages/keras/engine/training_arrays.py\u001b[0m in \u001b[0;36mfit_loop\u001b[0;34m(model, f, ins, out_labels, batch_size, epochs, verbose, callbacks, val_f, val_ins, shuffle, callback_metrics, initial_epoch, steps_per_epoch, validation_steps)\u001b[0m\n\u001b[1;32m    197\u001b[0m                     \u001b[0mins_batch\u001b[0m\u001b[0;34m[\u001b[0m\u001b[0mi\u001b[0m\u001b[0;34m]\u001b[0m \u001b[0;34m=\u001b[0m \u001b[0mins_batch\u001b[0m\u001b[0;34m[\u001b[0m\u001b[0mi\u001b[0m\u001b[0;34m]\u001b[0m\u001b[0;34m.\u001b[0m\u001b[0mtoarray\u001b[0m\u001b[0;34m(\u001b[0m\u001b[0;34m)\u001b[0m\u001b[0;34m\u001b[0m\u001b[0m\n\u001b[1;32m    198\u001b[0m \u001b[0;34m\u001b[0m\u001b[0m\n\u001b[0;32m--> 199\u001b[0;31m                 \u001b[0mouts\u001b[0m \u001b[0;34m=\u001b[0m \u001b[0mf\u001b[0m\u001b[0;34m(\u001b[0m\u001b[0mins_batch\u001b[0m\u001b[0;34m)\u001b[0m\u001b[0;34m\u001b[0m\u001b[0m\n\u001b[0m\u001b[1;32m    200\u001b[0m                 \u001b[0mouts\u001b[0m \u001b[0;34m=\u001b[0m \u001b[0mto_list\u001b[0m\u001b[0;34m(\u001b[0m\u001b[0mouts\u001b[0m\u001b[0;34m)\u001b[0m\u001b[0;34m\u001b[0m\u001b[0m\n\u001b[1;32m    201\u001b[0m                 \u001b[0;32mfor\u001b[0m \u001b[0ml\u001b[0m\u001b[0;34m,\u001b[0m \u001b[0mo\u001b[0m \u001b[0;32min\u001b[0m \u001b[0mzip\u001b[0m\u001b[0;34m(\u001b[0m\u001b[0mout_labels\u001b[0m\u001b[0;34m,\u001b[0m \u001b[0mouts\u001b[0m\u001b[0;34m)\u001b[0m\u001b[0;34m:\u001b[0m\u001b[0;34m\u001b[0m\u001b[0m\n",
      "\u001b[0;32m~/anaconda3/envs/tensorflow_p36/lib/python3.6/site-packages/keras/backend/tensorflow_backend.py\u001b[0m in \u001b[0;36m__call__\u001b[0;34m(self, inputs)\u001b[0m\n\u001b[1;32m   2713\u001b[0m                 \u001b[0;32mreturn\u001b[0m \u001b[0mself\u001b[0m\u001b[0;34m.\u001b[0m\u001b[0m_legacy_call\u001b[0m\u001b[0;34m(\u001b[0m\u001b[0minputs\u001b[0m\u001b[0;34m)\u001b[0m\u001b[0;34m\u001b[0m\u001b[0m\n\u001b[1;32m   2714\u001b[0m \u001b[0;34m\u001b[0m\u001b[0m\n\u001b[0;32m-> 2715\u001b[0;31m             \u001b[0;32mreturn\u001b[0m \u001b[0mself\u001b[0m\u001b[0;34m.\u001b[0m\u001b[0m_call\u001b[0m\u001b[0;34m(\u001b[0m\u001b[0minputs\u001b[0m\u001b[0;34m)\u001b[0m\u001b[0;34m\u001b[0m\u001b[0m\n\u001b[0m\u001b[1;32m   2716\u001b[0m         \u001b[0;32melse\u001b[0m\u001b[0;34m:\u001b[0m\u001b[0;34m\u001b[0m\u001b[0m\n\u001b[1;32m   2717\u001b[0m             \u001b[0;32mif\u001b[0m \u001b[0mpy_any\u001b[0m\u001b[0;34m(\u001b[0m\u001b[0mis_tensor\u001b[0m\u001b[0;34m(\u001b[0m\u001b[0mx\u001b[0m\u001b[0;34m)\u001b[0m \u001b[0;32mfor\u001b[0m \u001b[0mx\u001b[0m \u001b[0;32min\u001b[0m \u001b[0minputs\u001b[0m\u001b[0;34m)\u001b[0m\u001b[0;34m:\u001b[0m\u001b[0;34m\u001b[0m\u001b[0m\n",
      "\u001b[0;32m~/anaconda3/envs/tensorflow_p36/lib/python3.6/site-packages/keras/backend/tensorflow_backend.py\u001b[0m in \u001b[0;36m_call\u001b[0;34m(self, inputs)\u001b[0m\n\u001b[1;32m   2673\u001b[0m             \u001b[0mfetched\u001b[0m \u001b[0;34m=\u001b[0m \u001b[0mself\u001b[0m\u001b[0;34m.\u001b[0m\u001b[0m_callable_fn\u001b[0m\u001b[0;34m(\u001b[0m\u001b[0;34m*\u001b[0m\u001b[0marray_vals\u001b[0m\u001b[0;34m,\u001b[0m \u001b[0mrun_metadata\u001b[0m\u001b[0;34m=\u001b[0m\u001b[0mself\u001b[0m\u001b[0;34m.\u001b[0m\u001b[0mrun_metadata\u001b[0m\u001b[0;34m)\u001b[0m\u001b[0;34m\u001b[0m\u001b[0m\n\u001b[1;32m   2674\u001b[0m         \u001b[0;32melse\u001b[0m\u001b[0;34m:\u001b[0m\u001b[0;34m\u001b[0m\u001b[0m\n\u001b[0;32m-> 2675\u001b[0;31m             \u001b[0mfetched\u001b[0m \u001b[0;34m=\u001b[0m \u001b[0mself\u001b[0m\u001b[0;34m.\u001b[0m\u001b[0m_callable_fn\u001b[0m\u001b[0;34m(\u001b[0m\u001b[0;34m*\u001b[0m\u001b[0marray_vals\u001b[0m\u001b[0;34m)\u001b[0m\u001b[0;34m\u001b[0m\u001b[0m\n\u001b[0m\u001b[1;32m   2676\u001b[0m         \u001b[0;32mreturn\u001b[0m \u001b[0mfetched\u001b[0m\u001b[0;34m[\u001b[0m\u001b[0;34m:\u001b[0m\u001b[0mlen\u001b[0m\u001b[0;34m(\u001b[0m\u001b[0mself\u001b[0m\u001b[0;34m.\u001b[0m\u001b[0moutputs\u001b[0m\u001b[0;34m)\u001b[0m\u001b[0;34m]\u001b[0m\u001b[0;34m\u001b[0m\u001b[0m\n\u001b[1;32m   2677\u001b[0m \u001b[0;34m\u001b[0m\u001b[0m\n",
      "\u001b[0;32m~/anaconda3/envs/tensorflow_p36/lib/python3.6/site-packages/tensorflow/python/client/session.py\u001b[0m in \u001b[0;36m__call__\u001b[0;34m(self, *args, **kwargs)\u001b[0m\n\u001b[1;32m   1437\u001b[0m           ret = tf_session.TF_SessionRunCallable(\n\u001b[1;32m   1438\u001b[0m               \u001b[0mself\u001b[0m\u001b[0;34m.\u001b[0m\u001b[0m_session\u001b[0m\u001b[0;34m.\u001b[0m\u001b[0m_session\u001b[0m\u001b[0;34m,\u001b[0m \u001b[0mself\u001b[0m\u001b[0;34m.\u001b[0m\u001b[0m_handle\u001b[0m\u001b[0;34m,\u001b[0m \u001b[0margs\u001b[0m\u001b[0;34m,\u001b[0m \u001b[0mstatus\u001b[0m\u001b[0;34m,\u001b[0m\u001b[0;34m\u001b[0m\u001b[0m\n\u001b[0;32m-> 1439\u001b[0;31m               run_metadata_ptr)\n\u001b[0m\u001b[1;32m   1440\u001b[0m         \u001b[0;32mif\u001b[0m \u001b[0mrun_metadata\u001b[0m\u001b[0;34m:\u001b[0m\u001b[0;34m\u001b[0m\u001b[0m\n\u001b[1;32m   1441\u001b[0m           \u001b[0mproto_data\u001b[0m \u001b[0;34m=\u001b[0m \u001b[0mtf_session\u001b[0m\u001b[0;34m.\u001b[0m\u001b[0mTF_GetBuffer\u001b[0m\u001b[0;34m(\u001b[0m\u001b[0mrun_metadata_ptr\u001b[0m\u001b[0;34m)\u001b[0m\u001b[0;34m\u001b[0m\u001b[0m\n",
      "\u001b[0;31mKeyboardInterrupt\u001b[0m: "
     ]
    }
   ],
   "source": [
    "#Mod_5\n",
    "maxlen = 100\n",
    "\n",
    "mod_5 = Sequential()\n",
    "mod_5.add(Embedding(10000, 64, input_length = maxlen))\n",
    "mod_5.add(LSTM(64,\n",
    "          dropout=0.3,\n",
    "          recurrent_dropout=0.1, \n",
    "          return_sequences=True))\n",
    "mod_5.add(LSTM(48,\n",
    "          dropout=0.3,\n",
    "          recurrent_dropout=0.1))\n",
    "mod_5.add(Dense(22, activation='softmax'))\n",
    "\n",
    "mod_5.compile(optimizer='rmsprop', \n",
    "                   loss='categorical_crossentropy', \n",
    "                   metrics=['acc'])\n",
    "mod_5.summary()\n",
    "\n",
    "mod_5_history = mod_5.fit(x_train, y_train, epochs= 20, batch_size= 1024,\n",
    "                         validation_data = (x_val, y_val))\n",
    "mod_5.save('my_model_5.h5')"
   ]
  },
  {
   "cell_type": "markdown",
   "metadata": {},
   "source": [
    "### Select the best performing model based on the validation set and evaluate its performance using the test set. Assume that with hand-coding we can achieve a 95% accuracy rate. Would your neural network perform better or worse than hand-coding?"
   ]
  }
 ],
 "metadata": {
  "kernelspec": {
   "display_name": "Python [conda env:tensorflow_p36]",
   "language": "python",
   "name": "conda-env-tensorflow_p36-py"
  },
  "language_info": {
   "codemirror_mode": {
    "name": "ipython",
    "version": 3
   },
   "file_extension": ".py",
   "mimetype": "text/x-python",
   "name": "python",
   "nbconvert_exporter": "python",
   "pygments_lexer": "ipython3",
   "version": "3.6.5"
  }
 },
 "nbformat": 4,
 "nbformat_minor": 2
}
