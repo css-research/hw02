{
 "cells": [
  {
   "cell_type": "markdown",
   "metadata": {},
   "source": [
    "# Perspectives in Computational Research: Homework 02"
   ]
  },
  {
   "cell_type": "code",
   "execution_count": 5,
   "metadata": {},
   "outputs": [],
   "source": [
    "#Libraries\n",
    "import pandas as pd\n",
    "import numpy as np\n",
    "\n",
    "from keras.preprocessing.text import Tokenizer\n",
    "from keras.preprocessing.sequence import pad_sequences\n",
    "from keras.preprocessing.text import text_to_word_sequence\n",
    "from keras.utils import to_categorical\n",
    "from keras import models\n",
    "from keras import layers\n",
    "from keras import losses\n",
    "from keras import metrics"
   ]
  },
  {
   "cell_type": "markdown",
   "metadata": {},
   "source": [
    "### Load Data"
   ]
  },
  {
   "cell_type": "code",
   "execution_count": 3,
   "metadata": {},
   "outputs": [],
   "source": [
    "# Train Data\n",
    "train_data = pd.read_csv('data/congress_train.csv', encoding = \"ISO-8859-1\")\n",
    "train_title = train_data['Title'].tolist()\n",
    "train_major = train_data['Major']\n",
    "\n",
    "# Validata Data\n",
    "val_data = pd.read_csv('data/congress_val.csv', encoding = \"ISO-8859-1\")\n",
    "val_title = val_data['Title'].tolist()\n",
    "val_major = val_data['Major']\n",
    "\n",
    "# Test Data\n",
    "test_data = pd.read_csv('data/congress_test.csv', encoding = \"ISO-8859-1\")\n",
    "test_title = test_data['Title'].tolist()\n",
    "test_major = test_data['Major']"
   ]
  },
  {
   "cell_type": "markdown",
   "metadata": {},
   "source": [
    "### Tokenize"
   ]
  },
  {
   "cell_type": "code",
   "execution_count": 4,
   "metadata": {},
   "outputs": [],
   "source": [
    "token = Tokenizer(num_words=10000) #class restricting to 10000 words"
   ]
  },
  {
   "cell_type": "code",
   "execution_count": null,
   "metadata": {},
   "outputs": [],
   "source": [
    "# Train Data\n",
    "token.fit_on_texts(train_title)\n",
    "train_sequence = token.text_to_word_sequences(train_title)\n",
    "train_x = pad_sequences(train_sequence, maxlen=100)\n",
    "train_y = to_categorical(train_major)"
   ]
  },
  {
   "cell_type": "code",
   "execution_count": null,
   "metadata": {},
   "outputs": [],
   "source": [
    "# validate Data\n",
    "token.fit_on_texts(val_title)\n",
    "val_sequence = token.text_to_word_sequences(val_title)\n",
    "val_x = pad_sequences(val_sequence, maxlen=100)\n",
    "val_y = to_categorical(val_major)"
   ]
  },
  {
   "cell_type": "code",
   "execution_count": null,
   "metadata": {},
   "outputs": [],
   "source": [
    "# validate Data\n",
    "token.fit_on_texts(test_title)\n",
    "test_sequence = token.text_to_word_sequences(test_title)\n",
    "test_x = pad_sequences(test_sequence, maxlen=100)\n",
    "test_y = to_categorical(test_major)"
   ]
  }
 ],
 "metadata": {
  "kernelspec": {
   "display_name": "Python 3",
   "language": "python",
   "name": "python3"
  },
  "language_info": {
   "codemirror_mode": {
    "name": "ipython",
    "version": 3
   },
   "file_extension": ".py",
   "mimetype": "text/x-python",
   "name": "python",
   "nbconvert_exporter": "python",
   "pygments_lexer": "ipython3",
   "version": "3.5.2"
  }
 },
 "nbformat": 4,
 "nbformat_minor": 2
}
