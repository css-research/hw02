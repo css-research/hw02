{
 "cells": [
  {
   "cell_type": "markdown",
   "metadata": {},
   "source": [
    "## Import the data and tokenize using Keras.\n",
    "\n",
    "* Keep only the 10000 most frequent words\n",
    "* Limit each bill's title to a maximum length of 100 words\n",
    "* Pad each sequence to be of length 100"
   ]
  },
  {
   "cell_type": "code",
   "execution_count": 17,
   "metadata": {},
   "outputs": [],
   "source": [
    "import os \n",
    "\n",
    "from keras.preprocessing.text import Tokenizer\n",
    "from keras.preprocessing.sequence import pad_sequences\n",
    "from keras.utils import to_categorical\n",
    "import numpy as np"
   ]
  },
  {
   "cell_type": "markdown",
   "metadata": {},
   "source": [
    "### Importing Data "
   ]
  },
  {
   "cell_type": "code",
   "execution_count": 9,
   "metadata": {},
   "outputs": [],
   "source": [
    "#import the data \n",
    "os.chdir(\"./data\")\n",
    "\n",
    "def read_data(file_name):\n",
    "    labels = []\n",
    "    titles = []\n",
    "    \n",
    "    with open(file_name, 'r') as f:\n",
    "        for line in f:\n",
    "            if 'BillID,' in line:\n",
    "                pass\n",
    "            elif '\"' in line:\n",
    "                split_1 = line.split('\"')\n",
    "                label = split_1[-1].lstrip(\",\").rstrip(\"\\n\")\n",
    "                labels.append(int(label))\n",
    "                title = split_1[-2].lstrip(\",\")\n",
    "                title = title.replace(\",\", \"\") #here I deleted \",\" from the titles.\n",
    "                titles.append(title)\n",
    "\n",
    "            else:\n",
    "                split = line.split(\",\")\n",
    "                titles.append(split[-2])\n",
    "                labels.append(int(split[-1].strip(\"\\n\")))\n",
    "                \n",
    "    return ((titles, labels))\n",
    "\n",
    "train_titles_raw, train_labels_raw = read_data(\"congress_train.csv\")\n",
    "val_titles_raw, val_labels_raw = read_data(\"congress_val.csv\")\n",
    "test_titles_raw, test_labels_raw = read_data(\"congress_test.csv\")"
   ]
  },
  {
   "cell_type": "code",
   "execution_count": 10,
   "metadata": {},
   "outputs": [
    {
     "name": "stdout",
     "output_type": "stream",
     "text": [
      "278612 278612\n",
      "69649 69649\n",
      "38693 38693\n"
     ]
    }
   ],
   "source": [
    "#check the data length \n",
    "\n",
    "print (len(train_titles_raw), len(train_labels_raw))\n",
    "print (len(val_titles_raw), len(val_labels_raw))\n",
    "print (len(test_titles_raw), len(test_labels_raw))"
   ]
  },
  {
   "cell_type": "code",
   "execution_count": 15,
   "metadata": {
    "collapsed": true
   },
   "outputs": [],
   "source": [
    "#setting up_data\n",
    "def setting_data(text_lst,maxlen, max_words):\n",
    "    maxlen = maxlen\n",
    "    max_words = max_words\n",
    "\n",
    "    tokenizer = Tokenizer(num_words=max_words)\n",
    "    tokenizer.fit_on_texts(text_lst)\n",
    "    sequences = tokenizer.texts_to_sequences(text_lst)\n",
    "\n",
    "    word_index = tokenizer.word_index\n",
    "    print('Found %s unique tokens.' % len(word_index))\n",
    "\n",
    "    data = pad_sequences(sequences, maxlen=maxlen)\n",
    "\n",
    "    print('Shape of data tensor:', data.shape)\n",
    "    return (data)"
   ]
  },
  {
   "cell_type": "code",
   "execution_count": 18,
   "metadata": {},
   "outputs": [
    {
     "name": "stdout",
     "output_type": "stream",
     "text": [
      "Found 42449 unique tokens.\n",
      "Shape of data tensor: (278612, 100)\n",
      "Found 24985 unique tokens.\n",
      "Shape of data tensor: (69649, 100)\n",
      "Found 19813 unique tokens.\n",
      "Shape of data tensor: (38693, 100)\n"
     ]
    }
   ],
   "source": [
    "#preprocessing train data \n",
    "x_train = setting_data(train_titles_raw, \n",
    "                       maxlen = 100,\n",
    "                       max_words = 10000)\n",
    "\n",
    "#preprocessing validation data \n",
    "x_val = setting_data(val_titles_raw, \n",
    "                     maxlen = 100, \n",
    "                     max_words = 10000)\n",
    "\n",
    "#preprocessing test data \n",
    "x_test = setting_data(test_titles_raw, \n",
    "                      maxlen = 100,\n",
    "                      max_words = 10000)"
   ]
  },
  {
   "cell_type": "code",
   "execution_count": 20,
   "metadata": {},
   "outputs": [],
   "source": [
    "y_train = to_categorical(train_labels_raw)\n",
    "y_val = to_categorical(val_labels_raw)\n",
    "y_test = to_categorical(test_labels_raw)"
   ]
  },
  {
   "cell_type": "code",
   "execution_count": 24,
   "metadata": {},
   "outputs": [
    {
     "data": {
      "text/plain": [
       "24"
      ]
     },
     "execution_count": 24,
     "metadata": {},
     "output_type": "execute_result"
    }
   ],
   "source": [
    "len(y_train[0])"
   ]
  },
  {
   "cell_type": "markdown",
   "metadata": {},
   "source": [
    "### Estimate a basic feed-forward network"
   ]
  },
  {
   "cell_type": "code",
   "execution_count": 23,
   "metadata": {},
   "outputs": [
    {
     "name": "stdout",
     "output_type": "stream",
     "text": [
      "_________________________________________________________________\n",
      "Layer (type)                 Output Shape              Param #   \n",
      "=================================================================\n",
      "embedding_4 (Embedding)      (None, 100, 8)            80000     \n",
      "_________________________________________________________________\n",
      "flatten_4 (Flatten)          (None, 800)               0         \n",
      "_________________________________________________________________\n",
      "dense_4 (Dense)              (None, 24)                19224     \n",
      "=================================================================\n",
      "Total params: 99,224\n",
      "Trainable params: 99,224\n",
      "Non-trainable params: 0\n",
      "_________________________________________________________________\n",
      "WARNING:tensorflow:From C:\\Anaconda3\\lib\\site-packages\\tensorflow\\python\\ops\\math_ops.py:3066: to_int32 (from tensorflow.python.ops.math_ops) is deprecated and will be removed in a future version.\n",
      "Instructions for updating:\n",
      "Use tf.cast instead.\n",
      "Train on 278612 samples, validate on 69649 samples\n",
      "Epoch 1/10\n",
      "278612/278612 [==============================] - 25s 91us/step - loss: 1.4868 - acc: 0.5955 - val_loss: 3.3915 - val_acc: 0.1555\n",
      "Epoch 2/10\n",
      "278612/278612 [==============================] - 27s 98us/step - loss: 0.9021 - acc: 0.7682 - val_loss: 3.8583 - val_acc: 0.1368\n",
      "Epoch 3/10\n",
      "278612/278612 [==============================] - 27s 98us/step - loss: 0.8263 - acc: 0.7906 - val_loss: 4.0538 - val_acc: 0.1340\n",
      "Epoch 4/10\n",
      "278612/278612 [==============================] - 30s 109us/step - loss: 0.7959 - acc: 0.8000 - val_loss: 4.1583 - val_acc: 0.1348\n",
      "Epoch 5/10\n",
      "278612/278612 [==============================] - 29s 103us/step - loss: 0.7797 - acc: 0.8048 - val_loss: 4.2220 - val_acc: 0.1329\n",
      "Epoch 6/10\n",
      "278612/278612 [==============================] - 34s 123us/step - loss: 0.7707 - acc: 0.8078 - val_loss: 4.2841 - val_acc: 0.1306\n",
      "Epoch 7/10\n",
      "278612/278612 [==============================] - 27s 97us/step - loss: 0.7644 - acc: 0.8101 - val_loss: 4.3288 - val_acc: 0.1313\n",
      "Epoch 8/10\n",
      "278612/278612 [==============================] - 27s 97us/step - loss: 0.7594 - acc: 0.8118 - val_loss: 4.3324 - val_acc: 0.1315\n",
      "Epoch 9/10\n",
      "278612/278612 [==============================] - 30s 109us/step - loss: 0.7563 - acc: 0.8123 - val_loss: 4.3610 - val_acc: 0.1300\n",
      "Epoch 10/10\n",
      "278612/278612 [==============================] - 26s 94us/step - loss: 0.7528 - acc: 0.8136 - val_loss: 4.4016 - val_acc: 0.1293\n"
     ]
    }
   ],
   "source": [
    "from keras.models import Sequential\n",
    "from keras.layers import Flatten, Dense, Embedding\n",
    "\n",
    "maxlen = 100\n",
    "\n",
    "basic_model = Sequential()\n",
    "\n",
    "# output dim = 8\n",
    "basic_model.add(Embedding(10000, 8, input_length = maxlen))\n",
    "basic_model.add(Flatten())\n",
    "basic_model.add(Dense(24, activation='softmax'))\n",
    "\n",
    "basic_model.compile(optimizer='rmsprop', loss='categorical_crossentropy', metrics=['acc'])\n",
    "basic_model.summary()\n",
    "\n",
    "history = basic_model.fit(x_train, y_train, epochs=10, batch_size=32,\n",
    "                         validation_data = (x_val, y_val), verbose = 0)"
   ]
  },
  {
   "cell_type": "code",
   "execution_count": 28,
   "metadata": {},
   "outputs": [
    {
     "data": {
      "image/png": "[encoded data removed]",
      "text/plain": [
       "<Figure size 432x288 with 1 Axes>"
      ]
     },
     "metadata": {},
     "output_type": "display_data"
    },
    {
     "data": {
      "text/plain": [
       "<Figure size 432x288 with 0 Axes>"
      ]
     },
     "metadata": {},
     "output_type": "display_data"
    }
   ],
   "source": [
    "import matplotlib.pyplot as plt\n",
    "basic_val_acc = history.history['val_acc']\n",
    "basic_val_loss = history.history['val_loss']\n",
    "\n",
    "epochs = range(1, len(basic_val_acc) + 1)\n",
    "\n",
    "plt.plot(epochs, basic_val_acc, 'b', marker='o', label='Validation acc')\n",
    "plt.title('Validation accuracy')\n",
    "plt.xlabel(\"Epoch\")\n",
    "plt.figure()\n",
    "plt.show()"
   ]
  },
  {
   "cell_type": "code",
   "execution_count": 32,
   "metadata": {},
   "outputs": [
    {
     "data": {
      "image/png": "[encoded data removed]",
      "text/plain": [
       "<Figure size 432x288 with 1 Axes>"
      ]
     },
     "metadata": {},
     "output_type": "display_data"
    }
   ],
   "source": [
    "plt.clf()\n",
    "plt.plot(epochs, basic_val_loss, 'r',marker = \"o\", label='Validation loss')\n",
    "plt.title('Validation loss')\n",
    "plt.xlabel(\"Epoch\")\n",
    "plt.legend()\n",
    "plt.show()"
   ]
  },
  {
   "cell_type": "markdown",
   "metadata": {},
   "source": [
    "### Estimate a recurrent neural network (RNN) with a layer_simple_rnn"
   ]
  },
  {
   "cell_type": "code",
   "execution_count": null,
   "metadata": {
    "collapsed": true
   },
   "outputs": [],
   "source": []
  },
  {
   "cell_type": "markdown",
   "metadata": {},
   "source": [
    "### Estimate an RNN with an LSTM layer"
   ]
  },
  {
   "cell_type": "code",
   "execution_count": null,
   "metadata": {
    "collapsed": true
   },
   "outputs": [],
   "source": []
  },
  {
   "cell_type": "markdown",
   "metadata": {},
   "source": [
    "### Estimate an RNN with a GRU layer"
   ]
  },
  {
   "cell_type": "code",
   "execution_count": null,
   "metadata": {
    "collapsed": true
   },
   "outputs": [],
   "source": []
  },
  {
   "cell_type": "markdown",
   "metadata": {},
   "source": [
    "###  Estimate five additional neural network models with different configurations of hyperparameters (e.g. number of layers, number of hidden units, dropout, weight regularization, pre-trained word embeddings) "
   ]
  },
  {
   "cell_type": "code",
   "execution_count": null,
   "metadata": {
    "collapsed": true
   },
   "outputs": [],
   "source": []
  },
  {
   "cell_type": "markdown",
   "metadata": {},
   "source": [
    "### Select the best performing model based on the validation set and evaluate its performance using the test set. Assume that with hand-coding we can achieve a 95% accuracy rate. Would your neural network perform better or worse than hand-coding?"
   ]
  },
  {
   "cell_type": "code",
   "execution_count": null,
   "metadata": {
    "collapsed": true
   },
   "outputs": [],
   "source": []
  }
 ],
 "metadata": {
  "kernelspec": {
   "display_name": "Python 3",
   "language": "python",
   "name": "python3"
  },
  "language_info": {
   "codemirror_mode": {
    "name": "ipython",
    "version": 3
   },
   "file_extension": ".py",
   "mimetype": "text/x-python",
   "name": "python",
   "nbconvert_exporter": "python",
   "pygments_lexer": "ipython3",
   "version": "3.6.7"
  }
 },
 "nbformat": 4,
 "nbformat_minor": 2
}
