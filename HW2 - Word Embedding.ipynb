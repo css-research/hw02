{
 "cells": [
  {
   "cell_type": "markdown",
   "metadata": {},
   "source": [
    "## Import the data and tokenize using Keras.\n",
    "\n",
    "* Keep only the 10000 most frequent words\n",
    "* Limit each bill's title to a maximum length of 100 words\n",
    "* Pad each sequence to be of length 100"
   ]
  },
  {
   "cell_type": "code",
   "execution_count": 1,
   "metadata": {},
   "outputs": [
    {
     "name": "stderr",
     "output_type": "stream",
     "text": [
      "Using TensorFlow backend.\n"
     ]
    }
   ],
   "source": [
    "import os \n",
    "\n",
    "from keras.preprocessing.text import Tokenizer\n",
    "from keras.preprocessing.sequence import pad_sequences\n",
    "import numpy as np"
   ]
  },
  {
   "cell_type": "code",
   "execution_count": 9,
   "metadata": {},
   "outputs": [],
   "source": [
    "#import the data \n",
    "os.chdir(\"./data\")\n",
    "\n",
    "def read_data(file_name):\n",
    "    labels = []\n",
    "    titles = []\n",
    "    \n",
    "    with open(file_name, 'r') as f:\n",
    "        for line in f:\n",
    "            if 'BillID,' in line:\n",
    "                pass\n",
    "            elif '\"' in line:\n",
    "                split_1 = line.split('\"')\n",
    "                label = split_1[-1].lstrip(\",\").rstrip(\"\\n\")\n",
    "                labels.append(int(label))\n",
    "                title = split_1[-2].lstrip(\",\")\n",
    "                title = title.replace(\",\", \"\") #here I deleted \",\" from the titles.\n",
    "                titles.append(title)\n",
    "\n",
    "            else:\n",
    "                split = line.split(\",\")\n",
    "                titles.append(split[-2])\n",
    "                labels.append(int(split[-1].strip(\"\\n\")))\n",
    "                \n",
    "    return ((titles, labels))\n",
    "\n",
    "train_titles_raw, train_labels_raw = read_data(\"congress_train.csv\")\n",
    "val_titles_raw, val_labels_raw = read_data(\"congress_val.csv\")\n",
    "test_titles_raw, test_labels_raw = read_data(\"congress_test.csv\")"
   ]
  },
  {
   "cell_type": "code",
   "execution_count": 10,
   "metadata": {},
   "outputs": [
    {
     "name": "stdout",
     "output_type": "stream",
     "text": [
      "278612 278612\n",
      "69649 69649\n",
      "38693 38693\n"
     ]
    }
   ],
   "source": [
    "#check the data length \n",
    "\n",
    "print (len(train_titles_raw), len(train_labels_raw))\n",
    "print (len(val_titles_raw), len(val_labels_raw))\n",
    "print (len(test_titles_raw), len(test_labels_raw))"
   ]
  },
  {
   "cell_type": "code",
   "execution_count": 4,
   "metadata": {
    "collapsed": true
   },
   "outputs": [],
   "source": [
    "#setting up_data\n",
    "def setting_data(text_lst, label_lst, maxlen, max_words):\n",
    "    maxlen = maxlen\n",
    "    max_words = max_words\n",
    "\n",
    "    tokenizer = Tokenizer(num_words=max_words)\n",
    "    tokenizer.fit_on_texts(text_lst)\n",
    "    sequences = tokenizer.texts_to_sequences(text_lst)\n",
    "\n",
    "    word_index = tokenizer.word_index\n",
    "    print('Found %s unique tokens.' % len(word_index))\n",
    "\n",
    "    data = pad_sequences(sequences, maxlen=maxlen)\n",
    "    labels = np.asarray(label_lst)\n",
    "\n",
    "    print('Shape of data tensor:', data.shape)\n",
    "    print('Shape of label tensor:', labels.shape)\n",
    "    return ((data, labels))"
   ]
  },
  {
   "cell_type": "code",
   "execution_count": 11,
   "metadata": {},
   "outputs": [
    {
     "name": "stdout",
     "output_type": "stream",
     "text": [
      "Found 42449 unique tokens.\n",
      "Shape of data tensor: (278612, 100)\n",
      "Shape of label tensor: (278612,)\n",
      "Found 24985 unique tokens.\n",
      "Shape of data tensor: (69649, 100)\n",
      "Shape of label tensor: (69649,)\n",
      "Found 19813 unique tokens.\n",
      "Shape of data tensor: (38693, 100)\n",
      "Shape of label tensor: (38693,)\n"
     ]
    }
   ],
   "source": [
    "#preprocessing train data \n",
    "x_train, y_train = setting_data(train_titles_raw, \n",
    "                                train_labels_raw,\n",
    "                                maxlen = 100,\n",
    "                                max_words = 10000)\n",
    "\n",
    "#preprocessing validation data \n",
    "x_val, y_val = setting_data(val_titles_raw, \n",
    "                            val_labels_raw, \n",
    "                            maxlen = 100, \n",
    "                            max_words = 10000)\n",
    "\n",
    "#preprocessing test data \n",
    "x_test, y_test = setting_data(test_titles_raw, \n",
    "                              test_labels_raw,\n",
    "                              maxlen = 100,\n",
    "                              max_words = 10000)"
   ]
  },
  {
   "cell_type": "markdown",
   "metadata": {},
   "source": [
    "### Estimate a basic feed-forward network"
   ]
  },
  {
   "cell_type": "code",
   "execution_count": null,
   "metadata": {
    "collapsed": true
   },
   "outputs": [],
   "source": []
  },
  {
   "cell_type": "markdown",
   "metadata": {},
   "source": [
    "### Estimate a recurrent neural network (RNN) with a layer_simple_rnn"
   ]
  },
  {
   "cell_type": "code",
   "execution_count": null,
   "metadata": {
    "collapsed": true
   },
   "outputs": [],
   "source": []
  },
  {
   "cell_type": "markdown",
   "metadata": {},
   "source": [
    "### Estimate an RNN with an LSTM layer"
   ]
  },
  {
   "cell_type": "code",
   "execution_count": null,
   "metadata": {
    "collapsed": true
   },
   "outputs": [],
   "source": []
  },
  {
   "cell_type": "markdown",
   "metadata": {},
   "source": [
    "### Estimate an RNN with a GRU layer"
   ]
  },
  {
   "cell_type": "code",
   "execution_count": null,
   "metadata": {
    "collapsed": true
   },
   "outputs": [],
   "source": []
  },
  {
   "cell_type": "markdown",
   "metadata": {},
   "source": [
    "###  Estimate five additional neural network models with different configurations of hyperparameters (e.g. number of layers, number of hidden units, dropout, weight regularization, pre-trained word embeddings) "
   ]
  },
  {
   "cell_type": "code",
   "execution_count": null,
   "metadata": {
    "collapsed": true
   },
   "outputs": [],
   "source": []
  },
  {
   "cell_type": "markdown",
   "metadata": {},
   "source": [
    "### Select the best performing model based on the validation set and evaluate its performance using the test set. Assume that with hand-coding we can achieve a 95% accuracy rate. Would your neural network perform better or worse than hand-coding?"
   ]
  },
  {
   "cell_type": "code",
   "execution_count": null,
   "metadata": {
    "collapsed": true
   },
   "outputs": [],
   "source": []
  }
 ],
 "metadata": {
  "kernelspec": {
   "display_name": "Python 3",
   "language": "python",
   "name": "python3"
  },
  "language_info": {
   "codemirror_mode": {
    "name": "ipython",
    "version": 3
   },
   "file_extension": ".py",
   "mimetype": "text/x-python",
   "name": "python",
   "nbconvert_exporter": "python",
   "pygments_lexer": "ipython3",
   "version": "3.6.7"
  }
 },
 "nbformat": 4,
 "nbformat_minor": 2
}
