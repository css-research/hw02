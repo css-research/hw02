{
  "nbformat": 4,
  "nbformat_minor": 0,
  "metadata": {
    "colab": {
      "name": "HW2_Fan.ipynb",
      "version": "0.3.2",
      "provenance": [],
      "collapsed_sections": []
    },
    "kernelspec": {
      "name": "python3",
      "display_name": "Python 3"
    },
    "accelerator": "GPU"
  },
  "cells": [
    {
      "cell_type": "markdown",
      "metadata": {
        "id": "XcKvrEcaqrEj",
        "colab_type": "text"
      },
      "source": [
        "HW2\n",
        "Siyi Fan"
      ]
    },
    {
      "cell_type": "code",
      "metadata": {
        "id": "k-1GYD-fAo4g",
        "colab_type": "code",
        "outputId": "fa8571dc-5761-450b-d7b7-396a6fd4ee2c",
        "colab": {
          "base_uri": "https://localhost:8080/",
          "height": 34
        }
      },
      "source": [
        "import pandas as pd\n",
        "import random\n",
        "from keras.preprocessing.text import Tokenizer\n",
        "from keras.preprocessing.sequence import pad_sequences\n",
        "from keras.utils import to_categorical\n",
        "from keras.layers import Embedding, Flatten, Dense\n",
        "from keras.models import Sequential\n",
        "from keras.layers import SimpleRNN\n",
        "from keras.layers import LSTM\n",
        "from keras.layers import GRU\n",
        "import matplotlib.pyplot as plt\n",
        "%matplotlib inline"
      ],
      "execution_count": 2,
      "outputs": [
        {
          "output_type": "stream",
          "text": [
            "Using TensorFlow backend.\n"
          ],
          "name": "stderr"
        }
      ]
    },
    {
      "cell_type": "code",
      "metadata": {
        "id": "thmaZZcfzisP",
        "colab_type": "code",
        "outputId": "1557cff3-9f9c-4eb2-9610-af805e4ae7ab",
        "colab": {
          "base_uri": "https://localhost:8080/",
          "height": 129
        }
      },
      "source": [
        "from google.colab import drive \n",
        "drive.mount('/content/gdrive')"
      ],
      "execution_count": 3,
      "outputs": [
        {
          "output_type": "stream",
          "text": [
            "Go to this URL in a browser: https://accounts.google.com/o/oauth2/auth?client_id=947318989803-6bn6qk8qdgf4n4g3pfee6491hc0brc4i.apps.googleusercontent.com&redirect_uri=urn%3Aietf%3Awg%3Aoauth%3A2.0%3Aoob&scope=email%20https%3A%2F%2Fwww.googleapis.com%2Fauth%2Fdocs.test%20https%3A%2F%2Fwww.googleapis.com%2Fauth%2Fdrive%20https%3A%2F%2Fwww.googleapis.com%2Fauth%2Fdrive.photos.readonly%20https%3A%2F%2Fwww.googleapis.com%2Fauth%2Fpeopleapi.readonly&response_type=code\n",
            "\n",
            "Enter your authorization code:\n",
            "··········\n",
            "Mounted at /content/gdrive\n"
          ],
          "name": "stdout"
        }
      ]
    },
    {
      "cell_type": "code",
      "metadata": {
        "id": "rBlQrcKt3Fu0",
        "colab_type": "code",
        "colab": {}
      },
      "source": [
        "testfile = open('gdrive/My Drive/Colab Notebooks/data/congress_train.csv', \"r+\",encoding='utf-8', errors='ignore')\n",
        "text = testfile.read()\n",
        "testfile.seek(0)\n",
        "testfile.write(text)\n",
        "testfile.close()\n",
        "\n",
        "trainfile = open('gdrive/My Drive/Colab Notebooks/data/congress_val.csv', \"r+\",encoding='utf-8', errors='ignore')\n",
        "text = trainfile.read()\n",
        "trainfile.seek(0)\n",
        "trainfile.write(text)\n",
        "trainfile.close()\n",
        "\n",
        "valfile = open('gdrive/My Drive/Colab Notebooks/data/congress_test.csv', \"r+\",encoding='utf-8', errors='ignore')\n",
        "text = valfile.read()\n",
        "valfile.seek(0)\n",
        "valfile.write(text)\n",
        "valfile.close()\n",
        "\n"
      ],
      "execution_count": 0,
      "outputs": []
    },
    {
      "cell_type": "code",
      "metadata": {
        "id": "4hS6PYfQAtBX",
        "colab_type": "code",
        "colab": {}
      },
      "source": [
        "train_df = pd.read_csv('gdrive/My Drive/Colab Notebooks/data/congress_train.csv').dropna()\n",
        "valid_df = pd.read_csv('gdrive/My Drive/Colab Notebooks/data/congress_val.csv').dropna()\n",
        "test_df = pd.read_csv('gdrive/My Drive/Colab Notebooks/data/congress_test.csv').dropna()\n",
        "\n",
        "train_text = list(train_df['Title'])\n",
        "train_text = [str(i) for i in train_text]\n",
        "valid_text = list(valid_df['Title'])\n",
        "valid_text = [str(i) for i in valid_text]\n",
        "test_text = list(test_df['Title'])\n",
        "test_text = [str(i) for i in test_text]\n",
        "\n",
        "train_y = to_categorical(list(train_df['Major']))\n",
        "valid_y = to_categorical(list(valid_df['Major']))\n",
        "test_y = to_categorical(list(test_df['Major']))\n",
        "\n",
        "tokenizer = Tokenizer(num_words=10000)\n",
        "tokenizer.fit_on_texts(train_text)\n",
        "\n",
        "train_seq = tokenizer.texts_to_sequences(train_text)\n",
        "test_seq = tokenizer.texts_to_sequences(test_text)\n",
        "valid_seq = tokenizer.texts_to_sequences(valid_text)\n",
        "\n",
        "train_x = pad_sequences(train_seq, maxlen=100)\n",
        "test_x = pad_sequences(test_seq, maxlen=100)\n",
        "valid_x = pad_sequences(valid_seq, maxlen=100)"
      ],
      "execution_count": 0,
      "outputs": []
    },
    {
      "cell_type": "code",
      "metadata": {
        "id": "JRDcorrT1MT2",
        "colab_type": "code",
        "outputId": "3afe67eb-a4d3-4644-c90c-f59f5213f0c5",
        "colab": {
          "base_uri": "https://localhost:8080/",
          "height": 1856
        }
      },
      "source": [
        "ff = Sequential()\n",
        "ff.add(Embedding(10000, 20, input_length=100))\n",
        "ff.add(Flatten())\n",
        "ff.add(Dense(24, activation='softmax'))\n",
        "ff.compile(optimizer='rmsprop', loss='categorical_crossentropy', metrics=['accuracy'])\n",
        "result_ff = ff.fit(train_x, train_y, validation_data=(valid_x,valid_y), epochs=50, batch_size=512)\n",
        "\n",
        "loss_ff = result_ff.history['val_loss']\n",
        "acc_ff = result_ff.history['val_acc']"
      ],
      "execution_count": 6,
      "outputs": [
        {
          "output_type": "stream",
          "text": [
            "WARNING:tensorflow:From /usr/local/lib/python3.6/dist-packages/tensorflow/python/framework/op_def_library.py:263: colocate_with (from tensorflow.python.framework.ops) is deprecated and will be removed in a future version.\n",
            "Instructions for updating:\n",
            "Colocations handled automatically by placer.\n",
            "WARNING:tensorflow:From /usr/local/lib/python3.6/dist-packages/tensorflow/python/ops/math_ops.py:3066: to_int32 (from tensorflow.python.ops.math_ops) is deprecated and will be removed in a future version.\n",
            "Instructions for updating:\n",
            "Use tf.cast instead.\n",
            "Train on 278612 samples, validate on 69649 samples\n",
            "Epoch 1/50\n",
            "278612/278612 [==============================] - 6s 23us/step - loss: 1.9548 - acc: 0.4620 - val_loss: 1.1572 - val_acc: 0.7005\n",
            "Epoch 2/50\n",
            "278612/278612 [==============================] - 4s 14us/step - loss: 0.9029 - acc: 0.7660 - val_loss: 0.7781 - val_acc: 0.7948\n",
            "Epoch 3/50\n",
            "278612/278612 [==============================] - 4s 14us/step - loss: 0.6933 - acc: 0.8148 - val_loss: 0.6851 - val_acc: 0.8179\n",
            "Epoch 4/50\n",
            "278612/278612 [==============================] - 4s 14us/step - loss: 0.6142 - acc: 0.8338 - val_loss: 0.6453 - val_acc: 0.8308\n",
            "Epoch 5/50\n",
            "278612/278612 [==============================] - 4s 14us/step - loss: 0.5677 - acc: 0.8456 - val_loss: 0.6188 - val_acc: 0.8357\n",
            "Epoch 6/50\n",
            "278612/278612 [==============================] - 4s 14us/step - loss: 0.5351 - acc: 0.8539 - val_loss: 0.6054 - val_acc: 0.8381\n",
            "Epoch 7/50\n",
            "278612/278612 [==============================] - 4s 14us/step - loss: 0.5104 - acc: 0.8595 - val_loss: 0.6000 - val_acc: 0.8395\n",
            "Epoch 8/50\n",
            "278612/278612 [==============================] - 4s 14us/step - loss: 0.4902 - acc: 0.8652 - val_loss: 0.5899 - val_acc: 0.8434\n",
            "Epoch 9/50\n",
            "278612/278612 [==============================] - 4s 14us/step - loss: 0.4734 - acc: 0.8697 - val_loss: 0.5867 - val_acc: 0.8459\n",
            "Epoch 10/50\n",
            "278612/278612 [==============================] - 4s 14us/step - loss: 0.4590 - acc: 0.8738 - val_loss: 0.5853 - val_acc: 0.8464\n",
            "Epoch 11/50\n",
            "278612/278612 [==============================] - 4s 14us/step - loss: 0.4462 - acc: 0.8770 - val_loss: 0.5845 - val_acc: 0.8453\n",
            "Epoch 12/50\n",
            "278612/278612 [==============================] - 4s 14us/step - loss: 0.4350 - acc: 0.8803 - val_loss: 0.5831 - val_acc: 0.8467\n",
            "Epoch 13/50\n",
            "278612/278612 [==============================] - 4s 14us/step - loss: 0.4250 - acc: 0.8829 - val_loss: 0.5833 - val_acc: 0.8477\n",
            "Epoch 14/50\n",
            "278612/278612 [==============================] - 4s 14us/step - loss: 0.4157 - acc: 0.8853 - val_loss: 0.5855 - val_acc: 0.8481\n",
            "Epoch 15/50\n",
            "278612/278612 [==============================] - 4s 14us/step - loss: 0.4073 - acc: 0.8876 - val_loss: 0.5870 - val_acc: 0.8485\n",
            "Epoch 16/50\n",
            "278612/278612 [==============================] - 4s 14us/step - loss: 0.3997 - acc: 0.8897 - val_loss: 0.5890 - val_acc: 0.8488\n",
            "Epoch 17/50\n",
            "278612/278612 [==============================] - 4s 14us/step - loss: 0.3925 - acc: 0.8916 - val_loss: 0.5909 - val_acc: 0.8481\n",
            "Epoch 18/50\n",
            "278612/278612 [==============================] - 4s 14us/step - loss: 0.3860 - acc: 0.8935 - val_loss: 0.5934 - val_acc: 0.8486\n",
            "Epoch 19/50\n",
            "278612/278612 [==============================] - 4s 14us/step - loss: 0.3798 - acc: 0.8951 - val_loss: 0.5963 - val_acc: 0.8476\n",
            "Epoch 20/50\n",
            "278612/278612 [==============================] - 4s 14us/step - loss: 0.3742 - acc: 0.8967 - val_loss: 0.5980 - val_acc: 0.8486\n",
            "Epoch 21/50\n",
            "278612/278612 [==============================] - 4s 14us/step - loss: 0.3686 - acc: 0.8984 - val_loss: 0.6007 - val_acc: 0.8492\n",
            "Epoch 22/50\n",
            "278612/278612 [==============================] - 4s 14us/step - loss: 0.3638 - acc: 0.8997 - val_loss: 0.6042 - val_acc: 0.8488\n",
            "Epoch 23/50\n",
            "278612/278612 [==============================] - 4s 14us/step - loss: 0.3590 - acc: 0.9007 - val_loss: 0.6084 - val_acc: 0.8478\n",
            "Epoch 24/50\n",
            "278612/278612 [==============================] - 4s 14us/step - loss: 0.3546 - acc: 0.9018 - val_loss: 0.6123 - val_acc: 0.8483\n",
            "Epoch 25/50\n",
            "278612/278612 [==============================] - 4s 14us/step - loss: 0.3506 - acc: 0.9032 - val_loss: 0.6130 - val_acc: 0.8494\n",
            "Epoch 26/50\n",
            "278612/278612 [==============================] - 4s 14us/step - loss: 0.3464 - acc: 0.9045 - val_loss: 0.6169 - val_acc: 0.8488\n",
            "Epoch 27/50\n",
            "278612/278612 [==============================] - 4s 14us/step - loss: 0.3426 - acc: 0.9054 - val_loss: 0.6205 - val_acc: 0.8489\n",
            "Epoch 28/50\n",
            "278612/278612 [==============================] - 4s 14us/step - loss: 0.3390 - acc: 0.9064 - val_loss: 0.6243 - val_acc: 0.8488\n",
            "Epoch 29/50\n",
            "278612/278612 [==============================] - 4s 14us/step - loss: 0.3357 - acc: 0.9072 - val_loss: 0.6287 - val_acc: 0.8471\n",
            "Epoch 30/50\n",
            "278612/278612 [==============================] - 4s 14us/step - loss: 0.3323 - acc: 0.9079 - val_loss: 0.6312 - val_acc: 0.8480\n",
            "Epoch 31/50\n",
            "278612/278612 [==============================] - 4s 14us/step - loss: 0.3294 - acc: 0.9088 - val_loss: 0.6355 - val_acc: 0.8471\n",
            "Epoch 32/50\n",
            "278612/278612 [==============================] - 4s 14us/step - loss: 0.3264 - acc: 0.9096 - val_loss: 0.6389 - val_acc: 0.8474\n",
            "Epoch 33/50\n",
            "278612/278612 [==============================] - 4s 14us/step - loss: 0.3234 - acc: 0.9107 - val_loss: 0.6424 - val_acc: 0.8471\n",
            "Epoch 34/50\n",
            "278612/278612 [==============================] - 4s 14us/step - loss: 0.3210 - acc: 0.9111 - val_loss: 0.6462 - val_acc: 0.8472\n",
            "Epoch 35/50\n",
            "278612/278612 [==============================] - 4s 14us/step - loss: 0.3185 - acc: 0.9116 - val_loss: 0.6507 - val_acc: 0.8460\n",
            "Epoch 36/50\n",
            "278612/278612 [==============================] - 4s 14us/step - loss: 0.3159 - acc: 0.9121 - val_loss: 0.6548 - val_acc: 0.8456\n",
            "Epoch 37/50\n",
            "278612/278612 [==============================] - 4s 14us/step - loss: 0.3134 - acc: 0.9128 - val_loss: 0.6582 - val_acc: 0.8464\n",
            "Epoch 38/50\n",
            "278612/278612 [==============================] - 4s 14us/step - loss: 0.3113 - acc: 0.9135 - val_loss: 0.6622 - val_acc: 0.8463\n",
            "Epoch 39/50\n",
            "278612/278612 [==============================] - 4s 14us/step - loss: 0.3091 - acc: 0.9140 - val_loss: 0.6656 - val_acc: 0.8457\n",
            "Epoch 40/50\n",
            "278612/278612 [==============================] - 4s 14us/step - loss: 0.3070 - acc: 0.9143 - val_loss: 0.6683 - val_acc: 0.8458\n",
            "Epoch 41/50\n",
            "278612/278612 [==============================] - 4s 14us/step - loss: 0.3049 - acc: 0.9150 - val_loss: 0.6713 - val_acc: 0.8464\n",
            "Epoch 42/50\n",
            "278612/278612 [==============================] - 4s 14us/step - loss: 0.3029 - acc: 0.9155 - val_loss: 0.6763 - val_acc: 0.8461\n",
            "Epoch 43/50\n",
            "278612/278612 [==============================] - 4s 14us/step - loss: 0.3011 - acc: 0.9160 - val_loss: 0.6808 - val_acc: 0.8449\n",
            "Epoch 44/50\n",
            "278612/278612 [==============================] - 4s 14us/step - loss: 0.2993 - acc: 0.9163 - val_loss: 0.6849 - val_acc: 0.8450\n",
            "Epoch 45/50\n",
            "278612/278612 [==============================] - 4s 14us/step - loss: 0.2976 - acc: 0.9169 - val_loss: 0.6867 - val_acc: 0.8457\n",
            "Epoch 46/50\n",
            "278612/278612 [==============================] - 4s 14us/step - loss: 0.2959 - acc: 0.9173 - val_loss: 0.6900 - val_acc: 0.8449\n",
            "Epoch 47/50\n",
            "278612/278612 [==============================] - 4s 14us/step - loss: 0.2942 - acc: 0.9179 - val_loss: 0.6950 - val_acc: 0.8446\n",
            "Epoch 48/50\n",
            "278612/278612 [==============================] - 4s 14us/step - loss: 0.2925 - acc: 0.9182 - val_loss: 0.6987 - val_acc: 0.8450\n",
            "Epoch 49/50\n",
            "278612/278612 [==============================] - 4s 14us/step - loss: 0.2910 - acc: 0.9187 - val_loss: 0.7029 - val_acc: 0.8438\n",
            "Epoch 50/50\n",
            "278612/278612 [==============================] - 4s 14us/step - loss: 0.2896 - acc: 0.9193 - val_loss: 0.7047 - val_acc: 0.8451\n"
          ],
          "name": "stdout"
        }
      ]
    },
    {
      "cell_type": "code",
      "metadata": {
        "id": "OZl0N9mM4Ink",
        "colab_type": "code",
        "outputId": "64f14e32-0387-4997-ecf4-eb3fe050a0ed",
        "colab": {
          "base_uri": "https://localhost:8080/",
          "height": 1734
        }
      },
      "source": [
        "rnn = Sequential()\n",
        "rnn.add(Embedding(10000, 20, input_length=100))\n",
        "rnn.add(SimpleRNN(20))\n",
        "rnn.add(Dense(24, activation='softmax'))\n",
        "rnn.compile(optimizer='rmsprop', loss='categorical_crossentropy', metrics=['accuracy'])\n",
        "result_rnn = rnn.fit(train_x, train_y, validation_data=(valid_x,valid_y), epochs=50, batch_size=512)\n",
        "\n",
        "loss_rnn1 = result_rnn.history['val_loss']\n",
        "acc_rnn1 = result_rnn.history['val_acc']"
      ],
      "execution_count": 7,
      "outputs": [
        {
          "output_type": "stream",
          "text": [
            "Train on 278612 samples, validate on 69649 samples\n",
            "Epoch 1/50\n",
            "278612/278612 [==============================] - 51s 182us/step - loss: 2.3188 - acc: 0.3224 - val_loss: 1.7822 - val_acc: 0.4602\n",
            "Epoch 2/50\n",
            "278612/278612 [==============================] - 50s 179us/step - loss: 1.5307 - acc: 0.5607 - val_loss: 1.4269 - val_acc: 0.5935\n",
            "Epoch 3/50\n",
            "278612/278612 [==============================] - 50s 180us/step - loss: 1.2347 - acc: 0.6641 - val_loss: 1.1852 - val_acc: 0.6826\n",
            "Epoch 4/50\n",
            "278612/278612 [==============================] - 50s 180us/step - loss: 1.0889 - acc: 0.7106 - val_loss: 1.8278 - val_acc: 0.4926\n",
            "Epoch 5/50\n",
            "278612/278612 [==============================] - 50s 179us/step - loss: 1.0064 - acc: 0.7365 - val_loss: 1.0548 - val_acc: 0.7234\n",
            "Epoch 6/50\n",
            "278612/278612 [==============================] - 50s 180us/step - loss: 0.9462 - acc: 0.7542 - val_loss: 1.0430 - val_acc: 0.7270\n",
            "Epoch 7/50\n",
            "278612/278612 [==============================] - 50s 180us/step - loss: 0.8936 - acc: 0.7682 - val_loss: 0.9815 - val_acc: 0.7470\n",
            "Epoch 8/50\n",
            "278612/278612 [==============================] - 50s 179us/step - loss: 0.8519 - acc: 0.7799 - val_loss: 0.9850 - val_acc: 0.7433\n",
            "Epoch 9/50\n",
            "278612/278612 [==============================] - 50s 181us/step - loss: 0.8184 - acc: 0.7895 - val_loss: 1.0030 - val_acc: 0.7354\n",
            "Epoch 10/50\n",
            "278612/278612 [==============================] - 50s 179us/step - loss: 0.7840 - acc: 0.7983 - val_loss: 0.9154 - val_acc: 0.7638\n",
            "Epoch 11/50\n",
            "278612/278612 [==============================] - 50s 181us/step - loss: 0.7551 - acc: 0.8062 - val_loss: 1.0251 - val_acc: 0.7356\n",
            "Epoch 12/50\n",
            "278612/278612 [==============================] - 50s 180us/step - loss: 0.7289 - acc: 0.8126 - val_loss: 0.8759 - val_acc: 0.7778\n",
            "Epoch 13/50\n",
            "278612/278612 [==============================] - 50s 180us/step - loss: 0.7053 - acc: 0.8189 - val_loss: 0.8481 - val_acc: 0.7849\n",
            "Epoch 14/50\n",
            "278612/278612 [==============================] - 50s 180us/step - loss: 0.6859 - acc: 0.8240 - val_loss: 0.8925 - val_acc: 0.7758\n",
            "Epoch 15/50\n",
            "278612/278612 [==============================] - 50s 180us/step - loss: 0.6678 - acc: 0.8284 - val_loss: 0.8602 - val_acc: 0.7805\n",
            "Epoch 16/50\n",
            "278612/278612 [==============================] - 50s 180us/step - loss: 0.6523 - acc: 0.8322 - val_loss: 0.8662 - val_acc: 0.7805\n",
            "Epoch 17/50\n",
            "278612/278612 [==============================] - 50s 179us/step - loss: 0.6383 - acc: 0.8358 - val_loss: 0.9604 - val_acc: 0.7473\n",
            "Epoch 18/50\n",
            "278612/278612 [==============================] - 51s 181us/step - loss: 0.6261 - acc: 0.8394 - val_loss: 0.8480 - val_acc: 0.7857\n",
            "Epoch 19/50\n",
            "278612/278612 [==============================] - 51s 182us/step - loss: 0.6181 - acc: 0.8413 - val_loss: 0.8408 - val_acc: 0.7864\n",
            "Epoch 20/50\n",
            "278612/278612 [==============================] - 51s 181us/step - loss: 0.6051 - acc: 0.8444 - val_loss: 0.8330 - val_acc: 0.7900\n",
            "Epoch 21/50\n",
            "278612/278612 [==============================] - 50s 180us/step - loss: 0.5941 - acc: 0.8479 - val_loss: 0.8043 - val_acc: 0.7987\n",
            "Epoch 22/50\n",
            "278612/278612 [==============================] - 50s 178us/step - loss: 0.5849 - acc: 0.8501 - val_loss: 0.9419 - val_acc: 0.7608\n",
            "Epoch 23/50\n",
            "278612/278612 [==============================] - 50s 178us/step - loss: 0.5762 - acc: 0.8524 - val_loss: 0.8186 - val_acc: 0.7932\n",
            "Epoch 24/50\n",
            "278612/278612 [==============================] - 50s 180us/step - loss: 0.5684 - acc: 0.8545 - val_loss: 0.8227 - val_acc: 0.7941\n",
            "Epoch 25/50\n",
            "278612/278612 [==============================] - 50s 179us/step - loss: 0.5632 - acc: 0.8560 - val_loss: 0.8021 - val_acc: 0.7997\n",
            "Epoch 26/50\n",
            "278612/278612 [==============================] - 50s 180us/step - loss: 0.5554 - acc: 0.8574 - val_loss: 0.7952 - val_acc: 0.8030\n",
            "Epoch 27/50\n",
            "278612/278612 [==============================] - 51s 182us/step - loss: 0.5466 - acc: 0.8602 - val_loss: 0.8408 - val_acc: 0.7900\n",
            "Epoch 28/50\n",
            "278612/278612 [==============================] - 50s 179us/step - loss: 0.5405 - acc: 0.8617 - val_loss: 0.7955 - val_acc: 0.8046\n",
            "Epoch 29/50\n",
            "278612/278612 [==============================] - 50s 180us/step - loss: 0.5338 - acc: 0.8632 - val_loss: 0.8509 - val_acc: 0.7883\n",
            "Epoch 30/50\n",
            "278612/278612 [==============================] - 50s 180us/step - loss: 0.5295 - acc: 0.8641 - val_loss: 0.8992 - val_acc: 0.7746\n",
            "Epoch 31/50\n",
            "278612/278612 [==============================] - 50s 180us/step - loss: 0.5270 - acc: 0.8651 - val_loss: 0.8901 - val_acc: 0.7744\n",
            "Epoch 32/50\n",
            "278612/278612 [==============================] - 50s 179us/step - loss: 0.5199 - acc: 0.8668 - val_loss: 0.8181 - val_acc: 0.7981\n",
            "Epoch 33/50\n",
            "278612/278612 [==============================] - 50s 179us/step - loss: 0.5166 - acc: 0.8677 - val_loss: 0.8342 - val_acc: 0.7964\n",
            "Epoch 34/50\n",
            "278612/278612 [==============================] - 50s 180us/step - loss: 0.5142 - acc: 0.8684 - val_loss: 0.8256 - val_acc: 0.7979\n",
            "Epoch 35/50\n",
            "278612/278612 [==============================] - 50s 179us/step - loss: 0.5059 - acc: 0.8702 - val_loss: 0.9002 - val_acc: 0.7718\n",
            "Epoch 36/50\n",
            "278612/278612 [==============================] - 50s 180us/step - loss: 0.5019 - acc: 0.8710 - val_loss: 0.8079 - val_acc: 0.8020\n",
            "Epoch 37/50\n",
            "278612/278612 [==============================] - 50s 180us/step - loss: 0.5088 - acc: 0.8698 - val_loss: 0.8730 - val_acc: 0.7832\n",
            "Epoch 38/50\n",
            "278612/278612 [==============================] - 50s 179us/step - loss: 0.5002 - acc: 0.8714 - val_loss: 0.7973 - val_acc: 0.8056\n",
            "Epoch 39/50\n",
            "278612/278612 [==============================] - 50s 179us/step - loss: 0.4925 - acc: 0.8739 - val_loss: 0.8234 - val_acc: 0.7995\n",
            "Epoch 40/50\n",
            "278612/278612 [==============================] - 50s 179us/step - loss: 0.5109 - acc: 0.8693 - val_loss: 0.8287 - val_acc: 0.8005\n",
            "Epoch 41/50\n",
            "278612/278612 [==============================] - 50s 179us/step - loss: 0.4888 - acc: 0.8751 - val_loss: 0.8083 - val_acc: 0.8035\n",
            "Epoch 42/50\n",
            "278612/278612 [==============================] - 50s 179us/step - loss: 0.4873 - acc: 0.8757 - val_loss: 0.8001 - val_acc: 0.8061\n",
            "Epoch 43/50\n",
            "278612/278612 [==============================] - 50s 179us/step - loss: 0.4778 - acc: 0.8777 - val_loss: 0.8757 - val_acc: 0.7836\n",
            "Epoch 44/50\n",
            "278612/278612 [==============================] - 50s 179us/step - loss: 0.4757 - acc: 0.8781 - val_loss: 0.8073 - val_acc: 0.8055\n",
            "Epoch 45/50\n",
            "278612/278612 [==============================] - 50s 179us/step - loss: 0.5005 - acc: 0.8721 - val_loss: 0.8148 - val_acc: 0.8049\n",
            "Epoch 46/50\n",
            "278612/278612 [==============================] - 50s 179us/step - loss: 0.4704 - acc: 0.8792 - val_loss: 0.8072 - val_acc: 0.8071\n",
            "Epoch 47/50\n",
            "278612/278612 [==============================] - 50s 179us/step - loss: 0.4744 - acc: 0.8788 - val_loss: 0.8355 - val_acc: 0.7973\n",
            "Epoch 48/50\n",
            "278612/278612 [==============================] - 50s 178us/step - loss: 0.4838 - acc: 0.8762 - val_loss: 0.8125 - val_acc: 0.8054\n",
            "Epoch 49/50\n",
            "278612/278612 [==============================] - 50s 178us/step - loss: 0.4641 - acc: 0.8815 - val_loss: 0.8229 - val_acc: 0.8032\n",
            "Epoch 50/50\n",
            "278612/278612 [==============================] - 49s 178us/step - loss: 0.4620 - acc: 0.8815 - val_loss: 0.8213 - val_acc: 0.8041\n"
          ],
          "name": "stdout"
        }
      ]
    },
    {
      "cell_type": "code",
      "metadata": {
        "id": "rG6jcfYVWodc",
        "colab_type": "code",
        "outputId": "b1228967-f183-44c4-e2a9-dc6e3702d558",
        "colab": {
          "base_uri": "https://localhost:8080/",
          "height": 1734
        }
      },
      "source": [
        "lstm = Sequential()\n",
        "lstm.add(Embedding(10000, 20, input_length=100))\n",
        "lstm.add(LSTM(20))\n",
        "lstm.add(Dense(24, activation='softmax'))\n",
        "lstm.compile(optimizer='rmsprop', loss='categorical_crossentropy', metrics=['accuracy'])\n",
        "result_lstm = lstm.fit(train_x, train_y, validation_data=(valid_x,valid_y), epochs=50, batch_size=512)\n",
        "\n",
        "loss_lstm = result_lstm.history['val_loss']\n",
        "acc_lstm = result_lstm.history['val_acc']"
      ],
      "execution_count": 8,
      "outputs": [
        {
          "output_type": "stream",
          "text": [
            "Train on 278612 samples, validate on 69649 samples\n",
            "Epoch 1/50\n",
            "278612/278612 [==============================] - 128s 460us/step - loss: 2.3576 - acc: 0.2920 - val_loss: 1.8170 - val_acc: 0.4860\n",
            "Epoch 2/50\n",
            "278612/278612 [==============================] - 127s 454us/step - loss: 1.4835 - acc: 0.5993 - val_loss: 1.3045 - val_acc: 0.6512\n",
            "Epoch 3/50\n",
            "278612/278612 [==============================] - 127s 457us/step - loss: 1.0805 - acc: 0.7252 - val_loss: 0.9812 - val_acc: 0.7556\n",
            "Epoch 4/50\n",
            "278612/278612 [==============================] - 127s 456us/step - loss: 0.8652 - acc: 0.7861 - val_loss: 0.8633 - val_acc: 0.7794\n",
            "Epoch 5/50\n",
            "278612/278612 [==============================] - 126s 452us/step - loss: 0.7543 - acc: 0.8120 - val_loss: 0.7747 - val_acc: 0.8057\n",
            "Epoch 6/50\n",
            "278612/278612 [==============================] - 127s 455us/step - loss: 0.6859 - acc: 0.8272 - val_loss: 0.7205 - val_acc: 0.8174\n",
            "Epoch 7/50\n",
            "278612/278612 [==============================] - 126s 453us/step - loss: 0.6383 - acc: 0.8374 - val_loss: 0.7026 - val_acc: 0.8203\n",
            "Epoch 8/50\n",
            "278612/278612 [==============================] - 126s 454us/step - loss: 0.6021 - acc: 0.8442 - val_loss: 0.6586 - val_acc: 0.8294\n",
            "Epoch 9/50\n",
            "278612/278612 [==============================] - 126s 453us/step - loss: 0.5737 - acc: 0.8505 - val_loss: 0.6420 - val_acc: 0.8312\n",
            "Epoch 10/50\n",
            "278612/278612 [==============================] - 127s 454us/step - loss: 0.5504 - acc: 0.8551 - val_loss: 0.6192 - val_acc: 0.8357\n",
            "Epoch 11/50\n",
            "278612/278612 [==============================] - 127s 456us/step - loss: 0.5319 - acc: 0.8587 - val_loss: 0.6055 - val_acc: 0.8406\n",
            "Epoch 12/50\n",
            "278612/278612 [==============================] - 126s 454us/step - loss: 0.5165 - acc: 0.8616 - val_loss: 0.5967 - val_acc: 0.8414\n",
            "Epoch 13/50\n",
            "278612/278612 [==============================] - 127s 454us/step - loss: 0.5033 - acc: 0.8646 - val_loss: 0.5908 - val_acc: 0.8427\n",
            "Epoch 14/50\n",
            "278612/278612 [==============================] - 127s 455us/step - loss: 0.4917 - acc: 0.8672 - val_loss: 0.5867 - val_acc: 0.8446\n",
            "Epoch 15/50\n",
            "278612/278612 [==============================] - 126s 452us/step - loss: 0.4814 - acc: 0.8694 - val_loss: 0.5753 - val_acc: 0.8450\n",
            "Epoch 16/50\n",
            "278612/278612 [==============================] - 127s 454us/step - loss: 0.4714 - acc: 0.8716 - val_loss: 0.5724 - val_acc: 0.8470\n",
            "Epoch 17/50\n",
            "278612/278612 [==============================] - 127s 454us/step - loss: 0.4627 - acc: 0.8733 - val_loss: 0.5646 - val_acc: 0.8493\n",
            "Epoch 18/50\n",
            "278612/278612 [==============================] - 127s 455us/step - loss: 0.4547 - acc: 0.8748 - val_loss: 0.5717 - val_acc: 0.8476\n",
            "Epoch 19/50\n",
            "278612/278612 [==============================] - 125s 450us/step - loss: 0.4472 - acc: 0.8770 - val_loss: 0.5693 - val_acc: 0.8475\n",
            "Epoch 20/50\n",
            "278612/278612 [==============================] - 126s 452us/step - loss: 0.4403 - acc: 0.8787 - val_loss: 0.5591 - val_acc: 0.8505\n",
            "Epoch 21/50\n",
            "278612/278612 [==============================] - 126s 454us/step - loss: 0.4341 - acc: 0.8796 - val_loss: 0.5587 - val_acc: 0.8506\n",
            "Epoch 22/50\n",
            "278612/278612 [==============================] - 126s 453us/step - loss: 0.4287 - acc: 0.8812 - val_loss: 0.5558 - val_acc: 0.8519\n",
            "Epoch 23/50\n",
            "278612/278612 [==============================] - 127s 455us/step - loss: 0.4232 - acc: 0.8826 - val_loss: 0.5504 - val_acc: 0.8525\n",
            "Epoch 24/50\n",
            "278612/278612 [==============================] - 126s 453us/step - loss: 0.4185 - acc: 0.8837 - val_loss: 0.5483 - val_acc: 0.8532\n",
            "Epoch 25/50\n",
            "278612/278612 [==============================] - 126s 451us/step - loss: 0.4141 - acc: 0.8845 - val_loss: 0.5533 - val_acc: 0.8514\n",
            "Epoch 26/50\n",
            "278612/278612 [==============================] - 127s 456us/step - loss: 0.4097 - acc: 0.8856 - val_loss: 0.5484 - val_acc: 0.8534\n",
            "Epoch 27/50\n",
            "278612/278612 [==============================] - 126s 453us/step - loss: 0.4055 - acc: 0.8870 - val_loss: 0.5526 - val_acc: 0.8529\n",
            "Epoch 28/50\n",
            "278612/278612 [==============================] - 127s 456us/step - loss: 0.4016 - acc: 0.8881 - val_loss: 0.5464 - val_acc: 0.8545\n",
            "Epoch 29/50\n",
            "278612/278612 [==============================] - 126s 454us/step - loss: 0.3979 - acc: 0.8888 - val_loss: 0.5651 - val_acc: 0.8507\n",
            "Epoch 30/50\n",
            "278612/278612 [==============================] - 126s 452us/step - loss: 0.3947 - acc: 0.8895 - val_loss: 0.5485 - val_acc: 0.8537\n",
            "Epoch 31/50\n",
            "278612/278612 [==============================] - 126s 454us/step - loss: 0.3913 - acc: 0.8904 - val_loss: 0.5515 - val_acc: 0.8543\n",
            "Epoch 32/50\n",
            "278612/278612 [==============================] - 127s 454us/step - loss: 0.3882 - acc: 0.8912 - val_loss: 0.5543 - val_acc: 0.8534\n",
            "Epoch 33/50\n",
            "278612/278612 [==============================] - 127s 454us/step - loss: 0.3853 - acc: 0.8919 - val_loss: 0.5586 - val_acc: 0.8526\n",
            "Epoch 34/50\n",
            "278612/278612 [==============================] - 126s 454us/step - loss: 0.3825 - acc: 0.8925 - val_loss: 0.5503 - val_acc: 0.8553\n",
            "Epoch 35/50\n",
            "278612/278612 [==============================] - 126s 451us/step - loss: 0.3795 - acc: 0.8935 - val_loss: 0.5563 - val_acc: 0.8536\n",
            "Epoch 36/50\n",
            "278612/278612 [==============================] - 127s 456us/step - loss: 0.3764 - acc: 0.8944 - val_loss: 0.5538 - val_acc: 0.8544\n",
            "Epoch 37/50\n",
            "278612/278612 [==============================] - 126s 453us/step - loss: 0.3743 - acc: 0.8951 - val_loss: 0.5497 - val_acc: 0.8555\n",
            "Epoch 38/50\n",
            "278612/278612 [==============================] - 126s 453us/step - loss: 0.3717 - acc: 0.8956 - val_loss: 0.5499 - val_acc: 0.8562\n",
            "Epoch 39/50\n",
            "278612/278612 [==============================] - 126s 454us/step - loss: 0.3694 - acc: 0.8962 - val_loss: 0.5555 - val_acc: 0.8530\n",
            "Epoch 40/50\n",
            "278612/278612 [==============================] - 126s 453us/step - loss: 0.3668 - acc: 0.8967 - val_loss: 0.5609 - val_acc: 0.8536\n",
            "Epoch 41/50\n",
            "278612/278612 [==============================] - 127s 455us/step - loss: 0.3643 - acc: 0.8972 - val_loss: 0.5526 - val_acc: 0.8545\n",
            "Epoch 42/50\n",
            "278612/278612 [==============================] - 127s 455us/step - loss: 0.3621 - acc: 0.8974 - val_loss: 0.5532 - val_acc: 0.8556\n",
            "Epoch 43/50\n",
            "278612/278612 [==============================] - 127s 456us/step - loss: 0.3600 - acc: 0.8987 - val_loss: 0.5569 - val_acc: 0.8552\n",
            "Epoch 44/50\n",
            "278612/278612 [==============================] - 127s 455us/step - loss: 0.3577 - acc: 0.8992 - val_loss: 0.5559 - val_acc: 0.8557\n",
            "Epoch 45/50\n",
            "278612/278612 [==============================] - 127s 456us/step - loss: 0.3556 - acc: 0.8993 - val_loss: 0.5524 - val_acc: 0.8556\n",
            "Epoch 46/50\n",
            "278612/278612 [==============================] - 126s 454us/step - loss: 0.3539 - acc: 0.9003 - val_loss: 0.5621 - val_acc: 0.8529\n",
            "Epoch 47/50\n",
            "278612/278612 [==============================] - 126s 454us/step - loss: 0.3521 - acc: 0.9006 - val_loss: 0.5603 - val_acc: 0.8546\n",
            "Epoch 48/50\n",
            "278612/278612 [==============================] - 126s 454us/step - loss: 0.3500 - acc: 0.9010 - val_loss: 0.5538 - val_acc: 0.8567\n",
            "Epoch 49/50\n",
            "278612/278612 [==============================] - 127s 454us/step - loss: 0.3484 - acc: 0.9018 - val_loss: 0.5597 - val_acc: 0.8548\n",
            "Epoch 50/50\n",
            "278612/278612 [==============================] - 126s 452us/step - loss: 0.3466 - acc: 0.9024 - val_loss: 0.5636 - val_acc: 0.8555\n"
          ],
          "name": "stdout"
        }
      ]
    },
    {
      "cell_type": "code",
      "metadata": {
        "id": "SMZUKF-qQv94",
        "colab_type": "code",
        "outputId": "18344ccb-6920-4984-e802-ed0f05082c46",
        "colab": {
          "base_uri": "https://localhost:8080/",
          "height": 1734
        }
      },
      "source": [
        "gru = Sequential()\n",
        "gru.add(Embedding(10000, 20, input_length=100))\n",
        "gru.add(GRU(20))\n",
        "gru.add(Dense(24, activation='softmax'))\n",
        "gru.compile(optimizer='rmsprop', loss='categorical_crossentropy', metrics=['accuracy'])\n",
        "result_gru = gru.fit(train_x, train_y, validation_data=(valid_x,valid_y), epochs=50, batch_size=512)\n",
        "\n",
        "loss_gru = result_gru.history['val_loss']\n",
        "acc_gru = result_gru.history['val_acc']"
      ],
      "execution_count": 9,
      "outputs": [
        {
          "output_type": "stream",
          "text": [
            "Train on 278612 samples, validate on 69649 samples\n",
            "Epoch 1/50\n",
            "278612/278612 [==============================] - 116s 416us/step - loss: 2.5397 - acc: 0.2240 - val_loss: 2.1866 - val_acc: 0.3248\n",
            "Epoch 2/50\n",
            "278612/278612 [==============================] - 114s 410us/step - loss: 1.8867 - acc: 0.4415 - val_loss: 1.6421 - val_acc: 0.5256\n",
            "Epoch 3/50\n",
            "278612/278612 [==============================] - 115s 411us/step - loss: 1.4092 - acc: 0.6019 - val_loss: 1.2988 - val_acc: 0.6450\n",
            "Epoch 4/50\n",
            "278612/278612 [==============================] - 117s 419us/step - loss: 1.0940 - acc: 0.7120 - val_loss: 1.0024 - val_acc: 0.7484\n",
            "Epoch 5/50\n",
            "278612/278612 [==============================] - 114s 411us/step - loss: 0.8911 - acc: 0.7775 - val_loss: 0.8630 - val_acc: 0.7893\n",
            "Epoch 6/50\n",
            "278612/278612 [==============================] - 116s 417us/step - loss: 0.7707 - acc: 0.8079 - val_loss: 0.8148 - val_acc: 0.7979\n",
            "Epoch 7/50\n",
            "278612/278612 [==============================] - 115s 413us/step - loss: 0.7022 - acc: 0.8225 - val_loss: 0.7525 - val_acc: 0.8105\n",
            "Epoch 8/50\n",
            "278612/278612 [==============================] - 116s 417us/step - loss: 0.6567 - acc: 0.8318 - val_loss: 0.7135 - val_acc: 0.8156\n",
            "Epoch 9/50\n",
            "278612/278612 [==============================] - 116s 415us/step - loss: 0.6230 - acc: 0.8386 - val_loss: 0.6979 - val_acc: 0.8174\n",
            "Epoch 10/50\n",
            "278612/278612 [==============================] - 115s 412us/step - loss: 0.5952 - acc: 0.8445 - val_loss: 0.6593 - val_acc: 0.8301\n",
            "Epoch 11/50\n",
            "278612/278612 [==============================] - 116s 415us/step - loss: 0.5734 - acc: 0.8489 - val_loss: 0.6418 - val_acc: 0.8331\n",
            "Epoch 12/50\n",
            "278612/278612 [==============================] - 117s 421us/step - loss: 0.5546 - acc: 0.8532 - val_loss: 0.6403 - val_acc: 0.8337\n",
            "Epoch 13/50\n",
            "278612/278612 [==============================] - 116s 417us/step - loss: 0.5384 - acc: 0.8563 - val_loss: 0.6709 - val_acc: 0.8268\n",
            "Epoch 14/50\n",
            "278612/278612 [==============================] - 115s 414us/step - loss: 0.5244 - acc: 0.8594 - val_loss: 0.6111 - val_acc: 0.8396\n",
            "Epoch 15/50\n",
            "278612/278612 [==============================] - 117s 421us/step - loss: 0.5112 - acc: 0.8620 - val_loss: 0.6034 - val_acc: 0.8402\n",
            "Epoch 16/50\n",
            "278612/278612 [==============================] - 115s 414us/step - loss: 0.5003 - acc: 0.8647 - val_loss: 0.5963 - val_acc: 0.8432\n",
            "Epoch 17/50\n",
            "278612/278612 [==============================] - 116s 417us/step - loss: 0.4899 - acc: 0.8672 - val_loss: 0.5874 - val_acc: 0.8447\n",
            "Epoch 18/50\n",
            "278612/278612 [==============================] - 115s 413us/step - loss: 0.4814 - acc: 0.8691 - val_loss: 0.5884 - val_acc: 0.8429\n",
            "Epoch 19/50\n",
            "278612/278612 [==============================] - 116s 417us/step - loss: 0.4727 - acc: 0.8714 - val_loss: 0.5869 - val_acc: 0.8460\n",
            "Epoch 20/50\n",
            "278612/278612 [==============================] - 116s 416us/step - loss: 0.4645 - acc: 0.8734 - val_loss: 0.5759 - val_acc: 0.8480\n",
            "Epoch 21/50\n",
            "278612/278612 [==============================] - 116s 416us/step - loss: 0.4580 - acc: 0.8750 - val_loss: 0.5760 - val_acc: 0.8467\n",
            "Epoch 22/50\n",
            "278612/278612 [==============================] - 115s 414us/step - loss: 0.4506 - acc: 0.8769 - val_loss: 0.5721 - val_acc: 0.8485\n",
            "Epoch 23/50\n",
            "278612/278612 [==============================] - 116s 415us/step - loss: 0.4444 - acc: 0.8781 - val_loss: 0.5769 - val_acc: 0.8485\n",
            "Epoch 24/50\n",
            "278612/278612 [==============================] - 116s 416us/step - loss: 0.4385 - acc: 0.8799 - val_loss: 0.5684 - val_acc: 0.8500\n",
            "Epoch 25/50\n",
            "278612/278612 [==============================] - 116s 416us/step - loss: 0.4323 - acc: 0.8817 - val_loss: 0.5728 - val_acc: 0.8502\n",
            "Epoch 26/50\n",
            "278612/278612 [==============================] - 116s 415us/step - loss: 0.4275 - acc: 0.8827 - val_loss: 0.5636 - val_acc: 0.8510\n",
            "Epoch 27/50\n",
            "278612/278612 [==============================] - 116s 416us/step - loss: 0.4224 - acc: 0.8840 - val_loss: 0.5623 - val_acc: 0.8521\n",
            "Epoch 28/50\n",
            "278612/278612 [==============================] - 115s 413us/step - loss: 0.4176 - acc: 0.8857 - val_loss: 0.5644 - val_acc: 0.8524\n",
            "Epoch 29/50\n",
            "278612/278612 [==============================] - 116s 416us/step - loss: 0.4130 - acc: 0.8863 - val_loss: 0.5591 - val_acc: 0.8525\n",
            "Epoch 30/50\n",
            "278612/278612 [==============================] - 117s 418us/step - loss: 0.4087 - acc: 0.8878 - val_loss: 0.5593 - val_acc: 0.8530\n",
            "Epoch 31/50\n",
            "278612/278612 [==============================] - 115s 414us/step - loss: 0.4045 - acc: 0.8890 - val_loss: 0.5657 - val_acc: 0.8527\n",
            "Epoch 32/50\n",
            "278612/278612 [==============================] - 115s 412us/step - loss: 0.4007 - acc: 0.8900 - val_loss: 0.5617 - val_acc: 0.8524\n",
            "Epoch 33/50\n",
            "278612/278612 [==============================] - 115s 412us/step - loss: 0.3963 - acc: 0.8914 - val_loss: 0.5604 - val_acc: 0.8532\n",
            "Epoch 34/50\n",
            "278612/278612 [==============================] - 115s 414us/step - loss: 0.3932 - acc: 0.8917 - val_loss: 0.5604 - val_acc: 0.8528\n",
            "Epoch 35/50\n",
            "278612/278612 [==============================] - 116s 417us/step - loss: 0.3895 - acc: 0.8929 - val_loss: 0.5662 - val_acc: 0.8527\n",
            "Epoch 36/50\n",
            "278612/278612 [==============================] - 115s 414us/step - loss: 0.3863 - acc: 0.8936 - val_loss: 0.5748 - val_acc: 0.8523\n",
            "Epoch 37/50\n",
            "278612/278612 [==============================] - 115s 413us/step - loss: 0.3828 - acc: 0.8948 - val_loss: 0.5626 - val_acc: 0.8538\n",
            "Epoch 38/50\n",
            "278612/278612 [==============================] - 116s 416us/step - loss: 0.3799 - acc: 0.8955 - val_loss: 0.5678 - val_acc: 0.8530\n",
            "Epoch 39/50\n",
            "278612/278612 [==============================] - 115s 413us/step - loss: 0.3767 - acc: 0.8964 - val_loss: 0.5672 - val_acc: 0.8550\n",
            "Epoch 40/50\n",
            "278612/278612 [==============================] - 116s 415us/step - loss: 0.3738 - acc: 0.8972 - val_loss: 0.5655 - val_acc: 0.8520\n",
            "Epoch 41/50\n",
            "278612/278612 [==============================] - 116s 416us/step - loss: 0.3710 - acc: 0.8980 - val_loss: 0.5682 - val_acc: 0.8540\n",
            "Epoch 42/50\n",
            "278612/278612 [==============================] - 117s 419us/step - loss: 0.3685 - acc: 0.8987 - val_loss: 0.5680 - val_acc: 0.8547\n",
            "Epoch 43/50\n",
            "278612/278612 [==============================] - 117s 422us/step - loss: 0.3655 - acc: 0.8995 - val_loss: 0.5706 - val_acc: 0.8544\n",
            "Epoch 44/50\n",
            "278612/278612 [==============================] - 115s 414us/step - loss: 0.3633 - acc: 0.9001 - val_loss: 0.5683 - val_acc: 0.8536\n",
            "Epoch 45/50\n",
            "278612/278612 [==============================] - 115s 413us/step - loss: 0.3607 - acc: 0.9010 - val_loss: 0.5790 - val_acc: 0.8536\n",
            "Epoch 46/50\n",
            "278612/278612 [==============================] - 115s 413us/step - loss: 0.3586 - acc: 0.9016 - val_loss: 0.5653 - val_acc: 0.8547\n",
            "Epoch 47/50\n",
            "278612/278612 [==============================] - 115s 412us/step - loss: 0.3562 - acc: 0.9023 - val_loss: 0.5688 - val_acc: 0.8563\n",
            "Epoch 48/50\n",
            "278612/278612 [==============================] - 115s 412us/step - loss: 0.3540 - acc: 0.9029 - val_loss: 0.5723 - val_acc: 0.8544\n",
            "Epoch 49/50\n",
            "278612/278612 [==============================] - 115s 413us/step - loss: 0.3525 - acc: 0.9035 - val_loss: 0.5706 - val_acc: 0.8561\n",
            "Epoch 50/50\n",
            "278612/278612 [==============================] - 115s 412us/step - loss: 0.3500 - acc: 0.9040 - val_loss: 0.5843 - val_acc: 0.8543\n"
          ],
          "name": "stdout"
        }
      ]
    },
    {
      "cell_type": "code",
      "metadata": {
        "id": "a6olA85yWsyG",
        "colab_type": "code",
        "colab": {
          "base_uri": "https://localhost:8080/",
          "height": 714
        },
        "outputId": "a65afe03-e9ed-4e28-eec1-0c6b77a42986"
      },
      "source": [
        "# 2-layers RNN \n",
        "rnn2 = Sequential()\n",
        "rnn2.add(Embedding(10000, 20, input_length=100))\n",
        "rnn2.add(SimpleRNN(20, return_sequences=True))\n",
        "rnn2.add(SimpleRNN(20))\n",
        "rnn2.add(Dense(24, activation='softmax'))\n",
        "rnn2.compile(optimizer='rmsprop', loss='categorical_crossentropy', metrics=['accuracy'])\n",
        "result_rnn2 = rnn2.fit(train_x, train_y, validation_data=(valid_x,valid_y), epochs=20, batch_size=512)\n",
        "\n",
        "loss_rnn2 = result_rnn2.history['val_loss']\n",
        "acc_rnn2 = result_rnn2.history['val_acc']"
      ],
      "execution_count": 10,
      "outputs": [
        {
          "output_type": "stream",
          "text": [
            "Train on 278612 samples, validate on 69649 samples\n",
            "Epoch 1/20\n",
            "278612/278612 [==============================] - 96s 344us/step - loss: 2.2242 - acc: 0.3414 - val_loss: 1.8441 - val_acc: 0.4287\n",
            "Epoch 2/20\n",
            "278612/278612 [==============================] - 95s 342us/step - loss: 1.5936 - acc: 0.5465 - val_loss: 1.4720 - val_acc: 0.5909\n",
            "Epoch 3/20\n",
            "278612/278612 [==============================] - 96s 345us/step - loss: 1.2787 - acc: 0.6544 - val_loss: 1.4176 - val_acc: 0.6001\n",
            "Epoch 4/20\n",
            "278612/278612 [==============================] - 96s 345us/step - loss: 1.1097 - acc: 0.7080 - val_loss: 1.1208 - val_acc: 0.7073\n",
            "Epoch 5/20\n",
            "278612/278612 [==============================] - 95s 341us/step - loss: 1.0205 - acc: 0.7329 - val_loss: 1.1474 - val_acc: 0.6922\n",
            "Epoch 6/20\n",
            "278612/278612 [==============================] - 95s 340us/step - loss: 0.9591 - acc: 0.7500 - val_loss: 1.0628 - val_acc: 0.7188\n",
            "Epoch 7/20\n",
            "278612/278612 [==============================] - 97s 347us/step - loss: 0.9067 - acc: 0.7645 - val_loss: 0.9761 - val_acc: 0.7454\n",
            "Epoch 8/20\n",
            "278612/278612 [==============================] - 96s 345us/step - loss: 0.8549 - acc: 0.7779 - val_loss: 0.9727 - val_acc: 0.7458\n",
            "Epoch 9/20\n",
            "278612/278612 [==============================] - 95s 342us/step - loss: 0.8159 - acc: 0.7877 - val_loss: 1.2097 - val_acc: 0.6669\n",
            "Epoch 10/20\n",
            "278612/278612 [==============================] - 96s 345us/step - loss: 0.7879 - acc: 0.7958 - val_loss: 0.9058 - val_acc: 0.7662\n",
            "Epoch 11/20\n",
            "278612/278612 [==============================] - 96s 344us/step - loss: 0.7582 - acc: 0.8037 - val_loss: 0.9271 - val_acc: 0.7585\n",
            "Epoch 12/20\n",
            "278612/278612 [==============================] - 95s 342us/step - loss: 0.7350 - acc: 0.8093 - val_loss: 0.9195 - val_acc: 0.7620\n",
            "Epoch 13/20\n",
            "278612/278612 [==============================] - 95s 343us/step - loss: 0.7140 - acc: 0.8150 - val_loss: 0.9173 - val_acc: 0.7619\n",
            "Epoch 14/20\n",
            "278612/278612 [==============================] - 96s 345us/step - loss: 0.7000 - acc: 0.8194 - val_loss: 0.8991 - val_acc: 0.7682\n",
            "Epoch 15/20\n",
            "278612/278612 [==============================] - 96s 345us/step - loss: 0.6788 - acc: 0.8247 - val_loss: 0.9545 - val_acc: 0.7519\n",
            "Epoch 16/20\n",
            "278612/278612 [==============================] - 95s 341us/step - loss: 0.6633 - acc: 0.8286 - val_loss: 0.8549 - val_acc: 0.7832\n",
            "Epoch 17/20\n",
            "278612/278612 [==============================] - 95s 340us/step - loss: 0.6493 - acc: 0.8313 - val_loss: 0.8660 - val_acc: 0.7776\n",
            "Epoch 18/20\n",
            "278612/278612 [==============================] - 95s 342us/step - loss: 0.6380 - acc: 0.8349 - val_loss: 0.9521 - val_acc: 0.7502\n",
            "Epoch 19/20\n",
            "278612/278612 [==============================] - 96s 343us/step - loss: 0.6271 - acc: 0.8377 - val_loss: 0.9847 - val_acc: 0.7400\n",
            "Epoch 20/20\n",
            "278612/278612 [==============================] - 95s 342us/step - loss: 0.6168 - acc: 0.8409 - val_loss: 0.8246 - val_acc: 0.7915\n"
          ],
          "name": "stdout"
        }
      ]
    },
    {
      "cell_type": "code",
      "metadata": {
        "id": "Y4my1qGI4wxM",
        "colab_type": "code",
        "outputId": "1c18f266-acbd-4c37-be1c-7260d29448ba",
        "colab": {
          "base_uri": "https://localhost:8080/",
          "height": 714
        }
      },
      "source": [
        "# 4-layers RNN \n",
        "rnn4 = Sequential()\n",
        "rnn4.add(Embedding(10000, 20, input_length=100))\n",
        "rnn4.add(SimpleRNN(20, return_sequences=True))\n",
        "rnn4.add(SimpleRNN(20, return_sequences=True))\n",
        "rnn4.add(SimpleRNN(20, return_sequences=True))\n",
        "rnn4.add(SimpleRNN(20))\n",
        "rnn4.add(Dense(24, activation='softmax'))\n",
        "rnn4.compile(optimizer='rmsprop', loss='categorical_crossentropy', metrics=['accuracy'])\n",
        "result_rnn4 = rnn4.fit(train_x, train_y, validation_data=(valid_x,valid_y), epochs=20, batch_size=512)\n",
        "\n",
        "loss_rnn4 = result_rnn4.history['val_loss']\n",
        "acc_rnn4 = result_rnn4.history['val_acc']"
      ],
      "execution_count": 11,
      "outputs": [
        {
          "output_type": "stream",
          "text": [
            "Train on 278612 samples, validate on 69649 samples\n",
            "Epoch 1/20\n",
            "278612/278612 [==============================] - 183s 659us/step - loss: 2.1647 - acc: 0.3624 - val_loss: 1.5835 - val_acc: 0.5607\n",
            "Epoch 2/20\n",
            "278612/278612 [==============================] - 179s 641us/step - loss: 1.3512 - acc: 0.6320 - val_loss: 1.3245 - val_acc: 0.6402\n",
            "Epoch 3/20\n",
            "278612/278612 [==============================] - 180s 647us/step - loss: 1.1326 - acc: 0.7033 - val_loss: 1.1290 - val_acc: 0.7039\n",
            "Epoch 4/20\n",
            "278612/278612 [==============================] - 178s 640us/step - loss: 1.0333 - acc: 0.7322 - val_loss: 1.0972 - val_acc: 0.7104\n",
            "Epoch 5/20\n",
            "278612/278612 [==============================] - 185s 665us/step - loss: 0.9690 - acc: 0.7504 - val_loss: 1.0655 - val_acc: 0.7214\n",
            "Epoch 6/20\n",
            "278612/278612 [==============================] - 182s 654us/step - loss: 0.9154 - acc: 0.7645 - val_loss: 1.0764 - val_acc: 0.7145\n",
            "Epoch 7/20\n",
            "278612/278612 [==============================] - 180s 647us/step - loss: 0.8734 - acc: 0.7759 - val_loss: 0.9996 - val_acc: 0.7400\n",
            "Epoch 8/20\n",
            "278612/278612 [==============================] - 179s 642us/step - loss: 0.8273 - acc: 0.7881 - val_loss: 0.9415 - val_acc: 0.7609\n",
            "Epoch 9/20\n",
            "278612/278612 [==============================] - 181s 651us/step - loss: 0.7929 - acc: 0.7968 - val_loss: 0.9738 - val_acc: 0.7492\n",
            "Epoch 10/20\n",
            "278612/278612 [==============================] - 177s 636us/step - loss: 0.7605 - acc: 0.8046 - val_loss: 0.8794 - val_acc: 0.7755\n",
            "Epoch 11/20\n",
            "278612/278612 [==============================] - 178s 639us/step - loss: 0.7362 - acc: 0.8118 - val_loss: 0.9308 - val_acc: 0.7587\n",
            "Epoch 12/20\n",
            "278612/278612 [==============================] - 179s 643us/step - loss: 0.7185 - acc: 0.8159 - val_loss: 0.8495 - val_acc: 0.7845\n",
            "Epoch 13/20\n",
            "278612/278612 [==============================] - 179s 641us/step - loss: 0.8394 - acc: 0.7842 - val_loss: 0.8636 - val_acc: 0.7784\n",
            "Epoch 14/20\n",
            "278612/278612 [==============================] - 178s 640us/step - loss: 0.6848 - acc: 0.8240 - val_loss: 0.8710 - val_acc: 0.7769\n",
            "Epoch 15/20\n",
            "278612/278612 [==============================] - 180s 644us/step - loss: 0.6631 - acc: 0.8292 - val_loss: 0.8474 - val_acc: 0.7843\n",
            "Epoch 16/20\n",
            "278612/278612 [==============================] - 179s 642us/step - loss: 0.6474 - acc: 0.8339 - val_loss: 0.7908 - val_acc: 0.8027\n",
            "Epoch 17/20\n",
            "278612/278612 [==============================] - 178s 640us/step - loss: 0.6312 - acc: 0.8380 - val_loss: 0.8089 - val_acc: 0.7967\n",
            "Epoch 18/20\n",
            "278612/278612 [==============================] - 180s 645us/step - loss: 0.6229 - acc: 0.8396 - val_loss: 0.8334 - val_acc: 0.7879\n",
            "Epoch 19/20\n",
            "278612/278612 [==============================] - 179s 641us/step - loss: 0.6065 - acc: 0.8440 - val_loss: 0.8273 - val_acc: 0.7899\n",
            "Epoch 20/20\n",
            "278612/278612 [==============================] - 178s 638us/step - loss: 0.5959 - acc: 0.8468 - val_loss: 0.8200 - val_acc: 0.7938\n"
          ],
          "name": "stdout"
        }
      ]
    },
    {
      "cell_type": "code",
      "metadata": {
        "id": "3Ve8ratR45xe",
        "colab_type": "code",
        "outputId": "58377d95-e69f-4c18-c17f-fa6cc8870473",
        "colab": {
          "base_uri": "https://localhost:8080/",
          "height": 1005
        }
      },
      "source": [
        "rnn_drop = Sequential()\n",
        "rnn_drop.add(Embedding(10000, 20, input_length=100))\n",
        "rnn_drop.add(SimpleRNN(20, dropout=0.3))\n",
        "rnn_drop.add(Dense(24, activation='softmax'))\n",
        "rnn_drop.compile(optimizer='rmsprop', loss='categorical_crossentropy', metrics=['accuracy'])\n",
        "result_rnn_drop = rnn_drop.fit(train_x, train_y, validation_data=(valid_x,valid_y), epochs=20, batch_size=512)\n",
        "\n",
        "loss_rnn_drop = result_rnn_drop.history['val_loss']\n",
        "acc_rnn_drop = result_rnn_drop.history['val_acc']"
      ],
      "execution_count": 12,
      "outputs": [
        {
          "output_type": "stream",
          "text": [
            "WARNING:tensorflow:From /usr/local/lib/python3.6/dist-packages/keras/backend/tensorflow_backend.py:3445: calling dropout (from tensorflow.python.ops.nn_ops) with keep_prob is deprecated and will be removed in a future version.\n",
            "Instructions for updating:\n",
            "Please use `rate` instead of `keep_prob`. Rate should be set to `rate = 1 - keep_prob`.\n",
            "Train on 278612 samples, validate on 69649 samples\n",
            "Epoch 1/20\n",
            "278612/278612 [==============================] - 54s 193us/step - loss: 2.4891 - acc: 0.2586 - val_loss: 2.0377 - val_acc: 0.3941\n",
            "Epoch 2/20\n",
            "278612/278612 [==============================] - 53s 190us/step - loss: 1.7225 - acc: 0.4869 - val_loss: 1.5024 - val_acc: 0.5518\n",
            "Epoch 3/20\n",
            "278612/278612 [==============================] - 54s 194us/step - loss: 1.4612 - acc: 0.5818 - val_loss: 1.3759 - val_acc: 0.6222\n",
            "Epoch 4/20\n",
            "278612/278612 [==============================] - 53s 191us/step - loss: 1.3344 - acc: 0.6316 - val_loss: 1.2924 - val_acc: 0.6477\n",
            "Epoch 5/20\n",
            "278612/278612 [==============================] - 53s 191us/step - loss: 1.2466 - acc: 0.6657 - val_loss: 1.1542 - val_acc: 0.7016\n",
            "Epoch 6/20\n",
            "278612/278612 [==============================] - 53s 191us/step - loss: 1.1705 - acc: 0.6900 - val_loss: 1.2304 - val_acc: 0.6785\n",
            "Epoch 7/20\n",
            "278612/278612 [==============================] - 53s 191us/step - loss: 1.1026 - acc: 0.7102 - val_loss: 1.0431 - val_acc: 0.7407\n",
            "Epoch 8/20\n",
            "278612/278612 [==============================] - 53s 190us/step - loss: 1.0448 - acc: 0.7255 - val_loss: 1.0862 - val_acc: 0.7185\n",
            "Epoch 9/20\n",
            "278612/278612 [==============================] - 53s 191us/step - loss: 0.9974 - acc: 0.7404 - val_loss: 0.9071 - val_acc: 0.7726\n",
            "Epoch 10/20\n",
            "278612/278612 [==============================] - 53s 191us/step - loss: 0.9469 - acc: 0.7543 - val_loss: 0.8731 - val_acc: 0.7817\n",
            "Epoch 11/20\n",
            "278612/278612 [==============================] - 53s 190us/step - loss: 0.9103 - acc: 0.7655 - val_loss: 0.8671 - val_acc: 0.7819\n",
            "Epoch 12/20\n",
            "278612/278612 [==============================] - 53s 190us/step - loss: 0.8829 - acc: 0.7709 - val_loss: 0.8230 - val_acc: 0.7932\n",
            "Epoch 13/20\n",
            "278612/278612 [==============================] - 53s 189us/step - loss: 0.8610 - acc: 0.7778 - val_loss: 0.8348 - val_acc: 0.7923\n",
            "Epoch 14/20\n",
            "278612/278612 [==============================] - 53s 191us/step - loss: 0.8424 - acc: 0.7825 - val_loss: 0.8149 - val_acc: 0.7990\n",
            "Epoch 15/20\n",
            "278612/278612 [==============================] - 53s 191us/step - loss: 0.8291 - acc: 0.7861 - val_loss: 0.8745 - val_acc: 0.7888\n",
            "Epoch 16/20\n",
            "278612/278612 [==============================] - 53s 191us/step - loss: 0.8185 - acc: 0.7889 - val_loss: 0.7938 - val_acc: 0.8013\n",
            "Epoch 17/20\n",
            "278612/278612 [==============================] - 53s 191us/step - loss: 0.8107 - acc: 0.7905 - val_loss: 0.9831 - val_acc: 0.7538\n",
            "Epoch 18/20\n",
            "278612/278612 [==============================] - 53s 191us/step - loss: 0.8011 - acc: 0.7931 - val_loss: 0.7615 - val_acc: 0.8101\n",
            "Epoch 19/20\n",
            "278612/278612 [==============================] - 53s 191us/step - loss: 0.7923 - acc: 0.7950 - val_loss: 0.7736 - val_acc: 0.8099\n",
            "Epoch 20/20\n",
            "278612/278612 [==============================] - 53s 192us/step - loss: 0.7873 - acc: 0.7973 - val_loss: 0.7743 - val_acc: 0.8079\n"
          ],
          "name": "stdout"
        }
      ]
    },
    {
      "cell_type": "code",
      "metadata": {
        "id": "c3PQ9App4_C6",
        "colab_type": "code",
        "outputId": "2a05851b-5fa4-4bae-a0ca-267ccb4bd436",
        "colab": {
          "base_uri": "https://localhost:8080/",
          "height": 714
        }
      },
      "source": [
        "lstm_drop = Sequential()\n",
        "lstm_drop.add(Embedding(10000, 20, input_length=100))\n",
        "lstm_drop.add(LSTM(20, dropout=0.3))\n",
        "lstm_drop.add(Dense(24, activation='softmax'))\n",
        "lstm_drop.compile(optimizer='rmsprop', loss='categorical_crossentropy', metrics=['accuracy'])\n",
        "result_lstm_drop = lstm_drop.fit(train_x, train_y, validation_data=(valid_x,valid_y), epochs=20, batch_size=512)\n",
        "\n",
        "loss_lstm_drop = result_lstm_drop.history['val_loss']\n",
        "acc_lstm_drop = result_lstm_drop.history['val_acc']"
      ],
      "execution_count": 13,
      "outputs": [
        {
          "output_type": "stream",
          "text": [
            "Train on 278612 samples, validate on 69649 samples\n",
            "Epoch 1/20\n",
            "278612/278612 [==============================] - 137s 492us/step - loss: 2.3226 - acc: 0.3120 - val_loss: 1.7247 - val_acc: 0.5197\n",
            "Epoch 2/20\n",
            "278612/278612 [==============================] - 135s 485us/step - loss: 1.4944 - acc: 0.5866 - val_loss: 1.1983 - val_acc: 0.6874\n",
            "Epoch 3/20\n",
            "278612/278612 [==============================] - 136s 487us/step - loss: 1.1147 - acc: 0.7113 - val_loss: 0.9586 - val_acc: 0.7606\n",
            "Epoch 4/20\n",
            "278612/278612 [==============================] - 136s 487us/step - loss: 0.9267 - acc: 0.7631 - val_loss: 0.8592 - val_acc: 0.7812\n",
            "Epoch 5/20\n",
            "278612/278612 [==============================] - 135s 485us/step - loss: 0.8223 - acc: 0.7918 - val_loss: 0.7940 - val_acc: 0.8004\n",
            "Epoch 6/20\n",
            "278612/278612 [==============================] - 136s 489us/step - loss: 0.7590 - acc: 0.8064 - val_loss: 0.7151 - val_acc: 0.8192\n",
            "Epoch 7/20\n",
            "278612/278612 [==============================] - 135s 484us/step - loss: 0.7161 - acc: 0.8158 - val_loss: 0.7067 - val_acc: 0.8191\n",
            "Epoch 8/20\n",
            "278612/278612 [==============================] - 136s 487us/step - loss: 0.6849 - acc: 0.8218 - val_loss: 0.6731 - val_acc: 0.8267\n",
            "Epoch 9/20\n",
            "278612/278612 [==============================] - 136s 488us/step - loss: 0.6625 - acc: 0.8272 - val_loss: 0.6613 - val_acc: 0.8286\n",
            "Epoch 10/20\n",
            "278612/278612 [==============================] - 136s 487us/step - loss: 0.6439 - acc: 0.8309 - val_loss: 0.6445 - val_acc: 0.8335\n",
            "Epoch 11/20\n",
            "278612/278612 [==============================] - 135s 486us/step - loss: 0.6291 - acc: 0.8343 - val_loss: 0.6376 - val_acc: 0.8335\n",
            "Epoch 12/20\n",
            "278612/278612 [==============================] - 135s 486us/step - loss: 0.6166 - acc: 0.8376 - val_loss: 0.6320 - val_acc: 0.8353\n",
            "Epoch 13/20\n",
            "278612/278612 [==============================] - 135s 486us/step - loss: 0.6032 - acc: 0.8399 - val_loss: 0.6249 - val_acc: 0.8359\n",
            "Epoch 14/20\n",
            "278612/278612 [==============================] - 134s 480us/step - loss: 0.5957 - acc: 0.8416 - val_loss: 0.6087 - val_acc: 0.8400\n",
            "Epoch 15/20\n",
            "278612/278612 [==============================] - 135s 484us/step - loss: 0.5863 - acc: 0.8431 - val_loss: 0.6180 - val_acc: 0.8363\n",
            "Epoch 16/20\n",
            "278612/278612 [==============================] - 134s 483us/step - loss: 0.5780 - acc: 0.8453 - val_loss: 0.6005 - val_acc: 0.8409\n",
            "Epoch 17/20\n",
            "278612/278612 [==============================] - 135s 484us/step - loss: 0.5708 - acc: 0.8461 - val_loss: 0.5938 - val_acc: 0.8422\n",
            "Epoch 18/20\n",
            "278612/278612 [==============================] - 135s 484us/step - loss: 0.5655 - acc: 0.8469 - val_loss: 0.5971 - val_acc: 0.8413\n",
            "Epoch 19/20\n",
            "278612/278612 [==============================] - 135s 486us/step - loss: 0.5581 - acc: 0.8489 - val_loss: 0.5872 - val_acc: 0.8432\n",
            "Epoch 20/20\n",
            "278612/278612 [==============================] - 136s 487us/step - loss: 0.5519 - acc: 0.8502 - val_loss: 0.5871 - val_acc: 0.8431\n"
          ],
          "name": "stdout"
        }
      ]
    },
    {
      "cell_type": "code",
      "metadata": {
        "id": "uWMfH-437rNp",
        "colab_type": "code",
        "outputId": "63689db7-d385-4fac-cb14-466c6f49a796",
        "colab": {
          "base_uri": "https://localhost:8080/",
          "height": 714
        }
      },
      "source": [
        "gru_drop = Sequential()\n",
        "gru_drop.add(Embedding(10000, 20, input_length=100))\n",
        "gru_drop.add(GRU(20, dropout=0.3))\n",
        "gru_drop.add(Dense(24, activation='softmax'))\n",
        "gru_drop.compile(optimizer='rmsprop', loss='categorical_crossentropy', metrics=['accuracy'])\n",
        "result_gru_drop = gru_drop.fit(train_x, train_y, validation_data=(valid_x,valid_y), epochs=20, batch_size=512)\n",
        "\n",
        "loss_gru_drop = result_gru_drop.history['val_loss']\n",
        "acc_gru_drop = result_gru_drop.history['val_acc']"
      ],
      "execution_count": 14,
      "outputs": [
        {
          "output_type": "stream",
          "text": [
            "Train on 278612 samples, validate on 69649 samples\n",
            "Epoch 1/20\n",
            "278612/278612 [==============================] - 122s 437us/step - loss: 2.5302 - acc: 0.2268 - val_loss: 2.0885 - val_acc: 0.3571\n",
            "Epoch 2/20\n",
            "278612/278612 [==============================] - 121s 433us/step - loss: 1.8032 - acc: 0.4691 - val_loss: 1.5501 - val_acc: 0.5770\n",
            "Epoch 3/20\n",
            "278612/278612 [==============================] - 120s 432us/step - loss: 1.4267 - acc: 0.6133 - val_loss: 1.2245 - val_acc: 0.6861\n",
            "Epoch 4/20\n",
            "278612/278612 [==============================] - 121s 433us/step - loss: 1.1927 - acc: 0.6892 - val_loss: 1.0473 - val_acc: 0.7377\n",
            "Epoch 5/20\n",
            "278612/278612 [==============================] - 121s 434us/step - loss: 1.0439 - acc: 0.7323 - val_loss: 0.9460 - val_acc: 0.7628\n",
            "Epoch 6/20\n",
            "278612/278612 [==============================] - 121s 434us/step - loss: 0.9435 - acc: 0.7595 - val_loss: 0.8856 - val_acc: 0.7757\n",
            "Epoch 7/20\n",
            "278612/278612 [==============================] - 121s 436us/step - loss: 0.8744 - acc: 0.7768 - val_loss: 0.8091 - val_acc: 0.7967\n",
            "Epoch 8/20\n",
            "278612/278612 [==============================] - 121s 434us/step - loss: 0.8206 - acc: 0.7890 - val_loss: 0.7699 - val_acc: 0.8050\n",
            "Epoch 9/20\n",
            "278612/278612 [==============================] - 121s 433us/step - loss: 0.7765 - acc: 0.7987 - val_loss: 0.7344 - val_acc: 0.8127\n",
            "Epoch 10/20\n",
            "278612/278612 [==============================] - 121s 433us/step - loss: 0.7431 - acc: 0.8064 - val_loss: 0.7129 - val_acc: 0.8165\n",
            "Epoch 11/20\n",
            "278612/278612 [==============================] - 120s 432us/step - loss: 0.7136 - acc: 0.8129 - val_loss: 0.6863 - val_acc: 0.8224\n",
            "Epoch 12/20\n",
            "278612/278612 [==============================] - 120s 432us/step - loss: 0.6902 - acc: 0.8179 - val_loss: 0.6715 - val_acc: 0.8254\n",
            "Epoch 13/20\n",
            "278612/278612 [==============================] - 120s 430us/step - loss: 0.6705 - acc: 0.8222 - val_loss: 0.6653 - val_acc: 0.8266\n",
            "Epoch 14/20\n",
            "278612/278612 [==============================] - 120s 431us/step - loss: 0.6545 - acc: 0.8261 - val_loss: 0.6419 - val_acc: 0.8313\n",
            "Epoch 15/20\n",
            "278612/278612 [==============================] - 121s 433us/step - loss: 0.6391 - acc: 0.8290 - val_loss: 0.6343 - val_acc: 0.8327\n",
            "Epoch 16/20\n",
            "278612/278612 [==============================] - 119s 427us/step - loss: 0.6257 - acc: 0.8320 - val_loss: 0.6182 - val_acc: 0.8366\n",
            "Epoch 17/20\n",
            "278612/278612 [==============================] - 121s 434us/step - loss: 0.6139 - acc: 0.8347 - val_loss: 0.6110 - val_acc: 0.8364\n",
            "Epoch 18/20\n",
            "278612/278612 [==============================] - 121s 433us/step - loss: 0.6029 - acc: 0.8376 - val_loss: 0.6039 - val_acc: 0.8387\n",
            "Epoch 19/20\n",
            "278612/278612 [==============================] - 120s 432us/step - loss: 0.5945 - acc: 0.8389 - val_loss: 0.5983 - val_acc: 0.8399\n",
            "Epoch 20/20\n",
            "278612/278612 [==============================] - 121s 434us/step - loss: 0.5863 - acc: 0.8401 - val_loss: 0.5910 - val_acc: 0.8406\n"
          ],
          "name": "stdout"
        }
      ]
    },
    {
      "cell_type": "code",
      "metadata": {
        "id": "JYl56OLgtYKT",
        "colab_type": "code",
        "outputId": "ae02ad25-9e2d-4301-f333-9b003526804e",
        "colab": {
          "base_uri": "https://localhost:8080/",
          "height": 295
        }
      },
      "source": [
        "plt.plot(loss_ff)\n",
        "plt.plot(loss_rnn1)\n",
        "plt.plot(loss_lstm)\n",
        "plt.plot(loss_gru)\n",
        "plt.plot(loss_rnn2)\n",
        "plt.plot(loss_rnn4)\n",
        "plt.plot(loss_rnn_drop)\n",
        "plt.plot(loss_lstm_drop)\n",
        "plt.plot(loss_gru_drop)\n",
        "plt.legend(['ff', 'rnn_1layer', 'lstm', 'gru', 'rnn_2layers', 'rnn_4layers', 'rnn_dropout', 'lstm_dropout', 'gru_dropout'])\n",
        "plt.title('Comparing validation set loss over the epochs')\n",
        "plt.xlabel(\"Epoch #\")\n",
        "plt.ylabel(\"Loss\")\n",
        "plt.show()\n",
        "\n"
      ],
      "execution_count": 15,
      "outputs": [
        {
          "output_type": "display_data",
          "data": {
            "image/png": "[encoded data removed]",
            "text/plain": [
              "<Figure size 432x288 with 1 Axes>"
            ]
          },
          "metadata": {
            "tags": []
          }
        }
      ]
    },
    {
      "cell_type": "code",
      "metadata": {
        "id": "__y1VxRG5EFI",
        "colab_type": "code",
        "colab": {
          "base_uri": "https://localhost:8080/",
          "height": 295
        },
        "outputId": "d790e251-1931-4e2b-b790-978bb99a2934"
      },
      "source": [
        "plt.plot(acc_ff)\n",
        "plt.plot(acc_rnn1)\n",
        "plt.plot(acc_lstm)\n",
        "plt.plot(acc_gru)\n",
        "plt.plot(acc_rnn2)\n",
        "plt.plot(acc_rnn4)\n",
        "plt.plot(acc_rnn_drop)\n",
        "plt.plot(acc_lstm_drop)\n",
        "plt.plot(acc_gru_drop)\n",
        "plt.legend(['ff', 'rnn_1layer', 'lstm', 'gru', 'rnn_2layers', 'rnn_4layers', 'rnn_dropout', 'lstm_dropout', 'gru_dropout'])\n",
        "plt.title(\"Comparing validation set accuracy over the epochs\")\n",
        "plt.xlabel(\"Epoch #\")\n",
        "plt.ylabel(\"Accuracy\")\n",
        "plt.show()"
      ],
      "execution_count": 16,
      "outputs": [
        {
          "output_type": "display_data",
          "data": {
            "image/png": "[encoded data removed]",
            "text/plain": [
              "<Figure size 432x288 with 1 Axes>"
            ]
          },
          "metadata": {
            "tags": []
          }
        }
      ]
    },
    {
      "cell_type": "markdown",
      "metadata": {
        "id": "oK7Cq8GIA07d",
        "colab_type": "text"
      },
      "source": [
        "The best performing model is LSTM. GRU also performs well though. \n",
        "\n",
        "\n",
        "\n"
      ]
    },
    {
      "cell_type": "code",
      "metadata": {
        "id": "wEf7sVRTBOTc",
        "colab_type": "code",
        "colab": {
          "base_uri": "https://localhost:8080/",
          "height": 51
        },
        "outputId": "2a0fd441-8dcd-4161-e8c6-aaff53a05722"
      },
      "source": [
        "gru.evaluate(test_x, test_y)"
      ],
      "execution_count": 18,
      "outputs": [
        {
          "output_type": "stream",
          "text": [
            "38693/38693 [==============================] - 84s 2ms/step\n"
          ],
          "name": "stdout"
        },
        {
          "output_type": "execute_result",
          "data": {
            "text/plain": [
              "[0.5931422505338548, 0.851859509473538]"
            ]
          },
          "metadata": {
            "tags": []
          },
          "execution_count": 18
        }
      ]
    },
    {
      "cell_type": "code",
      "metadata": {
        "id": "fPoGkfxJ9ESt",
        "colab_type": "code",
        "colab": {
          "base_uri": "https://localhost:8080/",
          "height": 68
        },
        "outputId": "7723717c-2e8f-48c1-f024-ecb38f6007bd"
      },
      "source": [
        "lstm.evaluate(test_x, test_y)"
      ],
      "execution_count": 17,
      "outputs": [
        {
          "output_type": "stream",
          "text": [
            "38693/38693 [==============================] - 84s 2ms/step\n",
            "38693/38693 [==============================] - 95s 2ms/step\n"
          ],
          "name": "stdout"
        },
        {
          "output_type": "execute_result",
          "data": {
            "text/plain": [
              "[0.570334076369209, 0.8540821337208179]"
            ]
          },
          "metadata": {
            "tags": []
          },
          "execution_count": 17
        }
      ]
    },
    {
      "cell_type": "markdown",
      "metadata": {
        "id": "xuQVQ35RA5Tp",
        "colab_type": "text"
      },
      "source": [
        "The test accuracy rate for LSTM is 85.41%, which performs worse than hand-coding."
      ]
    }
  ]
}