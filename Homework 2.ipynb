{
 "cells": [
  {
   "cell_type": "code",
   "execution_count": 1,
   "metadata": {},
   "outputs": [
    {
     "name": "stderr",
     "output_type": "stream",
     "text": [
      "Using TensorFlow backend.\n"
     ]
    }
   ],
   "source": [
    "import pandas as pd\n",
    "from keras.preprocessing.text import Tokenizer\n",
    "from keras.preprocessing.sequence import pad_sequences\n",
    "from keras.utils import to_categorical"
   ]
  },
  {
   "cell_type": "markdown",
   "metadata": {},
   "source": [
    "*1. Import the data and tokenize to use with Keras.*"
   ]
  },
  {
   "cell_type": "code",
   "execution_count": 35,
   "metadata": {},
   "outputs": [],
   "source": [
    "train_df = pd.read_csv('data/congress_train.csv', encoding='ISO-8859-1')\n",
    "valid_df = pd.read_csv('data/congress_val.csv', encoding='ISO-8859-1')\n",
    "test_df = pd.read_csv('data/congress_test.csv', encoding='ISO-8859-1')"
   ]
  },
  {
   "cell_type": "code",
   "execution_count": 50,
   "metadata": {},
   "outputs": [],
   "source": [
    "train_words = []\n",
    "valid_words = []\n",
    "test_words = []\n",
    "for title in list(train_df['Title']):\n",
    "    train_words.append(str(title))\n",
    "for title in list(valid_df['Title']):\n",
    "    valid_words.append(str(title))\n",
    "for title in list(valid_df['Title']):\n",
    "    test_words.append(str(title))"
   ]
  },
  {
   "cell_type": "code",
   "execution_count": 51,
   "metadata": {},
   "outputs": [],
   "source": [
    "train_y = to_categorical(list(train_df['Major']))\n",
    "valid_y = to_categorical(list(valid_df['Major']))\n",
    "test_y = to_categorical(list(valid_df['Major']))"
   ]
  },
  {
   "cell_type": "code",
   "execution_count": 52,
   "metadata": {},
   "outputs": [],
   "source": [
    "#Keep only the 10000 most frequent words\n",
    "tokenizer = Tokenizer(num_words=10000)\n",
    "tokenizer.fit_on_texts(train_words)"
   ]
  },
  {
   "cell_type": "code",
   "execution_count": 53,
   "metadata": {},
   "outputs": [],
   "source": [
    "#Limit each bill's title to a maximum length of 100 words\n",
    "#Pad each sequence to be of length 100\n",
    "train_seq = tokenizer.texts_to_sequences(train_words)\n",
    "test_seq = tokenizer.texts_to_sequences(test_words)\n",
    "valid_seq = tokenizer.texts_to_sequences(valid_words)"
   ]
  },
  {
   "cell_type": "code",
   "execution_count": 54,
   "metadata": {},
   "outputs": [],
   "source": [
    "train_x = pad_sequences(train_seq, maxlen=100)\n",
    "test_x = pad_sequences(test_seq, maxlen=100)\n",
    "valid_x = pad_sequences(valid_seq, maxlen=100)"
   ]
  },
  {
   "cell_type": "markdown",
   "metadata": {},
   "source": [
    "*2. Use a task-specific embedding layer with an appropriate number of output dimensions*\n",
    "\n",
    "*3. Estimate a basic feed-forward network*"
   ]
  },
  {
   "cell_type": "code",
   "execution_count": 40,
   "metadata": {},
   "outputs": [],
   "source": [
    "from keras.layers import Embedding, Flatten, Dense\n",
    "from keras.models import Sequential"
   ]
  },
  {
   "cell_type": "code",
   "execution_count": 81,
   "metadata": {
    "scrolled": false
   },
   "outputs": [
    {
     "name": "stdout",
     "output_type": "stream",
     "text": [
      "Train on 278612 samples, validate on 69649 samples\n",
      "Epoch 1/50\n",
      "278612/278612 [==============================] - 7s 27us/step - loss: 1.8746 - acc: 0.4891 - val_loss: 1.0860 - val_acc: 0.7193\n",
      "Epoch 2/50\n",
      "278612/278612 [==============================] - 6s 20us/step - loss: 0.8514 - acc: 0.7779 - val_loss: 0.7463 - val_acc: 0.8012\n",
      "Epoch 3/50\n",
      "278612/278612 [==============================] - 6s 22us/step - loss: 0.6629 - acc: 0.8213 - val_loss: 0.6623 - val_acc: 0.8240\n",
      "Epoch 4/50\n",
      "278612/278612 [==============================] - 6s 22us/step - loss: 0.5896 - acc: 0.8399 - val_loss: 0.6255 - val_acc: 0.8319\n",
      "Epoch 5/50\n",
      "278612/278612 [==============================] - 6s 22us/step - loss: 0.5447 - acc: 0.8509 - val_loss: 0.6047 - val_acc: 0.8380\n",
      "Epoch 6/50\n",
      "278612/278612 [==============================] - 6s 22us/step - loss: 0.5128 - acc: 0.8585 - val_loss: 0.5934 - val_acc: 0.8414\n",
      "Epoch 7/50\n",
      "278612/278612 [==============================] - 6s 22us/step - loss: 0.4879 - acc: 0.8657 - val_loss: 0.5859 - val_acc: 0.8449\n",
      "Epoch 8/50\n",
      "278612/278612 [==============================] - 6s 22us/step - loss: 0.4673 - acc: 0.8709 - val_loss: 0.5815 - val_acc: 0.8472\n",
      "Epoch 9/50\n",
      "278612/278612 [==============================] - 6s 22us/step - loss: 0.4496 - acc: 0.8757 - val_loss: 0.5778 - val_acc: 0.8487\n",
      "Epoch 10/50\n",
      "278612/278612 [==============================] - 6s 22us/step - loss: 0.4343 - acc: 0.8801 - val_loss: 0.5763 - val_acc: 0.8500\n",
      "Epoch 11/50\n",
      "278612/278612 [==============================] - 6s 22us/step - loss: 0.4207 - acc: 0.8838 - val_loss: 0.5772 - val_acc: 0.8503\n",
      "Epoch 12/50\n",
      "278612/278612 [==============================] - 6s 22us/step - loss: 0.4085 - acc: 0.8868 - val_loss: 0.5764 - val_acc: 0.8514\n",
      "Epoch 13/50\n",
      "278612/278612 [==============================] - 6s 22us/step - loss: 0.3975 - acc: 0.8896 - val_loss: 0.5779 - val_acc: 0.8510\n",
      "Epoch 14/50\n",
      "278612/278612 [==============================] - 6s 22us/step - loss: 0.3871 - acc: 0.8924 - val_loss: 0.5805 - val_acc: 0.8527\n",
      "Epoch 15/50\n",
      "278612/278612 [==============================] - 7s 24us/step - loss: 0.3779 - acc: 0.8949 - val_loss: 0.5837 - val_acc: 0.8524\n",
      "Epoch 16/50\n",
      "278612/278612 [==============================] - 6s 23us/step - loss: 0.3693 - acc: 0.8974 - val_loss: 0.5856 - val_acc: 0.8526\n",
      "Epoch 17/50\n",
      "278612/278612 [==============================] - 6s 23us/step - loss: 0.3613 - acc: 0.8993 - val_loss: 0.5874 - val_acc: 0.8531\n",
      "Epoch 18/50\n",
      "278612/278612 [==============================] - 6s 23us/step - loss: 0.3539 - acc: 0.9012 - val_loss: 0.5922 - val_acc: 0.8522\n",
      "Epoch 19/50\n",
      "278612/278612 [==============================] - 6s 23us/step - loss: 0.3468 - acc: 0.9033 - val_loss: 0.5941 - val_acc: 0.8529\n",
      "Epoch 20/50\n",
      "278612/278612 [==============================] - 6s 21us/step - loss: 0.3404 - acc: 0.9047 - val_loss: 0.5992 - val_acc: 0.8525\n",
      "Epoch 21/50\n",
      "278612/278612 [==============================] - 5s 20us/step - loss: 0.3342 - acc: 0.9060 - val_loss: 0.6018 - val_acc: 0.8524\n",
      "Epoch 22/50\n",
      "278612/278612 [==============================] - 6s 20us/step - loss: 0.3285 - acc: 0.9078 - val_loss: 0.6065 - val_acc: 0.8521\n",
      "Epoch 23/50\n",
      "278612/278612 [==============================] - 5s 20us/step - loss: 0.3231 - acc: 0.9091 - val_loss: 0.6108 - val_acc: 0.8519\n",
      "Epoch 24/50\n",
      "278612/278612 [==============================] - 6s 20us/step - loss: 0.3180 - acc: 0.9106 - val_loss: 0.6172 - val_acc: 0.8511\n",
      "Epoch 25/50\n",
      "278612/278612 [==============================] - 6s 20us/step - loss: 0.3132 - acc: 0.9117 - val_loss: 0.6189 - val_acc: 0.8518\n",
      "Epoch 26/50\n",
      "278612/278612 [==============================] - 6s 21us/step - loss: 0.3086 - acc: 0.9130 - val_loss: 0.6239 - val_acc: 0.8518\n",
      "Epoch 27/50\n",
      "278612/278612 [==============================] - 5s 20us/step - loss: 0.3045 - acc: 0.9142 - val_loss: 0.6284 - val_acc: 0.8515\n",
      "Epoch 28/50\n",
      "278612/278612 [==============================] - 6s 20us/step - loss: 0.3004 - acc: 0.9150 - val_loss: 0.6330 - val_acc: 0.8507\n",
      "Epoch 29/50\n",
      "278612/278612 [==============================] - 6s 20us/step - loss: 0.2966 - acc: 0.9159 - val_loss: 0.6385 - val_acc: 0.8511\n",
      "Epoch 30/50\n",
      "278612/278612 [==============================] - 6s 20us/step - loss: 0.2929 - acc: 0.9170 - val_loss: 0.6439 - val_acc: 0.8501\n",
      "Epoch 31/50\n",
      "278612/278612 [==============================] - 6s 20us/step - loss: 0.2894 - acc: 0.9181 - val_loss: 0.6489 - val_acc: 0.8498\n",
      "Epoch 32/50\n",
      "278612/278612 [==============================] - 6s 23us/step - loss: 0.2861 - acc: 0.9188 - val_loss: 0.6548 - val_acc: 0.8487\n",
      "Epoch 33/50\n",
      "278612/278612 [==============================] - 6s 22us/step - loss: 0.2829 - acc: 0.9197 - val_loss: 0.6581 - val_acc: 0.8494\n",
      "Epoch 34/50\n",
      "278612/278612 [==============================] - 6s 22us/step - loss: 0.2799 - acc: 0.9206 - val_loss: 0.6648 - val_acc: 0.8482\n",
      "Epoch 35/50\n",
      "278612/278612 [==============================] - 6s 22us/step - loss: 0.2771 - acc: 0.9214 - val_loss: 0.6680 - val_acc: 0.8487\n",
      "Epoch 36/50\n",
      "278612/278612 [==============================] - 6s 21us/step - loss: 0.2744 - acc: 0.9218 - val_loss: 0.6733 - val_acc: 0.8491\n",
      "Epoch 37/50\n",
      "278612/278612 [==============================] - 6s 21us/step - loss: 0.2717 - acc: 0.9229 - val_loss: 0.6782 - val_acc: 0.8478\n",
      "Epoch 38/50\n",
      "278612/278612 [==============================] - 6s 21us/step - loss: 0.2692 - acc: 0.9233 - val_loss: 0.6834 - val_acc: 0.8468\n",
      "Epoch 39/50\n",
      "278612/278612 [==============================] - 6s 22us/step - loss: 0.2668 - acc: 0.9240 - val_loss: 0.6874 - val_acc: 0.8474\n",
      "Epoch 40/50\n",
      "278612/278612 [==============================] - 6s 21us/step - loss: 0.2644 - acc: 0.9248 - val_loss: 0.6913 - val_acc: 0.8472\n",
      "Epoch 41/50\n",
      "278612/278612 [==============================] - 6s 22us/step - loss: 0.2623 - acc: 0.9252 - val_loss: 0.6974 - val_acc: 0.8465\n",
      "Epoch 42/50\n",
      "278612/278612 [==============================] - 6s 22us/step - loss: 0.2601 - acc: 0.9261 - val_loss: 0.7036 - val_acc: 0.8456\n",
      "Epoch 43/50\n",
      "278612/278612 [==============================] - 6s 22us/step - loss: 0.2581 - acc: 0.9263 - val_loss: 0.7076 - val_acc: 0.8453\n",
      "Epoch 44/50\n",
      "278612/278612 [==============================] - 6s 22us/step - loss: 0.2560 - acc: 0.9270 - val_loss: 0.7124 - val_acc: 0.8453\n",
      "Epoch 45/50\n",
      "278612/278612 [==============================] - 6s 22us/step - loss: 0.2542 - acc: 0.9275 - val_loss: 0.7179 - val_acc: 0.8451\n",
      "Epoch 46/50\n",
      "278612/278612 [==============================] - 6s 22us/step - loss: 0.2523 - acc: 0.9279 - val_loss: 0.7221 - val_acc: 0.8448\n",
      "Epoch 47/50\n",
      "278612/278612 [==============================] - 6s 22us/step - loss: 0.2505 - acc: 0.9283 - val_loss: 0.7267 - val_acc: 0.8444\n",
      "Epoch 48/50\n",
      "278612/278612 [==============================] - 6s 22us/step - loss: 0.2488 - acc: 0.9290 - val_loss: 0.7330 - val_acc: 0.8437\n",
      "Epoch 49/50\n",
      "278612/278612 [==============================] - 7s 24us/step - loss: 0.2472 - acc: 0.9293 - val_loss: 0.7378 - val_acc: 0.8443\n",
      "Epoch 50/50\n",
      "278612/278612 [==============================] - 7s 24us/step - loss: 0.2455 - acc: 0.9296 - val_loss: 0.7438 - val_acc: 0.8437\n"
     ]
    }
   ],
   "source": [
    "ffn = Sequential()\n",
    "ffn.add(Embedding(10000, 25, input_length=100))\n",
    "ffn.add(Flatten())\n",
    "ffn.add(Dense(24, activation='softmax'))\n",
    "ffn.compile(optimizer='rmsprop', loss='categorical_crossentropy', metrics=['accuracy'])\n",
    "result_ffn = ffn.fit(train_x, train_y, validation_data=(valid_x,valid_y), epochs=50, batch_size=512)"
   ]
  },
  {
   "cell_type": "markdown",
   "metadata": {},
   "source": [
    "*4. Estimate a recurrent neural network (RNN) with a layer_simple_rnn*"
   ]
  },
  {
   "cell_type": "code",
   "execution_count": 57,
   "metadata": {},
   "outputs": [],
   "source": [
    "from keras.layers import SimpleRNN"
   ]
  },
  {
   "cell_type": "code",
   "execution_count": 59,
   "metadata": {
    "scrolled": false
   },
   "outputs": [
    {
     "name": "stdout",
     "output_type": "stream",
     "text": [
      "Train on 278612 samples, validate on 69649 samples\n",
      "Epoch 1/50\n",
      "278612/278612 [==============================] - 27s 96us/step - loss: 2.3740 - acc: 0.3132 - val_loss: 1.7509 - val_acc: 0.4955\n",
      "Epoch 2/50\n",
      "278612/278612 [==============================] - 26s 95us/step - loss: 1.4785 - acc: 0.5869 - val_loss: 1.3434 - val_acc: 0.6329\n",
      "Epoch 3/50\n",
      "278612/278612 [==============================] - 27s 95us/step - loss: 1.2144 - acc: 0.6779 - val_loss: 1.1798 - val_acc: 0.6845\n",
      "Epoch 4/50\n",
      "278612/278612 [==============================] - 26s 95us/step - loss: 1.0309 - acc: 0.7342 - val_loss: 1.1657 - val_acc: 0.6776\n",
      "Epoch 5/50\n",
      "278612/278612 [==============================] - 26s 95us/step - loss: 0.9261 - acc: 0.7626 - val_loss: 1.0047 - val_acc: 0.7370\n",
      "Epoch 6/50\n",
      "278612/278612 [==============================] - 27s 95us/step - loss: 0.8646 - acc: 0.7785 - val_loss: 0.9307 - val_acc: 0.7600\n",
      "Epoch 7/50\n",
      "278612/278612 [==============================] - 26s 95us/step - loss: 0.8078 - acc: 0.7944 - val_loss: 0.9185 - val_acc: 0.7652\n",
      "Epoch 8/50\n",
      "278612/278612 [==============================] - 27s 95us/step - loss: 0.7778 - acc: 0.8017 - val_loss: 0.8906 - val_acc: 0.7712\n",
      "Epoch 9/50\n",
      "278612/278612 [==============================] - 29s 104us/step - loss: 0.7408 - acc: 0.8104 - val_loss: 0.8739 - val_acc: 0.7741\n",
      "Epoch 10/50\n",
      "278612/278612 [==============================] - 28s 99us/step - loss: 0.7161 - acc: 0.8168 - val_loss: 0.8572 - val_acc: 0.7807\n",
      "Epoch 11/50\n",
      "278612/278612 [==============================] - 26s 95us/step - loss: 0.6918 - acc: 0.8228 - val_loss: 1.6163 - val_acc: 0.5582\n",
      "Epoch 12/50\n",
      "278612/278612 [==============================] - 26s 95us/step - loss: 0.6746 - acc: 0.8271 - val_loss: 1.1720 - val_acc: 0.6864\n",
      "Epoch 13/50\n",
      "278612/278612 [==============================] - 27s 96us/step - loss: 0.6544 - acc: 0.8319 - val_loss: 0.8553 - val_acc: 0.7833\n",
      "Epoch 14/50\n",
      "278612/278612 [==============================] - 27s 96us/step - loss: 0.6330 - acc: 0.8364 - val_loss: 0.8479 - val_acc: 0.7818\n",
      "Epoch 15/50\n",
      "278612/278612 [==============================] - 27s 96us/step - loss: 0.6154 - acc: 0.8417 - val_loss: 0.8234 - val_acc: 0.7915\n",
      "Epoch 16/50\n",
      "278612/278612 [==============================] - 27s 96us/step - loss: 0.5991 - acc: 0.8457 - val_loss: 0.8196 - val_acc: 0.7913\n",
      "Epoch 17/50\n",
      "278612/278612 [==============================] - 27s 96us/step - loss: 0.5981 - acc: 0.8460 - val_loss: 0.8045 - val_acc: 0.7977\n",
      "Epoch 18/50\n",
      "278612/278612 [==============================] - 27s 96us/step - loss: 0.5752 - acc: 0.8517 - val_loss: 0.8073 - val_acc: 0.7967\n",
      "Epoch 19/50\n",
      "278612/278612 [==============================] - 27s 97us/step - loss: 0.5644 - acc: 0.8536 - val_loss: 0.7935 - val_acc: 0.8019\n",
      "Epoch 20/50\n",
      "278612/278612 [==============================] - 27s 96us/step - loss: 0.5516 - acc: 0.8575 - val_loss: 0.7923 - val_acc: 0.8026\n",
      "Epoch 21/50\n",
      "278612/278612 [==============================] - 27s 96us/step - loss: 0.5403 - acc: 0.8602 - val_loss: 0.7992 - val_acc: 0.8007\n",
      "Epoch 22/50\n",
      "278612/278612 [==============================] - 27s 96us/step - loss: 0.5291 - acc: 0.8631 - val_loss: 0.8103 - val_acc: 0.7975\n",
      "Epoch 23/50\n",
      "278612/278612 [==============================] - 27s 96us/step - loss: 0.5224 - acc: 0.8646 - val_loss: 0.8796 - val_acc: 0.7809\n",
      "Epoch 24/50\n",
      "278612/278612 [==============================] - 27s 97us/step - loss: 0.5168 - acc: 0.8665 - val_loss: 0.8392 - val_acc: 0.7919\n",
      "Epoch 25/50\n",
      "278612/278612 [==============================] - 26s 93us/step - loss: 0.5070 - acc: 0.8690 - val_loss: 0.8236 - val_acc: 0.7957\n",
      "Epoch 26/50\n",
      "278612/278612 [==============================] - 246s 882us/step - loss: 0.4978 - acc: 0.8710 - val_loss: 0.8219 - val_acc: 0.7963\n",
      "Epoch 27/50\n",
      "278612/278612 [==============================] - 421s 2ms/step - loss: 0.5011 - acc: 0.8700 - val_loss: 0.8155 - val_acc: 0.7968\n",
      "Epoch 28/50\n",
      "278612/278612 [==============================] - 27s 96us/step - loss: 0.4844 - acc: 0.8745 - val_loss: 0.8071 - val_acc: 0.8030\n",
      "Epoch 29/50\n",
      "278612/278612 [==============================] - 27s 95us/step - loss: 0.4787 - acc: 0.8757 - val_loss: 0.8075 - val_acc: 0.8036\n",
      "Epoch 30/50\n",
      "278612/278612 [==============================] - 27s 96us/step - loss: 0.4724 - acc: 0.8780 - val_loss: 0.8237 - val_acc: 0.7992\n",
      "Epoch 31/50\n",
      "278612/278612 [==============================] - 27s 97us/step - loss: 0.4713 - acc: 0.8783 - val_loss: 0.8325 - val_acc: 0.7953\n",
      "Epoch 32/50\n",
      "278612/278612 [==============================] - 27s 97us/step - loss: 0.4683 - acc: 0.8784 - val_loss: 0.8445 - val_acc: 0.7937\n",
      "Epoch 33/50\n",
      "278612/278612 [==============================] - 27s 96us/step - loss: 0.4596 - acc: 0.8805 - val_loss: 0.8685 - val_acc: 0.7899\n",
      "Epoch 34/50\n",
      "278612/278612 [==============================] - 27s 96us/step - loss: 0.4531 - acc: 0.8825 - val_loss: 0.8422 - val_acc: 0.7970\n",
      "Epoch 35/50\n",
      "278612/278612 [==============================] - 27s 97us/step - loss: 0.4562 - acc: 0.8820 - val_loss: 0.9127 - val_acc: 0.7732\n",
      "Epoch 36/50\n",
      "278612/278612 [==============================] - 27s 98us/step - loss: 0.4453 - acc: 0.8845 - val_loss: 0.8248 - val_acc: 0.8036\n",
      "Epoch 37/50\n",
      "278612/278612 [==============================] - 27s 98us/step - loss: 0.4437 - acc: 0.8846 - val_loss: 0.8326 - val_acc: 0.8009\n",
      "Epoch 38/50\n",
      "278612/278612 [==============================] - 27s 98us/step - loss: 0.4375 - acc: 0.8864 - val_loss: 0.8572 - val_acc: 0.7922\n",
      "Epoch 39/50\n",
      "278612/278612 [==============================] - 27s 98us/step - loss: 0.4348 - acc: 0.8871 - val_loss: 0.8897 - val_acc: 0.7850\n",
      "Epoch 40/50\n",
      "278612/278612 [==============================] - 27s 98us/step - loss: 0.4325 - acc: 0.8881 - val_loss: 0.8375 - val_acc: 0.8010\n",
      "Epoch 41/50\n",
      "278612/278612 [==============================] - 27s 98us/step - loss: 0.4268 - acc: 0.8894 - val_loss: 0.9048 - val_acc: 0.7820\n",
      "Epoch 42/50\n",
      "278612/278612 [==============================] - 27s 98us/step - loss: 0.4242 - acc: 0.8895 - val_loss: 0.8578 - val_acc: 0.7936\n",
      "Epoch 43/50\n",
      "278612/278612 [==============================] - 27s 98us/step - loss: 0.4206 - acc: 0.8909 - val_loss: 0.8594 - val_acc: 0.7948\n",
      "Epoch 44/50\n",
      "278612/278612 [==============================] - 27s 98us/step - loss: 0.4206 - acc: 0.8910 - val_loss: 0.8440 - val_acc: 0.8013\n",
      "Epoch 45/50\n",
      "278612/278612 [==============================] - 27s 98us/step - loss: 0.4218 - acc: 0.8905 - val_loss: 0.8438 - val_acc: 0.8004\n",
      "Epoch 46/50\n",
      "278612/278612 [==============================] - 27s 98us/step - loss: 0.4125 - acc: 0.8926 - val_loss: 0.9089 - val_acc: 0.7854\n",
      "Epoch 47/50\n",
      "278612/278612 [==============================] - 27s 95us/step - loss: 0.4096 - acc: 0.8929 - val_loss: 0.8580 - val_acc: 0.7983\n",
      "Epoch 48/50\n",
      "278612/278612 [==============================] - 103s 369us/step - loss: 0.4084 - acc: 0.8942 - val_loss: 0.8892 - val_acc: 0.7903\n",
      "Epoch 49/50\n",
      "278612/278612 [==============================] - 26s 94us/step - loss: 0.4055 - acc: 0.8945 - val_loss: 0.8622 - val_acc: 0.7968\n",
      "Epoch 50/50\n",
      "278612/278612 [==============================] - 26s 95us/step - loss: 0.4037 - acc: 0.8945 - val_loss: 0.8800 - val_acc: 0.7921\n"
     ]
    }
   ],
   "source": [
    "rnn = Sequential()\n",
    "rnn.add(Embedding(10000, 25, input_length=100))\n",
    "rnn.add(SimpleRNN(25))\n",
    "rnn.add(Dense(24, activation='softmax'))\n",
    "rnn.compile(optimizer='rmsprop', loss='categorical_crossentropy', metrics=['accuracy'])\n",
    "result_rnn = rnn.fit(train_x, train_y, validation_data=(valid_x,valid_y), epochs=50, batch_size=512)"
   ]
  },
  {
   "cell_type": "markdown",
   "metadata": {},
   "source": [
    "*5. Estimate an RNN with an LSTM layer*"
   ]
  },
  {
   "cell_type": "code",
   "execution_count": 60,
   "metadata": {
    "scrolled": false
   },
   "outputs": [
    {
     "name": "stdout",
     "output_type": "stream",
     "text": [
      "Train on 278612 samples, validate on 69649 samples\n",
      "Epoch 1/50\n",
      "278612/278612 [==============================] - 4093s 15ms/step - loss: 2.3026 - acc: 0.3026 - val_loss: 1.7473 - val_acc: 0.5101\n",
      "Epoch 2/50\n",
      "278612/278612 [==============================] - 75s 270us/step - loss: 1.3818 - acc: 0.6260 - val_loss: 1.2074 - val_acc: 0.6801\n",
      "Epoch 3/50\n",
      "278612/278612 [==============================] - 73s 263us/step - loss: 0.9714 - acc: 0.7564 - val_loss: 0.8821 - val_acc: 0.7819\n",
      "Epoch 4/50\n",
      "278612/278612 [==============================] - 71s 254us/step - loss: 0.7894 - acc: 0.8037 - val_loss: 0.7736 - val_acc: 0.8073\n",
      "Epoch 5/50\n",
      "278612/278612 [==============================] - 70s 251us/step - loss: 0.6971 - acc: 0.8234 - val_loss: 0.7779 - val_acc: 0.7996\n",
      "Epoch 6/50\n",
      "278612/278612 [==============================] - 71s 254us/step - loss: 0.6402 - acc: 0.8353 - val_loss: 0.6795 - val_acc: 0.8261\n",
      "Epoch 7/50\n",
      "278612/278612 [==============================] - 75s 268us/step - loss: 0.6006 - acc: 0.8441 - val_loss: 0.6607 - val_acc: 0.8285\n",
      "Epoch 8/50\n",
      "278612/278612 [==============================] - 73s 264us/step - loss: 0.5693 - acc: 0.8504 - val_loss: 0.6197 - val_acc: 0.8382\n",
      "Epoch 9/50\n",
      "278612/278612 [==============================] - 75s 270us/step - loss: 0.5440 - acc: 0.8558 - val_loss: 0.6228 - val_acc: 0.8350\n",
      "Epoch 10/50\n",
      "278612/278612 [==============================] - 73s 260us/step - loss: 0.5237 - acc: 0.8595 - val_loss: 0.6196 - val_acc: 0.8348\n",
      "Epoch 11/50\n",
      "278612/278612 [==============================] - 74s 265us/step - loss: 0.5062 - acc: 0.8635 - val_loss: 0.5933 - val_acc: 0.8425\n",
      "Epoch 12/50\n",
      "278612/278612 [==============================] - 73s 261us/step - loss: 0.4917 - acc: 0.8663 - val_loss: 0.5989 - val_acc: 0.8392\n",
      "Epoch 13/50\n",
      "278612/278612 [==============================] - 73s 262us/step - loss: 0.4790 - acc: 0.8693 - val_loss: 0.5829 - val_acc: 0.8443\n",
      "Epoch 14/50\n",
      "278612/278612 [==============================] - 71s 257us/step - loss: 0.4687 - acc: 0.8715 - val_loss: 0.5753 - val_acc: 0.8461\n",
      "Epoch 15/50\n",
      "278612/278612 [==============================] - 71s 256us/step - loss: 0.4582 - acc: 0.8741 - val_loss: 0.5642 - val_acc: 0.8479\n",
      "Epoch 16/50\n",
      "278612/278612 [==============================] - 73s 261us/step - loss: 0.4495 - acc: 0.8758 - val_loss: 0.5643 - val_acc: 0.8483\n",
      "Epoch 17/50\n",
      "278612/278612 [==============================] - 74s 266us/step - loss: 0.4411 - acc: 0.8778 - val_loss: 0.5875 - val_acc: 0.8419\n",
      "Epoch 18/50\n",
      "278612/278612 [==============================] - 73s 263us/step - loss: 0.4343 - acc: 0.8796 - val_loss: 0.5523 - val_acc: 0.8508\n",
      "Epoch 19/50\n",
      "278612/278612 [==============================] - 77s 276us/step - loss: 0.4279 - acc: 0.8809 - val_loss: 0.5535 - val_acc: 0.8504\n",
      "Epoch 20/50\n",
      "278612/278612 [==============================] - 76s 272us/step - loss: 0.4216 - acc: 0.8825 - val_loss: 0.5491 - val_acc: 0.8512\n",
      "Epoch 21/50\n",
      "278612/278612 [==============================] - 73s 261us/step - loss: 0.4156 - acc: 0.8839 - val_loss: 0.5550 - val_acc: 0.8494\n",
      "Epoch 22/50\n",
      "278612/278612 [==============================] - 72s 259us/step - loss: 0.4102 - acc: 0.8857 - val_loss: 0.5514 - val_acc: 0.8522\n",
      "Epoch 23/50\n",
      "278612/278612 [==============================] - 72s 260us/step - loss: 0.4049 - acc: 0.8869 - val_loss: 0.5520 - val_acc: 0.8517\n",
      "Epoch 24/50\n",
      "278612/278612 [==============================] - 73s 263us/step - loss: 0.4002 - acc: 0.8876 - val_loss: 0.5600 - val_acc: 0.8489\n",
      "Epoch 25/50\n",
      "278612/278612 [==============================] - 74s 265us/step - loss: 0.3955 - acc: 0.8889 - val_loss: 0.5586 - val_acc: 0.8505\n",
      "Epoch 26/50\n",
      "278612/278612 [==============================] - 73s 260us/step - loss: 0.3910 - acc: 0.8899 - val_loss: 0.5488 - val_acc: 0.8531\n",
      "Epoch 27/50\n",
      "278612/278612 [==============================] - 74s 267us/step - loss: 0.3873 - acc: 0.8911 - val_loss: 0.5595 - val_acc: 0.8512\n",
      "Epoch 28/50\n",
      "278612/278612 [==============================] - 74s 266us/step - loss: 0.3833 - acc: 0.8922 - val_loss: 0.5503 - val_acc: 0.8531\n",
      "Epoch 29/50\n",
      "278612/278612 [==============================] - 75s 270us/step - loss: 0.3792 - acc: 0.8929 - val_loss: 0.5478 - val_acc: 0.8544\n",
      "Epoch 30/50\n",
      "278612/278612 [==============================] - 75s 269us/step - loss: 0.3756 - acc: 0.8941 - val_loss: 0.5483 - val_acc: 0.8542\n",
      "Epoch 31/50\n",
      "278612/278612 [==============================] - 76s 271us/step - loss: 0.3723 - acc: 0.8950 - val_loss: 0.5455 - val_acc: 0.8537\n",
      "Epoch 32/50\n",
      "278612/278612 [==============================] - 76s 273us/step - loss: 0.3693 - acc: 0.8956 - val_loss: 0.5435 - val_acc: 0.8550\n",
      "Epoch 33/50\n",
      "278612/278612 [==============================] - 76s 274us/step - loss: 0.3653 - acc: 0.8969 - val_loss: 0.5489 - val_acc: 0.8546\n",
      "Epoch 34/50\n",
      "278612/278612 [==============================] - 76s 274us/step - loss: 0.3627 - acc: 0.8974 - val_loss: 0.5452 - val_acc: 0.8554\n",
      "Epoch 35/50\n",
      "278612/278612 [==============================] - 76s 271us/step - loss: 0.3595 - acc: 0.8982 - val_loss: 0.5495 - val_acc: 0.8553\n",
      "Epoch 36/50\n",
      "278612/278612 [==============================] - 73s 263us/step - loss: 0.3569 - acc: 0.8992 - val_loss: 0.5479 - val_acc: 0.8557\n",
      "Epoch 37/50\n",
      "278612/278612 [==============================] - 73s 260us/step - loss: 0.3540 - acc: 0.8999 - val_loss: 0.5535 - val_acc: 0.8548\n",
      "Epoch 38/50\n",
      "278612/278612 [==============================] - 72s 257us/step - loss: 0.3513 - acc: 0.9006 - val_loss: 0.5508 - val_acc: 0.8543\n",
      "Epoch 39/50\n",
      "278612/278612 [==============================] - 73s 260us/step - loss: 0.3491 - acc: 0.9011 - val_loss: 0.5649 - val_acc: 0.8515\n",
      "Epoch 40/50\n",
      "278612/278612 [==============================] - 75s 269us/step - loss: 0.3465 - acc: 0.9018 - val_loss: 0.5548 - val_acc: 0.8538\n",
      "Epoch 41/50\n",
      "278612/278612 [==============================] - 76s 273us/step - loss: 0.3439 - acc: 0.9029 - val_loss: 0.5617 - val_acc: 0.8540\n",
      "Epoch 42/50\n",
      "278612/278612 [==============================] - 76s 273us/step - loss: 0.3417 - acc: 0.9034 - val_loss: 0.5561 - val_acc: 0.8560\n",
      "Epoch 43/50\n",
      "278612/278612 [==============================] - 73s 263us/step - loss: 0.3391 - acc: 0.9039 - val_loss: 0.5567 - val_acc: 0.8558\n",
      "Epoch 44/50\n",
      "278612/278612 [==============================] - 74s 267us/step - loss: 0.3367 - acc: 0.9048 - val_loss: 0.5507 - val_acc: 0.8571\n",
      "Epoch 45/50\n",
      "278612/278612 [==============================] - 74s 267us/step - loss: 0.3350 - acc: 0.9048 - val_loss: 0.5600 - val_acc: 0.8553\n",
      "Epoch 46/50\n",
      "278612/278612 [==============================] - 75s 269us/step - loss: 0.3324 - acc: 0.9062 - val_loss: 0.5651 - val_acc: 0.8530\n",
      "Epoch 47/50\n",
      "278612/278612 [==============================] - 77s 275us/step - loss: 0.3306 - acc: 0.9064 - val_loss: 0.5592 - val_acc: 0.8567\n",
      "Epoch 48/50\n",
      "278612/278612 [==============================] - 77s 275us/step - loss: 0.3291 - acc: 0.9067 - val_loss: 0.5568 - val_acc: 0.8558\n",
      "Epoch 49/50\n",
      "278612/278612 [==============================] - 75s 268us/step - loss: 0.3265 - acc: 0.9072 - val_loss: 0.5695 - val_acc: 0.8517\n",
      "Epoch 50/50\n",
      "278612/278612 [==============================] - 76s 272us/step - loss: 0.3249 - acc: 0.9078 - val_loss: 0.5596 - val_acc: 0.8546\n"
     ]
    }
   ],
   "source": [
    "from keras.layers import LSTM\n",
    "\n",
    "lstm = Sequential()\n",
    "lstm.add(Embedding(10000, 25, input_length=100))\n",
    "lstm.add(LSTM(25))\n",
    "lstm.add(Dense(24, activation='softmax'))\n",
    "lstm.compile(optimizer='rmsprop', loss='categorical_crossentropy', metrics=['accuracy'])\n",
    "result_lstm = lstm.fit(train_x, train_y, validation_data=(valid_x,valid_y), epochs=50, batch_size=512)"
   ]
  },
  {
   "cell_type": "markdown",
   "metadata": {},
   "source": [
    "*6. Estimate an RNN with a GRU layer*"
   ]
  },
  {
   "cell_type": "code",
   "execution_count": 61,
   "metadata": {
    "scrolled": false
   },
   "outputs": [
    {
     "name": "stdout",
     "output_type": "stream",
     "text": [
      "Train on 278612 samples, validate on 69649 samples\n",
      "Epoch 1/50\n",
      "278612/278612 [==============================] - 66s 237us/step - loss: 2.4846 - acc: 0.2287 - val_loss: 2.1079 - val_acc: 0.3475\n",
      "Epoch 2/50\n",
      "278612/278612 [==============================] - 63s 227us/step - loss: 1.7275 - acc: 0.5006 - val_loss: 1.4107 - val_acc: 0.6004\n",
      "Epoch 3/50\n",
      "278612/278612 [==============================] - 65s 233us/step - loss: 1.2263 - acc: 0.6657 - val_loss: 1.1093 - val_acc: 0.7020\n",
      "Epoch 4/50\n",
      "278612/278612 [==============================] - 67s 242us/step - loss: 0.9589 - acc: 0.7530 - val_loss: 0.8989 - val_acc: 0.7709\n",
      "Epoch 5/50\n",
      "278612/278612 [==============================] - 65s 234us/step - loss: 0.7906 - acc: 0.7994 - val_loss: 0.7747 - val_acc: 0.8042\n",
      "Epoch 6/50\n",
      "278612/278612 [==============================] - 178s 640us/step - loss: 0.6993 - acc: 0.8197 - val_loss: 0.7158 - val_acc: 0.8174\n",
      "Epoch 7/50\n",
      "278612/278612 [==============================] - 4784s 17ms/step - loss: 0.6409 - acc: 0.8329 - val_loss: 0.6796 - val_acc: 0.8256\n",
      "Epoch 8/50\n",
      "278612/278612 [==============================] - 63s 226us/step - loss: 0.5997 - acc: 0.8416 - val_loss: 0.6418 - val_acc: 0.8320\n",
      "Epoch 9/50\n",
      "278612/278612 [==============================] - 63s 226us/step - loss: 0.5680 - acc: 0.8484 - val_loss: 0.6175 - val_acc: 0.8361\n",
      "Epoch 10/50\n",
      "278612/278612 [==============================] - 63s 225us/step - loss: 0.5422 - acc: 0.8540 - val_loss: 0.6019 - val_acc: 0.8411\n",
      "Epoch 11/50\n",
      "278612/278612 [==============================] - 64s 229us/step - loss: 0.5208 - acc: 0.8591 - val_loss: 0.5943 - val_acc: 0.8411\n",
      "Epoch 12/50\n",
      "278612/278612 [==============================] - 70s 252us/step - loss: 0.5033 - acc: 0.8631 - val_loss: 0.5762 - val_acc: 0.8457\n",
      "Epoch 13/50\n",
      "278612/278612 [==============================] - 71s 254us/step - loss: 0.4882 - acc: 0.8666 - val_loss: 0.5696 - val_acc: 0.8475\n",
      "Epoch 14/50\n",
      "278612/278612 [==============================] - 73s 262us/step - loss: 0.4749 - acc: 0.8695 - val_loss: 0.5620 - val_acc: 0.8477\n",
      "Epoch 15/50\n",
      "278612/278612 [==============================] - 75s 269us/step - loss: 0.4635 - acc: 0.8720 - val_loss: 0.5592 - val_acc: 0.8495\n",
      "Epoch 16/50\n",
      "278612/278612 [==============================] - 66s 238us/step - loss: 0.4530 - acc: 0.8745 - val_loss: 0.5631 - val_acc: 0.8493\n",
      "Epoch 17/50\n",
      "278612/278612 [==============================] - 64s 229us/step - loss: 0.4437 - acc: 0.8769 - val_loss: 0.5590 - val_acc: 0.8497\n",
      "Epoch 18/50\n",
      "278612/278612 [==============================] - 63s 227us/step - loss: 0.4351 - acc: 0.8791 - val_loss: 0.5448 - val_acc: 0.8529\n",
      "Epoch 19/50\n",
      "278612/278612 [==============================] - 64s 231us/step - loss: 0.4274 - acc: 0.8808 - val_loss: 0.5497 - val_acc: 0.8522\n",
      "Epoch 20/50\n",
      "278612/278612 [==============================] - 66s 235us/step - loss: 0.4198 - acc: 0.8828 - val_loss: 0.5474 - val_acc: 0.8532\n",
      "Epoch 21/50\n",
      "278612/278612 [==============================] - 64s 230us/step - loss: 0.4129 - acc: 0.8847 - val_loss: 0.5431 - val_acc: 0.8543\n",
      "Epoch 22/50\n",
      "278612/278612 [==============================] - 66s 236us/step - loss: 0.4065 - acc: 0.8864 - val_loss: 0.5453 - val_acc: 0.8548\n",
      "Epoch 23/50\n",
      "278612/278612 [==============================] - 64s 231us/step - loss: 0.4006 - acc: 0.8880 - val_loss: 0.5359 - val_acc: 0.8570\n",
      "Epoch 24/50\n",
      "278612/278612 [==============================] - 65s 234us/step - loss: 0.3949 - acc: 0.8898 - val_loss: 0.5393 - val_acc: 0.8556\n",
      "Epoch 25/50\n",
      "278612/278612 [==============================] - 66s 238us/step - loss: 0.3893 - acc: 0.8909 - val_loss: 0.5364 - val_acc: 0.8569\n",
      "Epoch 26/50\n",
      "278612/278612 [==============================] - 63s 226us/step - loss: 0.3841 - acc: 0.8928 - val_loss: 0.5396 - val_acc: 0.8567\n",
      "Epoch 27/50\n",
      "278612/278612 [==============================] - 63s 226us/step - loss: 0.3790 - acc: 0.8939 - val_loss: 0.5424 - val_acc: 0.8574\n",
      "Epoch 28/50\n",
      "278612/278612 [==============================] - 62s 222us/step - loss: 0.3743 - acc: 0.8951 - val_loss: 0.5468 - val_acc: 0.8563\n",
      "Epoch 29/50\n",
      "278612/278612 [==============================] - 63s 225us/step - loss: 0.3699 - acc: 0.8964 - val_loss: 0.5436 - val_acc: 0.8575\n",
      "Epoch 30/50\n",
      "278612/278612 [==============================] - 64s 231us/step - loss: 0.3659 - acc: 0.8978 - val_loss: 0.5394 - val_acc: 0.8584\n",
      "Epoch 31/50\n",
      "278612/278612 [==============================] - 64s 230us/step - loss: 0.3612 - acc: 0.8989 - val_loss: 0.5413 - val_acc: 0.8586\n",
      "Epoch 32/50\n",
      "278612/278612 [==============================] - 62s 222us/step - loss: 0.3570 - acc: 0.9000 - val_loss: 0.5425 - val_acc: 0.8581\n",
      "Epoch 33/50\n",
      "278612/278612 [==============================] - 63s 226us/step - loss: 0.3533 - acc: 0.9011 - val_loss: 0.5453 - val_acc: 0.8578\n",
      "Epoch 34/50\n",
      "278612/278612 [==============================] - 62s 223us/step - loss: 0.3495 - acc: 0.9019 - val_loss: 0.5422 - val_acc: 0.8590\n",
      "Epoch 35/50\n",
      "278612/278612 [==============================] - 65s 234us/step - loss: 0.3458 - acc: 0.9034 - val_loss: 0.5466 - val_acc: 0.8591\n",
      "Epoch 36/50\n",
      "278612/278612 [==============================] - 66s 236us/step - loss: 0.3424 - acc: 0.9042 - val_loss: 0.5422 - val_acc: 0.8583\n",
      "Epoch 37/50\n",
      "278612/278612 [==============================] - 65s 234us/step - loss: 0.3387 - acc: 0.9048 - val_loss: 0.5493 - val_acc: 0.8578\n",
      "Epoch 38/50\n",
      "278612/278612 [==============================] - 67s 241us/step - loss: 0.3352 - acc: 0.9062 - val_loss: 0.5572 - val_acc: 0.8560\n",
      "Epoch 39/50\n",
      "278612/278612 [==============================] - 67s 241us/step - loss: 0.3323 - acc: 0.9068 - val_loss: 0.5579 - val_acc: 0.8573\n",
      "Epoch 40/50\n",
      "278612/278612 [==============================] - 65s 232us/step - loss: 0.3289 - acc: 0.9077 - val_loss: 0.5603 - val_acc: 0.8564\n",
      "Epoch 41/50\n",
      "278612/278612 [==============================] - 65s 235us/step - loss: 0.3261 - acc: 0.9088 - val_loss: 0.5558 - val_acc: 0.8578\n",
      "Epoch 42/50\n",
      "278612/278612 [==============================] - 66s 237us/step - loss: 0.3233 - acc: 0.9096 - val_loss: 0.5551 - val_acc: 0.8576\n",
      "Epoch 43/50\n",
      "278612/278612 [==============================] - 65s 235us/step - loss: 0.3206 - acc: 0.9102 - val_loss: 0.5542 - val_acc: 0.8567\n",
      "Epoch 44/50\n",
      "278612/278612 [==============================] - 66s 238us/step - loss: 0.3177 - acc: 0.9111 - val_loss: 0.5572 - val_acc: 0.8582\n",
      "Epoch 45/50\n",
      "278612/278612 [==============================] - 68s 245us/step - loss: 0.3152 - acc: 0.9119 - val_loss: 0.5569 - val_acc: 0.8588\n",
      "Epoch 46/50\n",
      "278612/278612 [==============================] - 67s 241us/step - loss: 0.3127 - acc: 0.9126 - val_loss: 0.5618 - val_acc: 0.8577\n",
      "Epoch 47/50\n",
      "278612/278612 [==============================] - 66s 238us/step - loss: 0.3099 - acc: 0.9132 - val_loss: 0.5653 - val_acc: 0.8568\n",
      "Epoch 48/50\n",
      "278612/278612 [==============================] - 66s 237us/step - loss: 0.3076 - acc: 0.9141 - val_loss: 0.5639 - val_acc: 0.8578\n",
      "Epoch 49/50\n",
      "278612/278612 [==============================] - 66s 237us/step - loss: 0.3051 - acc: 0.9145 - val_loss: 0.5662 - val_acc: 0.8572\n",
      "Epoch 50/50\n",
      "278612/278612 [==============================] - 65s 232us/step - loss: 0.3028 - acc: 0.9149 - val_loss: 0.5703 - val_acc: 0.8574\n"
     ]
    }
   ],
   "source": [
    "from keras.layers import GRU\n",
    "\n",
    "gru = Sequential()\n",
    "gru.add(Embedding(10000, 25, input_length=100))\n",
    "gru.add(GRU(25))\n",
    "gru.add(Dense(24, activation='softmax'))\n",
    "gru.compile(optimizer='rmsprop', loss='categorical_crossentropy', metrics=['accuracy'])\n",
    "result_gru = gru.fit(train_x, train_y, validation_data=(valid_x,valid_y), epochs=50, batch_size=512)"
   ]
  },
  {
   "cell_type": "markdown",
   "metadata": {},
   "source": [
    "*7. Estimate five additional neural network models with different configurations of hyperparameters*"
   ]
  },
  {
   "cell_type": "code",
   "execution_count": 63,
   "metadata": {},
   "outputs": [
    {
     "name": "stdout",
     "output_type": "stream",
     "text": [
      "Train on 278612 samples, validate on 69649 samples\n",
      "Epoch 1/25\n",
      "278612/278612 [==============================] - 57s 204us/step - loss: 2.1274 - acc: 0.3818 - val_loss: 1.5338 - val_acc: 0.5780\n",
      "Epoch 2/25\n",
      "278612/278612 [==============================] - 56s 200us/step - loss: 1.3324 - acc: 0.6418 - val_loss: 1.2489 - val_acc: 0.6670\n",
      "Epoch 3/25\n",
      "278612/278612 [==============================] - 54s 193us/step - loss: 1.0594 - acc: 0.7223 - val_loss: 1.1838 - val_acc: 0.6810\n",
      "Epoch 4/25\n",
      "278612/278612 [==============================] - 55s 198us/step - loss: 0.9109 - acc: 0.7634 - val_loss: 0.9827 - val_acc: 0.7416\n",
      "Epoch 5/25\n",
      "278612/278612 [==============================] - 55s 197us/step - loss: 0.8176 - acc: 0.7887 - val_loss: 1.1511 - val_acc: 0.6858\n",
      "Epoch 6/25\n",
      "278612/278612 [==============================] - 56s 201us/step - loss: 0.7588 - acc: 0.8037 - val_loss: 0.8793 - val_acc: 0.7728\n",
      "Epoch 7/25\n",
      "278612/278612 [==============================] - 57s 206us/step - loss: 0.7201 - acc: 0.8135 - val_loss: 0.8793 - val_acc: 0.7738\n",
      "Epoch 8/25\n",
      "278612/278612 [==============================] - 57s 205us/step - loss: 0.6829 - acc: 0.8233 - val_loss: 0.7961 - val_acc: 0.7980\n",
      "Epoch 9/25\n",
      "278612/278612 [==============================] - 56s 202us/step - loss: 0.6546 - acc: 0.8297 - val_loss: 0.8474 - val_acc: 0.7836\n",
      "Epoch 10/25\n",
      "278612/278612 [==============================] - 57s 206us/step - loss: 0.6300 - acc: 0.8369 - val_loss: 1.0034 - val_acc: 0.7363\n",
      "Epoch 11/25\n",
      "278612/278612 [==============================] - 56s 200us/step - loss: 0.6099 - acc: 0.8415 - val_loss: 0.8393 - val_acc: 0.7870\n",
      "Epoch 12/25\n",
      "278612/278612 [==============================] - 56s 200us/step - loss: 0.5907 - acc: 0.8463 - val_loss: 0.8101 - val_acc: 0.7932\n",
      "Epoch 13/25\n",
      "278612/278612 [==============================] - 54s 194us/step - loss: 0.5772 - acc: 0.8503 - val_loss: 0.7762 - val_acc: 0.8048\n",
      "Epoch 14/25\n",
      "278612/278612 [==============================] - 54s 195us/step - loss: 0.5616 - acc: 0.8539 - val_loss: 0.7523 - val_acc: 0.8107\n",
      "Epoch 15/25\n",
      "278612/278612 [==============================] - 54s 193us/step - loss: 0.5492 - acc: 0.8571 - val_loss: 0.7897 - val_acc: 0.8011\n",
      "Epoch 16/25\n",
      "278612/278612 [==============================] - 54s 194us/step - loss: 0.5369 - acc: 0.8603 - val_loss: 0.8329 - val_acc: 0.7887\n",
      "Epoch 17/25\n",
      "278612/278612 [==============================] - 54s 193us/step - loss: 0.5264 - acc: 0.8630 - val_loss: 0.7902 - val_acc: 0.8042\n",
      "Epoch 18/25\n",
      "278612/278612 [==============================] - 54s 194us/step - loss: 0.5191 - acc: 0.8651 - val_loss: 0.7870 - val_acc: 0.8027\n",
      "Epoch 19/25\n",
      "278612/278612 [==============================] - 55s 197us/step - loss: 0.5082 - acc: 0.8675 - val_loss: 0.8158 - val_acc: 0.7931\n",
      "Epoch 20/25\n",
      "278612/278612 [==============================] - 55s 199us/step - loss: 0.5005 - acc: 0.8696 - val_loss: 0.7965 - val_acc: 0.7994\n",
      "Epoch 21/25\n",
      "278612/278612 [==============================] - 55s 198us/step - loss: 0.4927 - acc: 0.8718 - val_loss: 0.9173 - val_acc: 0.7610\n",
      "Epoch 22/25\n",
      "278612/278612 [==============================] - 56s 200us/step - loss: 0.4851 - acc: 0.8735 - val_loss: 0.7841 - val_acc: 0.8065\n",
      "Epoch 23/25\n",
      "278612/278612 [==============================] - 54s 195us/step - loss: 0.4827 - acc: 0.8741 - val_loss: 0.7797 - val_acc: 0.8065\n",
      "Epoch 24/25\n",
      "278612/278612 [==============================] - 54s 194us/step - loss: 0.4717 - acc: 0.8770 - val_loss: 0.7545 - val_acc: 0.8139\n",
      "Epoch 25/25\n",
      "278612/278612 [==============================] - 57s 206us/step - loss: 0.4673 - acc: 0.8779 - val_loss: 0.7711 - val_acc: 0.8090\n"
     ]
    }
   ],
   "source": [
    "model1 = Sequential()\n",
    "model1.add(Embedding(10000, 25, input_length=100))\n",
    "model1.add(SimpleRNN(25, return_sequences=True))\n",
    "model1.add(SimpleRNN(25))\n",
    "model1.add(Dense(24, activation='softmax'))\n",
    "model1.compile(optimizer='rmsprop', loss='categorical_crossentropy', metrics=['accuracy'])\n",
    "result_model1 = model1.fit(train_x, train_y, validation_data=(valid_x,valid_y), epochs=25, batch_size=512)"
   ]
  },
  {
   "cell_type": "code",
   "execution_count": 68,
   "metadata": {},
   "outputs": [
    {
     "name": "stdout",
     "output_type": "stream",
     "text": [
      "Train on 278612 samples, validate on 69649 samples\n",
      "Epoch 1/25\n",
      "278612/278612 [==============================] - 154s 552us/step - loss: 2.2230 - acc: 0.3419 - val_loss: 1.7351 - val_acc: 0.5015\n",
      "Epoch 2/25\n",
      "278612/278612 [==============================] - 162s 581us/step - loss: 1.4074 - acc: 0.6121 - val_loss: 1.2532 - val_acc: 0.6616\n",
      "Epoch 3/25\n",
      "278612/278612 [==============================] - 148s 533us/step - loss: 1.0517 - acc: 0.7258 - val_loss: 1.0756 - val_acc: 0.7182\n",
      "Epoch 4/25\n",
      "278612/278612 [==============================] - 152s 544us/step - loss: 0.8625 - acc: 0.7798 - val_loss: 0.8791 - val_acc: 0.7720\n",
      "Epoch 5/25\n",
      "278612/278612 [==============================] - 153s 551us/step - loss: 0.7498 - acc: 0.8086 - val_loss: 0.7641 - val_acc: 0.8031\n",
      "Epoch 6/25\n",
      "278612/278612 [==============================] - 149s 534us/step - loss: 0.6772 - acc: 0.8252 - val_loss: 0.7114 - val_acc: 0.8157\n",
      "Epoch 7/25\n",
      "278612/278612 [==============================] - 147s 529us/step - loss: 0.6269 - acc: 0.8356 - val_loss: 0.6613 - val_acc: 0.8266\n",
      "Epoch 8/25\n",
      "278612/278612 [==============================] - 147s 527us/step - loss: 0.5891 - acc: 0.8435 - val_loss: 0.6590 - val_acc: 0.8243\n",
      "Epoch 9/25\n",
      "278612/278612 [==============================] - 147s 527us/step - loss: 0.5601 - acc: 0.8498 - val_loss: 0.6313 - val_acc: 0.8308\n",
      "Epoch 10/25\n",
      "278612/278612 [==============================] - 147s 528us/step - loss: 0.5377 - acc: 0.8551 - val_loss: 0.6135 - val_acc: 0.8351\n",
      "Epoch 11/25\n",
      "278612/278612 [==============================] - 147s 526us/step - loss: 0.5194 - acc: 0.8587 - val_loss: 0.6008 - val_acc: 0.8387\n",
      "Epoch 12/25\n",
      "278612/278612 [==============================] - 148s 532us/step - loss: 0.5041 - acc: 0.8625 - val_loss: 0.5999 - val_acc: 0.8393\n",
      "Epoch 13/25\n",
      "278612/278612 [==============================] - 149s 534us/step - loss: 0.4902 - acc: 0.8655 - val_loss: 0.5935 - val_acc: 0.8396\n",
      "Epoch 14/25\n",
      "278612/278612 [==============================] - 145s 520us/step - loss: 0.4781 - acc: 0.8680 - val_loss: 0.5740 - val_acc: 0.8450\n",
      "Epoch 15/25\n",
      "278612/278612 [==============================] - 147s 528us/step - loss: 0.4672 - acc: 0.8710 - val_loss: 0.5899 - val_acc: 0.8404\n",
      "Epoch 16/25\n",
      "278612/278612 [==============================] - 149s 535us/step - loss: 0.4572 - acc: 0.8731 - val_loss: 0.5785 - val_acc: 0.8440\n",
      "Epoch 17/25\n",
      "278612/278612 [==============================] - 149s 535us/step - loss: 0.4481 - acc: 0.8756 - val_loss: 0.5744 - val_acc: 0.8441\n",
      "Epoch 18/25\n",
      "278612/278612 [==============================] - 148s 530us/step - loss: 0.4392 - acc: 0.8780 - val_loss: 0.5705 - val_acc: 0.8474\n",
      "Epoch 19/25\n",
      "278612/278612 [==============================] - 406s 1ms/step - loss: 0.4324 - acc: 0.8796 - val_loss: 0.5612 - val_acc: 0.8488\n",
      "Epoch 20/25\n",
      "278612/278612 [==============================] - 147s 529us/step - loss: 0.4250 - acc: 0.8813 - val_loss: 0.5573 - val_acc: 0.8499\n",
      "Epoch 21/25\n",
      "278612/278612 [==============================] - 144s 517us/step - loss: 0.4187 - acc: 0.8829 - val_loss: 0.5606 - val_acc: 0.8493\n",
      "Epoch 22/25\n",
      "278612/278612 [==============================] - 147s 526us/step - loss: 0.4123 - acc: 0.8847 - val_loss: 0.5584 - val_acc: 0.8490\n",
      "Epoch 23/25\n",
      "278612/278612 [==============================] - 143s 513us/step - loss: 0.4063 - acc: 0.8859 - val_loss: 0.5501 - val_acc: 0.8519\n",
      "Epoch 24/25\n",
      "278612/278612 [==============================] - 144s 517us/step - loss: 0.4006 - acc: 0.8875 - val_loss: 0.5531 - val_acc: 0.8509\n",
      "Epoch 25/25\n",
      "278612/278612 [==============================] - 145s 519us/step - loss: 0.3959 - acc: 0.8888 - val_loss: 0.5540 - val_acc: 0.8501\n"
     ]
    }
   ],
   "source": [
    "model2 = Sequential()\n",
    "model2.add(Embedding(10000, 25, input_length=100))\n",
    "model2.add(LSTM(25, return_sequences=True))\n",
    "model2.add(LSTM(25))\n",
    "model2.add(Dense(24, activation='softmax'))\n",
    "model2.compile(optimizer='rmsprop', loss='categorical_crossentropy', metrics=['accuracy'])\n",
    "result_model2 = model2.fit(train_x, train_y, validation_data=(valid_x,valid_y), epochs=25, batch_size=512)"
   ]
  },
  {
   "cell_type": "code",
   "execution_count": 71,
   "metadata": {},
   "outputs": [
    {
     "name": "stdout",
     "output_type": "stream",
     "text": [
      "Train on 278612 samples, validate on 69649 samples\n",
      "Epoch 1/25\n",
      "278612/278612 [==============================] - 30s 107us/step - loss: 2.3317 - acc: 0.3014 - val_loss: 1.7767 - val_acc: 0.4629\n",
      "Epoch 2/25\n",
      "278612/278612 [==============================] - 29s 102us/step - loss: 1.6292 - acc: 0.5322 - val_loss: 1.4106 - val_acc: 0.6082\n",
      "Epoch 3/25\n",
      "278612/278612 [==============================] - 29s 103us/step - loss: 1.3952 - acc: 0.6128 - val_loss: 1.3144 - val_acc: 0.6477\n",
      "Epoch 4/25\n",
      "278612/278612 [==============================] - 29s 103us/step - loss: 1.2855 - acc: 0.6475 - val_loss: 1.2207 - val_acc: 0.6723\n",
      "Epoch 5/25\n",
      "278612/278612 [==============================] - 29s 104us/step - loss: 1.2151 - acc: 0.6697 - val_loss: 1.2163 - val_acc: 0.6736\n",
      "Epoch 6/25\n",
      "278612/278612 [==============================] - 29s 105us/step - loss: 1.1578 - acc: 0.6874 - val_loss: 1.0999 - val_acc: 0.7081\n",
      "Epoch 7/25\n",
      "278612/278612 [==============================] - 29s 105us/step - loss: 1.1030 - acc: 0.7053 - val_loss: 1.0318 - val_acc: 0.7296\n",
      "Epoch 8/25\n",
      "278612/278612 [==============================] - 30s 108us/step - loss: 1.0548 - acc: 0.7185 - val_loss: 1.0203 - val_acc: 0.7342\n",
      "Epoch 9/25\n",
      "278612/278612 [==============================] - 30s 109us/step - loss: 1.0140 - acc: 0.7323 - val_loss: 1.0388 - val_acc: 0.7285\n",
      "Epoch 10/25\n",
      "278612/278612 [==============================] - 30s 109us/step - loss: 0.9803 - acc: 0.7422 - val_loss: 0.9541 - val_acc: 0.7508\n",
      "Epoch 11/25\n",
      "278612/278612 [==============================] - 30s 108us/step - loss: 0.9471 - acc: 0.7517 - val_loss: 0.8986 - val_acc: 0.7709\n",
      "Epoch 12/25\n",
      "278612/278612 [==============================] - 30s 109us/step - loss: 0.9167 - acc: 0.7607 - val_loss: 0.8993 - val_acc: 0.7719\n",
      "Epoch 13/25\n",
      "278612/278612 [==============================] - 30s 108us/step - loss: 0.8893 - acc: 0.7678 - val_loss: 0.9728 - val_acc: 0.7461\n",
      "Epoch 14/25\n",
      "278612/278612 [==============================] - 29s 103us/step - loss: 0.8652 - acc: 0.7739 - val_loss: 0.8587 - val_acc: 0.7808\n",
      "Epoch 15/25\n",
      "278612/278612 [==============================] - 29s 106us/step - loss: 0.8454 - acc: 0.7799 - val_loss: 0.8514 - val_acc: 0.7843\n",
      "Epoch 16/25\n",
      "278612/278612 [==============================] - 30s 107us/step - loss: 0.8264 - acc: 0.7843 - val_loss: 0.8201 - val_acc: 0.7924\n",
      "Epoch 17/25\n",
      "278612/278612 [==============================] - 29s 103us/step - loss: 0.8101 - acc: 0.7901 - val_loss: 0.8648 - val_acc: 0.7819\n",
      "Epoch 18/25\n",
      "278612/278612 [==============================] - 29s 104us/step - loss: 0.7957 - acc: 0.7938 - val_loss: 0.8299 - val_acc: 0.7898\n",
      "Epoch 19/25\n",
      "278612/278612 [==============================] - 29s 105us/step - loss: 0.7856 - acc: 0.7964 - val_loss: 0.7799 - val_acc: 0.8033\n",
      "Epoch 20/25\n",
      "278612/278612 [==============================] - 38s 136us/step - loss: 0.7754 - acc: 0.7990 - val_loss: 0.7830 - val_acc: 0.8019\n",
      "Epoch 21/25\n",
      "278612/278612 [==============================] - 28s 102us/step - loss: 0.7671 - acc: 0.8014 - val_loss: 0.8716 - val_acc: 0.7779\n",
      "Epoch 22/25\n",
      "278612/278612 [==============================] - 28s 102us/step - loss: 0.7617 - acc: 0.8024 - val_loss: 0.7703 - val_acc: 0.8065\n",
      "Epoch 23/25\n",
      "278612/278612 [==============================] - 29s 103us/step - loss: 0.7557 - acc: 0.8039 - val_loss: 0.8388 - val_acc: 0.7886\n",
      "Epoch 24/25\n",
      "278612/278612 [==============================] - 28s 101us/step - loss: 0.7485 - acc: 0.8057 - val_loss: 0.7662 - val_acc: 0.8095\n",
      "Epoch 25/25\n",
      "278612/278612 [==============================] - 28s 102us/step - loss: 0.7432 - acc: 0.8074 - val_loss: 0.7909 - val_acc: 0.8018\n"
     ]
    }
   ],
   "source": [
    "model3 = Sequential()\n",
    "model3.add(Embedding(10000, 25, input_length=100))\n",
    "model3.add(SimpleRNN(25, dropout=0.3))\n",
    "model3.add(Dense(24, activation='softmax'))\n",
    "model3.compile(optimizer='rmsprop', loss='categorical_crossentropy', metrics=['accuracy'])\n",
    "result_model3 = model3.fit(train_x, train_y, validation_data=(valid_x,valid_y), epochs=25, batch_size=512)"
   ]
  },
  {
   "cell_type": "code",
   "execution_count": 73,
   "metadata": {},
   "outputs": [
    {
     "name": "stdout",
     "output_type": "stream",
     "text": [
      "Train on 278612 samples, validate on 69649 samples\n",
      "Epoch 1/25\n",
      "278612/278612 [==============================] - 78s 280us/step - loss: 2.2343 - acc: 0.3404 - val_loss: 1.7915 - val_acc: 0.4814\n",
      "Epoch 2/25\n",
      "278612/278612 [==============================] - 77s 277us/step - loss: 1.3589 - acc: 0.6303 - val_loss: 1.0748 - val_acc: 0.7220\n",
      "Epoch 3/25\n",
      "278612/278612 [==============================] - 77s 276us/step - loss: 0.9963 - acc: 0.7463 - val_loss: 0.8555 - val_acc: 0.7879\n",
      "Epoch 4/25\n",
      "278612/278612 [==============================] - 78s 279us/step - loss: 0.8409 - acc: 0.7889 - val_loss: 0.7753 - val_acc: 0.8060\n",
      "Epoch 5/25\n",
      "278612/278612 [==============================] - 78s 281us/step - loss: 0.7610 - acc: 0.8064 - val_loss: 0.7301 - val_acc: 0.8130\n",
      "Epoch 6/25\n",
      "278612/278612 [==============================] - 79s 282us/step - loss: 0.7108 - acc: 0.8176 - val_loss: 0.7030 - val_acc: 0.8186\n",
      "Epoch 7/25\n",
      "278612/278612 [==============================] - 78s 281us/step - loss: 0.6763 - acc: 0.8244 - val_loss: 0.6641 - val_acc: 0.8291\n",
      "Epoch 8/25\n",
      "278612/278612 [==============================] - 78s 281us/step - loss: 0.6464 - acc: 0.8311 - val_loss: 0.6490 - val_acc: 0.8302\n",
      "Epoch 9/25\n",
      "278612/278612 [==============================] - 79s 285us/step - loss: 0.6250 - acc: 0.8354 - val_loss: 0.6274 - val_acc: 0.8349\n",
      "Epoch 10/25\n",
      "278612/278612 [==============================] - 78s 281us/step - loss: 0.6057 - acc: 0.8391 - val_loss: 0.6376 - val_acc: 0.8300\n",
      "Epoch 11/25\n",
      "278612/278612 [==============================] - 80s 286us/step - loss: 0.5885 - acc: 0.8429 - val_loss: 0.6043 - val_acc: 0.8379\n",
      "Epoch 12/25\n",
      "278612/278612 [==============================] - 86s 309us/step - loss: 0.5750 - acc: 0.8454 - val_loss: 0.5902 - val_acc: 0.8405\n",
      "Epoch 13/25\n",
      "278612/278612 [==============================] - 85s 307us/step - loss: 0.5622 - acc: 0.8484 - val_loss: 0.5863 - val_acc: 0.8419\n",
      "Epoch 14/25\n",
      "278612/278612 [==============================] - 85s 305us/step - loss: 0.5513 - acc: 0.8496 - val_loss: 0.5785 - val_acc: 0.8433\n",
      "Epoch 15/25\n",
      "278612/278612 [==============================] - 85s 305us/step - loss: 0.5408 - acc: 0.8516 - val_loss: 0.5901 - val_acc: 0.8372\n",
      "Epoch 16/25\n",
      "278612/278612 [==============================] - 85s 306us/step - loss: 0.5309 - acc: 0.8537 - val_loss: 0.5692 - val_acc: 0.8439\n",
      "Epoch 17/25\n",
      "278612/278612 [==============================] - 85s 306us/step - loss: 0.5238 - acc: 0.8555 - val_loss: 0.5600 - val_acc: 0.8464\n",
      "Epoch 18/25\n",
      "278612/278612 [==============================] - 82s 294us/step - loss: 0.5170 - acc: 0.8567 - val_loss: 0.5525 - val_acc: 0.8476\n",
      "Epoch 19/25\n",
      "278612/278612 [==============================] - 84s 302us/step - loss: 0.5107 - acc: 0.8579 - val_loss: 0.5503 - val_acc: 0.8499\n",
      "Epoch 20/25\n",
      "278612/278612 [==============================] - 84s 302us/step - loss: 0.5047 - acc: 0.8590 - val_loss: 0.5540 - val_acc: 0.8470\n",
      "Epoch 21/25\n",
      "278612/278612 [==============================] - 80s 286us/step - loss: 0.4993 - acc: 0.8602 - val_loss: 0.5548 - val_acc: 0.8481\n",
      "Epoch 22/25\n",
      "278612/278612 [==============================] - 83s 298us/step - loss: 0.4949 - acc: 0.8614 - val_loss: 0.5463 - val_acc: 0.8496\n",
      "Epoch 23/25\n",
      "278612/278612 [==============================] - 81s 289us/step - loss: 0.4916 - acc: 0.8624 - val_loss: 0.5435 - val_acc: 0.8507\n",
      "Epoch 24/25\n",
      "278612/278612 [==============================] - 80s 287us/step - loss: 0.4870 - acc: 0.8633 - val_loss: 0.5438 - val_acc: 0.8501\n",
      "Epoch 25/25\n",
      "278612/278612 [==============================] - 86s 310us/step - loss: 0.4838 - acc: 0.8641 - val_loss: 0.5338 - val_acc: 0.8534\n"
     ]
    }
   ],
   "source": [
    "model4 = Sequential()\n",
    "model4.add(Embedding(10000, 25, input_length=100))\n",
    "model4.add(LSTM(25, dropout=0.3))\n",
    "model4.add(Dense(24, activation='softmax'))\n",
    "model4.compile(optimizer='rmsprop', loss='categorical_crossentropy', metrics=['accuracy'])\n",
    "result_model4 = model4.fit(train_x, train_y, validation_data=(valid_x,valid_y), epochs=25, batch_size=512)"
   ]
  },
  {
   "cell_type": "code",
   "execution_count": 75,
   "metadata": {},
   "outputs": [
    {
     "name": "stdout",
     "output_type": "stream",
     "text": [
      "Train on 278612 samples, validate on 69649 samples\n",
      "Epoch 1/25\n",
      "278612/278612 [==============================] - 85s 304us/step - loss: 2.4753 - acc: 0.2468 - val_loss: 1.9476 - val_acc: 0.4515\n",
      "Epoch 2/25\n",
      "278612/278612 [==============================] - 82s 294us/step - loss: 1.6597 - acc: 0.5441 - val_loss: 1.3579 - val_acc: 0.6357\n",
      "Epoch 3/25\n",
      "278612/278612 [==============================] - 78s 281us/step - loss: 1.1924 - acc: 0.6903 - val_loss: 0.9927 - val_acc: 0.7522\n",
      "Epoch 4/25\n",
      "278612/278612 [==============================] - 77s 276us/step - loss: 0.9666 - acc: 0.7568 - val_loss: 0.8713 - val_acc: 0.7828\n",
      "Epoch 5/25\n",
      "278612/278612 [==============================] - 84s 302us/step - loss: 0.8595 - acc: 0.7841 - val_loss: 0.8023 - val_acc: 0.7994\n",
      "Epoch 6/25\n",
      "278612/278612 [==============================] - 84s 303us/step - loss: 0.7888 - acc: 0.8002 - val_loss: 0.7751 - val_acc: 0.8011\n",
      "Epoch 7/25\n",
      "278612/278612 [==============================] - 84s 300us/step - loss: 0.7395 - acc: 0.8098 - val_loss: 0.7171 - val_acc: 0.8146\n",
      "Epoch 8/25\n",
      "278612/278612 [==============================] - 82s 296us/step - loss: 0.7018 - acc: 0.8167 - val_loss: 0.6830 - val_acc: 0.8210\n",
      "Epoch 9/25\n",
      "278612/278612 [==============================] - 79s 284us/step - loss: 0.6715 - acc: 0.8235 - val_loss: 0.6558 - val_acc: 0.8270\n",
      "Epoch 10/25\n",
      "278612/278612 [==============================] - 81s 291us/step - loss: 0.6479 - acc: 0.8280 - val_loss: 0.6357 - val_acc: 0.8310\n",
      "Epoch 11/25\n",
      "278612/278612 [==============================] - 83s 297us/step - loss: 0.6286 - acc: 0.8314 - val_loss: 0.6283 - val_acc: 0.8329\n",
      "Epoch 12/25\n",
      "278612/278612 [==============================] - 86s 310us/step - loss: 0.6125 - acc: 0.8347 - val_loss: 0.6079 - val_acc: 0.8360\n",
      "Epoch 13/25\n",
      "278612/278612 [==============================] - 88s 317us/step - loss: 0.5972 - acc: 0.8376 - val_loss: 0.6067 - val_acc: 0.8355\n",
      "Epoch 14/25\n",
      "278612/278612 [==============================] - 81s 291us/step - loss: 0.5842 - acc: 0.8401 - val_loss: 0.5867 - val_acc: 0.8395\n",
      "Epoch 15/25\n",
      "278612/278612 [==============================] - 80s 287us/step - loss: 0.5707 - acc: 0.8429 - val_loss: 0.5800 - val_acc: 0.8416\n",
      "Epoch 16/25\n",
      "278612/278612 [==============================] - 77s 276us/step - loss: 0.5630 - acc: 0.8442 - val_loss: 0.5729 - val_acc: 0.8412\n",
      "Epoch 17/25\n",
      "278612/278612 [==============================] - 74s 266us/step - loss: 0.5521 - acc: 0.8462 - val_loss: 0.5695 - val_acc: 0.8429\n",
      "Epoch 18/25\n",
      "278612/278612 [==============================] - 73s 263us/step - loss: 0.5443 - acc: 0.8486 - val_loss: 0.5589 - val_acc: 0.8451\n",
      "Epoch 19/25\n",
      "278612/278612 [==============================] - 74s 265us/step - loss: 0.5362 - acc: 0.8501 - val_loss: 0.5585 - val_acc: 0.8457\n",
      "Epoch 20/25\n",
      "278612/278612 [==============================] - 84s 301us/step - loss: 0.5313 - acc: 0.8511 - val_loss: 0.5497 - val_acc: 0.8474\n",
      "Epoch 21/25\n",
      "278612/278612 [==============================] - 84s 302us/step - loss: 0.5239 - acc: 0.8533 - val_loss: 0.5519 - val_acc: 0.8470\n",
      "Epoch 22/25\n",
      "278612/278612 [==============================] - 84s 300us/step - loss: 0.5189 - acc: 0.8544 - val_loss: 0.5415 - val_acc: 0.8498\n",
      "Epoch 23/25\n",
      "278612/278612 [==============================] - 84s 302us/step - loss: 0.5139 - acc: 0.8553 - val_loss: 0.5375 - val_acc: 0.8498\n",
      "Epoch 24/25\n",
      "278612/278612 [==============================] - 76s 274us/step - loss: 0.5096 - acc: 0.8561 - val_loss: 0.5372 - val_acc: 0.8508\n",
      "Epoch 25/25\n",
      "278612/278612 [==============================] - 74s 266us/step - loss: 0.5058 - acc: 0.8571 - val_loss: 0.5344 - val_acc: 0.8506\n"
     ]
    }
   ],
   "source": [
    "model5 = Sequential()\n",
    "model5.add(Embedding(10000, 25, input_length=100))\n",
    "model5.add(GRU(25, dropout=0.3))\n",
    "model5.add(Dense(24, activation='softmax'))\n",
    "model5.compile(optimizer='rmsprop', loss='categorical_crossentropy', metrics=['accuracy'])\n",
    "result_model5 = model5.fit(train_x, train_y, validation_data=(valid_x,valid_y), epochs=25, batch_size=512)"
   ]
  },
  {
   "cell_type": "markdown",
   "metadata": {},
   "source": [
    "*8.For each model, plot the validation loss and accuracy over each epoch.*"
   ]
  },
  {
   "cell_type": "code",
   "execution_count": 77,
   "metadata": {},
   "outputs": [],
   "source": [
    "import matplotlib.pyplot as plt"
   ]
  },
  {
   "cell_type": "code",
   "execution_count": 82,
   "metadata": {},
   "outputs": [
    {
     "data": {
      "image/png": "[encoded data removed]",
      "text/plain": [
       "<Figure size 432x288 with 1 Axes>"
      ]
     },
     "metadata": {
      "needs_background": "light"
     },
     "output_type": "display_data"
    }
   ],
   "source": [
    "models_list = [result_ffn, result_rnn, result_lstm, result_gru, result_model1, result_model2, result_model3, result_model4, result_model5]\n",
    "\n",
    "for model in models_list:\n",
    "    plt.plot(model.history['val_loss'])\n",
    "    \n",
    "plt.legend(['ffn', 'rnn', 'lstm', 'gru', 'model1', 'model2', 'model3', 'model4', 'model5'])\n",
    "plt.title('Validation loss over epochs')\n",
    "plt.show()\n",
    "    "
   ]
  },
  {
   "cell_type": "code",
   "execution_count": 83,
   "metadata": {},
   "outputs": [
    {
     "data": {
      "image/png": "[encoded data removed]",
      "text/plain": [
       "<Figure size 432x288 with 1 Axes>"
      ]
     },
     "metadata": {
      "needs_background": "light"
     },
     "output_type": "display_data"
    }
   ],
   "source": [
    "for model in models_list:\n",
    "    plt.plot(model.history['val_acc'])\n",
    "    \n",
    "plt.legend(['ffn', 'rnn', 'lstm', 'gru', 'model1', 'model2', 'model3', 'model4', 'model5'])\n",
    "plt.title('Validation accuracy over epochs')\n",
    "plt.show()"
   ]
  },
  {
   "cell_type": "markdown",
   "metadata": {},
   "source": [
    "*9.Select the best performing model based on the validation set and evaluate its performance using the test set. Assume that with hand-coding we can achieve a 95% accuracy rate. Would your neural network perform better or worse than hand-coding?*"
   ]
  },
  {
   "cell_type": "markdown",
   "metadata": {},
   "source": [
    "From above two plots we can see that, the best performing model is the model with GRU layer because it seems to have the highest validation accuracy and lowest validation loss."
   ]
  },
  {
   "cell_type": "code",
   "execution_count": 84,
   "metadata": {},
   "outputs": [
    {
     "name": "stdout",
     "output_type": "stream",
     "text": [
      "69649/69649 [==============================] - 14s 203us/step\n"
     ]
    },
    {
     "data": {
      "text/plain": [
       "[0.5703272305414112, 0.8573848870826176]"
      ]
     },
     "execution_count": 84,
     "metadata": {},
     "output_type": "execute_result"
    }
   ],
   "source": [
    "gru.evaluate(test_x, test_y)"
   ]
  },
  {
   "cell_type": "markdown",
   "metadata": {},
   "source": [
    "The test accuracy rate using GRU model is 85.7%, it performs worse than hand-coding."
   ]
  },
  {
   "cell_type": "code",
   "execution_count": null,
   "metadata": {},
   "outputs": [],
   "source": []
  }
 ],
 "metadata": {
  "kernelspec": {
   "display_name": "Python 3",
   "language": "python",
   "name": "python3"
  },
  "language_info": {
   "codemirror_mode": {
    "name": "ipython",
    "version": 3
   },
   "file_extension": ".py",
   "mimetype": "text/x-python",
   "name": "python",
   "nbconvert_exporter": "python",
   "pygments_lexer": "ipython3",
   "version": "3.6.7"
  }
 },
 "nbformat": 4,
 "nbformat_minor": 2
}
