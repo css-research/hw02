{
 "cells": [
  {
   "cell_type": "markdown",
   "metadata": {},
   "source": [
    "## Perspectives on Computational Research -- HW02\n",
    "## Author: Sanittawan Tan"
   ]
  },
  {
   "cell_type": "code",
   "execution_count": 48,
   "metadata": {},
   "outputs": [],
   "source": [
    "import random\n",
    "import os\n",
    "import numpy as np\n",
    "import pandas as pd\n",
    "import matplotlib.pyplot as plt\n",
    "from sklearn.model_selection import train_test_split"
   ]
  },
  {
   "cell_type": "code",
   "execution_count": 49,
   "metadata": {},
   "outputs": [],
   "source": [
    "from keras.preprocessing.text import Tokenizer\n",
    "from keras.preprocessing.sequence import pad_sequences\n",
    "from keras.utils.np_utils import to_categorical\n",
    "from keras import models\n",
    "from keras import layers\n",
    "from keras import losses\n",
    "from keras import metrics"
   ]
  },
  {
   "cell_type": "code",
   "execution_count": 50,
   "metadata": {},
   "outputs": [
    {
     "name": "stdout",
     "output_type": "stream",
     "text": [
      "0\n",
      "0\n",
      "0\n",
      "0\n"
     ]
    }
   ],
   "source": [
    "# check NAs (do this for 3 files)\n",
    "types_dict = {'BillID': 'str', 'BillNum': 'str', 'Title': 'str', 'Major': 'str'}\n",
    "df = pd.read_csv('./data/congress_test.csv', dtype=types_dict, encoding=\"ISO-8859-1\")\n",
    "for col in types_dict.keys():\n",
    "    print(sum(df[col].isna()))"
   ]
  },
  {
   "cell_type": "markdown",
   "metadata": {},
   "source": [
    "### Process and tokenize the data"
   ]
  },
  {
   "cell_type": "code",
   "execution_count": 51,
   "metadata": {},
   "outputs": [],
   "source": [
    "def process_file(filepath):\n",
    "    types_dict = {'BillID': 'str', 'BillNum': 'str', 'Title': 'str', 'Major': 'Int64'}\n",
    "    df = pd.read_csv(filepath, dtype=types_dict, encoding=\"ISO-8859-1\")\n",
    "    text = df['Title'].tolist()\n",
    "    label = df['Major'].tolist()\n",
    "    return text, label"
   ]
  },
  {
   "cell_type": "code",
   "execution_count": 52,
   "metadata": {},
   "outputs": [],
   "source": [
    "train_text, train_label = process_file('./data/congress_train.csv') \n",
    "val_text, val_label = process_file('./data/congress_val.csv')\n",
    "test_text, test_label = process_file('./data/congress_test.csv')"
   ]
  },
  {
   "cell_type": "code",
   "execution_count": 53,
   "metadata": {},
   "outputs": [],
   "source": [
    "max_len = 100\n",
    "max_words = 10000"
   ]
  },
  {
   "cell_type": "code",
   "execution_count": 54,
   "metadata": {},
   "outputs": [],
   "source": [
    "def tokenize_and_pad(text):\n",
    "    tokenizer = Tokenizer(num_words=max_words)\n",
    "    tokenizer.fit_on_texts(text)\n",
    "    sequences = tokenizer.texts_to_sequences(text)\n",
    "    word_index = tokenizer.word_index\n",
    "    data = pad_sequences(sequences, maxlen=max_len)\n",
    "    return data, word_index"
   ]
  },
  {
   "cell_type": "code",
   "execution_count": 55,
   "metadata": {},
   "outputs": [],
   "source": [
    "train_text, train_word_index = tokenize_and_pad(train_text)\n",
    "val_text, val_word_index = tokenize_and_pad(val_text)\n",
    "test_text, test_word_index = tokenize_and_pad(test_text)"
   ]
  },
  {
   "cell_type": "code",
   "execution_count": 56,
   "metadata": {},
   "outputs": [],
   "source": [
    "# merge two dictionaries\n",
    "word_index = {**train_word_index, **val_word_index}"
   ]
  },
  {
   "cell_type": "code",
   "execution_count": 57,
   "metadata": {},
   "outputs": [],
   "source": [
    "# one hot encoding the labels\n",
    "train_label = to_categorical(train_label)\n",
    "val_label = to_categorical(val_label)\n",
    "test_label = to_categorical(test_label)"
   ]
  },
  {
   "cell_type": "markdown",
   "metadata": {},
   "source": [
    "### Prepare GloVe word-embeddings"
   ]
  },
  {
   "cell_type": "code",
   "execution_count": 58,
   "metadata": {},
   "outputs": [
    {
     "name": "stdout",
     "output_type": "stream",
     "text": [
      "Found 400000 word vectors.\n"
     ]
    }
   ],
   "source": [
    "# parsing the Glove word-embeddings (from the book)\n",
    "glove_dir = '/home/ubuntu/hw02-1'\n",
    "\n",
    "embeddings_index = {}\n",
    "f = open(os.path.join(glove_dir, 'glove.6B.100d.txt'))\n",
    "for line in f:\n",
    "    values = line.split()\n",
    "    word = values[0]\n",
    "    coefs = np.asarray(values[1:], dtype='float32')\n",
    "    embeddings_index[word] = coefs\n",
    "f.close()\n",
    "print('Found {} word vectors.'.format(len(embeddings_index)))"
   ]
  },
  {
   "cell_type": "code",
   "execution_count": 59,
   "metadata": {},
   "outputs": [],
   "source": [
    "# preparing Glove word-embeddings matrix (from the book)\n",
    "max_words = 10000\n",
    "embedding_dim = 100\n",
    "\n",
    "embedding_matrix = np.zeros((max_words, embedding_dim))\n",
    "for word, i in word_index.items():\n",
    "    if i < max_words:\n",
    "        embedding_vector = embeddings_index.get(word)\n",
    "        if embedding_vector is not None:\n",
    "            embedding_matrix[i] = embedding_vector"
   ]
  },
  {
   "cell_type": "markdown",
   "metadata": {},
   "source": [
    "### 1) Estimate a basic feed-forward network (without pre-trained word embeddings)"
   ]
  },
  {
   "cell_type": "code",
   "execution_count": 60,
   "metadata": {},
   "outputs": [],
   "source": [
    "from keras.models import Sequential\n",
    "from keras.layers import Embedding\n",
    "from keras.layers import Flatten, Dense"
   ]
  },
  {
   "cell_type": "code",
   "execution_count": 63,
   "metadata": {},
   "outputs": [
    {
     "name": "stdout",
     "output_type": "stream",
     "text": [
      "_________________________________________________________________\n",
      "Layer (type)                 Output Shape              Param #   \n",
      "=================================================================\n",
      "embedding_3 (Embedding)      (None, 100, 8)            80000     \n",
      "_________________________________________________________________\n",
      "flatten_3 (Flatten)          (None, 800)               0         \n",
      "_________________________________________________________________\n",
      "dense_3 (Dense)              (None, 24)                19224     \n",
      "=================================================================\n",
      "Total params: 99,224\n",
      "Trainable params: 99,224\n",
      "Non-trainable params: 0\n",
      "_________________________________________________________________\n"
     ]
    }
   ],
   "source": [
    "# how to select dimension ? 8?\n",
    "ff_no_glove = Sequential()\n",
    "ff_no_glove.add(Embedding(10000, 8, input_length=max_len))\n",
    "ff_no_glove.add(Flatten())\n",
    "ff_no_glove.add(Dense(24, activation='softmax'))\n",
    "ff_no_glove.compile(optimizer='rmsprop',\n",
    "                    loss='categorical_crossentropy',\n",
    "                    metrics=['acc'])\n",
    "ff_no_glove.summary()"
   ]
  },
  {
   "cell_type": "code",
   "execution_count": null,
   "metadata": {},
   "outputs": [
    {
     "name": "stdout",
     "output_type": "stream",
     "text": [
      "WARNING:tensorflow:From /home/ubuntu/anaconda3/envs/tensorflow_p36/lib/python3.6/site-packages/tensorflow/python/ops/math_ops.py:3066: to_int32 (from tensorflow.python.ops.math_ops) is deprecated and will be removed in a future version.\n",
      "Instructions for updating:\n",
      "Use tf.cast instead.\n",
      "Train on 278612 samples, validate on 69649 samples\n",
      "Epoch 1/50\n",
      "278612/278612 [==============================] - 12s 43us/step - loss: 2.3196 - acc: 0.3410 - val_loss: 2.7141 - val_acc: 0.1839\n",
      "Epoch 2/50\n",
      "278612/278612 [==============================] - 3s 9us/step - loss: 1.3426 - acc: 0.6452 - val_loss: 3.0368 - val_acc: 0.1604\n",
      "Epoch 3/50\n",
      "278612/278612 [==============================] - 3s 10us/step - loss: 0.9847 - acc: 0.7400 - val_loss: 3.3318 - val_acc: 0.1473\n",
      "Epoch 4/50\n",
      "278612/278612 [==============================] - 3s 10us/step - loss: 0.8470 - acc: 0.7773 - val_loss: 3.5530 - val_acc: 0.1412\n",
      "Epoch 5/50\n",
      "278612/278612 [==============================] - 3s 9us/step - loss: 0.7737 - acc: 0.7968 - val_loss: 3.7121 - val_acc: 0.1370\n",
      "Epoch 6/50\n",
      "278612/278612 [==============================] - 3s 10us/step - loss: 0.7272 - acc: 0.8100 - val_loss: 3.8505 - val_acc: 0.1363\n",
      "Epoch 7/50\n",
      "278612/278612 [==============================] - 3s 10us/step - loss: 0.6946 - acc: 0.8189 - val_loss: 3.9571 - val_acc: 0.1349\n",
      "Epoch 8/50\n",
      "278612/278612 [==============================] - 3s 10us/step - loss: 0.6702 - acc: 0.8255 - val_loss: 4.0622 - val_acc: 0.1357\n",
      "Epoch 9/50\n",
      "278612/278612 [==============================] - 3s 9us/step - loss: 0.6512 - acc: 0.8307 - val_loss: 4.1396 - val_acc: 0.1321\n",
      "Epoch 10/50\n",
      "278612/278612 [==============================] - 3s 10us/step - loss: 0.6358 - acc: 0.8348 - val_loss: 4.2353 - val_acc: 0.1345\n",
      "Epoch 11/50\n",
      "278612/278612 [==============================] - 3s 9us/step - loss: 0.6231 - acc: 0.8377 - val_loss: 4.2932 - val_acc: 0.1322\n",
      "Epoch 12/50\n",
      "278612/278612 [==============================] - 3s 9us/step - loss: 0.6125 - acc: 0.8406 - val_loss: 4.3523 - val_acc: 0.1307\n",
      "Epoch 13/50\n",
      "278612/278612 [==============================] - 3s 9us/step - loss: 0.6032 - acc: 0.8430 - val_loss: 4.4088 - val_acc: 0.1301\n",
      "Epoch 14/50\n",
      "278612/278612 [==============================] - 3s 9us/step - loss: 0.5953 - acc: 0.8454 - val_loss: 4.4633 - val_acc: 0.1302\n",
      "Epoch 15/50\n",
      "278612/278612 [==============================] - 3s 9us/step - loss: 0.5883 - acc: 0.8470 - val_loss: 4.5218 - val_acc: 0.1297\n",
      "Epoch 16/50\n",
      "278612/278612 [==============================] - 3s 10us/step - loss: 0.5820 - acc: 0.8489 - val_loss: 4.5584 - val_acc: 0.1272\n",
      "Epoch 17/50\n",
      "278612/278612 [==============================] - 3s 9us/step - loss: 0.5766 - acc: 0.8505 - val_loss: 4.6175 - val_acc: 0.1301\n",
      "Epoch 18/50\n",
      "278612/278612 [==============================] - 3s 10us/step - loss: 0.5715 - acc: 0.8519 - val_loss: 4.6304 - val_acc: 0.1270\n",
      "Epoch 19/50\n",
      "278612/278612 [==============================] - 3s 10us/step - loss: 0.5671 - acc: 0.8531 - val_loss: 4.6694 - val_acc: 0.1266\n",
      "Epoch 20/50\n",
      "278612/278612 [==============================] - 3s 10us/step - loss: 0.5629 - acc: 0.8542 - val_loss: 4.7057 - val_acc: 0.1274\n",
      "Epoch 21/50\n",
      " 68096/278612 [======>.......................] - ETA: 1s - loss: 0.5533 - acc: 0.8562"
     ]
    }
   ],
   "source": [
    "ff_no_glove_history = ff_no_glove.fit(train_text, train_label,\n",
    "                                      epochs=50,\n",
    "                                      batch_size=512,\n",
    "                                      validation_data=(val_text, val_label))"
   ]
  },
  {
   "cell_type": "markdown",
   "metadata": {},
   "source": [
    "### 2) Estimate a basic feed-forward network (with GloVe word embeddings)"
   ]
  },
  {
   "cell_type": "code",
   "execution_count": null,
   "metadata": {},
   "outputs": [],
   "source": []
  },
  {
   "cell_type": "code",
   "execution_count": null,
   "metadata": {},
   "outputs": [],
   "source": []
  }
 ],
 "metadata": {
  "kernelspec": {
   "display_name": "Python [conda env:tensorflow_p36]",
   "language": "python",
   "name": "conda-env-tensorflow_p36-py"
  },
  "language_info": {
   "codemirror_mode": {
    "name": "ipython",
    "version": 3
   },
   "file_extension": ".py",
   "mimetype": "text/x-python",
   "name": "python",
   "nbconvert_exporter": "python",
   "pygments_lexer": "ipython3",
   "version": "3.6.5"
  }
 },
 "nbformat": 4,
 "nbformat_minor": 2
}
