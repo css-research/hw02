{
 "cells": [
  {
   "cell_type": "markdown",
   "metadata": {},
   "source": [
    "## Perspectives on Computational Research -- HW02\n",
    "## Author: Sanittawan Tan"
   ]
  },
  {
   "cell_type": "code",
   "execution_count": 1,
   "metadata": {},
   "outputs": [],
   "source": [
    "import random\n",
    "import os\n",
    "import numpy as np\n",
    "import pandas as pd\n",
    "import matplotlib.pyplot as plt\n",
    "from sklearn.model_selection import train_test_split"
   ]
  },
  {
   "cell_type": "code",
   "execution_count": 2,
   "metadata": {},
   "outputs": [
    {
     "name": "stderr",
     "output_type": "stream",
     "text": [
      "Using TensorFlow backend.\n"
     ]
    }
   ],
   "source": [
    "from keras.preprocessing.text import Tokenizer\n",
    "from keras.preprocessing.sequence import pad_sequences\n",
    "from keras.utils.np_utils import to_categorical\n",
    "from keras import models\n",
    "from keras import layers\n",
    "from keras import losses\n",
    "from keras import metrics"
   ]
  },
  {
   "cell_type": "code",
   "execution_count": 3,
   "metadata": {},
   "outputs": [
    {
     "name": "stdout",
     "output_type": "stream",
     "text": [
      "0\n",
      "0\n",
      "0\n",
      "0\n"
     ]
    }
   ],
   "source": [
    "# check NAs (do this for 3 files)\n",
    "types_dict = {'BillID': 'str', 'BillNum': 'str', 'Title': 'str', 'Major': 'str'}\n",
    "df = pd.read_csv('./data/congress_test.csv', dtype=types_dict, encoding=\"ISO-8859-1\")\n",
    "for col in types_dict.keys():\n",
    "    print(sum(df[col].isna()))"
   ]
  },
  {
   "cell_type": "markdown",
   "metadata": {},
   "source": [
    "### Process and tokenize the data"
   ]
  },
  {
   "cell_type": "code",
   "execution_count": 4,
   "metadata": {},
   "outputs": [],
   "source": [
    "def process_file(filepath):\n",
    "    types_dict = {'BillID': 'str', 'BillNum': 'str', 'Title': 'str', 'Major': 'Int64'}\n",
    "    df = pd.read_csv(filepath, dtype=types_dict, encoding=\"ISO-8859-1\")\n",
    "    text = df['Title'].tolist()\n",
    "    label = df['Major'].tolist()\n",
    "    return text, label"
   ]
  },
  {
   "cell_type": "code",
   "execution_count": 5,
   "metadata": {},
   "outputs": [],
   "source": [
    "train_text, train_label = process_file('./data/congress_train.csv') \n",
    "val_text, val_label = process_file('./data/congress_val.csv')\n",
    "test_text, test_label = process_file('./data/congress_test.csv')"
   ]
  },
  {
   "cell_type": "code",
   "execution_count": 6,
   "metadata": {},
   "outputs": [],
   "source": [
    "max_len = 100\n",
    "max_words = 10000"
   ]
  },
  {
   "cell_type": "code",
   "execution_count": 7,
   "metadata": {},
   "outputs": [],
   "source": [
    "def tokenize_and_pad(text, max_words=10000, max_len=100):\n",
    "    tokenizer = Tokenizer(num_words=max_words)\n",
    "    tokenizer.fit_on_texts(text)\n",
    "    sequences = tokenizer.texts_to_sequences(text)\n",
    "    word_index = tokenizer.word_index\n",
    "    data = pad_sequences(sequences, maxlen=max_len)\n",
    "    return data, word_index"
   ]
  },
  {
   "cell_type": "code",
   "execution_count": 8,
   "metadata": {},
   "outputs": [],
   "source": [
    "train_text, train_word_index = tokenize_and_pad(train_text)\n",
    "val_text, val_word_index = tokenize_and_pad(val_text)\n",
    "test_text, test_word_index = tokenize_and_pad(test_text)"
   ]
  },
  {
   "cell_type": "code",
   "execution_count": 9,
   "metadata": {},
   "outputs": [],
   "source": [
    "# merge two dictionaries\n",
    "word_index = {**train_word_index, **val_word_index}"
   ]
  },
  {
   "cell_type": "code",
   "execution_count": 10,
   "metadata": {},
   "outputs": [],
   "source": [
    "# one hot encoding the labels\n",
    "train_label = to_categorical(train_label)\n",
    "val_label = to_categorical(val_label)\n",
    "test_label = to_categorical(test_label)"
   ]
  },
  {
   "cell_type": "markdown",
   "metadata": {},
   "source": [
    "### Prepare GloVe word-embeddings"
   ]
  },
  {
   "cell_type": "code",
   "execution_count": 11,
   "metadata": {},
   "outputs": [
    {
     "name": "stdout",
     "output_type": "stream",
     "text": [
      "Found 400000 word vectors.\n"
     ]
    }
   ],
   "source": [
    "# parsing the Glove word-embeddings (from the book)\n",
    "glove_dir = '/home/ubuntu/hw02-1'\n",
    "\n",
    "embeddings_index = {}\n",
    "f = open(os.path.join(glove_dir, 'glove.6B.100d.txt'))\n",
    "for line in f:\n",
    "    values = line.split()\n",
    "    word = values[0]\n",
    "    coefs = np.asarray(values[1:], dtype='float32')\n",
    "    embeddings_index[word] = coefs\n",
    "f.close()\n",
    "print('Found {} word vectors.'.format(len(embeddings_index)))"
   ]
  },
  {
   "cell_type": "code",
   "execution_count": 12,
   "metadata": {},
   "outputs": [],
   "source": [
    "# preparing Glove word-embeddings matrix (from the book)\n",
    "max_words = 10000\n",
    "embedding_dim = 100\n",
    "\n",
    "embedding_matrix = np.zeros((max_words, embedding_dim))\n",
    "for word, i in word_index.items():\n",
    "    if i < max_words:\n",
    "        embedding_vector = embeddings_index.get(word)\n",
    "        if embedding_vector is not None:\n",
    "            embedding_matrix[i] = embedding_vector"
   ]
  },
  {
   "cell_type": "markdown",
   "metadata": {},
   "source": [
    "### 1) Estimate a basic feed-forward network (without pre-trained word embeddings)"
   ]
  },
  {
   "cell_type": "code",
   "execution_count": 13,
   "metadata": {},
   "outputs": [],
   "source": [
    "from keras.models import Sequential\n",
    "from keras.layers import Embedding\n",
    "from keras.layers import Flatten, Dense"
   ]
  },
  {
   "cell_type": "code",
   "execution_count": 16,
   "metadata": {},
   "outputs": [
    {
     "name": "stdout",
     "output_type": "stream",
     "text": [
      "_________________________________________________________________\n",
      "Layer (type)                 Output Shape              Param #   \n",
      "=================================================================\n",
      "embedding_2 (Embedding)      (None, 100, 20)           200000    \n",
      "_________________________________________________________________\n",
      "flatten_2 (Flatten)          (None, 2000)              0         \n",
      "_________________________________________________________________\n",
      "dense_2 (Dense)              (None, 24)                48024     \n",
      "=================================================================\n",
      "Total params: 248,024\n",
      "Trainable params: 248,024\n",
      "Non-trainable params: 0\n",
      "_________________________________________________________________\n"
     ]
    }
   ],
   "source": [
    "# how to select dimension ? 8?\n",
    "ff_no_glove = Sequential()\n",
    "ff_no_glove.add(Embedding(10000, 20, input_length=max_len))\n",
    "ff_no_glove.add(Flatten())\n",
    "ff_no_glove.add(Dense(24, activation='softmax'))\n",
    "ff_no_glove.compile(optimizer='rmsprop',\n",
    "                    loss='categorical_crossentropy',\n",
    "                    metrics=['acc'])\n",
    "ff_no_glove.summary()"
   ]
  },
  {
   "cell_type": "code",
   "execution_count": 17,
   "metadata": {},
   "outputs": [
    {
     "name": "stdout",
     "output_type": "stream",
     "text": [
      "Train on 278612 samples, validate on 69649 samples\n",
      "Epoch 1/10\n",
      "278612/278612 [==============================] - 4s 14us/step - loss: 1.9602 - acc: 0.4626 - val_loss: 2.7773 - val_acc: 0.1874\n",
      "Epoch 2/10\n",
      "278612/278612 [==============================] - 4s 13us/step - loss: 0.9137 - acc: 0.7637 - val_loss: 3.1814 - val_acc: 0.1527\n",
      "Epoch 3/10\n",
      "278612/278612 [==============================] - 4s 13us/step - loss: 0.7003 - acc: 0.8130 - val_loss: 3.4005 - val_acc: 0.1470\n",
      "Epoch 4/10\n",
      "278612/278612 [==============================] - 4s 13us/step - loss: 0.6185 - acc: 0.8327 - val_loss: 3.5635 - val_acc: 0.1434\n",
      "Epoch 5/10\n",
      "278612/278612 [==============================] - 4s 13us/step - loss: 0.5710 - acc: 0.8441 - val_loss: 3.6840 - val_acc: 0.1411\n",
      "Epoch 6/10\n",
      "278612/278612 [==============================] - 4s 13us/step - loss: 0.5379 - acc: 0.8523 - val_loss: 3.7865 - val_acc: 0.1390\n",
      "Epoch 7/10\n",
      "278612/278612 [==============================] - 4s 13us/step - loss: 0.5127 - acc: 0.8591 - val_loss: 3.8687 - val_acc: 0.1350\n",
      "Epoch 8/10\n",
      "278612/278612 [==============================] - 4s 13us/step - loss: 0.4922 - acc: 0.8645 - val_loss: 3.9683 - val_acc: 0.1348\n",
      "Epoch 9/10\n",
      "278612/278612 [==============================] - 4s 13us/step - loss: 0.4751 - acc: 0.8694 - val_loss: 4.0259 - val_acc: 0.1342\n",
      "Epoch 10/10\n",
      "278612/278612 [==============================] - 4s 13us/step - loss: 0.4604 - acc: 0.8728 - val_loss: 4.1202 - val_acc: 0.1375\n"
     ]
    }
   ],
   "source": [
    "ff_no_glove_history = ff_no_glove.fit(train_text, train_label,\n",
    "                                      epochs=10,\n",
    "                                      batch_size=512,\n",
    "                                      validation_data=(val_text, val_label))"
   ]
  },
  {
   "cell_type": "markdown",
   "metadata": {},
   "source": [
    "### 2) Estimate a basic feed-forward network (with GloVe word embeddings)"
   ]
  },
  {
   "cell_type": "code",
   "execution_count": null,
   "metadata": {},
   "outputs": [],
   "source": []
  },
  {
   "cell_type": "code",
   "execution_count": null,
   "metadata": {},
   "outputs": [],
   "source": []
  }
 ],
 "metadata": {
  "kernelspec": {
   "display_name": "Python [conda env:tensorflow_p36]",
   "language": "python",
   "name": "conda-env-tensorflow_p36-py"
  },
  "language_info": {
   "codemirror_mode": {
    "name": "ipython",
    "version": 3
   },
   "file_extension": ".py",
   "mimetype": "text/x-python",
   "name": "python",
   "nbconvert_exporter": "python",
   "pygments_lexer": "ipython3",
   "version": "3.6.5"
  }
 },
 "nbformat": 4,
 "nbformat_minor": 2
}
