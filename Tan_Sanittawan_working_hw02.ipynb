{
 "cells": [
  {
   "cell_type": "markdown",
   "metadata": {},
   "source": [
    "## Perspectives on Computational Research -- HW02\n",
    "## Author: Sanittawan Tan"
   ]
  },
  {
   "cell_type": "code",
   "execution_count": 1,
   "metadata": {},
   "outputs": [],
   "source": [
    "import random\n",
    "import os\n",
    "import numpy as np\n",
    "import pandas as pd\n",
    "import matplotlib.pyplot as plt\n",
    "from sklearn.model_selection import train_test_split"
   ]
  },
  {
   "cell_type": "code",
   "execution_count": 2,
   "metadata": {},
   "outputs": [
    {
     "name": "stderr",
     "output_type": "stream",
     "text": [
      "Using TensorFlow backend.\n"
     ]
    }
   ],
   "source": [
    "from keras.preprocessing.text import Tokenizer\n",
    "from keras.preprocessing.sequence import pad_sequences\n",
    "from keras.utils.np_utils import to_categorical\n",
    "from keras import models\n",
    "from keras import layers\n",
    "from keras import losses\n",
    "from keras import metrics"
   ]
  },
  {
   "cell_type": "code",
   "execution_count": 3,
   "metadata": {},
   "outputs": [
    {
     "name": "stdout",
     "output_type": "stream",
     "text": [
      "0\n",
      "0\n",
      "0\n",
      "0\n"
     ]
    }
   ],
   "source": [
    "# check NAs (do this for 3 files)\n",
    "types_dict = {'BillID': 'str', 'BillNum': 'str', 'Title': 'str', 'Major': 'str'}\n",
    "df = pd.read_csv('./data/congress_test.csv', dtype=types_dict, encoding=\"ISO-8859-1\")\n",
    "for col in types_dict.keys():\n",
    "    print(sum(df[col].isna()))"
   ]
  },
  {
   "cell_type": "markdown",
   "metadata": {},
   "source": [
    "### Process and tokenize the data"
   ]
  },
  {
   "cell_type": "code",
   "execution_count": 4,
   "metadata": {},
   "outputs": [],
   "source": [
    "def process_file(filepath):\n",
    "    types_dict = {'BillID': 'str', 'BillNum': 'str', 'Title': 'str', 'Major': 'Int64'}\n",
    "    df = pd.read_csv(filepath, dtype=types_dict, encoding=\"ISO-8859-1\")\n",
    "    text = df['Title'].tolist()\n",
    "    label = df['Major'].tolist()\n",
    "    return text, label"
   ]
  },
  {
   "cell_type": "code",
   "execution_count": 5,
   "metadata": {},
   "outputs": [],
   "source": [
    "train_text, train_label = process_file('./data/congress_train.csv') \n",
    "val_text, val_label = process_file('./data/congress_val.csv')\n",
    "test_text, test_label = process_file('./data/congress_test.csv')"
   ]
  },
  {
   "cell_type": "code",
   "execution_count": 6,
   "metadata": {},
   "outputs": [],
   "source": [
    "max_len = 100\n",
    "max_words = 10000"
   ]
  },
  {
   "cell_type": "code",
   "execution_count": 7,
   "metadata": {},
   "outputs": [],
   "source": [
    "tokenizer = Tokenizer(num_words=max_words)\n",
    "tokenizer.fit_on_texts(train_text)\n",
    "train_sequences = tokenizer.texts_to_sequences(train_text)\n",
    "word_index = tokenizer.word_index\n",
    "train_text = pad_sequences(train_sequences, maxlen=max_len)"
   ]
  },
  {
   "cell_type": "code",
   "execution_count": 8,
   "metadata": {},
   "outputs": [],
   "source": [
    "val_sequences = tokenizer.texts_to_sequences(val_text)\n",
    "val_text = pad_sequences(val_sequences, maxlen=max_len)"
   ]
  },
  {
   "cell_type": "code",
   "execution_count": 9,
   "metadata": {},
   "outputs": [],
   "source": [
    "test_sequences = tokenizer.texts_to_sequences(test_text)\n",
    "test_text = pad_sequences(test_sequences, maxlen=max_len)"
   ]
  },
  {
   "cell_type": "code",
   "execution_count": 10,
   "metadata": {},
   "outputs": [],
   "source": [
    "# one hot encoding the labels\n",
    "train_label = to_categorical(train_label)\n",
    "val_label = to_categorical(val_label)\n",
    "test_label = to_categorical(test_label)"
   ]
  },
  {
   "cell_type": "markdown",
   "metadata": {},
   "source": [
    "### Prepare GloVe word-embeddings"
   ]
  },
  {
   "cell_type": "code",
   "execution_count": 11,
   "metadata": {},
   "outputs": [
    {
     "name": "stdout",
     "output_type": "stream",
     "text": [
      "Found 400000 word vectors.\n"
     ]
    }
   ],
   "source": [
    "# parsing the Glove word-embeddings (from the book)\n",
    "glove_dir = '/home/ubuntu/hw02-1'\n",
    "\n",
    "embeddings_index = {}\n",
    "f = open(os.path.join(glove_dir, 'glove.6B.100d.txt'))\n",
    "for line in f:\n",
    "    values = line.split()\n",
    "    word = values[0]\n",
    "    coefs = np.asarray(values[1:], dtype='float32')\n",
    "    embeddings_index[word] = coefs\n",
    "f.close()\n",
    "print('Found {} word vectors.'.format(len(embeddings_index)))"
   ]
  },
  {
   "cell_type": "code",
   "execution_count": 12,
   "metadata": {},
   "outputs": [],
   "source": [
    "# preparing Glove word-embeddings matrix (from the book)\n",
    "max_words = 10000\n",
    "embedding_dim = 100\n",
    "\n",
    "embedding_matrix = np.zeros((max_words, embedding_dim))\n",
    "for word, i in word_index.items():\n",
    "    if i < max_words:\n",
    "        embedding_vector = embeddings_index.get(word)\n",
    "        if embedding_vector is not None:\n",
    "            embedding_matrix[i] = embedding_vector"
   ]
  },
  {
   "cell_type": "markdown",
   "metadata": {},
   "source": [
    "### 1) Estimate a basic feed-forward network (without pre-trained word embeddings)"
   ]
  },
  {
   "cell_type": "code",
   "execution_count": 13,
   "metadata": {},
   "outputs": [],
   "source": [
    "from keras.models import Sequential\n",
    "from keras.layers import Embedding\n",
    "from keras.layers import Flatten, Dense"
   ]
  },
  {
   "cell_type": "code",
   "execution_count": 23,
   "metadata": {},
   "outputs": [
    {
     "name": "stdout",
     "output_type": "stream",
     "text": [
      "_________________________________________________________________\n",
      "Layer (type)                 Output Shape              Param #   \n",
      "=================================================================\n",
      "embedding_5 (Embedding)      (None, 100, 64)           640000    \n",
      "_________________________________________________________________\n",
      "flatten_5 (Flatten)          (None, 6400)              0         \n",
      "_________________________________________________________________\n",
      "dense_5 (Dense)              (None, 24)                153624    \n",
      "=================================================================\n",
      "Total params: 793,624\n",
      "Trainable params: 793,624\n",
      "Non-trainable params: 0\n",
      "_________________________________________________________________\n"
     ]
    }
   ],
   "source": [
    "# how to select dimension ? 8?\n",
    "ff_no_glove = Sequential()\n",
    "ff_no_glove.add(Embedding(10000, 64, input_length=max_len))\n",
    "ff_no_glove.add(Flatten())\n",
    "ff_no_glove.add(Dense(24, activation='softmax'))\n",
    "ff_no_glove.compile(optimizer='rmsprop',\n",
    "                    loss='categorical_crossentropy',\n",
    "                    metrics=['acc'])\n",
    "ff_no_glove.summary()"
   ]
  },
  {
   "cell_type": "code",
   "execution_count": 24,
   "metadata": {},
   "outputs": [
    {
     "name": "stdout",
     "output_type": "stream",
     "text": [
      "Train on 278612 samples, validate on 69649 samples\n",
      "Epoch 1/50\n",
      "278612/278612 [==============================] - 4s 14us/step - loss: 1.5043 - acc: 0.5961 - val_loss: 0.7978 - val_acc: 0.7919\n",
      "Epoch 2/50\n",
      "278612/278612 [==============================] - 3s 12us/step - loss: 0.6704 - acc: 0.8178 - val_loss: 0.6389 - val_acc: 0.8287\n",
      "Epoch 3/50\n",
      "278612/278612 [==============================] - 3s 12us/step - loss: 0.5564 - acc: 0.8467 - val_loss: 0.5960 - val_acc: 0.8407\n",
      "Epoch 4/50\n",
      "278612/278612 [==============================] - 3s 12us/step - loss: 0.4985 - acc: 0.8616 - val_loss: 0.5749 - val_acc: 0.8460\n",
      "Epoch 5/50\n",
      "278612/278612 [==============================] - 3s 12us/step - loss: 0.4570 - acc: 0.8730 - val_loss: 0.5664 - val_acc: 0.8501\n",
      "Epoch 6/50\n",
      "278612/278612 [==============================] - 3s 12us/step - loss: 0.4241 - acc: 0.8816 - val_loss: 0.5594 - val_acc: 0.8516\n",
      "Epoch 7/50\n",
      "278612/278612 [==============================] - 3s 12us/step - loss: 0.3962 - acc: 0.8895 - val_loss: 0.5574 - val_acc: 0.8538\n",
      "Epoch 8/50\n",
      "278612/278612 [==============================] - 3s 12us/step - loss: 0.3715 - acc: 0.8958 - val_loss: 0.5602 - val_acc: 0.8536\n",
      "Epoch 9/50\n",
      "278612/278612 [==============================] - 3s 12us/step - loss: 0.3496 - acc: 0.9017 - val_loss: 0.5615 - val_acc: 0.8553\n",
      "Epoch 10/50\n",
      "278612/278612 [==============================] - 3s 12us/step - loss: 0.3299 - acc: 0.9068 - val_loss: 0.5631 - val_acc: 0.8566\n",
      "Epoch 11/50\n",
      "278612/278612 [==============================] - 3s 12us/step - loss: 0.3117 - acc: 0.9117 - val_loss: 0.5700 - val_acc: 0.8564\n",
      "Epoch 12/50\n",
      "278612/278612 [==============================] - 3s 12us/step - loss: 0.2957 - acc: 0.9159 - val_loss: 0.5758 - val_acc: 0.8570\n",
      "Epoch 13/50\n",
      "278612/278612 [==============================] - 3s 12us/step - loss: 0.2811 - acc: 0.9196 - val_loss: 0.5819 - val_acc: 0.8571\n",
      "Epoch 14/50\n",
      "278612/278612 [==============================] - 3s 12us/step - loss: 0.2679 - acc: 0.9229 - val_loss: 0.5909 - val_acc: 0.8557\n",
      "Epoch 15/50\n",
      "278612/278612 [==============================] - 3s 12us/step - loss: 0.2557 - acc: 0.9261 - val_loss: 0.5973 - val_acc: 0.8558\n",
      "Epoch 16/50\n",
      "278612/278612 [==============================] - 3s 12us/step - loss: 0.2450 - acc: 0.9288 - val_loss: 0.6078 - val_acc: 0.8556\n",
      "Epoch 17/50\n",
      "278612/278612 [==============================] - 3s 12us/step - loss: 0.2349 - acc: 0.9314 - val_loss: 0.6158 - val_acc: 0.8546\n",
      "Epoch 18/50\n",
      "278612/278612 [==============================] - 3s 12us/step - loss: 0.2261 - acc: 0.9334 - val_loss: 0.6250 - val_acc: 0.8542\n",
      "Epoch 19/50\n",
      "278612/278612 [==============================] - 3s 12us/step - loss: 0.2174 - acc: 0.9358 - val_loss: 0.6345 - val_acc: 0.8541\n",
      "Epoch 20/50\n",
      "278612/278612 [==============================] - 3s 12us/step - loss: 0.2105 - acc: 0.9373 - val_loss: 0.6454 - val_acc: 0.8522\n",
      "Epoch 21/50\n",
      "278612/278612 [==============================] - 3s 12us/step - loss: 0.2032 - acc: 0.9392 - val_loss: 0.6549 - val_acc: 0.8521\n",
      "Epoch 22/50\n",
      "278612/278612 [==============================] - 3s 12us/step - loss: 0.1972 - acc: 0.9404 - val_loss: 0.6657 - val_acc: 0.8506\n",
      "Epoch 23/50\n",
      "278612/278612 [==============================] - 3s 12us/step - loss: 0.1915 - acc: 0.9419 - val_loss: 0.6762 - val_acc: 0.8500\n",
      "Epoch 24/50\n",
      "278612/278612 [==============================] - 3s 12us/step - loss: 0.1861 - acc: 0.9429 - val_loss: 0.6862 - val_acc: 0.8492\n",
      "Epoch 25/50\n",
      "278612/278612 [==============================] - 3s 12us/step - loss: 0.1814 - acc: 0.9442 - val_loss: 0.6968 - val_acc: 0.8486\n",
      "Epoch 26/50\n",
      "278612/278612 [==============================] - 3s 12us/step - loss: 0.1769 - acc: 0.9452 - val_loss: 0.7060 - val_acc: 0.8482\n",
      "Epoch 27/50\n",
      "278612/278612 [==============================] - 3s 12us/step - loss: 0.1730 - acc: 0.9457 - val_loss: 0.7161 - val_acc: 0.8483\n",
      "Epoch 28/50\n",
      "278612/278612 [==============================] - 3s 12us/step - loss: 0.1692 - acc: 0.9466 - val_loss: 0.7274 - val_acc: 0.8468\n",
      "Epoch 29/50\n",
      "278612/278612 [==============================] - 3s 12us/step - loss: 0.1657 - acc: 0.9478 - val_loss: 0.7383 - val_acc: 0.8468\n",
      "Epoch 30/50\n",
      "278612/278612 [==============================] - 3s 12us/step - loss: 0.1628 - acc: 0.9485 - val_loss: 0.7485 - val_acc: 0.8465\n",
      "Epoch 31/50\n",
      "278612/278612 [==============================] - 3s 12us/step - loss: 0.1599 - acc: 0.9488 - val_loss: 0.7574 - val_acc: 0.8458\n",
      "Epoch 32/50\n",
      "278612/278612 [==============================] - 3s 12us/step - loss: 0.1568 - acc: 0.9495 - val_loss: 0.7690 - val_acc: 0.8450\n",
      "Epoch 33/50\n",
      "278612/278612 [==============================] - 3s 12us/step - loss: 0.1544 - acc: 0.9502 - val_loss: 0.7788 - val_acc: 0.8441\n",
      "Epoch 34/50\n",
      "278612/278612 [==============================] - 3s 12us/step - loss: 0.1521 - acc: 0.9510 - val_loss: 0.7895 - val_acc: 0.8438\n",
      "Epoch 35/50\n",
      "278612/278612 [==============================] - 3s 12us/step - loss: 0.1501 - acc: 0.9513 - val_loss: 0.8001 - val_acc: 0.8420\n",
      "Epoch 36/50\n",
      "278612/278612 [==============================] - 3s 12us/step - loss: 0.1478 - acc: 0.9518 - val_loss: 0.8111 - val_acc: 0.8418\n",
      "Epoch 37/50\n",
      "278612/278612 [==============================] - 3s 12us/step - loss: 0.1462 - acc: 0.9521 - val_loss: 0.8199 - val_acc: 0.8422\n",
      "Epoch 38/50\n",
      "278612/278612 [==============================] - 3s 12us/step - loss: 0.1443 - acc: 0.9527 - val_loss: 0.8288 - val_acc: 0.8417\n",
      "Epoch 39/50\n",
      "278612/278612 [==============================] - 3s 12us/step - loss: 0.1428 - acc: 0.9530 - val_loss: 0.8407 - val_acc: 0.8404\n",
      "Epoch 40/50\n",
      "278612/278612 [==============================] - 3s 12us/step - loss: 0.1412 - acc: 0.9534 - val_loss: 0.8497 - val_acc: 0.8400\n",
      "Epoch 41/50\n",
      "278612/278612 [==============================] - 3s 12us/step - loss: 0.1398 - acc: 0.9536 - val_loss: 0.8605 - val_acc: 0.8394\n",
      "Epoch 42/50\n",
      "278612/278612 [==============================] - 3s 12us/step - loss: 0.1384 - acc: 0.9541 - val_loss: 0.8692 - val_acc: 0.8395\n",
      "Epoch 43/50\n",
      "278612/278612 [==============================] - 3s 12us/step - loss: 0.1373 - acc: 0.9540 - val_loss: 0.8791 - val_acc: 0.8388\n",
      "Epoch 44/50\n",
      "278612/278612 [==============================] - 3s 12us/step - loss: 0.1360 - acc: 0.9545 - val_loss: 0.8898 - val_acc: 0.8380\n",
      "Epoch 45/50\n",
      "278612/278612 [==============================] - 3s 12us/step - loss: 0.1348 - acc: 0.9550 - val_loss: 0.8993 - val_acc: 0.8377\n",
      "Epoch 46/50\n",
      "278612/278612 [==============================] - 3s 12us/step - loss: 0.1342 - acc: 0.9551 - val_loss: 0.9100 - val_acc: 0.8371\n",
      "Epoch 47/50\n",
      "278612/278612 [==============================] - 3s 12us/step - loss: 0.1330 - acc: 0.9550 - val_loss: 0.9218 - val_acc: 0.8356\n",
      "Epoch 48/50\n",
      "278612/278612 [==============================] - 3s 12us/step - loss: 0.1318 - acc: 0.9554 - val_loss: 0.9268 - val_acc: 0.8360\n",
      "Epoch 49/50\n",
      "278612/278612 [==============================] - 3s 12us/step - loss: 0.1312 - acc: 0.9557 - val_loss: 0.9378 - val_acc: 0.8357\n",
      "Epoch 50/50\n",
      "278612/278612 [==============================] - 3s 12us/step - loss: 0.1303 - acc: 0.9556 - val_loss: 0.9466 - val_acc: 0.8346\n"
     ]
    }
   ],
   "source": [
    "ff_no_glove_history = ff_no_glove.fit(train_text, train_label,\n",
    "                                      epochs=50,\n",
    "                                      batch_size=512,\n",
    "                                      validation_data=(val_text, val_label))"
   ]
  },
  {
   "cell_type": "code",
   "execution_count": 28,
   "metadata": {},
   "outputs": [],
   "source": [
    "ff_no_glove_history_dict = ff_no_glove_history.history\n",
    "ff_no_glove_val_acc = ff_no_glove_history_dict['val_acc'] \n",
    "ff_no_golve_val_loss = ff_no_glove_history_dict['val_loss']"
   ]
  },
  {
   "cell_type": "code",
   "execution_count": 42,
   "metadata": {},
   "outputs": [
    {
     "data": {
      "image/png": "[encoded data removed]",
      "text/plain": [
       "<Figure size 576x432 with 1 Axes>"
      ]
     },
     "metadata": {},
     "output_type": "display_data"
    }
   ],
   "source": [
    "epochs = np.arange(1, 51)\n",
    "plt.figure(figsize=(8, 6))\n",
    "plt.plot(epochs, ff_no_glove_val_acc, label='validation accuracy', marker='.')\n",
    "plt.plot(epochs, ff_no_golve_val_loss, label='validation loss', marker='v')\n",
    "plt.ylabel('Validation set accuracy and loss')\n",
    "plt.xlabel('Epochs')\n",
    "plt.title('Feed forward model (no GloVe) validation accuracy and loss rates')\n",
    "plt.legend(loc='best')\n",
    "plt.show()"
   ]
  },
  {
   "cell_type": "markdown",
   "metadata": {},
   "source": [
    "### 2) Estimate a basic feed-forward network (with GloVe word embeddings)"
   ]
  },
  {
   "cell_type": "code",
   "execution_count": 36,
   "metadata": {},
   "outputs": [
    {
     "name": "stdout",
     "output_type": "stream",
     "text": [
      "_________________________________________________________________\n",
      "Layer (type)                 Output Shape              Param #   \n",
      "=================================================================\n",
      "embedding_7 (Embedding)      (None, 100, 100)          1000000   \n",
      "_________________________________________________________________\n",
      "flatten_7 (Flatten)          (None, 10000)             0         \n",
      "_________________________________________________________________\n",
      "dense_7 (Dense)              (None, 24)                240024    \n",
      "=================================================================\n",
      "Total params: 1,240,024\n",
      "Trainable params: 1,240,024\n",
      "Non-trainable params: 0\n",
      "_________________________________________________________________\n"
     ]
    }
   ],
   "source": [
    "ff_w_glove = Sequential()\n",
    "ff_w_glove.add(Embedding(10000, embedding_dim, input_length=max_len))\n",
    "ff_w_glove.add(Flatten())\n",
    "ff_w_glove.add(Dense(24, activation='softmax'))\n",
    "ff_w_glove.summary()\n",
    "ff_w_glove.layers[0].set_weights([embedding_matrix])\n",
    "ff_w_glove.layers[0].trainable = False\n",
    "\n",
    "ff_w_glove.compile(optimizer='rmsprop',\n",
    "                   loss='categorical_crossentropy',\n",
    "                   metrics=['acc'])"
   ]
  },
  {
   "cell_type": "code",
   "execution_count": 37,
   "metadata": {},
   "outputs": [],
   "source": [
    "ff_w_glove.layers[0].set_weights([embedding_matrix])\n",
    "ff_w_glove.layers[0].trainable = False"
   ]
  },
  {
   "cell_type": "code",
   "execution_count": 38,
   "metadata": {},
   "outputs": [
    {
     "name": "stdout",
     "output_type": "stream",
     "text": [
      "Train on 278612 samples, validate on 69649 samples\n",
      "Epoch 1/50\n",
      "278612/278612 [==============================] - 3s 12us/step - loss: 1.4329 - acc: 0.5935 - val_loss: 1.1881 - val_acc: 0.6580\n",
      "Epoch 2/50\n",
      "278612/278612 [==============================] - 3s 11us/step - loss: 1.0556 - acc: 0.6976 - val_loss: 1.0853 - val_acc: 0.6919\n",
      "Epoch 3/50\n",
      "278612/278612 [==============================] - 3s 11us/step - loss: 0.9677 - acc: 0.7227 - val_loss: 1.0422 - val_acc: 0.7049\n",
      "Epoch 4/50\n",
      "278612/278612 [==============================] - 3s 10us/step - loss: 0.9194 - acc: 0.7361 - val_loss: 1.0418 - val_acc: 0.7080\n",
      "Epoch 5/50\n",
      "278612/278612 [==============================] - 3s 10us/step - loss: 0.8876 - acc: 0.7461 - val_loss: 1.0431 - val_acc: 0.7037\n",
      "Epoch 6/50\n",
      "278612/278612 [==============================] - 3s 11us/step - loss: 0.8645 - acc: 0.7520 - val_loss: 1.0259 - val_acc: 0.7155\n",
      "Epoch 7/50\n",
      "278612/278612 [==============================] - 3s 10us/step - loss: 0.8460 - acc: 0.7567 - val_loss: 1.0292 - val_acc: 0.7166\n",
      "Epoch 8/50\n",
      "278612/278612 [==============================] - 3s 10us/step - loss: 0.8318 - acc: 0.7607 - val_loss: 1.0413 - val_acc: 0.7111\n",
      "Epoch 9/50\n",
      "278612/278612 [==============================] - 3s 11us/step - loss: 0.8193 - acc: 0.7646 - val_loss: 1.0237 - val_acc: 0.7215\n",
      "Epoch 10/50\n",
      "278612/278612 [==============================] - 3s 11us/step - loss: 0.8098 - acc: 0.7665 - val_loss: 1.0273 - val_acc: 0.7219\n",
      "Epoch 11/50\n",
      "278612/278612 [==============================] - 3s 11us/step - loss: 0.8006 - acc: 0.7698 - val_loss: 1.0212 - val_acc: 0.7233\n",
      "Epoch 12/50\n",
      "278612/278612 [==============================] - 3s 11us/step - loss: 0.7931 - acc: 0.7717 - val_loss: 1.0736 - val_acc: 0.7091\n",
      "Epoch 13/50\n",
      "278612/278612 [==============================] - 3s 11us/step - loss: 0.7867 - acc: 0.7731 - val_loss: 1.0012 - val_acc: 0.7301\n",
      "Epoch 14/50\n",
      "278612/278612 [==============================] - 3s 11us/step - loss: 0.7802 - acc: 0.7753 - val_loss: 1.0537 - val_acc: 0.7167\n",
      "Epoch 15/50\n",
      "278612/278612 [==============================] - 3s 11us/step - loss: 0.7745 - acc: 0.7767 - val_loss: 1.0218 - val_acc: 0.7253\n",
      "Epoch 16/50\n",
      "278612/278612 [==============================] - 3s 11us/step - loss: 0.7702 - acc: 0.7773 - val_loss: 1.0251 - val_acc: 0.7285\n",
      "Epoch 17/50\n",
      "278612/278612 [==============================] - 3s 11us/step - loss: 0.7657 - acc: 0.7796 - val_loss: 1.0770 - val_acc: 0.7152\n",
      "Epoch 18/50\n",
      "278612/278612 [==============================] - 3s 11us/step - loss: 0.7616 - acc: 0.7804 - val_loss: 1.0232 - val_acc: 0.7297\n",
      "Epoch 19/50\n",
      "278612/278612 [==============================] - 3s 11us/step - loss: 0.7570 - acc: 0.7809 - val_loss: 1.0446 - val_acc: 0.7249\n",
      "Epoch 20/50\n",
      "278612/278612 [==============================] - 3s 11us/step - loss: 0.7540 - acc: 0.7823 - val_loss: 1.0231 - val_acc: 0.7322\n",
      "Epoch 21/50\n",
      "278612/278612 [==============================] - 3s 10us/step - loss: 0.7509 - acc: 0.7835 - val_loss: 1.0400 - val_acc: 0.7257\n",
      "Epoch 22/50\n",
      "278612/278612 [==============================] - 3s 10us/step - loss: 0.7475 - acc: 0.7842 - val_loss: 1.0552 - val_acc: 0.7193\n",
      "Epoch 23/50\n",
      "278612/278612 [==============================] - 3s 11us/step - loss: 0.7448 - acc: 0.7852 - val_loss: 1.0710 - val_acc: 0.7220\n",
      "Epoch 24/50\n",
      "278612/278612 [==============================] - 3s 10us/step - loss: 0.7427 - acc: 0.7863 - val_loss: 1.0325 - val_acc: 0.7325\n",
      "Epoch 25/50\n",
      "278612/278612 [==============================] - 3s 11us/step - loss: 0.7392 - acc: 0.7866 - val_loss: 1.0429 - val_acc: 0.7295\n",
      "Epoch 26/50\n",
      "278612/278612 [==============================] - 3s 11us/step - loss: 0.7377 - acc: 0.7869 - val_loss: 1.0466 - val_acc: 0.7293\n",
      "Epoch 27/50\n",
      "278612/278612 [==============================] - 3s 11us/step - loss: 0.7344 - acc: 0.7882 - val_loss: 1.0586 - val_acc: 0.7256\n",
      "Epoch 28/50\n",
      "278612/278612 [==============================] - 3s 11us/step - loss: 0.7330 - acc: 0.7883 - val_loss: 1.0391 - val_acc: 0.7321\n",
      "Epoch 29/50\n",
      "278612/278612 [==============================] - 3s 11us/step - loss: 0.7306 - acc: 0.7892 - val_loss: 1.0792 - val_acc: 0.7235\n",
      "Epoch 30/50\n",
      "278612/278612 [==============================] - 3s 11us/step - loss: 0.7291 - acc: 0.7891 - val_loss: 1.0611 - val_acc: 0.7255\n",
      "Epoch 31/50\n",
      "278612/278612 [==============================] - 3s 11us/step - loss: 0.7271 - acc: 0.7898 - val_loss: 1.0708 - val_acc: 0.7230\n",
      "Epoch 32/50\n",
      "278612/278612 [==============================] - 3s 11us/step - loss: 0.7259 - acc: 0.7908 - val_loss: 1.1261 - val_acc: 0.7102\n",
      "Epoch 33/50\n",
      "278612/278612 [==============================] - 3s 11us/step - loss: 0.7238 - acc: 0.7909 - val_loss: 1.1119 - val_acc: 0.7138\n",
      "Epoch 34/50\n",
      "278612/278612 [==============================] - 3s 11us/step - loss: 0.7222 - acc: 0.7916 - val_loss: 1.0883 - val_acc: 0.7248\n",
      "Epoch 35/50\n",
      "278612/278612 [==============================] - 3s 11us/step - loss: 0.7205 - acc: 0.7924 - val_loss: 1.0611 - val_acc: 0.7326\n",
      "Epoch 36/50\n",
      "278612/278612 [==============================] - 3s 11us/step - loss: 0.7193 - acc: 0.7924 - val_loss: 1.0590 - val_acc: 0.7347\n",
      "Epoch 37/50\n",
      "278612/278612 [==============================] - 3s 11us/step - loss: 0.7183 - acc: 0.7928 - val_loss: 1.0892 - val_acc: 0.7262\n",
      "Epoch 38/50\n",
      "278612/278612 [==============================] - 3s 11us/step - loss: 0.7160 - acc: 0.7931 - val_loss: 1.1020 - val_acc: 0.7195\n",
      "Epoch 39/50\n",
      "278612/278612 [==============================] - 3s 10us/step - loss: 0.7154 - acc: 0.7936 - val_loss: 1.0845 - val_acc: 0.7285\n",
      "Epoch 40/50\n",
      "278612/278612 [==============================] - 3s 11us/step - loss: 0.7141 - acc: 0.7938 - val_loss: 1.0719 - val_acc: 0.7306\n",
      "Epoch 41/50\n",
      "278612/278612 [==============================] - 3s 11us/step - loss: 0.7123 - acc: 0.7945 - val_loss: 1.0737 - val_acc: 0.7300\n",
      "Epoch 42/50\n",
      "278612/278612 [==============================] - 3s 11us/step - loss: 0.7114 - acc: 0.7946 - val_loss: 1.0788 - val_acc: 0.7314\n",
      "Epoch 43/50\n",
      "278612/278612 [==============================] - 3s 11us/step - loss: 0.7102 - acc: 0.7952 - val_loss: 1.0641 - val_acc: 0.7368\n",
      "Epoch 44/50\n",
      "278612/278612 [==============================] - 3s 11us/step - loss: 0.7097 - acc: 0.7952 - val_loss: 1.0883 - val_acc: 0.7278\n",
      "Epoch 45/50\n",
      "278612/278612 [==============================] - 3s 11us/step - loss: 0.7078 - acc: 0.7955 - val_loss: 1.0758 - val_acc: 0.7332\n",
      "Epoch 46/50\n",
      "278612/278612 [==============================] - 3s 11us/step - loss: 0.7075 - acc: 0.7954 - val_loss: 1.1007 - val_acc: 0.7272\n",
      "Epoch 47/50\n",
      "278612/278612 [==============================] - 3s 11us/step - loss: 0.7065 - acc: 0.7960 - val_loss: 1.1094 - val_acc: 0.7274\n",
      "Epoch 48/50\n",
      "278612/278612 [==============================] - 3s 10us/step - loss: 0.7052 - acc: 0.7966 - val_loss: 1.1177 - val_acc: 0.7211\n",
      "Epoch 49/50\n",
      "278612/278612 [==============================] - 3s 11us/step - loss: 0.7045 - acc: 0.7969 - val_loss: 1.1152 - val_acc: 0.7247\n",
      "Epoch 50/50\n",
      "278612/278612 [==============================] - 3s 11us/step - loss: 0.7039 - acc: 0.7967 - val_loss: 1.0979 - val_acc: 0.7328\n"
     ]
    }
   ],
   "source": [
    "ff_w_glove_history = ff_w_glove.fit(train_text, train_label,\n",
    "                                    epochs=50,\n",
    "                                    batch_size=512,\n",
    "                                    validation_data=(val_text, val_label))"
   ]
  },
  {
   "cell_type": "code",
   "execution_count": 39,
   "metadata": {},
   "outputs": [],
   "source": [
    "ff_w_glove_history_dict = ff_w_glove_history.history\n",
    "ff_w_glove_val_acc = ff_w_glove_history_dict['val_acc'] \n",
    "ff_w_golve_val_loss = ff_w_glove_history_dict['val_loss']"
   ]
  },
  {
   "cell_type": "code",
   "execution_count": 41,
   "metadata": {},
   "outputs": [
    {
     "data": {
      "image/png": "[encoded data removed]",
      "text/plain": [
       "<Figure size 576x432 with 1 Axes>"
      ]
     },
     "metadata": {},
     "output_type": "display_data"
    }
   ],
   "source": [
    "epochs = np.arange(1, 51)\n",
    "plt.figure(figsize=(8, 6))\n",
    "plt.plot(epochs, ff_w_glove_val_acc, label='validation accuracy', marker='.')\n",
    "plt.plot(epochs, ff_w_golve_val_loss, label='validation loss', marker='v')\n",
    "plt.ylabel('Validation set accuracy and loss')\n",
    "plt.xlabel('Epochs')\n",
    "plt.title('Feed forward model (w/ GloVe) validation accuracy and loss rates')\n",
    "plt.legend(loc='best')\n",
    "plt.show()"
   ]
  },
  {
   "cell_type": "markdown",
   "metadata": {},
   "source": [
    "### 3) Recurrent Neural Network (RNN) with a `layer_simple_rnn`"
   ]
  },
  {
   "cell_type": "code",
   "execution_count": 14,
   "metadata": {},
   "outputs": [],
   "source": [
    "from keras.layers import SimpleRNN"
   ]
  },
  {
   "cell_type": "code",
   "execution_count": 49,
   "metadata": {},
   "outputs": [
    {
     "name": "stdout",
     "output_type": "stream",
     "text": [
      "_________________________________________________________________\n",
      "Layer (type)                 Output Shape              Param #   \n",
      "=================================================================\n",
      "embedding_11 (Embedding)     (None, 100, 32)           320000    \n",
      "_________________________________________________________________\n",
      "simple_rnn_4 (SimpleRNN)     (None, 32)                2080      \n",
      "_________________________________________________________________\n",
      "dense_11 (Dense)             (None, 24)                792       \n",
      "=================================================================\n",
      "Total params: 322,872\n",
      "Trainable params: 322,872\n",
      "Non-trainable params: 0\n",
      "_________________________________________________________________\n"
     ]
    }
   ],
   "source": [
    "simple_rnn = Sequential()\n",
    "simple_rnn.add(Embedding(10000, 32, input_length=max_len))\n",
    "simple_rnn.add(SimpleRNN(32))\n",
    "simple_rnn.add(Dense(24, activation='softmax'))\n",
    "simple_rnn.summary()\n",
    "\n",
    "simple_rnn.compile(optimizer='rmsprop',\n",
    "                    loss='categorical_crossentropy',\n",
    "                    metrics=['acc'])"
   ]
  },
  {
   "cell_type": "code",
   "execution_count": 50,
   "metadata": {},
   "outputs": [
    {
     "name": "stdout",
     "output_type": "stream",
     "text": [
      "Train on 278612 samples, validate on 69649 samples\n",
      "Epoch 1/50\n",
      "278612/278612 [==============================] - 45s 160us/step - loss: 2.3081 - acc: 0.3158 - val_loss: 1.7306 - val_acc: 0.4981\n",
      "Epoch 2/50\n",
      "278612/278612 [==============================] - 44s 157us/step - loss: 1.4008 - acc: 0.6113 - val_loss: 1.3076 - val_acc: 0.6421\n",
      "Epoch 3/50\n",
      "278612/278612 [==============================] - 44s 157us/step - loss: 1.0772 - acc: 0.7162 - val_loss: 1.0788 - val_acc: 0.7187\n",
      "Epoch 4/50\n",
      "278612/278612 [==============================] - 44s 157us/step - loss: 0.9240 - acc: 0.7603 - val_loss: 0.9728 - val_acc: 0.7453\n",
      "Epoch 5/50\n",
      "278612/278612 [==============================] - 44s 157us/step - loss: 0.8306 - acc: 0.7860 - val_loss: 0.9724 - val_acc: 0.7454\n",
      "Epoch 6/50\n",
      "278612/278612 [==============================] - 44s 157us/step - loss: 0.7561 - acc: 0.8060 - val_loss: 0.8358 - val_acc: 0.7870\n",
      "Epoch 7/50\n",
      "278612/278612 [==============================] - 44s 157us/step - loss: 0.7056 - acc: 0.8194 - val_loss: 0.8863 - val_acc: 0.7675\n",
      "Epoch 8/50\n",
      "278612/278612 [==============================] - 44s 157us/step - loss: 0.6680 - acc: 0.8299 - val_loss: 0.8669 - val_acc: 0.7744\n",
      "Epoch 9/50\n",
      "278612/278612 [==============================] - 44s 157us/step - loss: 0.6381 - acc: 0.8375 - val_loss: 0.9696 - val_acc: 0.7447\n",
      "Epoch 10/50\n",
      "278612/278612 [==============================] - 44s 157us/step - loss: 0.6119 - acc: 0.8437 - val_loss: 0.7866 - val_acc: 0.7999\n",
      "Epoch 11/50\n",
      "278612/278612 [==============================] - 44s 157us/step - loss: 0.5897 - acc: 0.8493 - val_loss: 0.7983 - val_acc: 0.7929\n",
      "Epoch 12/50\n",
      "278612/278612 [==============================] - 44s 157us/step - loss: 0.5682 - acc: 0.8546 - val_loss: 0.7558 - val_acc: 0.8080\n",
      "Epoch 13/50\n",
      "278612/278612 [==============================] - 44s 157us/step - loss: 0.5501 - acc: 0.8594 - val_loss: 0.7491 - val_acc: 0.8113\n",
      "Epoch 14/50\n",
      "278612/278612 [==============================] - 44s 157us/step - loss: 0.5332 - acc: 0.8630 - val_loss: 0.7922 - val_acc: 0.7975\n",
      "Epoch 15/50\n",
      "278612/278612 [==============================] - 44s 157us/step - loss: 0.5191 - acc: 0.8667 - val_loss: 0.8182 - val_acc: 0.7933\n",
      "Epoch 16/50\n",
      "278612/278612 [==============================] - 44s 157us/step - loss: 0.5057 - acc: 0.8697 - val_loss: 0.7387 - val_acc: 0.8141\n",
      "Epoch 17/50\n",
      "278612/278612 [==============================] - 44s 157us/step - loss: 0.4930 - acc: 0.8733 - val_loss: 0.7482 - val_acc: 0.8115\n",
      "Epoch 18/50\n",
      "278612/278612 [==============================] - 44s 157us/step - loss: 0.4816 - acc: 0.8757 - val_loss: 0.7782 - val_acc: 0.8035\n",
      "Epoch 19/50\n",
      "278612/278612 [==============================] - 44s 157us/step - loss: 0.4713 - acc: 0.8787 - val_loss: 0.7480 - val_acc: 0.8148\n",
      "Epoch 20/50\n",
      "278612/278612 [==============================] - 44s 157us/step - loss: 0.4607 - acc: 0.8814 - val_loss: 0.7050 - val_acc: 0.8268\n",
      "Epoch 21/50\n",
      "278612/278612 [==============================] - 44s 157us/step - loss: 0.4524 - acc: 0.8832 - val_loss: 0.7858 - val_acc: 0.8053\n",
      "Epoch 22/50\n",
      "278612/278612 [==============================] - 44s 157us/step - loss: 0.4444 - acc: 0.8854 - val_loss: 0.7584 - val_acc: 0.8132\n",
      "Epoch 23/50\n",
      "278612/278612 [==============================] - 44s 157us/step - loss: 0.4350 - acc: 0.8879 - val_loss: 0.7321 - val_acc: 0.8194\n",
      "Epoch 24/50\n",
      "278612/278612 [==============================] - 44s 157us/step - loss: 0.4273 - acc: 0.8896 - val_loss: 0.7354 - val_acc: 0.8206\n",
      "Epoch 25/50\n",
      "278612/278612 [==============================] - 44s 157us/step - loss: 0.4198 - acc: 0.8916 - val_loss: 0.7290 - val_acc: 0.8226\n",
      "Epoch 26/50\n",
      "278612/278612 [==============================] - 44s 157us/step - loss: 0.4141 - acc: 0.8928 - val_loss: 0.7866 - val_acc: 0.8064\n",
      "Epoch 27/50\n",
      "278612/278612 [==============================] - 44s 157us/step - loss: 0.4076 - acc: 0.8949 - val_loss: 0.7374 - val_acc: 0.8217\n",
      "Epoch 28/50\n",
      "278612/278612 [==============================] - 44s 157us/step - loss: 0.4027 - acc: 0.8960 - val_loss: 0.7520 - val_acc: 0.8158\n",
      "Epoch 29/50\n",
      "278612/278612 [==============================] - 44s 157us/step - loss: 0.3958 - acc: 0.8976 - val_loss: 0.7791 - val_acc: 0.8120\n",
      "Epoch 30/50\n",
      "278612/278612 [==============================] - 44s 157us/step - loss: 0.3918 - acc: 0.8985 - val_loss: 0.7650 - val_acc: 0.8164\n",
      "Epoch 31/50\n",
      "278612/278612 [==============================] - 44s 157us/step - loss: 0.3866 - acc: 0.9001 - val_loss: 0.7364 - val_acc: 0.8233\n",
      "Epoch 32/50\n",
      "278612/278612 [==============================] - 44s 157us/step - loss: 0.3818 - acc: 0.9012 - val_loss: 0.7458 - val_acc: 0.8198\n",
      "Epoch 33/50\n",
      "278612/278612 [==============================] - 44s 157us/step - loss: 0.3775 - acc: 0.9023 - val_loss: 0.7479 - val_acc: 0.8214\n",
      "Epoch 34/50\n",
      "278612/278612 [==============================] - 44s 157us/step - loss: 0.3729 - acc: 0.9028 - val_loss: 0.7501 - val_acc: 0.8213\n",
      "Epoch 35/50\n",
      "278612/278612 [==============================] - 44s 157us/step - loss: 0.3690 - acc: 0.9039 - val_loss: 0.7376 - val_acc: 0.8240\n",
      "Epoch 36/50\n",
      "278612/278612 [==============================] - 44s 157us/step - loss: 0.3642 - acc: 0.9051 - val_loss: 0.7580 - val_acc: 0.8184\n",
      "Epoch 37/50\n",
      "278612/278612 [==============================] - 44s 157us/step - loss: 0.3612 - acc: 0.9062 - val_loss: 0.8127 - val_acc: 0.8039\n",
      "Epoch 38/50\n",
      "278612/278612 [==============================] - 44s 157us/step - loss: 0.3580 - acc: 0.9066 - val_loss: 0.7454 - val_acc: 0.8243\n",
      "Epoch 39/50\n",
      "278612/278612 [==============================] - 44s 157us/step - loss: 0.3542 - acc: 0.9078 - val_loss: 0.7528 - val_acc: 0.8215\n",
      "Epoch 40/50\n",
      "278612/278612 [==============================] - 44s 158us/step - loss: 0.3507 - acc: 0.9085 - val_loss: 0.7824 - val_acc: 0.8143\n",
      "Epoch 41/50\n",
      "278612/278612 [==============================] - 44s 157us/step - loss: 0.3483 - acc: 0.9092 - val_loss: 0.7813 - val_acc: 0.8163\n",
      "Epoch 42/50\n",
      "278612/278612 [==============================] - 44s 157us/step - loss: 0.3449 - acc: 0.9102 - val_loss: 0.7648 - val_acc: 0.8210\n",
      "Epoch 43/50\n",
      "278612/278612 [==============================] - 44s 157us/step - loss: 0.3424 - acc: 0.9106 - val_loss: 0.7555 - val_acc: 0.8224\n",
      "Epoch 44/50\n",
      "278612/278612 [==============================] - 44s 157us/step - loss: 0.3388 - acc: 0.9117 - val_loss: 0.7511 - val_acc: 0.8243\n",
      "Epoch 45/50\n",
      "278612/278612 [==============================] - 44s 157us/step - loss: 0.3368 - acc: 0.9120 - val_loss: 0.7599 - val_acc: 0.8229\n",
      "Epoch 46/50\n",
      "278612/278612 [==============================] - 44s 157us/step - loss: 0.3335 - acc: 0.9128 - val_loss: 0.7902 - val_acc: 0.8148\n",
      "Epoch 47/50\n",
      "278612/278612 [==============================] - 44s 158us/step - loss: 0.3320 - acc: 0.9137 - val_loss: 0.7909 - val_acc: 0.8153\n",
      "Epoch 48/50\n",
      "278612/278612 [==============================] - 44s 157us/step - loss: 0.3288 - acc: 0.9139 - val_loss: 0.8029 - val_acc: 0.8111\n",
      "Epoch 49/50\n",
      "278612/278612 [==============================] - 44s 157us/step - loss: 0.3263 - acc: 0.9145 - val_loss: 0.7768 - val_acc: 0.8189\n",
      "Epoch 50/50\n",
      "278612/278612 [==============================] - 44s 157us/step - loss: 0.3242 - acc: 0.9151 - val_loss: 0.7690 - val_acc: 0.8221\n"
     ]
    }
   ],
   "source": [
    "simple_rnn_history = simple_rnn.fit(train_text, train_label,\n",
    "                                      epochs=50,\n",
    "                                      batch_size=512,\n",
    "                                      validation_data=(val_text, val_label))"
   ]
  },
  {
   "cell_type": "code",
   "execution_count": 51,
   "metadata": {},
   "outputs": [],
   "source": [
    "simple_rnn_history_dict = simple_rnn_history.history\n",
    "simple_rnn_val_acc = simple_rnn_history_dict['val_acc'] \n",
    "simple_rnn_val_loss = simple_rnn_history_dict['val_loss']"
   ]
  },
  {
   "cell_type": "code",
   "execution_count": 52,
   "metadata": {},
   "outputs": [
    {
     "data": {
      "image/png": "[encoded data removed]",
      "text/plain": [
       "<Figure size 576x432 with 1 Axes>"
      ]
     },
     "metadata": {},
     "output_type": "display_data"
    }
   ],
   "source": [
    "epochs = np.arange(1, 51)\n",
    "plt.figure(figsize=(8, 6))\n",
    "plt.plot(epochs, simple_rnn_val_acc, label='validation accuracy', marker='.')\n",
    "plt.plot(epochs, simple_rnn_val_loss, label='validation loss', marker='v')\n",
    "plt.ylabel('Validation set accuracy and loss')\n",
    "plt.xlabel('Epochs')\n",
    "plt.title('Simple RNN validation accuracy and loss rates')\n",
    "plt.legend(loc='best')\n",
    "plt.show()"
   ]
  },
  {
   "cell_type": "markdown",
   "metadata": {},
   "source": [
    "### 4) Recurrent Neural Network (RNN) with an LSTM layer (*20 epochs*)"
   ]
  },
  {
   "cell_type": "code",
   "execution_count": 15,
   "metadata": {},
   "outputs": [],
   "source": [
    "from keras.layers import LSTM"
   ]
  },
  {
   "cell_type": "code",
   "execution_count": 54,
   "metadata": {},
   "outputs": [
    {
     "name": "stdout",
     "output_type": "stream",
     "text": [
      "_________________________________________________________________\n",
      "Layer (type)                 Output Shape              Param #   \n",
      "=================================================================\n",
      "embedding_12 (Embedding)     (None, 100, 32)           320000    \n",
      "_________________________________________________________________\n",
      "lstm_1 (LSTM)                (None, 32)                8320      \n",
      "_________________________________________________________________\n",
      "dense_12 (Dense)             (None, 24)                792       \n",
      "=================================================================\n",
      "Total params: 329,112\n",
      "Trainable params: 329,112\n",
      "Non-trainable params: 0\n",
      "_________________________________________________________________\n"
     ]
    }
   ],
   "source": [
    "rnn_lstm = Sequential()\n",
    "rnn_lstm.add(Embedding(10000, 32, input_length=max_len))\n",
    "rnn_lstm.add(LSTM(32))\n",
    "rnn_lstm.add(Dense(24, activation='softmax'))\n",
    "rnn_lstm.summary()\n",
    "\n",
    "rnn_lstm.compile(optimizer='rmsprop',\n",
    "                loss='categorical_crossentropy',\n",
    "                metrics=['acc'])"
   ]
  },
  {
   "cell_type": "code",
   "execution_count": 56,
   "metadata": {},
   "outputs": [
    {
     "name": "stdout",
     "output_type": "stream",
     "text": [
      "Train on 278612 samples, validate on 69649 samples\n",
      "Epoch 1/20\n",
      "278612/278612 [==============================] - 104s 373us/step - loss: 1.0955 - acc: 0.7189 - val_loss: 0.8969 - val_acc: 0.7737\n",
      "Epoch 2/20\n",
      "278612/278612 [==============================] - 104s 372us/step - loss: 0.7808 - acc: 0.8025 - val_loss: 0.7876 - val_acc: 0.7960\n",
      "Epoch 3/20\n",
      "278612/278612 [==============================] - 104s 372us/step - loss: 0.6701 - acc: 0.8261 - val_loss: 0.6878 - val_acc: 0.8216\n",
      "Epoch 4/20\n",
      "278612/278612 [==============================] - 104s 372us/step - loss: 0.6083 - acc: 0.8390 - val_loss: 0.6635 - val_acc: 0.8231\n",
      "Epoch 5/20\n",
      "278612/278612 [==============================] - 103s 371us/step - loss: 0.5665 - acc: 0.8475 - val_loss: 0.6233 - val_acc: 0.8320\n",
      "Epoch 6/20\n",
      "278612/278612 [==============================] - 104s 372us/step - loss: 0.5352 - acc: 0.8546 - val_loss: 0.5997 - val_acc: 0.8378\n",
      "Epoch 7/20\n",
      "278612/278612 [==============================] - 104s 372us/step - loss: 0.5104 - acc: 0.8599 - val_loss: 0.5884 - val_acc: 0.8419\n",
      "Epoch 8/20\n",
      "278612/278612 [==============================] - 104s 372us/step - loss: 0.4910 - acc: 0.8639 - val_loss: 0.5726 - val_acc: 0.8443\n",
      "Epoch 9/20\n",
      "278612/278612 [==============================] - 104s 372us/step - loss: 0.4735 - acc: 0.8680 - val_loss: 0.5747 - val_acc: 0.8421\n",
      "Epoch 10/20\n",
      "278612/278612 [==============================] - 104s 372us/step - loss: 0.4593 - acc: 0.8712 - val_loss: 0.5538 - val_acc: 0.8482\n",
      "Epoch 11/20\n",
      "278612/278612 [==============================] - 104s 372us/step - loss: 0.4467 - acc: 0.8741 - val_loss: 0.5492 - val_acc: 0.8485\n",
      "Epoch 12/20\n",
      "278612/278612 [==============================] - 103s 371us/step - loss: 0.4361 - acc: 0.8759 - val_loss: 0.5567 - val_acc: 0.8490\n",
      "Epoch 13/20\n",
      "278612/278612 [==============================] - 103s 371us/step - loss: 0.4260 - acc: 0.8788 - val_loss: 0.5399 - val_acc: 0.8523\n",
      "Epoch 14/20\n",
      "278612/278612 [==============================] - 103s 371us/step - loss: 0.4174 - acc: 0.8806 - val_loss: 0.5400 - val_acc: 0.8512\n",
      "Epoch 15/20\n",
      "278612/278612 [==============================] - 103s 371us/step - loss: 0.4090 - acc: 0.8830 - val_loss: 0.5440 - val_acc: 0.8515\n",
      "Epoch 16/20\n",
      "278612/278612 [==============================] - 103s 370us/step - loss: 0.4024 - acc: 0.8851 - val_loss: 0.5372 - val_acc: 0.8539\n",
      "Epoch 17/20\n",
      "278612/278612 [==============================] - 103s 371us/step - loss: 0.3950 - acc: 0.8871 - val_loss: 0.5612 - val_acc: 0.8477\n",
      "Epoch 18/20\n",
      "278612/278612 [==============================] - 103s 371us/step - loss: 0.3887 - acc: 0.8883 - val_loss: 0.5349 - val_acc: 0.8561\n",
      "Epoch 19/20\n",
      "278612/278612 [==============================] - 103s 371us/step - loss: 0.3823 - acc: 0.8903 - val_loss: 0.5324 - val_acc: 0.8561\n",
      "Epoch 20/20\n",
      "278612/278612 [==============================] - 103s 371us/step - loss: 0.3769 - acc: 0.8915 - val_loss: 0.5538 - val_acc: 0.8516\n"
     ]
    }
   ],
   "source": [
    "# decrease number of epochs to reduce training time\n",
    "rnn_lstm_history = rnn_lstm.fit(train_text, train_label,\n",
    "                                epochs=20,\n",
    "                                batch_size=512,\n",
    "                                validation_data=(val_text, val_label))"
   ]
  },
  {
   "cell_type": "code",
   "execution_count": 57,
   "metadata": {},
   "outputs": [],
   "source": [
    "rnn_lstm_history_dict = rnn_lstm_history.history\n",
    "rnn_lstm_val_acc = rnn_lstm_history_dict['val_acc'] \n",
    "rnn_lstm_val_loss = rnn_lstm_history_dict['val_loss']"
   ]
  },
  {
   "cell_type": "code",
   "execution_count": 58,
   "metadata": {},
   "outputs": [
    {
     "data": {
      "image/png": "[encoded data removed]",
      "text/plain": [
       "<Figure size 576x432 with 1 Axes>"
      ]
     },
     "metadata": {},
     "output_type": "display_data"
    }
   ],
   "source": [
    "epochs = np.arange(1, 21)\n",
    "plt.figure(figsize=(8, 6))\n",
    "plt.plot(epochs, rnn_lstm_val_acc, label='validation accuracy', marker='.')\n",
    "plt.plot(epochs, rnn_lstm_val_loss, label='validation loss', marker='v')\n",
    "plt.ylabel('Validation set accuracy and loss')\n",
    "plt.xlabel('Epochs')\n",
    "plt.title('RNN with LSTM layer validation accuracy and loss rates')\n",
    "plt.legend(loc='best')\n",
    "plt.show()"
   ]
  },
  {
   "cell_type": "markdown",
   "metadata": {},
   "source": [
    "### 5) Recurrent Neural Network (RNN) with a GRU layer (*20 epochs*)"
   ]
  },
  {
   "cell_type": "code",
   "execution_count": 16,
   "metadata": {},
   "outputs": [],
   "source": [
    "from keras.layers import GRU"
   ]
  },
  {
   "cell_type": "code",
   "execution_count": 60,
   "metadata": {},
   "outputs": [
    {
     "name": "stdout",
     "output_type": "stream",
     "text": [
      "_________________________________________________________________\n",
      "Layer (type)                 Output Shape              Param #   \n",
      "=================================================================\n",
      "embedding_13 (Embedding)     (None, 100, 32)           320000    \n",
      "_________________________________________________________________\n",
      "gru_1 (GRU)                  (None, 32)                6240      \n",
      "_________________________________________________________________\n",
      "dense_13 (Dense)             (None, 24)                792       \n",
      "=================================================================\n",
      "Total params: 327,032\n",
      "Trainable params: 327,032\n",
      "Non-trainable params: 0\n",
      "_________________________________________________________________\n"
     ]
    }
   ],
   "source": [
    "rnn_gru = Sequential()\n",
    "rnn_gru.add(Embedding(10000, 32, input_length=max_len))\n",
    "rnn_gru.add(GRU(32))\n",
    "rnn_gru.add(Dense(24, activation='softmax'))\n",
    "rnn_gru.summary()\n",
    "\n",
    "rnn_gru.compile(optimizer='rmsprop',\n",
    "                loss='categorical_crossentropy',\n",
    "                metrics=['acc'])"
   ]
  },
  {
   "cell_type": "code",
   "execution_count": 62,
   "metadata": {},
   "outputs": [
    {
     "name": "stdout",
     "output_type": "stream",
     "text": [
      "Train on 278612 samples, validate on 69649 samples\n",
      "Epoch 1/20\n",
      "278612/278612 [==============================] - 84s 302us/step - loss: 1.1554 - acc: 0.7016 - val_loss: 0.9587 - val_acc: 0.7595\n",
      "Epoch 2/20\n",
      "278612/278612 [==============================] - 84s 302us/step - loss: 0.8375 - acc: 0.7884 - val_loss: 0.8441 - val_acc: 0.7829\n",
      "Epoch 3/20\n",
      "278612/278612 [==============================] - 84s 303us/step - loss: 0.7174 - acc: 0.8157 - val_loss: 0.7176 - val_acc: 0.8157\n",
      "Epoch 4/20\n",
      "278612/278612 [==============================] - 84s 301us/step - loss: 0.6448 - acc: 0.8313 - val_loss: 0.6684 - val_acc: 0.8257\n",
      "Epoch 5/20\n",
      "278612/278612 [==============================] - 84s 302us/step - loss: 0.5918 - acc: 0.8430 - val_loss: 0.6197 - val_acc: 0.8378\n",
      "Epoch 6/20\n",
      "278612/278612 [==============================] - 85s 305us/step - loss: 0.5531 - acc: 0.8507 - val_loss: 0.5958 - val_acc: 0.8403\n",
      "Epoch 7/20\n",
      "278612/278612 [==============================] - 84s 302us/step - loss: 0.5237 - acc: 0.8571 - val_loss: 0.5839 - val_acc: 0.8434\n",
      "Epoch 8/20\n",
      "278612/278612 [==============================] - 83s 297us/step - loss: 0.5004 - acc: 0.8616 - val_loss: 0.5711 - val_acc: 0.8464\n",
      "Epoch 9/20\n",
      "278612/278612 [==============================] - 84s 302us/step - loss: 0.4807 - acc: 0.8657 - val_loss: 0.5475 - val_acc: 0.8517\n",
      "Epoch 10/20\n",
      "278612/278612 [==============================] - 84s 301us/step - loss: 0.4644 - acc: 0.8696 - val_loss: 0.5398 - val_acc: 0.8525\n",
      "Epoch 11/20\n",
      "278612/278612 [==============================] - 84s 302us/step - loss: 0.4505 - acc: 0.8728 - val_loss: 0.5354 - val_acc: 0.8537\n",
      "Epoch 12/20\n",
      "278612/278612 [==============================] - 83s 299us/step - loss: 0.4386 - acc: 0.8763 - val_loss: 0.5250 - val_acc: 0.8558\n",
      "Epoch 13/20\n",
      "278612/278612 [==============================] - 84s 300us/step - loss: 0.4282 - acc: 0.8786 - val_loss: 0.5235 - val_acc: 0.8559\n",
      "Epoch 14/20\n",
      "278612/278612 [==============================] - 84s 301us/step - loss: 0.4185 - acc: 0.8813 - val_loss: 0.5267 - val_acc: 0.8556\n",
      "Epoch 15/20\n",
      "278612/278612 [==============================] - 84s 301us/step - loss: 0.4099 - acc: 0.8834 - val_loss: 0.5169 - val_acc: 0.8572\n",
      "Epoch 16/20\n",
      "278612/278612 [==============================] - 84s 302us/step - loss: 0.4019 - acc: 0.8854 - val_loss: 0.5188 - val_acc: 0.8589\n",
      "Epoch 17/20\n",
      "278612/278612 [==============================] - 85s 304us/step - loss: 0.3940 - acc: 0.8872 - val_loss: 0.5210 - val_acc: 0.8570\n",
      "Epoch 18/20\n",
      "278612/278612 [==============================] - 84s 303us/step - loss: 0.3871 - acc: 0.8892 - val_loss: 0.5146 - val_acc: 0.8593\n",
      "Epoch 19/20\n",
      "278612/278612 [==============================] - 84s 301us/step - loss: 0.3804 - acc: 0.8914 - val_loss: 0.5145 - val_acc: 0.8601\n",
      "Epoch 20/20\n",
      "278612/278612 [==============================] - 84s 303us/step - loss: 0.3742 - acc: 0.8929 - val_loss: 0.5180 - val_acc: 0.8593\n"
     ]
    }
   ],
   "source": [
    "rnn_gru_history = rnn_gru.fit(train_text, train_label,\n",
    "                            epochs=20,\n",
    "                            batch_size=512,\n",
    "                            validation_data=(val_text, val_label))"
   ]
  },
  {
   "cell_type": "code",
   "execution_count": 63,
   "metadata": {},
   "outputs": [],
   "source": [
    "rnn_gru_history_dict = rnn_gru_history.history\n",
    "rnn_gru_val_acc = rnn_gru_history_dict['val_acc'] \n",
    "rnn_gru_val_loss = rnn_gru_history_dict['val_loss']"
   ]
  },
  {
   "cell_type": "code",
   "execution_count": 64,
   "metadata": {},
   "outputs": [
    {
     "data": {
      "image/png": "[encoded data removed]",
      "text/plain": [
       "<Figure size 576x432 with 1 Axes>"
      ]
     },
     "metadata": {},
     "output_type": "display_data"
    }
   ],
   "source": [
    "epochs = np.arange(1, 21)\n",
    "plt.figure(figsize=(8, 6))\n",
    "plt.plot(epochs, rnn_gru_val_acc, label='validation accuracy', marker='.')\n",
    "plt.plot(epochs, rnn_gru_val_loss, label='validation loss', marker='v')\n",
    "plt.ylabel('Validation set accuracy and loss')\n",
    "plt.xlabel('Epochs')\n",
    "plt.title('RNN with GRU layer validation accuracy and loss rates')\n",
    "plt.legend(loc='best')\n",
    "plt.show()"
   ]
  },
  {
   "cell_type": "markdown",
   "metadata": {},
   "source": [
    "### 6) Naive approach (no word embeddings) intended as baseline"
   ]
  },
  {
   "cell_type": "code",
   "execution_count": 69,
   "metadata": {},
   "outputs": [],
   "source": [
    "naive = Sequential()\n",
    "naive.add(Embedding(10000, 64, input_length=max_len))\n",
    "naive.add(Flatten())\n",
    "naive.add(Dense(64, activation='relu'))\n",
    "naive.add(Dense(64, activation='relu'))\n",
    "naive.add(Dense(64, activation='relu'))\n",
    "naive.add(Dense(24, activation='softmax'))\n",
    "\n",
    "naive.compile(optimizer='rmsprop',\n",
    "              loss='categorical_crossentropy',\n",
    "              metrics=['acc'])"
   ]
  },
  {
   "cell_type": "code",
   "execution_count": 70,
   "metadata": {},
   "outputs": [
    {
     "name": "stdout",
     "output_type": "stream",
     "text": [
      "Train on 278612 samples, validate on 69649 samples\n",
      "Epoch 1/50\n",
      "278612/278612 [==============================] - 5s 19us/step - loss: 1.4717 - acc: 0.5839 - val_loss: 0.8415 - val_acc: 0.7777\n",
      "Epoch 2/50\n",
      "278612/278612 [==============================] - 4s 15us/step - loss: 0.6749 - acc: 0.8204 - val_loss: 0.7167 - val_acc: 0.8077\n",
      "Epoch 3/50\n",
      "278612/278612 [==============================] - 4s 15us/step - loss: 0.5228 - acc: 0.8575 - val_loss: 0.6129 - val_acc: 0.8346\n",
      "Epoch 4/50\n",
      "278612/278612 [==============================] - 4s 15us/step - loss: 0.4337 - acc: 0.8799 - val_loss: 0.5900 - val_acc: 0.8451\n",
      "Epoch 5/50\n",
      "278612/278612 [==============================] - 4s 15us/step - loss: 0.3709 - acc: 0.8958 - val_loss: 0.6081 - val_acc: 0.8453\n",
      "Epoch 6/50\n",
      "278612/278612 [==============================] - 4s 15us/step - loss: 0.3246 - acc: 0.9080 - val_loss: 0.6018 - val_acc: 0.8491\n",
      "Epoch 7/50\n",
      "278612/278612 [==============================] - 4s 15us/step - loss: 0.2886 - acc: 0.9170 - val_loss: 0.6278 - val_acc: 0.8484\n",
      "Epoch 8/50\n",
      "278612/278612 [==============================] - 4s 15us/step - loss: 0.2601 - acc: 0.9240 - val_loss: 0.6504 - val_acc: 0.8417\n",
      "Epoch 9/50\n",
      "278612/278612 [==============================] - 4s 15us/step - loss: 0.2377 - acc: 0.9297 - val_loss: 0.6692 - val_acc: 0.8452\n",
      "Epoch 10/50\n",
      "278612/278612 [==============================] - 4s 15us/step - loss: 0.2206 - acc: 0.9338 - val_loss: 0.6805 - val_acc: 0.8486\n",
      "Epoch 11/50\n",
      "278612/278612 [==============================] - 4s 15us/step - loss: 0.2058 - acc: 0.9378 - val_loss: 0.6950 - val_acc: 0.8463\n",
      "Epoch 12/50\n",
      "278612/278612 [==============================] - 4s 15us/step - loss: 0.1944 - acc: 0.9403 - val_loss: 0.7229 - val_acc: 0.8480\n",
      "Epoch 13/50\n",
      "278612/278612 [==============================] - 4s 15us/step - loss: 0.1846 - acc: 0.9427 - val_loss: 0.7332 - val_acc: 0.8415\n",
      "Epoch 14/50\n",
      "278612/278612 [==============================] - 4s 15us/step - loss: 0.1761 - acc: 0.9450 - val_loss: 0.7375 - val_acc: 0.8461\n",
      "Epoch 15/50\n",
      "278612/278612 [==============================] - 4s 15us/step - loss: 0.1688 - acc: 0.9468 - val_loss: 0.7513 - val_acc: 0.8447\n",
      "Epoch 16/50\n",
      "278612/278612 [==============================] - 4s 15us/step - loss: 0.1622 - acc: 0.9486 - val_loss: 0.7738 - val_acc: 0.8422\n",
      "Epoch 17/50\n",
      "278612/278612 [==============================] - 4s 15us/step - loss: 0.1562 - acc: 0.9498 - val_loss: 0.7992 - val_acc: 0.8398\n",
      "Epoch 18/50\n",
      "278612/278612 [==============================] - 4s 15us/step - loss: 0.1515 - acc: 0.9508 - val_loss: 0.7929 - val_acc: 0.8412\n",
      "Epoch 19/50\n",
      "278612/278612 [==============================] - 4s 15us/step - loss: 0.1460 - acc: 0.9523 - val_loss: 0.8181 - val_acc: 0.8413\n",
      "Epoch 20/50\n",
      "278612/278612 [==============================] - 4s 15us/step - loss: 0.1410 - acc: 0.9534 - val_loss: 0.8584 - val_acc: 0.8391\n",
      "Epoch 21/50\n",
      "278612/278612 [==============================] - 4s 15us/step - loss: 0.1374 - acc: 0.9539 - val_loss: 0.8632 - val_acc: 0.8406\n",
      "Epoch 22/50\n",
      "278612/278612 [==============================] - 4s 15us/step - loss: 0.1340 - acc: 0.9549 - val_loss: 0.8876 - val_acc: 0.8374\n",
      "Epoch 23/50\n",
      "278612/278612 [==============================] - 4s 15us/step - loss: 0.1301 - acc: 0.9556 - val_loss: 0.8829 - val_acc: 0.8400\n",
      "Epoch 24/50\n",
      "278612/278612 [==============================] - 4s 15us/step - loss: 0.1270 - acc: 0.9566 - val_loss: 0.8980 - val_acc: 0.8381\n",
      "Epoch 25/50\n",
      "278612/278612 [==============================] - 4s 15us/step - loss: 0.1245 - acc: 0.9575 - val_loss: 0.9495 - val_acc: 0.8375\n",
      "Epoch 26/50\n",
      "278612/278612 [==============================] - 4s 15us/step - loss: 0.1214 - acc: 0.9583 - val_loss: 0.9443 - val_acc: 0.8365\n",
      "Epoch 27/50\n",
      "278612/278612 [==============================] - 4s 16us/step - loss: 0.1190 - acc: 0.9587 - val_loss: 0.9485 - val_acc: 0.8347\n",
      "Epoch 28/50\n",
      "278612/278612 [==============================] - 4s 15us/step - loss: 0.1161 - acc: 0.9594 - val_loss: 0.9837 - val_acc: 0.8305\n",
      "Epoch 29/50\n",
      "278612/278612 [==============================] - 4s 15us/step - loss: 0.1143 - acc: 0.9600 - val_loss: 0.9708 - val_acc: 0.8351\n",
      "Epoch 30/50\n",
      "278612/278612 [==============================] - 4s 15us/step - loss: 0.1122 - acc: 0.9606 - val_loss: 0.9910 - val_acc: 0.8344\n",
      "Epoch 31/50\n",
      "278612/278612 [==============================] - 4s 15us/step - loss: 0.1103 - acc: 0.9613 - val_loss: 1.0125 - val_acc: 0.8358\n",
      "Epoch 32/50\n",
      "278612/278612 [==============================] - 4s 15us/step - loss: 0.1082 - acc: 0.9617 - val_loss: 1.0300 - val_acc: 0.8333\n",
      "Epoch 33/50\n",
      "278612/278612 [==============================] - 4s 15us/step - loss: 0.1069 - acc: 0.9621 - val_loss: 1.0770 - val_acc: 0.8359\n",
      "Epoch 34/50\n",
      "278612/278612 [==============================] - 4s 15us/step - loss: 0.1049 - acc: 0.9624 - val_loss: 1.0682 - val_acc: 0.8323\n",
      "Epoch 35/50\n",
      "278612/278612 [==============================] - 4s 15us/step - loss: 0.1034 - acc: 0.9631 - val_loss: 1.0797 - val_acc: 0.8341\n",
      "Epoch 36/50\n",
      "278612/278612 [==============================] - 4s 15us/step - loss: 0.1025 - acc: 0.9633 - val_loss: 1.0737 - val_acc: 0.8290\n",
      "Epoch 37/50\n",
      "278612/278612 [==============================] - 4s 15us/step - loss: 0.1007 - acc: 0.9635 - val_loss: 1.0731 - val_acc: 0.8300\n",
      "Epoch 38/50\n",
      "278612/278612 [==============================] - 4s 15us/step - loss: 0.1003 - acc: 0.9635 - val_loss: 1.0746 - val_acc: 0.8322\n",
      "Epoch 39/50\n",
      "278612/278612 [==============================] - 4s 15us/step - loss: 0.0986 - acc: 0.9640 - val_loss: 1.1079 - val_acc: 0.8326\n",
      "Epoch 40/50\n",
      "278612/278612 [==============================] - 4s 15us/step - loss: 0.0977 - acc: 0.9645 - val_loss: 1.1264 - val_acc: 0.8317\n",
      "Epoch 41/50\n",
      "278612/278612 [==============================] - 4s 15us/step - loss: 0.0963 - acc: 0.9645 - val_loss: 1.1135 - val_acc: 0.8291\n",
      "Epoch 42/50\n",
      "278612/278612 [==============================] - 4s 15us/step - loss: 0.0956 - acc: 0.9644 - val_loss: 1.1330 - val_acc: 0.8270\n",
      "Epoch 43/50\n",
      "278612/278612 [==============================] - 4s 15us/step - loss: 0.0948 - acc: 0.9655 - val_loss: 1.1380 - val_acc: 0.8278\n",
      "Epoch 44/50\n",
      "278612/278612 [==============================] - 4s 15us/step - loss: 0.0930 - acc: 0.9652 - val_loss: 1.1581 - val_acc: 0.8278\n",
      "Epoch 45/50\n",
      "278612/278612 [==============================] - 4s 15us/step - loss: 0.0932 - acc: 0.9655 - val_loss: 1.1864 - val_acc: 0.8254\n",
      "Epoch 46/50\n",
      "278612/278612 [==============================] - 4s 15us/step - loss: 0.0924 - acc: 0.9655 - val_loss: 1.1806 - val_acc: 0.8243\n",
      "Epoch 47/50\n",
      "278612/278612 [==============================] - 4s 15us/step - loss: 0.0911 - acc: 0.9660 - val_loss: 1.2033 - val_acc: 0.8285\n",
      "Epoch 48/50\n",
      "278612/278612 [==============================] - 4s 15us/step - loss: 0.0908 - acc: 0.9660 - val_loss: 1.2042 - val_acc: 0.8275\n",
      "Epoch 49/50\n",
      "278612/278612 [==============================] - 4s 15us/step - loss: 0.0902 - acc: 0.9660 - val_loss: 1.2488 - val_acc: 0.8282\n",
      "Epoch 50/50\n",
      "278612/278612 [==============================] - 4s 15us/step - loss: 0.0894 - acc: 0.9662 - val_loss: 1.2032 - val_acc: 0.8273\n"
     ]
    }
   ],
   "source": [
    "naive_history = naive.fit(train_text, train_label,\n",
    "                          epochs=50,\n",
    "                          batch_size=512,\n",
    "                          validation_data=(val_text, val_label))"
   ]
  },
  {
   "cell_type": "code",
   "execution_count": 71,
   "metadata": {},
   "outputs": [],
   "source": [
    "naive_history_dict = naive_history.history\n",
    "naive_val_acc = naive_history_dict['val_acc'] \n",
    "naive_val_loss = naive_history_dict['val_loss']"
   ]
  },
  {
   "cell_type": "code",
   "execution_count": 72,
   "metadata": {},
   "outputs": [
    {
     "data": {
      "image/png": "[encoded data removed]",
      "text/plain": [
       "<Figure size 576x432 with 1 Axes>"
      ]
     },
     "metadata": {},
     "output_type": "display_data"
    }
   ],
   "source": [
    "epochs = np.arange(1, 51)\n",
    "plt.figure(figsize=(8, 6))\n",
    "plt.plot(epochs, naive_val_acc, label='validation accuracy', marker='.')\n",
    "plt.plot(epochs, naive_val_loss, label='validation loss', marker='v')\n",
    "plt.ylabel('Validation set accuracy and loss')\n",
    "plt.xlabel('Epochs')\n",
    "plt.title('Naive approach validation accuracy and loss rates')\n",
    "plt.legend(loc='best')\n",
    "plt.show()"
   ]
  },
  {
   "cell_type": "markdown",
   "metadata": {},
   "source": [
    "### 7) RNN with GRU layer and dropout regularization"
   ]
  },
  {
   "cell_type": "code",
   "execution_count": 21,
   "metadata": {},
   "outputs": [
    {
     "name": "stdout",
     "output_type": "stream",
     "text": [
      "_________________________________________________________________\n",
      "Layer (type)                 Output Shape              Param #   \n",
      "=================================================================\n",
      "embedding_2 (Embedding)      (None, 100, 32)           320000    \n",
      "_________________________________________________________________\n",
      "gru_1 (GRU)                  (None, 32)                6240      \n",
      "_________________________________________________________________\n",
      "dense_2 (Dense)              (None, 24)                792       \n",
      "=================================================================\n",
      "Total params: 327,032\n",
      "Trainable params: 327,032\n",
      "Non-trainable params: 0\n",
      "_________________________________________________________________\n"
     ]
    }
   ],
   "source": [
    "gru_dropout = Sequential()\n",
    "gru_dropout.add(Embedding(10000, 32, input_length=max_len))\n",
    "gru_dropout.add(GRU(32, dropout=0.2, recurrent_dropout=0.2))\n",
    "gru_dropout.add(Dense(24, activation='softmax'))\n",
    "gru_dropout.summary()\n",
    "\n",
    "gru_dropout.compile(optimizer='rmsprop',\n",
    "                loss='categorical_crossentropy',\n",
    "                metrics=['acc'])"
   ]
  },
  {
   "cell_type": "code",
   "execution_count": null,
   "metadata": {},
   "outputs": [
    {
     "name": "stdout",
     "output_type": "stream",
     "text": [
      "Train on 278612 samples, validate on 69649 samples\n",
      "Epoch 1/40\n",
      "278612/278612 [==============================] - 100s 358us/step - loss: 2.3379 - acc: 0.2968 - val_loss: 1.5932 - val_acc: 0.5599\n",
      "Epoch 2/40\n",
      "278612/278612 [==============================] - 98s 352us/step - loss: 1.2856 - acc: 0.6592 - val_loss: 0.8979 - val_acc: 0.7736\n",
      "Epoch 3/40\n",
      " 83456/278612 [=======>......................] - ETA: 1:03 - loss: 0.9439 - acc: 0.7579"
     ]
    }
   ],
   "source": [
    "gru_dropout_history = gru_dropout.fit(train_text, train_label,\n",
    "                              epochs=40,\n",
    "                              batch_size=512,\n",
    "                              validation_data=(val_text, val_label))"
   ]
  },
  {
   "cell_type": "code",
   "execution_count": null,
   "metadata": {},
   "outputs": [],
   "source": [
    "gru_dropout_history_dict = gru_dropout_history.history\n",
    "gru_dropout_val_acc = gru_dropout_history_dict['val_acc'] \n",
    "gru_dropout_val_loss = gru_dropout_history_dict['val_loss']"
   ]
  },
  {
   "cell_type": "code",
   "execution_count": null,
   "metadata": {},
   "outputs": [],
   "source": [
    "epochs = np.arange(1, 21)\n",
    "plt.figure(figsize=(8, 6))\n",
    "plt.plot(epochs, gru_dropout_val_acc, label='validation accuracy', marker='.')\n",
    "plt.plot(epochs, gru_dropout_val_loss, label='validation loss', marker='v')\n",
    "plt.ylabel('Validation set accuracy and loss')\n",
    "plt.xlabel('Epochs')\n",
    "plt.title('RNN with GRU layer and dropout validation accuracy and loss rates')\n",
    "plt.legend(loc='best')\n",
    "plt.show()"
   ]
  },
  {
   "cell_type": "markdown",
   "metadata": {},
   "source": [
    "### 8) RNN with stacked LSTM layers"
   ]
  },
  {
   "cell_type": "code",
   "execution_count": 17,
   "metadata": {},
   "outputs": [
    {
     "name": "stdout",
     "output_type": "stream",
     "text": [
      "WARNING:tensorflow:From /home/ubuntu/anaconda3/envs/tensorflow_p36/lib/python3.6/site-packages/tensorflow/python/framework/op_def_library.py:263: colocate_with (from tensorflow.python.framework.ops) is deprecated and will be removed in a future version.\n",
      "Instructions for updating:\n",
      "Colocations handled automatically by placer.\n",
      "_________________________________________________________________\n",
      "Layer (type)                 Output Shape              Param #   \n",
      "=================================================================\n",
      "embedding_1 (Embedding)      (None, 100, 32)           320000    \n",
      "_________________________________________________________________\n",
      "lstm_1 (LSTM)                (None, 100, 32)           8320      \n",
      "_________________________________________________________________\n",
      "lstm_2 (LSTM)                (None, 32)                8320      \n",
      "_________________________________________________________________\n",
      "dense_1 (Dense)              (None, 24)                792       \n",
      "=================================================================\n",
      "Total params: 337,432\n",
      "Trainable params: 337,432\n",
      "Non-trainable params: 0\n",
      "_________________________________________________________________\n"
     ]
    }
   ],
   "source": [
    "stacked_lstm = Sequential()\n",
    "stacked_lstm.add(Embedding(10000, 32, input_length=max_len))\n",
    "stacked_lstm.add(LSTM(32, return_sequences=True))\n",
    "stacked_lstm.add(LSTM(32))\n",
    "stacked_lstm.add(Dense(24, activation='softmax'))\n",
    "stacked_lstm.summary()\n",
    "\n",
    "stacked_lstm.compile(optimizer='rmsprop',\n",
    "                loss='categorical_crossentropy',\n",
    "                metrics=['acc'])"
   ]
  },
  {
   "cell_type": "code",
   "execution_count": 18,
   "metadata": {},
   "outputs": [
    {
     "name": "stdout",
     "output_type": "stream",
     "text": [
      "WARNING:tensorflow:From /home/ubuntu/anaconda3/envs/tensorflow_p36/lib/python3.6/site-packages/tensorflow/python/ops/math_ops.py:3066: to_int32 (from tensorflow.python.ops.math_ops) is deprecated and will be removed in a future version.\n",
      "Instructions for updating:\n",
      "Use tf.cast instead.\n",
      "Train on 278612 samples, validate on 69649 samples\n",
      "Epoch 1/20\n",
      "278612/278612 [==============================] - 203s 727us/step - loss: 2.2858 - acc: 0.2924 - val_loss: 1.8055 - val_acc: 0.4840\n",
      "Epoch 2/20\n",
      "278612/278612 [==============================] - 199s 715us/step - loss: 1.4600 - acc: 0.6020 - val_loss: 1.1885 - val_acc: 0.6958\n",
      "Epoch 3/20\n",
      "278612/278612 [==============================] - 199s 713us/step - loss: 0.9683 - acc: 0.7558 - val_loss: 0.8840 - val_acc: 0.7716\n",
      "Epoch 4/20\n",
      "278612/278612 [==============================] - 198s 711us/step - loss: 0.7496 - acc: 0.8059 - val_loss: 0.7517 - val_acc: 0.8030\n",
      "Epoch 5/20\n",
      "278612/278612 [==============================] - 198s 709us/step - loss: 0.6523 - acc: 0.8276 - val_loss: 0.6748 - val_acc: 0.8196\n",
      "Epoch 6/20\n",
      "278612/278612 [==============================] - 198s 710us/step - loss: 0.5941 - acc: 0.8404 - val_loss: 0.6497 - val_acc: 0.8250\n",
      "Epoch 7/20\n",
      "278612/278612 [==============================] - 198s 709us/step - loss: 0.5556 - acc: 0.8495 - val_loss: 0.6091 - val_acc: 0.8355\n",
      "Epoch 8/20\n",
      "278612/278612 [==============================] - 198s 709us/step - loss: 0.5268 - acc: 0.8554 - val_loss: 0.6204 - val_acc: 0.8306\n",
      "Epoch 9/20\n",
      "278612/278612 [==============================] - 198s 711us/step - loss: 0.5054 - acc: 0.8605 - val_loss: 0.5801 - val_acc: 0.8421\n",
      "Epoch 10/20\n",
      "278612/278612 [==============================] - 198s 711us/step - loss: 0.4881 - acc: 0.8647 - val_loss: 0.5808 - val_acc: 0.8404\n",
      "Epoch 11/20\n",
      "278612/278612 [==============================] - 198s 710us/step - loss: 0.4737 - acc: 0.8677 - val_loss: 0.5674 - val_acc: 0.8445\n",
      "Epoch 12/20\n",
      "278612/278612 [==============================] - 198s 710us/step - loss: 0.4610 - acc: 0.8707 - val_loss: 0.5700 - val_acc: 0.8432\n",
      "Epoch 13/20\n",
      "278612/278612 [==============================] - 198s 710us/step - loss: 0.4500 - acc: 0.8737 - val_loss: 0.5615 - val_acc: 0.8464\n",
      "Epoch 14/20\n",
      "278612/278612 [==============================] - 198s 711us/step - loss: 0.4394 - acc: 0.8763 - val_loss: 0.5626 - val_acc: 0.8453\n",
      "Epoch 15/20\n",
      "278612/278612 [==============================] - 198s 710us/step - loss: 0.4308 - acc: 0.8780 - val_loss: 0.5554 - val_acc: 0.8481\n",
      "Epoch 16/20\n",
      "278612/278612 [==============================] - 198s 710us/step - loss: 0.4228 - acc: 0.8803 - val_loss: 0.5660 - val_acc: 0.8448\n",
      "Epoch 17/20\n",
      "278612/278612 [==============================] - 198s 712us/step - loss: 0.4148 - acc: 0.8824 - val_loss: 0.5356 - val_acc: 0.8524\n",
      "Epoch 18/20\n",
      "278612/278612 [==============================] - 198s 712us/step - loss: 0.4074 - acc: 0.8843 - val_loss: 0.5376 - val_acc: 0.8527\n",
      "Epoch 19/20\n",
      "278612/278612 [==============================] - 199s 713us/step - loss: 0.4008 - acc: 0.8861 - val_loss: 0.5454 - val_acc: 0.8504\n",
      "Epoch 20/20\n",
      "278612/278612 [==============================] - 198s 712us/step - loss: 0.3941 - acc: 0.8877 - val_loss: 0.5449 - val_acc: 0.8514\n"
     ]
    }
   ],
   "source": [
    "# decrease number of epochs to reduce training time\n",
    "stacked_lstm_history = stacked_lstm.fit(train_text, train_label,\n",
    "                                        epochs=20,\n",
    "                                        batch_size=512,\n",
    "                                        validation_data=(val_text, val_label))"
   ]
  },
  {
   "cell_type": "code",
   "execution_count": 19,
   "metadata": {},
   "outputs": [],
   "source": [
    "stacked_lstm_history_dict = stacked_lstm_history.history\n",
    "stacked_lstm_val_acc = stacked_lstm_history_dict['val_acc'] \n",
    "stacked_lstm_val_loss = stacked_lstm_history_dict['val_loss']"
   ]
  },
  {
   "cell_type": "code",
   "execution_count": 20,
   "metadata": {},
   "outputs": [
    {
     "data": {
      "image/png": "[encoded data removed]",
      "text/plain": [
       "<Figure size 576x432 with 1 Axes>"
      ]
     },
     "metadata": {},
     "output_type": "display_data"
    }
   ],
   "source": [
    "epochs = np.arange(1, 21)\n",
    "plt.figure(figsize=(8, 6))\n",
    "plt.plot(epochs, stacked_lstm_val_acc, label='validation accuracy', marker='.')\n",
    "plt.plot(epochs, stacked_lstm_val_loss, label='validation loss', marker='v')\n",
    "plt.ylabel('Validation set accuracy and loss')\n",
    "plt.xlabel('Epochs')\n",
    "plt.title('RNN with stacked LSTM layers validation accuracy and loss rates')\n",
    "plt.legend(loc='best')\n",
    "plt.show()"
   ]
  },
  {
   "cell_type": "markdown",
   "metadata": {},
   "source": [
    "### 9) RNN with stacked GRU layers"
   ]
  },
  {
   "cell_type": "code",
   "execution_count": 23,
   "metadata": {},
   "outputs": [
    {
     "name": "stdout",
     "output_type": "stream",
     "text": [
      "_________________________________________________________________\n",
      "Layer (type)                 Output Shape              Param #   \n",
      "=================================================================\n",
      "embedding_3 (Embedding)      (None, 100, 32)           320000    \n",
      "_________________________________________________________________\n",
      "gru_2 (GRU)                  (None, 100, 32)           6240      \n",
      "_________________________________________________________________\n",
      "gru_3 (GRU)                  (None, 32)                6240      \n",
      "_________________________________________________________________\n",
      "dense_3 (Dense)              (None, 24)                792       \n",
      "=================================================================\n",
      "Total params: 333,272\n",
      "Trainable params: 333,272\n",
      "Non-trainable params: 0\n",
      "_________________________________________________________________\n"
     ]
    }
   ],
   "source": [
    "stacked_gru = Sequential()\n",
    "stacked_gru.add(Embedding(10000, 32, input_length=max_len))\n",
    "stacked_gru.add(GRU(32, return_sequences=True))\n",
    "stacked_gru.add(GRU(32))\n",
    "stacked_gru.add(Dense(24, activation='softmax'))\n",
    "stacked_gru.summary()\n",
    "\n",
    "stacked_gru.compile(optimizer='rmsprop',\n",
    "                loss='categorical_crossentropy',\n",
    "                metrics=['acc'])"
   ]
  },
  {
   "cell_type": "code",
   "execution_count": 24,
   "metadata": {},
   "outputs": [
    {
     "name": "stdout",
     "output_type": "stream",
     "text": [
      "Train on 278612 samples, validate on 69649 samples\n",
      "Epoch 1/20\n",
      "278612/278612 [==============================] - 162s 580us/step - loss: 2.0521 - acc: 0.3762 - val_loss: 1.5205 - val_acc: 0.5759\n",
      "Epoch 2/20\n",
      "278612/278612 [==============================] - 160s 575us/step - loss: 1.3184 - acc: 0.6434 - val_loss: 1.1493 - val_acc: 0.7043\n",
      "Epoch 3/20\n",
      "278612/278612 [==============================] - 160s 575us/step - loss: 0.9549 - acc: 0.7550 - val_loss: 0.8775 - val_acc: 0.7759\n",
      "Epoch 4/20\n",
      "278612/278612 [==============================] - 160s 575us/step - loss: 0.7726 - acc: 0.8025 - val_loss: 0.7506 - val_acc: 0.8074\n",
      "Epoch 5/20\n",
      "278612/278612 [==============================] - 160s 574us/step - loss: 0.6731 - acc: 0.8245 - val_loss: 0.6945 - val_acc: 0.8187\n",
      "Epoch 6/20\n",
      "278612/278612 [==============================] - 160s 575us/step - loss: 0.6154 - acc: 0.8364 - val_loss: 0.6744 - val_acc: 0.8211\n",
      "Epoch 7/20\n",
      "278612/278612 [==============================] - 160s 574us/step - loss: 0.5773 - acc: 0.8458 - val_loss: 0.6487 - val_acc: 0.8257\n",
      "Epoch 8/20\n",
      "278612/278612 [==============================] - 160s 574us/step - loss: 0.5484 - acc: 0.8515 - val_loss: 0.6101 - val_acc: 0.8353\n",
      "Epoch 9/20\n",
      "278612/278612 [==============================] - 160s 574us/step - loss: 0.5260 - acc: 0.8561 - val_loss: 0.6011 - val_acc: 0.8376\n",
      "Epoch 10/20\n",
      "278612/278612 [==============================] - 160s 574us/step - loss: 0.5078 - acc: 0.8601 - val_loss: 0.5995 - val_acc: 0.8378\n",
      "Epoch 11/20\n",
      "278612/278612 [==============================] - 160s 575us/step - loss: 0.4927 - acc: 0.8642 - val_loss: 0.5842 - val_acc: 0.8406\n",
      "Epoch 12/20\n",
      "278612/278612 [==============================] - 160s 575us/step - loss: 0.4788 - acc: 0.8673 - val_loss: 0.5731 - val_acc: 0.8442\n",
      "Epoch 13/20\n",
      "278612/278612 [==============================] - 160s 574us/step - loss: 0.4671 - acc: 0.8702 - val_loss: 0.5692 - val_acc: 0.8457\n",
      "Epoch 14/20\n",
      "278612/278612 [==============================] - 160s 574us/step - loss: 0.4564 - acc: 0.8732 - val_loss: 0.5544 - val_acc: 0.8485\n",
      "Epoch 15/20\n",
      "278612/278612 [==============================] - 160s 574us/step - loss: 0.4464 - acc: 0.8758 - val_loss: 0.5615 - val_acc: 0.8471\n",
      "Epoch 16/20\n",
      "278612/278612 [==============================] - 160s 574us/step - loss: 0.4375 - acc: 0.8778 - val_loss: 0.5445 - val_acc: 0.8519\n",
      "Epoch 17/20\n",
      "278612/278612 [==============================] - 161s 578us/step - loss: 0.4292 - acc: 0.8798 - val_loss: 0.5505 - val_acc: 0.8503\n",
      "Epoch 18/20\n",
      "278612/278612 [==============================] - 160s 575us/step - loss: 0.4212 - acc: 0.8821 - val_loss: 0.5540 - val_acc: 0.8492\n",
      "Epoch 19/20\n",
      "278612/278612 [==============================] - 160s 574us/step - loss: 0.4139 - acc: 0.8840 - val_loss: 0.5414 - val_acc: 0.8539\n",
      "Epoch 20/20\n",
      "278612/278612 [==============================] - 160s 574us/step - loss: 0.4074 - acc: 0.8854 - val_loss: 0.5393 - val_acc: 0.8540\n"
     ]
    }
   ],
   "source": [
    "stacked_gru_history = stacked_gru.fit(train_text, train_label,\n",
    "                                        epochs=20,\n",
    "                                        batch_size=512,\n",
    "                                        validation_data=(val_text, val_label))"
   ]
  },
  {
   "cell_type": "code",
   "execution_count": 25,
   "metadata": {},
   "outputs": [],
   "source": [
    "stacked_gru_history_dict = stacked_gru_history.history\n",
    "stacked_gru_val_acc = stacked_gru_history_dict['val_acc'] \n",
    "stacked_gru_val_loss = stacked_gru_history_dict['val_loss']"
   ]
  },
  {
   "cell_type": "code",
   "execution_count": 26,
   "metadata": {},
   "outputs": [
    {
     "data": {
      "image/png": "[encoded data removed]",
      "text/plain": [
       "<Figure size 576x432 with 1 Axes>"
      ]
     },
     "metadata": {},
     "output_type": "display_data"
    }
   ],
   "source": [
    "epochs = np.arange(1, 21)\n",
    "plt.figure(figsize=(8, 6))\n",
    "plt.plot(epochs, stacked_gru_val_acc, label='validation accuracy', marker='.')\n",
    "plt.plot(epochs, stacked_gru_val_loss, label='validation loss', marker='v')\n",
    "plt.ylabel('Validation set accuracy and loss')\n",
    "plt.xlabel('Epochs')\n",
    "plt.title('RNN with stacked GRU layers validation accuracy and loss rates')\n",
    "plt.legend(loc='best')\n",
    "plt.show()"
   ]
  },
  {
   "cell_type": "markdown",
   "metadata": {},
   "source": [
    "### 10) RNN with stacked LSTM layers and dropout regularization"
   ]
  },
  {
   "cell_type": "code",
   "execution_count": 17,
   "metadata": {},
   "outputs": [
    {
     "name": "stdout",
     "output_type": "stream",
     "text": [
      "WARNING:tensorflow:From /home/ubuntu/anaconda3/envs/tensorflow_p36/lib/python3.6/site-packages/tensorflow/python/framework/op_def_library.py:263: colocate_with (from tensorflow.python.framework.ops) is deprecated and will be removed in a future version.\n",
      "Instructions for updating:\n",
      "Colocations handled automatically by placer.\n",
      "WARNING:tensorflow:From /home/ubuntu/anaconda3/envs/tensorflow_p36/lib/python3.6/site-packages/keras/backend/tensorflow_backend.py:3445: calling dropout (from tensorflow.python.ops.nn_ops) with keep_prob is deprecated and will be removed in a future version.\n",
      "Instructions for updating:\n",
      "Please use `rate` instead of `keep_prob`. Rate should be set to `rate = 1 - keep_prob`.\n",
      "_________________________________________________________________\n",
      "Layer (type)                 Output Shape              Param #   \n",
      "=================================================================\n",
      "embedding_1 (Embedding)      (None, 100, 32)           320000    \n",
      "_________________________________________________________________\n",
      "lstm_1 (LSTM)                (None, 100, 32)           8320      \n",
      "_________________________________________________________________\n",
      "lstm_2 (LSTM)                (None, 32)                8320      \n",
      "_________________________________________________________________\n",
      "dense_1 (Dense)              (None, 24)                792       \n",
      "=================================================================\n",
      "Total params: 337,432\n",
      "Trainable params: 337,432\n",
      "Non-trainable params: 0\n",
      "_________________________________________________________________\n"
     ]
    }
   ],
   "source": [
    "stacked_drop_lstm = Sequential()\n",
    "stacked_drop_lstm.add(Embedding(10000, 32, input_length=max_len))\n",
    "stacked_drop_lstm.add(LSTM(32, dropout=0.2, recurrent_dropout=0.5, return_sequences=True))\n",
    "stacked_drop_lstm.add(LSTM(32, dropout=0.2, recurrent_dropout=0.5))\n",
    "stacked_drop_lstm.add(Dense(24, activation='softmax'))\n",
    "stacked_drop_lstm.summary()\n",
    "\n",
    "stacked_drop_lstm.compile(optimizer='rmsprop',\n",
    "                loss='categorical_crossentropy',\n",
    "                metrics=['acc'])"
   ]
  },
  {
   "cell_type": "code",
   "execution_count": 18,
   "metadata": {},
   "outputs": [
    {
     "name": "stdout",
     "output_type": "stream",
     "text": [
      "WARNING:tensorflow:From /home/ubuntu/anaconda3/envs/tensorflow_p36/lib/python3.6/site-packages/tensorflow/python/ops/math_ops.py:3066: to_int32 (from tensorflow.python.ops.math_ops) is deprecated and will be removed in a future version.\n",
      "Instructions for updating:\n",
      "Use tf.cast instead.\n",
      "Train on 278612 samples, validate on 69649 samples\n",
      "Epoch 1/20\n",
      "278612/278612 [==============================] - 229s 821us/step - loss: 2.2874 - acc: 0.3044 - val_loss: 1.5191 - val_acc: 0.5584\n",
      "Epoch 2/20\n",
      "278612/278612 [==============================] - 224s 803us/step - loss: 1.3298 - acc: 0.6256 - val_loss: 1.0201 - val_acc: 0.7309\n",
      "Epoch 3/20\n",
      "278612/278612 [==============================] - 223s 800us/step - loss: 0.9618 - acc: 0.7445 - val_loss: 0.7829 - val_acc: 0.7977\n",
      "Epoch 4/20\n",
      "278612/278612 [==============================] - 221s 794us/step - loss: 0.7949 - acc: 0.7906 - val_loss: 0.7044 - val_acc: 0.8142\n",
      "Epoch 5/20\n",
      "278612/278612 [==============================] - 221s 794us/step - loss: 0.7176 - acc: 0.8085 - val_loss: 0.6573 - val_acc: 0.8236\n",
      "Epoch 6/20\n",
      "278612/278612 [==============================] - 221s 795us/step - loss: 0.6707 - acc: 0.8190 - val_loss: 0.6293 - val_acc: 0.8289\n",
      "Epoch 7/20\n",
      "278612/278612 [==============================] - 221s 795us/step - loss: 0.6390 - acc: 0.8257 - val_loss: 0.6062 - val_acc: 0.8334\n",
      "Epoch 8/20\n",
      "278612/278612 [==============================] - 220s 790us/step - loss: 0.6148 - acc: 0.8314 - val_loss: 0.5869 - val_acc: 0.8378\n",
      "Epoch 9/20\n",
      "278612/278612 [==============================] - 220s 789us/step - loss: 0.5962 - acc: 0.8354 - val_loss: 0.5750 - val_acc: 0.8402\n",
      "Epoch 10/20\n",
      "278612/278612 [==============================] - 220s 788us/step - loss: 0.5819 - acc: 0.8381 - val_loss: 0.5679 - val_acc: 0.8413\n",
      "Epoch 11/20\n",
      "278612/278612 [==============================] - 220s 791us/step - loss: 0.5671 - acc: 0.8415 - val_loss: 0.5600 - val_acc: 0.8431\n",
      "Epoch 12/20\n",
      "278612/278612 [==============================] - 220s 791us/step - loss: 0.5576 - acc: 0.8435 - val_loss: 0.5511 - val_acc: 0.8451\n",
      "Epoch 13/20\n",
      "278612/278612 [==============================] - 220s 789us/step - loss: 0.5481 - acc: 0.8461 - val_loss: 0.5470 - val_acc: 0.8462\n",
      "Epoch 14/20\n",
      "278612/278612 [==============================] - 219s 788us/step - loss: 0.5413 - acc: 0.8478 - val_loss: 0.5394 - val_acc: 0.8474\n",
      "Epoch 15/20\n",
      "278612/278612 [==============================] - 220s 790us/step - loss: 0.5325 - acc: 0.8497 - val_loss: 0.5385 - val_acc: 0.8483\n",
      "Epoch 16/20\n",
      "278612/278612 [==============================] - 220s 789us/step - loss: 0.5269 - acc: 0.8505 - val_loss: 0.5356 - val_acc: 0.8490\n",
      "Epoch 17/20\n",
      "278612/278612 [==============================] - 220s 789us/step - loss: 0.5212 - acc: 0.8524 - val_loss: 0.5309 - val_acc: 0.8506\n",
      "Epoch 18/20\n",
      "278612/278612 [==============================] - 220s 789us/step - loss: 0.5160 - acc: 0.8533 - val_loss: 0.5277 - val_acc: 0.8516\n",
      "Epoch 19/20\n",
      "278612/278612 [==============================] - 220s 789us/step - loss: 0.5119 - acc: 0.8544 - val_loss: 0.5251 - val_acc: 0.8521\n",
      "Epoch 20/20\n",
      "278612/278612 [==============================] - 220s 788us/step - loss: 0.5093 - acc: 0.8546 - val_loss: 0.5255 - val_acc: 0.8510\n"
     ]
    }
   ],
   "source": [
    "# decrease number of epochs to reduce training time\n",
    "stacked_drop_lstm_history = stacked_drop_lstm.fit(train_text, train_label,\n",
    "                                        epochs=20,\n",
    "                                        batch_size=512,\n",
    "                                        validation_data=(val_text, val_label))"
   ]
  },
  {
   "cell_type": "code",
   "execution_count": 19,
   "metadata": {},
   "outputs": [],
   "source": [
    "stacked_drop_lstm_history_dict = stacked_drop_lstm_history.history\n",
    "stacked_drop_lstm_val_acc = stacked_drop_lstm_history_dict['val_acc'] \n",
    "stacked_drop_lstm_val_loss = stacked_drop_lstm_history_dict['val_loss']"
   ]
  },
  {
   "cell_type": "code",
   "execution_count": 20,
   "metadata": {},
   "outputs": [
    {
     "data": {
      "image/png": "[encoded data removed]",
      "text/plain": [
       "<Figure size 576x432 with 1 Axes>"
      ]
     },
     "metadata": {},
     "output_type": "display_data"
    }
   ],
   "source": [
    "epochs = np.arange(1, 21)\n",
    "plt.figure(figsize=(8, 6))\n",
    "plt.plot(epochs, stacked_drop_lstm_val_acc, label='validation accuracy', marker='.')\n",
    "plt.plot(epochs, stacked_drop_lstm_val_loss, label='validation loss', marker='v')\n",
    "plt.ylabel('Validation set accuracy and loss')\n",
    "plt.xlabel('Epochs')\n",
    "plt.title('RNN with stacked LSTM layers and dropout validation accuracy and loss rates')\n",
    "plt.legend(loc='best')\n",
    "plt.show()"
   ]
  },
  {
   "cell_type": "markdown",
   "metadata": {},
   "source": [
    "### Compare validation loss/accuracy across models"
   ]
  },
  {
   "cell_type": "markdown",
   "metadata": {},
   "source": [
    "__Discussion:__ Based on visual inspection of individual plots, the model that seems to perform best based on validation set loss and accuracy rates is the 7th model which is a recurrent neural network with dropout regularization of a GRU layer. The reason this model outperforms others is it achieved a higher validation accuracy rate and lower validation loss rate. Most of my models tend to face a performance bottle neck because they all achieved around 0.80-0.86 ac"
   ]
  },
  {
   "cell_type": "markdown",
   "metadata": {},
   "source": [
    "### Evaluate against the test set"
   ]
  },
  {
   "cell_type": "code",
   "execution_count": null,
   "metadata": {},
   "outputs": [],
   "source": []
  },
  {
   "cell_type": "code",
   "execution_count": null,
   "metadata": {},
   "outputs": [],
   "source": []
  },
  {
   "cell_type": "code",
   "execution_count": null,
   "metadata": {},
   "outputs": [],
   "source": []
  },
  {
   "cell_type": "code",
   "execution_count": null,
   "metadata": {},
   "outputs": [],
   "source": []
  }
 ],
 "metadata": {
  "kernelspec": {
   "display_name": "Python [conda env:tensorflow_p36]",
   "language": "python",
   "name": "conda-env-tensorflow_p36-py"
  },
  "language_info": {
   "codemirror_mode": {
    "name": "ipython",
    "version": 3
   },
   "file_extension": ".py",
   "mimetype": "text/x-python",
   "name": "python",
   "nbconvert_exporter": "python",
   "pygments_lexer": "ipython3",
   "version": "3.6.5"
  }
 },
 "nbformat": 4,
 "nbformat_minor": 2
}
