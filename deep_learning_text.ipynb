{
 "cells": [
  {
   "cell_type": "markdown",
   "metadata": {},
   "source": [
    "## Deep Learning for Text\n",
    "\n",
    "We will be constructing a bunch of models and see how well they perform on text classification tasks.\n",
    "Let's start with imports and data and do this!"
   ]
  },
  {
   "cell_type": "code",
   "execution_count": 1,
   "metadata": {},
   "outputs": [
    {
     "name": "stderr",
     "output_type": "stream",
     "text": [
      "Using Theano backend.\n"
     ]
    }
   ],
   "source": [
    "import pandas as pd\n",
    "from keras.preprocessing.text import Tokenizer\n",
    "from keras.preprocessing.sequence import pad_sequences\n",
    "from keras.utils import to_categorical"
   ]
  },
  {
   "cell_type": "code",
   "execution_count": 2,
   "metadata": {},
   "outputs": [],
   "source": [
    "import matplotlib.pyplot as plt\n",
    "%matplotlib inline"
   ]
  },
  {
   "cell_type": "code",
   "execution_count": 3,
   "metadata": {},
   "outputs": [],
   "source": [
    "train_df = pd.read_csv('data/congress_train.csv', encoding = \"ISO-8859-1\").dropna()\n",
    "valid_df = pd.read_csv('data/congress_val.csv',encoding = \"ISO-8859-1\").dropna()\n",
    "test_df = pd.read_csv('data/congress_test.csv',encoding = \"ISO-8859-1\").dropna()"
   ]
  },
  {
   "cell_type": "code",
   "execution_count": 4,
   "metadata": {},
   "outputs": [],
   "source": [
    "train_text = list(train_df['Title'])\n",
    "train_text = [str(i) for i in train_text]\n",
    "valid_text = list(valid_df['Title'])\n",
    "valid_text = [str(i) for i in valid_text]\n",
    "test_text = list(test_df['Title'])\n",
    "test_text = [str(i) for i in test_text]"
   ]
  },
  {
   "cell_type": "code",
   "execution_count": 5,
   "metadata": {},
   "outputs": [],
   "source": [
    "train_y = to_categorical(list(train_df['Major']))\n",
    "valid_y = to_categorical(list(valid_df['Major']))\n",
    "test_y = to_categorical(list(test_df['Major']))"
   ]
  },
  {
   "cell_type": "code",
   "execution_count": 6,
   "metadata": {},
   "outputs": [],
   "source": [
    "tokenizer = Tokenizer(num_words=10000)\n",
    "tokenizer.fit_on_texts(train_text)"
   ]
  },
  {
   "cell_type": "code",
   "execution_count": 7,
   "metadata": {},
   "outputs": [],
   "source": [
    "train_seq = tokenizer.texts_to_sequences(train_text)\n",
    "test_seq = tokenizer.texts_to_sequences(test_text)\n",
    "valid_seq = tokenizer.texts_to_sequences(valid_text)"
   ]
  },
  {
   "cell_type": "code",
   "execution_count": 8,
   "metadata": {},
   "outputs": [],
   "source": [
    "train_x = pad_sequences(train_seq, maxlen=100)\n",
    "test_x = pad_sequences(test_seq, maxlen=100)\n",
    "valid_x = pad_sequences(valid_seq, maxlen=100)"
   ]
  },
  {
   "cell_type": "markdown",
   "metadata": {},
   "source": [
    "Now that we've set up our data, we can start by setting up our imports for our model and create our models.\n",
    "\n",
    "NOTE: I initially started with 128 dimensions for the model embeddings and recevied pretty high accuracies, but it was taking WAY too long. Reduced it to 32 dimensions."
   ]
  },
  {
   "cell_type": "code",
   "execution_count": 9,
   "metadata": {},
   "outputs": [],
   "source": [
    "from keras.layers import Embedding, Flatten, Dense\n",
    "from keras.models import Sequential\n",
    "from keras.layers import SimpleRNN\n",
    "from keras.layers import LSTM\n",
    "from keras.layers import GRU\n"
   ]
  },
  {
   "cell_type": "markdown",
   "metadata": {},
   "source": [
    "We start with a standard feed forward network with embeddings with 128 dimensions."
   ]
  },
  {
   "cell_type": "code",
   "execution_count": 10,
   "metadata": {},
   "outputs": [],
   "source": [
    "feedforward = Sequential()"
   ]
  },
  {
   "cell_type": "code",
   "execution_count": 11,
   "metadata": {},
   "outputs": [],
   "source": [
    "feedforward.add(Embedding(10000, 128, input_length=100))\n",
    "feedforward.add(Flatten())\n",
    "feedforward.add(Dense(24, activation='softmax'))\n",
    "feedforward.compile(optimizer='rmsprop', loss='categorical_crossentropy', metrics=['accuracy'])"
   ]
  },
  {
   "cell_type": "code",
   "execution_count": 12,
   "metadata": {},
   "outputs": [
    {
     "name": "stdout",
     "output_type": "stream",
     "text": [
      "Train on 278612 samples, validate on 69649 samples\n",
      "Epoch 1/50\n",
      "278612/278612 [==============================] - 61s 219us/step - loss: 1.2890 - acc: 0.6538 - val_loss: 0.7000 - val_acc: 0.8138\n",
      "Epoch 2/50\n",
      "278612/278612 [==============================] - 54s 192us/step - loss: 0.5994 - acc: 0.8359 - val_loss: 0.6017 - val_acc: 0.8385\n",
      "Epoch 3/50\n",
      "278612/278612 [==============================] - 54s 193us/step - loss: 0.5018 - acc: 0.8609 - val_loss: 0.5696 - val_acc: 0.8473\n",
      "Epoch 4/50\n",
      "278612/278612 [==============================] - 61s 220us/step - loss: 0.4429 - acc: 0.8767 - val_loss: 0.5586 - val_acc: 0.8527\n",
      "Epoch 5/50\n",
      "278612/278612 [==============================] - 55s 199us/step - loss: 0.3979 - acc: 0.8885 - val_loss: 0.5502 - val_acc: 0.8550\n",
      "Epoch 6/50\n",
      "278612/278612 [==============================] - 54s 194us/step - loss: 0.3599 - acc: 0.8987 - val_loss: 0.5501 - val_acc: 0.8555\n",
      "Epoch 7/50\n",
      "278612/278612 [==============================] - 56s 202us/step - loss: 0.3275 - acc: 0.9074 - val_loss: 0.5537 - val_acc: 0.8573\n",
      "Epoch 8/50\n",
      "278612/278612 [==============================] - 54s 196us/step - loss: 0.2997 - acc: 0.9144 - val_loss: 0.5618 - val_acc: 0.8584\n",
      "Epoch 9/50\n",
      "278612/278612 [==============================] - 60s 214us/step - loss: 0.2756 - acc: 0.9207 - val_loss: 0.5688 - val_acc: 0.8577\n",
      "Epoch 10/50\n",
      "278612/278612 [==============================] - 54s 194us/step - loss: 0.2549 - acc: 0.9257 - val_loss: 0.5784 - val_acc: 0.8580\n",
      "Epoch 11/50\n",
      "278612/278612 [==============================] - 54s 194us/step - loss: 0.2370 - acc: 0.9305 - val_loss: 0.5878 - val_acc: 0.8579\n",
      "Epoch 12/50\n",
      "278612/278612 [==============================] - 55s 196us/step - loss: 0.2217 - acc: 0.9341 - val_loss: 0.5987 - val_acc: 0.8574\n",
      "Epoch 13/50\n",
      "278612/278612 [==============================] - 54s 194us/step - loss: 0.2086 - acc: 0.9373 - val_loss: 0.6137 - val_acc: 0.8563\n",
      "Epoch 14/50\n",
      "278612/278612 [==============================] - 54s 194us/step - loss: 0.1972 - acc: 0.9401 - val_loss: 0.6246 - val_acc: 0.8564\n",
      "Epoch 15/50\n",
      "278612/278612 [==============================] - 54s 195us/step - loss: 0.1876 - acc: 0.9424 - val_loss: 0.6386 - val_acc: 0.8547\n",
      "Epoch 16/50\n",
      "278612/278612 [==============================] - 55s 196us/step - loss: 0.1793 - acc: 0.9442 - val_loss: 0.6512 - val_acc: 0.8546\n",
      "Epoch 17/50\n",
      "278612/278612 [==============================] - 55s 197us/step - loss: 0.1721 - acc: 0.9458 - val_loss: 0.6648 - val_acc: 0.8537\n",
      "Epoch 18/50\n",
      "278612/278612 [==============================] - 56s 200us/step - loss: 0.1657 - acc: 0.9475 - val_loss: 0.6792 - val_acc: 0.8532\n",
      "Epoch 19/50\n",
      "278612/278612 [==============================] - 54s 195us/step - loss: 0.1606 - acc: 0.9482 - val_loss: 0.6900 - val_acc: 0.8527\n",
      "Epoch 20/50\n",
      "278612/278612 [==============================] - 55s 196us/step - loss: 0.1555 - acc: 0.9493 - val_loss: 0.7035 - val_acc: 0.8522\n",
      "Epoch 21/50\n",
      "278612/278612 [==============================] - 55s 196us/step - loss: 0.1516 - acc: 0.9504 - val_loss: 0.7199 - val_acc: 0.8504\n",
      "Epoch 22/50\n",
      "278612/278612 [==============================] - 55s 196us/step - loss: 0.1480 - acc: 0.9514 - val_loss: 0.7326 - val_acc: 0.8494\n",
      "Epoch 23/50\n",
      "278612/278612 [==============================] - 56s 203us/step - loss: 0.1448 - acc: 0.9521 - val_loss: 0.7443 - val_acc: 0.8486\n",
      "Epoch 24/50\n",
      "278612/278612 [==============================] - 55s 196us/step - loss: 0.1420 - acc: 0.9524 - val_loss: 0.7538 - val_acc: 0.8492\n",
      "Epoch 25/50\n",
      "278612/278612 [==============================] - 55s 196us/step - loss: 0.1399 - acc: 0.9533 - val_loss: 0.7678 - val_acc: 0.8475\n",
      "Epoch 26/50\n",
      "278612/278612 [==============================] - 55s 198us/step - loss: 0.1378 - acc: 0.9536 - val_loss: 0.7799 - val_acc: 0.8470\n",
      "Epoch 27/50\n",
      "278612/278612 [==============================] - 55s 198us/step - loss: 0.1359 - acc: 0.9542 - val_loss: 0.7916 - val_acc: 0.8465\n",
      "Epoch 28/50\n",
      "278612/278612 [==============================] - 55s 198us/step - loss: 0.1340 - acc: 0.9547 - val_loss: 0.8015 - val_acc: 0.8455\n",
      "Epoch 29/50\n",
      "278612/278612 [==============================] - 55s 197us/step - loss: 0.1325 - acc: 0.9548 - val_loss: 0.8183 - val_acc: 0.8441\n",
      "Epoch 30/50\n",
      "278612/278612 [==============================] - 55s 198us/step - loss: 0.1311 - acc: 0.9554 - val_loss: 0.8260 - val_acc: 0.8435\n",
      "Epoch 31/50\n",
      "278612/278612 [==============================] - 55s 199us/step - loss: 0.1303 - acc: 0.9552 - val_loss: 0.8376 - val_acc: 0.8438\n",
      "Epoch 32/50\n",
      "278612/278612 [==============================] - 50s 180us/step - loss: 0.1290 - acc: 0.9557 - val_loss: 0.8476 - val_acc: 0.8435\n",
      "Epoch 33/50\n",
      "278612/278612 [==============================] - 50s 180us/step - loss: 0.1283 - acc: 0.9558 - val_loss: 0.8591 - val_acc: 0.8421\n",
      "Epoch 34/50\n",
      "278612/278612 [==============================] - 50s 179us/step - loss: 0.1274 - acc: 0.9559 - val_loss: 0.8708 - val_acc: 0.8406\n",
      "Epoch 35/50\n",
      "278612/278612 [==============================] - 50s 180us/step - loss: 0.1264 - acc: 0.9563 - val_loss: 0.8806 - val_acc: 0.8403\n",
      "Epoch 36/50\n",
      "278612/278612 [==============================] - 50s 179us/step - loss: 0.1258 - acc: 0.9562 - val_loss: 0.8888 - val_acc: 0.8403\n",
      "Epoch 37/50\n",
      "278612/278612 [==============================] - 51s 181us/step - loss: 0.1254 - acc: 0.9565 - val_loss: 0.8991 - val_acc: 0.8396\n",
      "Epoch 38/50\n",
      "278612/278612 [==============================] - 50s 180us/step - loss: 0.1246 - acc: 0.9568 - val_loss: 0.9148 - val_acc: 0.8374\n",
      "Epoch 39/50\n",
      "278612/278612 [==============================] - 50s 179us/step - loss: 0.1238 - acc: 0.9568 - val_loss: 0.9236 - val_acc: 0.8367\n",
      "Epoch 40/50\n",
      "278612/278612 [==============================] - 51s 182us/step - loss: 0.1234 - acc: 0.9573 - val_loss: 0.9338 - val_acc: 0.8359\n",
      "Epoch 41/50\n",
      "278612/278612 [==============================] - 50s 179us/step - loss: 0.1235 - acc: 0.9570 - val_loss: 0.9436 - val_acc: 0.8354\n",
      "Epoch 42/50\n",
      "278612/278612 [==============================] - 50s 180us/step - loss: 0.1226 - acc: 0.9571 - val_loss: 0.9525 - val_acc: 0.8350\n",
      "Epoch 43/50\n",
      "278612/278612 [==============================] - 50s 180us/step - loss: 0.1226 - acc: 0.9572 - val_loss: 0.9629 - val_acc: 0.8345\n",
      "Epoch 44/50\n",
      "278612/278612 [==============================] - 50s 179us/step - loss: 0.1221 - acc: 0.9570 - val_loss: 0.9727 - val_acc: 0.8333\n",
      "Epoch 45/50\n",
      "278612/278612 [==============================] - 50s 180us/step - loss: 0.1220 - acc: 0.9574 - val_loss: 0.9828 - val_acc: 0.8329\n",
      "Epoch 46/50\n",
      "278612/278612 [==============================] - 50s 181us/step - loss: 0.1217 - acc: 0.9574 - val_loss: 0.9949 - val_acc: 0.8322\n",
      "Epoch 47/50\n",
      "278612/278612 [==============================] - 50s 180us/step - loss: 0.1213 - acc: 0.9576 - val_loss: 1.0035 - val_acc: 0.8309\n",
      "Epoch 48/50\n",
      "278612/278612 [==============================] - 50s 180us/step - loss: 0.1211 - acc: 0.9575 - val_loss: 1.0105 - val_acc: 0.8316\n",
      "Epoch 49/50\n",
      "278612/278612 [==============================] - 50s 180us/step - loss: 0.1211 - acc: 0.9576 - val_loss: 1.0177 - val_acc: 0.8310\n",
      "Epoch 50/50\n",
      "278612/278612 [==============================] - 50s 179us/step - loss: 0.1211 - acc: 0.9576 - val_loss: 1.0272 - val_acc: 0.8299\n"
     ]
    }
   ],
   "source": [
    "history_feedforward = feedforward.fit(train_x, train_y, validation_data=(valid_x,valid_y), epochs=50, batch_size=512)"
   ]
  },
  {
   "cell_type": "markdown",
   "metadata": {},
   "source": [
    "We construct a simple RNN with 128 dimensional embeddings."
   ]
  },
  {
   "cell_type": "code",
   "execution_count": 13,
   "metadata": {},
   "outputs": [],
   "source": [
    "rnn = Sequential()"
   ]
  },
  {
   "cell_type": "code",
   "execution_count": 14,
   "metadata": {},
   "outputs": [],
   "source": [
    "rnn.add(Embedding(10000, 128, input_length=100))\n",
    "rnn.add(SimpleRNN(128))\n",
    "rnn.add(Dense(24, activation='softmax'))\n",
    "rnn.compile(optimizer='rmsprop', loss='categorical_crossentropy', metrics=['accuracy'])"
   ]
  },
  {
   "cell_type": "code",
   "execution_count": 15,
   "metadata": {},
   "outputs": [
    {
     "name": "stdout",
     "output_type": "stream",
     "text": [
      "Train on 278612 samples, validate on 69649 samples\n",
      "Epoch 1/50\n",
      "278612/278612 [==============================] - 346s 1ms/step - loss: 1.6117 - acc: 0.5493 - val_loss: 1.0364 - val_acc: 0.7199\n",
      "Epoch 2/50\n",
      "278612/278612 [==============================] - 346s 1ms/step - loss: 0.7364 - acc: 0.8031 - val_loss: 0.8671 - val_acc: 0.7686\n",
      "Epoch 3/50\n",
      "278612/278612 [==============================] - 346s 1ms/step - loss: 0.6146 - acc: 0.8334 - val_loss: 0.8260 - val_acc: 0.7746\n",
      "Epoch 4/50\n",
      "278612/278612 [==============================] - 352s 1ms/step - loss: 0.5473 - acc: 0.8506 - val_loss: 0.7126 - val_acc: 0.8087\n",
      "Epoch 5/50\n",
      "278612/278612 [==============================] - 349s 1ms/step - loss: 0.5003 - acc: 0.8628 - val_loss: 0.7000 - val_acc: 0.8140\n",
      "Epoch 6/50\n",
      "278612/278612 [==============================] - 346s 1ms/step - loss: 0.4623 - acc: 0.8724 - val_loss: 0.7266 - val_acc: 0.8050\n",
      "Epoch 7/50\n",
      "278612/278612 [==============================] - 345s 1ms/step - loss: 0.4301 - acc: 0.8803 - val_loss: 0.6818 - val_acc: 0.8229\n",
      "Epoch 8/50\n",
      "278612/278612 [==============================] - 346s 1ms/step - loss: 0.4023 - acc: 0.8876 - val_loss: 0.7019 - val_acc: 0.8145\n",
      "Epoch 9/50\n",
      "278612/278612 [==============================] - 345s 1ms/step - loss: 0.3775 - acc: 0.8945 - val_loss: 0.6509 - val_acc: 0.8339\n",
      "Epoch 10/50\n",
      "278612/278612 [==============================] - 345s 1ms/step - loss: 0.3550 - acc: 0.8998 - val_loss: 0.7045 - val_acc: 0.8242\n",
      "Epoch 11/50\n",
      "278612/278612 [==============================] - 347s 1ms/step - loss: 0.3371 - acc: 0.9046 - val_loss: 0.7088 - val_acc: 0.8177\n",
      "Epoch 12/50\n",
      "278612/278612 [==============================] - 345s 1ms/step - loss: 0.3190 - acc: 0.9091 - val_loss: 0.6673 - val_acc: 0.8363\n",
      "Epoch 13/50\n",
      "278612/278612 [==============================] - 347s 1ms/step - loss: 0.3039 - acc: 0.9133 - val_loss: 0.6799 - val_acc: 0.8357\n",
      "Epoch 14/50\n",
      "278612/278612 [==============================] - 346s 1ms/step - loss: 0.2899 - acc: 0.9171 - val_loss: 0.7466 - val_acc: 0.8139\n",
      "Epoch 15/50\n",
      "278612/278612 [==============================] - 347s 1ms/step - loss: 0.2773 - acc: 0.9202 - val_loss: 0.6844 - val_acc: 0.8375\n",
      "Epoch 16/50\n",
      "278612/278612 [==============================] - 347s 1ms/step - loss: 0.2670 - acc: 0.9230 - val_loss: 0.7724 - val_acc: 0.8163\n",
      "Epoch 17/50\n",
      "278612/278612 [==============================] - 345s 1ms/step - loss: 0.2566 - acc: 0.9258 - val_loss: 0.7218 - val_acc: 0.8310\n",
      "Epoch 18/50\n",
      "278612/278612 [==============================] - 347s 1ms/step - loss: 0.2461 - acc: 0.9285 - val_loss: 0.6909 - val_acc: 0.8409\n",
      "Epoch 19/50\n",
      "278612/278612 [==============================] - 345s 1ms/step - loss: 0.2375 - acc: 0.9306 - val_loss: 0.7300 - val_acc: 0.8307\n",
      "Epoch 20/50\n",
      "278612/278612 [==============================] - 346s 1ms/step - loss: 0.2316 - acc: 0.9322 - val_loss: 0.8204 - val_acc: 0.8100\n",
      "Epoch 21/50\n",
      "278612/278612 [==============================] - 346s 1ms/step - loss: 0.2248 - acc: 0.9343 - val_loss: 0.7469 - val_acc: 0.8299\n",
      "Epoch 22/50\n",
      "278612/278612 [==============================] - 346s 1ms/step - loss: 0.2177 - acc: 0.9359 - val_loss: 0.7463 - val_acc: 0.8334\n",
      "Epoch 23/50\n",
      "278612/278612 [==============================] - 345s 1ms/step - loss: 0.2108 - acc: 0.9379 - val_loss: 0.7432 - val_acc: 0.8334\n",
      "Epoch 24/50\n",
      "278612/278612 [==============================] - 347s 1ms/step - loss: 0.2056 - acc: 0.9392 - val_loss: 0.7480 - val_acc: 0.8358\n",
      "Epoch 25/50\n",
      "278612/278612 [==============================] - 348s 1ms/step - loss: 0.2015 - acc: 0.9402 - val_loss: 0.7675 - val_acc: 0.8309\n",
      "Epoch 26/50\n",
      "278612/278612 [==============================] - 346s 1ms/step - loss: 0.1955 - acc: 0.9420 - val_loss: 0.7923 - val_acc: 0.8252\n",
      "Epoch 27/50\n",
      "278612/278612 [==============================] - 348s 1ms/step - loss: 0.1932 - acc: 0.9427 - val_loss: 0.7730 - val_acc: 0.8314\n",
      "Epoch 28/50\n",
      "278612/278612 [==============================] - 347s 1ms/step - loss: 0.1885 - acc: 0.9440 - val_loss: 0.7912 - val_acc: 0.8305\n",
      "Epoch 29/50\n",
      "278612/278612 [==============================] - 346s 1ms/step - loss: 0.1848 - acc: 0.9447 - val_loss: 0.8017 - val_acc: 0.8289\n",
      "Epoch 30/50\n",
      "278612/278612 [==============================] - 346s 1ms/step - loss: 0.1818 - acc: 0.9456 - val_loss: 0.8078 - val_acc: 0.8251\n",
      "Epoch 31/50\n",
      "278612/278612 [==============================] - 346s 1ms/step - loss: 0.1792 - acc: 0.9458 - val_loss: 0.7819 - val_acc: 0.8357\n",
      "Epoch 32/50\n",
      "278612/278612 [==============================] - 346s 1ms/step - loss: 0.1780 - acc: 0.9461 - val_loss: 0.7974 - val_acc: 0.8313\n",
      "Epoch 33/50\n",
      "278612/278612 [==============================] - 347s 1ms/step - loss: 0.1744 - acc: 0.9472 - val_loss: 0.8137 - val_acc: 0.8284\n",
      "Epoch 34/50\n",
      "278612/278612 [==============================] - 346s 1ms/step - loss: 0.1723 - acc: 0.9479 - val_loss: 0.8076 - val_acc: 0.8299\n",
      "Epoch 35/50\n",
      "278612/278612 [==============================] - 348s 1ms/step - loss: 0.1691 - acc: 0.9490 - val_loss: 0.7970 - val_acc: 0.8357\n",
      "Epoch 36/50\n",
      "278612/278612 [==============================] - 346s 1ms/step - loss: 0.1674 - acc: 0.9493 - val_loss: 0.8124 - val_acc: 0.8318\n",
      "Epoch 37/50\n",
      "278612/278612 [==============================] - 345s 1ms/step - loss: 0.1642 - acc: 0.9496 - val_loss: 0.8185 - val_acc: 0.8329\n",
      "Epoch 38/50\n",
      "278612/278612 [==============================] - 345s 1ms/step - loss: 0.1655 - acc: 0.9496 - val_loss: 0.8098 - val_acc: 0.8326\n",
      "Epoch 39/50\n",
      "278612/278612 [==============================] - 345s 1ms/step - loss: 0.1628 - acc: 0.9500 - val_loss: 0.8204 - val_acc: 0.8297\n",
      "Epoch 40/50\n",
      "278612/278612 [==============================] - 345s 1ms/step - loss: 0.1607 - acc: 0.9505 - val_loss: 0.8388 - val_acc: 0.8311\n",
      "Epoch 41/50\n",
      "278612/278612 [==============================] - 346s 1ms/step - loss: 0.1587 - acc: 0.9513 - val_loss: 0.8883 - val_acc: 0.8096\n",
      "Epoch 42/50\n",
      "278612/278612 [==============================] - 345s 1ms/step - loss: 0.1597 - acc: 0.9511 - val_loss: 0.8609 - val_acc: 0.8234\n",
      "Epoch 43/50\n",
      "278612/278612 [==============================] - 345s 1ms/step - loss: 0.1573 - acc: 0.9518 - val_loss: 0.8233 - val_acc: 0.8334\n",
      "Epoch 44/50\n",
      "278612/278612 [==============================] - 346s 1ms/step - loss: 0.1556 - acc: 0.9526 - val_loss: 0.8359 - val_acc: 0.8286\n",
      "Epoch 45/50\n",
      "278612/278612 [==============================] - 345s 1ms/step - loss: 0.1542 - acc: 0.9523 - val_loss: 0.8435 - val_acc: 0.8274\n",
      "Epoch 46/50\n",
      "278612/278612 [==============================] - 352s 1ms/step - loss: 0.1543 - acc: 0.9523 - val_loss: 0.8353 - val_acc: 0.8321\n",
      "Epoch 47/50\n",
      "278612/278612 [==============================] - 345s 1ms/step - loss: 0.1534 - acc: 0.9526 - val_loss: 0.8453 - val_acc: 0.8307\n",
      "Epoch 48/50\n",
      "278612/278612 [==============================] - 346s 1ms/step - loss: 0.1529 - acc: 0.9528 - val_loss: 0.8506 - val_acc: 0.8287\n",
      "Epoch 49/50\n",
      "278612/278612 [==============================] - 344s 1ms/step - loss: 0.1503 - acc: 0.9536 - val_loss: 0.8672 - val_acc: 0.8240\n",
      "Epoch 50/50\n",
      "278612/278612 [==============================] - 346s 1ms/step - loss: 0.1498 - acc: 0.9538 - val_loss: 0.8630 - val_acc: 0.8239\n"
     ]
    }
   ],
   "source": [
    "history_rnn = rnn.fit(train_x, train_y, validation_data=(valid_x,valid_y), epochs=50, batch_size=512)"
   ]
  },
  {
   "cell_type": "markdown",
   "metadata": {},
   "source": [
    "LSTM with embeddings of 32 dimensions."
   ]
  },
  {
   "cell_type": "code",
   "execution_count": 19,
   "metadata": {},
   "outputs": [],
   "source": [
    "lstm = Sequential()"
   ]
  },
  {
   "cell_type": "code",
   "execution_count": 20,
   "metadata": {},
   "outputs": [],
   "source": [
    "lstm.add(Embedding(10000, 32, input_length=100))\n",
    "lstm.add(LSTM(32))\n",
    "lstm.add(Dense(24, activation='softmax'))\n",
    "lstm.compile(optimizer='rmsprop', loss='categorical_crossentropy', metrics=['accuracy'])"
   ]
  },
  {
   "cell_type": "code",
   "execution_count": 21,
   "metadata": {},
   "outputs": [
    {
     "name": "stdout",
     "output_type": "stream",
     "text": [
      "Train on 278612 samples, validate on 69649 samples\n",
      "Epoch 1/50\n",
      "278612/278612 [==============================] - 210s 753us/step - loss: 2.0756 - acc: 0.4042 - val_loss: 1.4276 - val_acc: 0.6153\n",
      "Epoch 2/50\n",
      "278612/278612 [==============================] - 1619s 6ms/step - loss: 1.1010 - acc: 0.7127 - val_loss: 1.0138 - val_acc: 0.7370\n",
      "Epoch 3/50\n",
      "278612/278612 [==============================] - 207s 743us/step - loss: 0.8138 - acc: 0.7942 - val_loss: 0.8117 - val_acc: 0.7892\n",
      "Epoch 4/50\n",
      "278612/278612 [==============================] - 222s 796us/step - loss: 0.6884 - acc: 0.8230 - val_loss: 0.7916 - val_acc: 0.7918\n",
      "Epoch 5/50\n",
      "278612/278612 [==============================] - 202s 725us/step - loss: 0.6182 - acc: 0.8379 - val_loss: 0.6472 - val_acc: 0.8279\n",
      "Epoch 6/50\n",
      "278612/278612 [==============================] - 193s 694us/step - loss: 0.5709 - acc: 0.8474 - val_loss: 0.6139 - val_acc: 0.8350\n",
      "Epoch 7/50\n",
      "278612/278612 [==============================] - 201s 723us/step - loss: 0.5386 - acc: 0.8540 - val_loss: 0.6295 - val_acc: 0.8297\n",
      "Epoch 8/50\n",
      "278612/278612 [==============================] - 201s 720us/step - loss: 0.5129 - acc: 0.8596 - val_loss: 0.6003 - val_acc: 0.8365\n",
      "Epoch 9/50\n",
      "278612/278612 [==============================] - 198s 711us/step - loss: 0.4923 - acc: 0.8642 - val_loss: 0.5688 - val_acc: 0.8453\n",
      "Epoch 10/50\n",
      "278612/278612 [==============================] - 210s 753us/step - loss: 0.4751 - acc: 0.8681 - val_loss: 0.5761 - val_acc: 0.8428\n",
      "Epoch 11/50\n",
      "278612/278612 [==============================] - 209s 752us/step - loss: 0.4608 - acc: 0.8713 - val_loss: 0.5573 - val_acc: 0.8477\n",
      "Epoch 12/50\n",
      "278612/278612 [==============================] - 209s 752us/step - loss: 0.4482 - acc: 0.8743 - val_loss: 0.5523 - val_acc: 0.8491\n",
      "Epoch 13/50\n",
      "278612/278612 [==============================] - 225s 808us/step - loss: 0.4375 - acc: 0.8766 - val_loss: 0.5401 - val_acc: 0.8520\n",
      "Epoch 14/50\n",
      "278612/278612 [==============================] - 227s 814us/step - loss: 0.4279 - acc: 0.8791 - val_loss: 0.5393 - val_acc: 0.8516\n",
      "Epoch 15/50\n",
      "278612/278612 [==============================] - 253s 908us/step - loss: 0.4192 - acc: 0.8810 - val_loss: 0.5405 - val_acc: 0.8516\n",
      "Epoch 16/50\n",
      "278612/278612 [==============================] - 308s 1ms/step - loss: 0.4113 - acc: 0.8828 - val_loss: 0.5473 - val_acc: 0.8501\n",
      "Epoch 17/50\n",
      "278612/278612 [==============================] - 266s 953us/step - loss: 0.4041 - acc: 0.8848 - val_loss: 0.5338 - val_acc: 0.8529\n",
      "Epoch 18/50\n",
      "278612/278612 [==============================] - 264s 947us/step - loss: 0.3977 - acc: 0.8867 - val_loss: 0.5437 - val_acc: 0.8507\n",
      "Epoch 19/50\n",
      "278612/278612 [==============================] - 263s 944us/step - loss: 0.3913 - acc: 0.8880 - val_loss: 0.5318 - val_acc: 0.8551\n",
      "Epoch 20/50\n",
      "278612/278612 [==============================] - 269s 965us/step - loss: 0.3853 - acc: 0.8896 - val_loss: 0.5302 - val_acc: 0.8548\n",
      "Epoch 21/50\n",
      "278612/278612 [==============================] - 258s 925us/step - loss: 0.3795 - acc: 0.8915 - val_loss: 0.5367 - val_acc: 0.8537\n",
      "Epoch 22/50\n",
      "278612/278612 [==============================] - 262s 939us/step - loss: 0.3743 - acc: 0.8929 - val_loss: 0.5312 - val_acc: 0.8563\n",
      "Epoch 23/50\n",
      "278612/278612 [==============================] - 268s 963us/step - loss: 0.3688 - acc: 0.8940 - val_loss: 0.5324 - val_acc: 0.8566\n",
      "Epoch 24/50\n",
      "278612/278612 [==============================] - 270s 970us/step - loss: 0.3639 - acc: 0.8957 - val_loss: 0.5372 - val_acc: 0.8558\n",
      "Epoch 25/50\n",
      "278612/278612 [==============================] - 254s 912us/step - loss: 0.3594 - acc: 0.8965 - val_loss: 0.5353 - val_acc: 0.8571\n",
      "Epoch 26/50\n",
      "278612/278612 [==============================] - 261s 936us/step - loss: 0.3552 - acc: 0.8982 - val_loss: 0.5323 - val_acc: 0.8568\n",
      "Epoch 27/50\n",
      "278612/278612 [==============================] - 252s 905us/step - loss: 0.3509 - acc: 0.8993 - val_loss: 0.5308 - val_acc: 0.8582\n",
      "Epoch 28/50\n",
      "278612/278612 [==============================] - 1784s 6ms/step - loss: 0.3464 - acc: 0.9008 - val_loss: 0.5418 - val_acc: 0.8557\n",
      "Epoch 29/50\n",
      "278612/278612 [==============================] - 259s 928us/step - loss: 0.3426 - acc: 0.9017 - val_loss: 0.5353 - val_acc: 0.8577\n",
      "Epoch 30/50\n",
      "278612/278612 [==============================] - 243s 871us/step - loss: 0.3387 - acc: 0.9024 - val_loss: 0.5341 - val_acc: 0.8577\n",
      "Epoch 31/50\n",
      "278612/278612 [==============================] - 252s 904us/step - loss: 0.3349 - acc: 0.9037 - val_loss: 0.5377 - val_acc: 0.8578\n",
      "Epoch 32/50\n",
      "278612/278612 [==============================] - 258s 925us/step - loss: 0.3316 - acc: 0.9048 - val_loss: 0.5396 - val_acc: 0.8577\n",
      "Epoch 33/50\n",
      "278612/278612 [==============================] - 252s 904us/step - loss: 0.3286 - acc: 0.9051 - val_loss: 0.5362 - val_acc: 0.8594\n",
      "Epoch 34/50\n",
      "278612/278612 [==============================] - 254s 912us/step - loss: 0.3250 - acc: 0.9061 - val_loss: 0.5405 - val_acc: 0.8583\n",
      "Epoch 35/50\n",
      "278612/278612 [==============================] - 253s 909us/step - loss: 0.3216 - acc: 0.9073 - val_loss: 0.5456 - val_acc: 0.8566\n",
      "Epoch 36/50\n",
      "278612/278612 [==============================] - 238s 854us/step - loss: 0.3184 - acc: 0.9080 - val_loss: 0.5416 - val_acc: 0.8580\n",
      "Epoch 37/50\n",
      "278612/278612 [==============================] - 258s 925us/step - loss: 0.3153 - acc: 0.9091 - val_loss: 0.5478 - val_acc: 0.8568\n",
      "Epoch 38/50\n",
      "278612/278612 [==============================] - 257s 924us/step - loss: 0.3126 - acc: 0.9094 - val_loss: 0.5463 - val_acc: 0.8576\n",
      "Epoch 39/50\n",
      "278612/278612 [==============================] - 257s 921us/step - loss: 0.3096 - acc: 0.9105 - val_loss: 0.5485 - val_acc: 0.8579\n",
      "Epoch 40/50\n",
      "278612/278612 [==============================] - 256s 919us/step - loss: 0.3069 - acc: 0.9111 - val_loss: 0.5454 - val_acc: 0.8589\n",
      "Epoch 41/50\n",
      "278612/278612 [==============================] - 256s 919us/step - loss: 0.3041 - acc: 0.9120 - val_loss: 0.5494 - val_acc: 0.8577\n",
      "Epoch 42/50\n",
      "278612/278612 [==============================] - 255s 916us/step - loss: 0.3014 - acc: 0.9131 - val_loss: 0.5504 - val_acc: 0.8568\n",
      "Epoch 43/50\n",
      "278612/278612 [==============================] - 247s 885us/step - loss: 0.2987 - acc: 0.9139 - val_loss: 0.5484 - val_acc: 0.8585\n",
      "Epoch 44/50\n",
      "278612/278612 [==============================] - 243s 872us/step - loss: 0.2962 - acc: 0.9146 - val_loss: 0.5602 - val_acc: 0.8564\n",
      "Epoch 45/50\n",
      "278612/278612 [==============================] - 243s 874us/step - loss: 0.2936 - acc: 0.9147 - val_loss: 0.5549 - val_acc: 0.8578\n",
      "Epoch 46/50\n",
      "278612/278612 [==============================] - 243s 873us/step - loss: 0.2907 - acc: 0.9160 - val_loss: 0.5602 - val_acc: 0.8581\n",
      "Epoch 47/50\n",
      "278612/278612 [==============================] - 243s 873us/step - loss: 0.2886 - acc: 0.9165 - val_loss: 0.5618 - val_acc: 0.8572\n",
      "Epoch 48/50\n",
      "278612/278612 [==============================] - 243s 873us/step - loss: 0.2862 - acc: 0.9169 - val_loss: 0.5623 - val_acc: 0.8569\n",
      "Epoch 49/50\n",
      "278612/278612 [==============================] - 243s 871us/step - loss: 0.2842 - acc: 0.9175 - val_loss: 0.5603 - val_acc: 0.8578\n",
      "Epoch 50/50\n",
      "278612/278612 [==============================] - 243s 873us/step - loss: 0.2817 - acc: 0.9182 - val_loss: 0.5667 - val_acc: 0.8560\n"
     ]
    }
   ],
   "source": [
    "history_lstm = lstm.fit(train_x, train_y, validation_data=(valid_x,valid_y), epochs=50, batch_size=512)"
   ]
  },
  {
   "cell_type": "markdown",
   "metadata": {},
   "source": [
    "GRU with enbeddings layer of 32"
   ]
  },
  {
   "cell_type": "code",
   "execution_count": 22,
   "metadata": {},
   "outputs": [],
   "source": [
    "gru = Sequential()"
   ]
  },
  {
   "cell_type": "code",
   "execution_count": 23,
   "metadata": {},
   "outputs": [],
   "source": [
    "gru.add(Embedding(10000, 32, input_length=100))\n",
    "gru.add(GRU(32))\n",
    "gru.add(Dense(24, activation='softmax'))\n",
    "gru.compile(optimizer='rmsprop', loss='categorical_crossentropy', metrics=['accuracy'])\n"
   ]
  },
  {
   "cell_type": "code",
   "execution_count": 24,
   "metadata": {},
   "outputs": [
    {
     "name": "stdout",
     "output_type": "stream",
     "text": [
      "Train on 278612 samples, validate on 69649 samples\n",
      "Epoch 1/50\n",
      "278612/278612 [==============================] - 169s 607us/step - loss: 2.4266 - acc: 0.2713 - val_loss: 1.9469 - val_acc: 0.4268\n",
      "Epoch 2/50\n",
      "278612/278612 [==============================] - 169s 608us/step - loss: 1.4915 - acc: 0.6026 - val_loss: 1.3342 - val_acc: 0.6525\n",
      "Epoch 3/50\n",
      "278612/278612 [==============================] - 169s 608us/step - loss: 1.0265 - acc: 0.7437 - val_loss: 0.9312 - val_acc: 0.7667\n",
      "Epoch 4/50\n",
      "278612/278612 [==============================] - 171s 612us/step - loss: 0.8114 - acc: 0.7955 - val_loss: 0.7990 - val_acc: 0.7983\n",
      "Epoch 5/50\n",
      "278612/278612 [==============================] - 170s 609us/step - loss: 0.6905 - acc: 0.8218 - val_loss: 0.7087 - val_acc: 0.8202\n",
      "Epoch 6/50\n",
      "278612/278612 [==============================] - 170s 609us/step - loss: 0.6174 - acc: 0.8361 - val_loss: 0.6389 - val_acc: 0.8303\n",
      "Epoch 7/50\n",
      "278612/278612 [==============================] - 170s 609us/step - loss: 0.5693 - acc: 0.8457 - val_loss: 0.6249 - val_acc: 0.8325\n",
      "Epoch 8/50\n",
      "278612/278612 [==============================] - 170s 609us/step - loss: 0.5354 - acc: 0.8529 - val_loss: 0.5864 - val_acc: 0.8411\n",
      "Epoch 9/50\n",
      "278612/278612 [==============================] - 170s 609us/step - loss: 0.5093 - acc: 0.8584 - val_loss: 0.5732 - val_acc: 0.8427\n",
      "Epoch 10/50\n",
      "278612/278612 [==============================] - 169s 608us/step - loss: 0.4890 - acc: 0.8629 - val_loss: 0.5570 - val_acc: 0.8463\n",
      "Epoch 11/50\n",
      "278612/278612 [==============================] - 172s 618us/step - loss: 0.4716 - acc: 0.8666 - val_loss: 0.5479 - val_acc: 0.8489\n",
      "Epoch 12/50\n",
      "278612/278612 [==============================] - 169s 608us/step - loss: 0.4571 - acc: 0.8706 - val_loss: 0.5406 - val_acc: 0.8507\n",
      "Epoch 13/50\n",
      "278612/278612 [==============================] - 170s 610us/step - loss: 0.4445 - acc: 0.8739 - val_loss: 0.5400 - val_acc: 0.8505\n",
      "Epoch 14/50\n",
      "278612/278612 [==============================] - 170s 611us/step - loss: 0.4333 - acc: 0.8768 - val_loss: 0.5350 - val_acc: 0.8528\n",
      "Epoch 15/50\n",
      "278612/278612 [==============================] - 172s 618us/step - loss: 0.4233 - acc: 0.8793 - val_loss: 0.5299 - val_acc: 0.8538\n",
      "Epoch 16/50\n",
      "278612/278612 [==============================] - 183s 656us/step - loss: 0.4147 - acc: 0.8818 - val_loss: 0.5248 - val_acc: 0.8549\n",
      "Epoch 17/50\n",
      "278612/278612 [==============================] - 176s 633us/step - loss: 0.4060 - acc: 0.8838 - val_loss: 0.5275 - val_acc: 0.8549\n",
      "Epoch 18/50\n",
      "278612/278612 [==============================] - 176s 632us/step - loss: 0.3985 - acc: 0.8859 - val_loss: 0.5291 - val_acc: 0.8544\n",
      "Epoch 19/50\n",
      "278612/278612 [==============================] - 176s 631us/step - loss: 0.3918 - acc: 0.8879 - val_loss: 0.5230 - val_acc: 0.8557\n",
      "Epoch 20/50\n",
      "278612/278612 [==============================] - 177s 634us/step - loss: 0.3848 - acc: 0.8895 - val_loss: 0.5190 - val_acc: 0.8571\n",
      "Epoch 21/50\n",
      "278612/278612 [==============================] - 175s 629us/step - loss: 0.3786 - acc: 0.8912 - val_loss: 0.5230 - val_acc: 0.8570\n",
      "Epoch 22/50\n",
      "278612/278612 [==============================] - 176s 630us/step - loss: 0.3724 - acc: 0.8933 - val_loss: 0.5231 - val_acc: 0.8575\n",
      "Epoch 23/50\n",
      "278612/278612 [==============================] - 178s 640us/step - loss: 0.3667 - acc: 0.8945 - val_loss: 0.5218 - val_acc: 0.8572\n",
      "Epoch 24/50\n",
      "278612/278612 [==============================] - 179s 644us/step - loss: 0.3613 - acc: 0.8965 - val_loss: 0.5233 - val_acc: 0.8585\n",
      "Epoch 25/50\n",
      "278612/278612 [==============================] - 181s 650us/step - loss: 0.3563 - acc: 0.8977 - val_loss: 0.5220 - val_acc: 0.8583\n",
      "Epoch 26/50\n",
      "278612/278612 [==============================] - 181s 649us/step - loss: 0.3513 - acc: 0.8993 - val_loss: 0.5287 - val_acc: 0.8584\n",
      "Epoch 27/50\n",
      "278612/278612 [==============================] - 180s 647us/step - loss: 0.3468 - acc: 0.9005 - val_loss: 0.5209 - val_acc: 0.8596\n",
      "Epoch 28/50\n",
      "278612/278612 [==============================] - 181s 649us/step - loss: 0.3418 - acc: 0.9019 - val_loss: 0.5252 - val_acc: 0.8590\n",
      "Epoch 29/50\n",
      "278612/278612 [==============================] - 181s 649us/step - loss: 0.3377 - acc: 0.9033 - val_loss: 0.5229 - val_acc: 0.8602\n",
      "Epoch 30/50\n",
      "278612/278612 [==============================] - 182s 653us/step - loss: 0.3334 - acc: 0.9044 - val_loss: 0.5254 - val_acc: 0.8603\n",
      "Epoch 31/50\n",
      "278612/278612 [==============================] - 171s 614us/step - loss: 0.3292 - acc: 0.9055 - val_loss: 0.5262 - val_acc: 0.8599\n",
      "Epoch 32/50\n",
      "278612/278612 [==============================] - 171s 614us/step - loss: 0.3253 - acc: 0.9070 - val_loss: 0.5296 - val_acc: 0.8591\n",
      "Epoch 33/50\n",
      "278612/278612 [==============================] - 170s 609us/step - loss: 0.3210 - acc: 0.9082 - val_loss: 0.5333 - val_acc: 0.8598\n",
      "Epoch 34/50\n",
      "278612/278612 [==============================] - 171s 613us/step - loss: 0.3174 - acc: 0.9092 - val_loss: 0.5398 - val_acc: 0.8577\n",
      "Epoch 35/50\n",
      "278612/278612 [==============================] - 169s 607us/step - loss: 0.3139 - acc: 0.9101 - val_loss: 0.5396 - val_acc: 0.8591\n",
      "Epoch 36/50\n",
      "278612/278612 [==============================] - 171s 613us/step - loss: 0.3102 - acc: 0.9111 - val_loss: 0.5310 - val_acc: 0.8610\n",
      "Epoch 37/50\n",
      "278612/278612 [==============================] - 170s 609us/step - loss: 0.3067 - acc: 0.9124 - val_loss: 0.5339 - val_acc: 0.8602\n",
      "Epoch 38/50\n",
      "278612/278612 [==============================] - 169s 608us/step - loss: 0.3036 - acc: 0.9134 - val_loss: 0.5392 - val_acc: 0.8603\n",
      "Epoch 39/50\n",
      "278612/278612 [==============================] - 169s 607us/step - loss: 0.3001 - acc: 0.9143 - val_loss: 0.5398 - val_acc: 0.8602\n",
      "Epoch 40/50\n",
      "278612/278612 [==============================] - 169s 606us/step - loss: 0.2969 - acc: 0.9153 - val_loss: 0.5431 - val_acc: 0.8592\n",
      "Epoch 41/50\n",
      "278612/278612 [==============================] - 169s 606us/step - loss: 0.2938 - acc: 0.9163 - val_loss: 0.5423 - val_acc: 0.8588\n",
      "Epoch 42/50\n",
      "278612/278612 [==============================] - 169s 606us/step - loss: 0.2910 - acc: 0.9167 - val_loss: 0.5471 - val_acc: 0.8612\n",
      "Epoch 43/50\n",
      "278612/278612 [==============================] - 185s 663us/step - loss: 0.2881 - acc: 0.9179 - val_loss: 0.5561 - val_acc: 0.8580\n",
      "Epoch 44/50\n",
      "278612/278612 [==============================] - 171s 612us/step - loss: 0.2854 - acc: 0.9181 - val_loss: 0.5534 - val_acc: 0.8584\n",
      "Epoch 45/50\n",
      "278612/278612 [==============================] - 170s 610us/step - loss: 0.2828 - acc: 0.9194 - val_loss: 0.5520 - val_acc: 0.8601\n",
      "Epoch 46/50\n",
      "278612/278612 [==============================] - 169s 608us/step - loss: 0.2803 - acc: 0.9198 - val_loss: 0.5554 - val_acc: 0.8595\n",
      "Epoch 47/50\n",
      "278612/278612 [==============================] - 170s 609us/step - loss: 0.2775 - acc: 0.9209 - val_loss: 0.5558 - val_acc: 0.8589\n",
      "Epoch 48/50\n",
      "278612/278612 [==============================] - 170s 609us/step - loss: 0.2750 - acc: 0.9213 - val_loss: 0.5596 - val_acc: 0.8595\n",
      "Epoch 49/50\n",
      "278612/278612 [==============================] - 171s 613us/step - loss: 0.2726 - acc: 0.9223 - val_loss: 0.5612 - val_acc: 0.8598\n",
      "Epoch 50/50\n",
      "278612/278612 [==============================] - 170s 610us/step - loss: 0.2701 - acc: 0.9229 - val_loss: 0.5604 - val_acc: 0.8593\n"
     ]
    }
   ],
   "source": [
    "history_gru = gru.fit(train_x, train_y, validation_data=(valid_x,valid_y), epochs=50, batch_size=512)"
   ]
  },
  {
   "cell_type": "markdown",
   "metadata": {},
   "source": [
    "For our first custom model we use higher dimensional embedding for a double RNN."
   ]
  },
  {
   "cell_type": "code",
   "execution_count": 25,
   "metadata": {},
   "outputs": [],
   "source": [
    "model_1 = Sequential()"
   ]
  },
  {
   "cell_type": "code",
   "execution_count": 26,
   "metadata": {},
   "outputs": [],
   "source": [
    "model_1.add(Embedding(10000, 50, input_length=100))\n",
    "model_1.add(SimpleRNN(50, return_sequences=True))\n",
    "model_1.add(SimpleRNN(50))\n",
    "model_1.add(Dense(24, activation='softmax'))\n",
    "model_1.compile(optimizer='rmsprop', loss='categorical_crossentropy', metrics=['accuracy'])\n"
   ]
  },
  {
   "cell_type": "code",
   "execution_count": 27,
   "metadata": {},
   "outputs": [
    {
     "name": "stdout",
     "output_type": "stream",
     "text": [
      "Train on 278612 samples, validate on 69649 samples\n",
      "Epoch 1/20\n",
      "278612/278612 [==============================] - 266s 955us/step - loss: 1.7092 - acc: 0.5231 - val_loss: 1.2172 - val_acc: 0.6731\n",
      "Epoch 2/20\n",
      "278612/278612 [==============================] - 226s 812us/step - loss: 0.9858 - acc: 0.7406 - val_loss: 0.9502 - val_acc: 0.7518\n",
      "Epoch 3/20\n",
      "278612/278612 [==============================] - 225s 807us/step - loss: 0.8051 - acc: 0.7899 - val_loss: 0.8432 - val_acc: 0.7821\n",
      "Epoch 4/20\n",
      "278612/278612 [==============================] - 223s 802us/step - loss: 0.7025 - acc: 0.8158 - val_loss: 0.9199 - val_acc: 0.7561\n",
      "Epoch 5/20\n",
      "278612/278612 [==============================] - 225s 809us/step - loss: 0.6405 - acc: 0.8305 - val_loss: 0.8847 - val_acc: 0.7651\n",
      "Epoch 6/20\n",
      "278612/278612 [==============================] - 225s 806us/step - loss: 0.5841 - acc: 0.8460 - val_loss: 0.7682 - val_acc: 0.8016\n",
      "Epoch 7/20\n",
      "278612/278612 [==============================] - 224s 804us/step - loss: 0.5500 - acc: 0.8536 - val_loss: 0.7995 - val_acc: 0.7943\n",
      "Epoch 8/20\n",
      "278612/278612 [==============================] - 225s 808us/step - loss: 0.5221 - acc: 0.8602 - val_loss: 0.8325 - val_acc: 0.7816\n",
      "Epoch 9/20\n",
      "278612/278612 [==============================] - 225s 808us/step - loss: 0.4910 - acc: 0.8679 - val_loss: 0.7796 - val_acc: 0.8012\n",
      "Epoch 10/20\n",
      "278612/278612 [==============================] - 224s 805us/step - loss: 0.4659 - acc: 0.8747 - val_loss: 0.7415 - val_acc: 0.8126\n",
      "Epoch 11/20\n",
      "278612/278612 [==============================] - 225s 807us/step - loss: 0.4457 - acc: 0.8804 - val_loss: 0.7855 - val_acc: 0.8014\n",
      "Epoch 12/20\n",
      "278612/278612 [==============================] - 224s 803us/step - loss: 0.4288 - acc: 0.8848 - val_loss: 0.8730 - val_acc: 0.7782\n",
      "Epoch 13/20\n",
      "278612/278612 [==============================] - 225s 808us/step - loss: 0.4083 - acc: 0.8902 - val_loss: 0.8454 - val_acc: 0.7883\n",
      "Epoch 14/20\n",
      "278612/278612 [==============================] - 236s 848us/step - loss: 0.3903 - acc: 0.8945 - val_loss: 0.7476 - val_acc: 0.8151\n",
      "Epoch 15/20\n",
      "278612/278612 [==============================] - 232s 834us/step - loss: 0.3834 - acc: 0.8954 - val_loss: 0.7572 - val_acc: 0.8153\n",
      "Epoch 16/20\n",
      "278612/278612 [==============================] - 243s 872us/step - loss: 0.3654 - acc: 0.9005 - val_loss: 0.7849 - val_acc: 0.8056\n",
      "Epoch 17/20\n",
      "278612/278612 [==============================] - 241s 863us/step - loss: 0.3613 - acc: 0.9013 - val_loss: 0.8002 - val_acc: 0.8041\n",
      "Epoch 18/20\n",
      "278612/278612 [==============================] - 237s 850us/step - loss: 0.3529 - acc: 0.9036 - val_loss: 0.7912 - val_acc: 0.8100\n",
      "Epoch 19/20\n",
      "278612/278612 [==============================] - 232s 831us/step - loss: 0.3447 - acc: 0.9059 - val_loss: 0.7821 - val_acc: 0.8113\n",
      "Epoch 20/20\n",
      "278612/278612 [==============================] - 257s 923us/step - loss: 0.3392 - acc: 0.9069 - val_loss: 0.7550 - val_acc: 0.8210\n"
     ]
    }
   ],
   "source": [
    "history_model_1 = model_1.fit(train_x, train_y, validation_data=(valid_x,valid_y), epochs=20, batch_size=512)"
   ]
  },
  {
   "cell_type": "markdown",
   "metadata": {},
   "source": [
    "We continue using higher dimensions and also add a LSTM cell, and with the ADAM optimiser."
   ]
  },
  {
   "cell_type": "code",
   "execution_count": 28,
   "metadata": {},
   "outputs": [],
   "source": [
    "model_2 = Sequential()"
   ]
  },
  {
   "cell_type": "code",
   "execution_count": 29,
   "metadata": {},
   "outputs": [],
   "source": [
    "model_2.add(Embedding(10000, 50, input_length=100))\n",
    "model_2.add(SimpleRNN(50, return_sequences=True))\n",
    "model_2.add(SimpleRNN(50, return_sequences=True))\n",
    "model_2.add(LSTM(50))\n",
    "model_2.add(Dense(24, activation='softmax'))\n",
    "model_2.compile(optimizer='adam', loss='categorical_crossentropy', metrics=['accuracy'])\n"
   ]
  },
  {
   "cell_type": "code",
   "execution_count": 30,
   "metadata": {},
   "outputs": [
    {
     "name": "stdout",
     "output_type": "stream",
     "text": [
      "Train on 278612 samples, validate on 69649 samples\n",
      "Epoch 1/20\n",
      "278612/278612 [==============================] - 565s 2ms/step - loss: 1.6714 - acc: 0.5211 - val_loss: 1.0279 - val_acc: 0.7318\n",
      "Epoch 2/20\n",
      "278612/278612 [==============================] - 605s 2ms/step - loss: 0.8383 - acc: 0.7807 - val_loss: 0.7368 - val_acc: 0.8048\n",
      "Epoch 3/20\n",
      "278612/278612 [==============================] - 564s 2ms/step - loss: 0.6401 - acc: 0.8285 - val_loss: 0.6351 - val_acc: 0.8280\n",
      "Epoch 4/20\n",
      "278612/278612 [==============================] - 536s 2ms/step - loss: 0.5459 - acc: 0.8503 - val_loss: 0.5848 - val_acc: 0.8412\n",
      "Epoch 5/20\n",
      "278612/278612 [==============================] - 533s 2ms/step - loss: 0.4862 - acc: 0.8636 - val_loss: 0.5638 - val_acc: 0.8443\n",
      "Epoch 6/20\n",
      "278612/278612 [==============================] - 523s 2ms/step - loss: 0.4391 - acc: 0.8755 - val_loss: 0.5501 - val_acc: 0.8493\n",
      "Epoch 7/20\n",
      "278612/278612 [==============================] - 520s 2ms/step - loss: 0.4007 - acc: 0.8843 - val_loss: 0.5456 - val_acc: 0.8526\n",
      "Epoch 8/20\n",
      "278612/278612 [==============================] - 519s 2ms/step - loss: 0.3875 - acc: 0.8870 - val_loss: 0.5432 - val_acc: 0.8522\n",
      "Epoch 9/20\n",
      "278612/278612 [==============================] - 520s 2ms/step - loss: 0.3515 - acc: 0.8967 - val_loss: 0.5378 - val_acc: 0.8558\n",
      "Epoch 10/20\n",
      "278612/278612 [==============================] - 520s 2ms/step - loss: 0.3197 - acc: 0.9051 - val_loss: 0.5454 - val_acc: 0.8553\n",
      "Epoch 11/20\n",
      "278612/278612 [==============================] - 520s 2ms/step - loss: 0.2976 - acc: 0.9104 - val_loss: 0.5575 - val_acc: 0.8559\n",
      "Epoch 12/20\n",
      "278612/278612 [==============================] - 531s 2ms/step - loss: 0.2798 - acc: 0.9148 - val_loss: 0.5667 - val_acc: 0.8552\n",
      "Epoch 13/20\n",
      "278612/278612 [==============================] - 556s 2ms/step - loss: 0.2627 - acc: 0.9194 - val_loss: 0.5680 - val_acc: 0.8559\n",
      "Epoch 14/20\n",
      "278612/278612 [==============================] - 575s 2ms/step - loss: 0.2483 - acc: 0.9226 - val_loss: 0.5766 - val_acc: 0.8558\n",
      "Epoch 15/20\n",
      "278612/278612 [==============================] - 593s 2ms/step - loss: 0.2363 - acc: 0.9257 - val_loss: 0.5866 - val_acc: 0.8557\n",
      "Epoch 16/20\n",
      "278612/278612 [==============================] - 600s 2ms/step - loss: 0.2243 - acc: 0.9286 - val_loss: 0.5935 - val_acc: 0.8571\n",
      "Epoch 17/20\n",
      "278612/278612 [==============================] - 599s 2ms/step - loss: 0.2119 - acc: 0.9324 - val_loss: 0.6092 - val_acc: 0.8541\n",
      "Epoch 18/20\n",
      "278612/278612 [==============================] - 593s 2ms/step - loss: 0.2038 - acc: 0.9339 - val_loss: 0.6229 - val_acc: 0.8536\n",
      "Epoch 19/20\n",
      "278612/278612 [==============================] - 619s 2ms/step - loss: 0.1949 - acc: 0.9367 - val_loss: 0.6247 - val_acc: 0.8558\n",
      "Epoch 20/20\n",
      "278612/278612 [==============================] - 631s 2ms/step - loss: 0.1882 - acc: 0.9379 - val_loss: 0.6329 - val_acc: 0.8563\n"
     ]
    }
   ],
   "source": [
    "history_model_2 = model_2.fit(train_x, train_y, validation_data=(valid_x,valid_y), epochs=20, batch_size=512)"
   ]
  },
  {
   "cell_type": "markdown",
   "metadata": {},
   "source": [
    "We now experiment with the adagrad optimiser."
   ]
  },
  {
   "cell_type": "code",
   "execution_count": 31,
   "metadata": {},
   "outputs": [],
   "source": [
    "model_3 = Sequential()"
   ]
  },
  {
   "cell_type": "code",
   "execution_count": 32,
   "metadata": {},
   "outputs": [
    {
     "name": "stderr",
     "output_type": "stream",
     "text": [
      "/Users/bhargavvader/open_source/perspectives/venv/lib/python3.5/site-packages/keras/layers/recurrent.py:1036: UserWarning: RNN dropout is no longer supported with the Theano backend due to technical limitations. You can either set `dropout` and `recurrent_dropout` to 0, or use the TensorFlow backend.\n",
      "  'RNN dropout is no longer supported with the Theano backend '\n"
     ]
    }
   ],
   "source": [
    "model_3.add(Embedding(10000, 50, input_length=100))\n",
    "model_3.add(SimpleRNN(50, dropout=0.2))\n",
    "model_3.add(Dense(24, activation='softmax'))\n",
    "model_3.compile(optimizer='adagrad', loss='categorical_crossentropy', metrics=['accuracy'])"
   ]
  },
  {
   "cell_type": "code",
   "execution_count": 33,
   "metadata": {},
   "outputs": [
    {
     "name": "stdout",
     "output_type": "stream",
     "text": [
      "Train on 278612 samples, validate on 69649 samples\n",
      "Epoch 1/20\n",
      "278612/278612 [==============================] - 114s 409us/step - loss: 1.7839 - acc: 0.4940 - val_loss: 1.2713 - val_acc: 0.6649\n",
      "Epoch 2/20\n",
      "278612/278612 [==============================] - 114s 410us/step - loss: 1.0589 - acc: 0.7202 - val_loss: 1.0175 - val_acc: 0.7285\n",
      "Epoch 3/20\n",
      "278612/278612 [==============================] - 114s 411us/step - loss: 0.8940 - acc: 0.7687 - val_loss: 1.2478 - val_acc: 0.6565\n",
      "Epoch 4/20\n",
      "278612/278612 [==============================] - 115s 412us/step - loss: 0.8069 - acc: 0.7936 - val_loss: 0.9816 - val_acc: 0.7327\n",
      "Epoch 5/20\n",
      "278612/278612 [==============================] - 113s 406us/step - loss: 0.7467 - acc: 0.8097 - val_loss: 0.8511 - val_acc: 0.7800\n",
      "Epoch 6/20\n",
      "278612/278612 [==============================] - 114s 410us/step - loss: 0.7053 - acc: 0.8199 - val_loss: 0.8032 - val_acc: 0.7953\n",
      "Epoch 7/20\n",
      "278612/278612 [==============================] - 114s 408us/step - loss: 0.6730 - acc: 0.8287 - val_loss: 0.7960 - val_acc: 0.7948\n",
      "Epoch 8/20\n",
      "278612/278612 [==============================] - 113s 407us/step - loss: 0.6468 - acc: 0.8348 - val_loss: 0.7998 - val_acc: 0.7932\n",
      "Epoch 9/20\n",
      "278612/278612 [==============================] - 114s 410us/step - loss: 0.6249 - acc: 0.8406 - val_loss: 0.7619 - val_acc: 0.8047\n",
      "Epoch 10/20\n",
      "278612/278612 [==============================] - 113s 406us/step - loss: 0.6070 - acc: 0.8445 - val_loss: 0.7694 - val_acc: 0.8045\n",
      "Epoch 11/20\n",
      "278612/278612 [==============================] - 113s 407us/step - loss: 0.5905 - acc: 0.8490 - val_loss: 0.7461 - val_acc: 0.8119\n",
      "Epoch 12/20\n",
      "278612/278612 [==============================] - 117s 419us/step - loss: 0.5763 - acc: 0.8521 - val_loss: 0.7957 - val_acc: 0.7938\n",
      "Epoch 13/20\n",
      "278612/278612 [==============================] - 113s 406us/step - loss: 0.5630 - acc: 0.8555 - val_loss: 0.7435 - val_acc: 0.8105\n",
      "Epoch 14/20\n",
      "278612/278612 [==============================] - 114s 410us/step - loss: 0.5517 - acc: 0.8586 - val_loss: 0.7264 - val_acc: 0.8161\n",
      "Epoch 15/20\n",
      "278612/278612 [==============================] - 113s 407us/step - loss: 0.5411 - acc: 0.8612 - val_loss: 0.7218 - val_acc: 0.8165\n",
      "Epoch 16/20\n",
      "278612/278612 [==============================] - 113s 407us/step - loss: 0.5310 - acc: 0.8635 - val_loss: 0.7279 - val_acc: 0.8171\n",
      "Epoch 17/20\n",
      "278612/278612 [==============================] - 114s 409us/step - loss: 0.5220 - acc: 0.8656 - val_loss: 0.7162 - val_acc: 0.8182\n",
      "Epoch 18/20\n",
      "278612/278612 [==============================] - 113s 405us/step - loss: 0.5135 - acc: 0.8672 - val_loss: 0.7209 - val_acc: 0.8170\n",
      "Epoch 19/20\n",
      "278612/278612 [==============================] - 113s 405us/step - loss: 0.5057 - acc: 0.8697 - val_loss: 0.7292 - val_acc: 0.8151\n",
      "Epoch 20/20\n",
      "278612/278612 [==============================] - 113s 406us/step - loss: 0.4980 - acc: 0.8713 - val_loss: 0.7252 - val_acc: 0.8173\n"
     ]
    }
   ],
   "source": [
    "history_model_3 = model_3.fit(train_x, train_y, validation_data=(valid_x,valid_y), epochs=20, batch_size=512)"
   ]
  },
  {
   "cell_type": "markdown",
   "metadata": {},
   "source": [
    "We use another variation of an LSTM."
   ]
  },
  {
   "cell_type": "code",
   "execution_count": 34,
   "metadata": {},
   "outputs": [],
   "source": [
    "model_4 = Sequential()"
   ]
  },
  {
   "cell_type": "code",
   "execution_count": 35,
   "metadata": {},
   "outputs": [
    {
     "name": "stderr",
     "output_type": "stream",
     "text": [
      "/Users/bhargavvader/open_source/perspectives/venv/lib/python3.5/site-packages/keras/layers/recurrent.py:2155: UserWarning: RNN dropout is no longer supported with the Theano backend due to technical limitations. You can either set `dropout` and `recurrent_dropout` to 0, or use the TensorFlow backend.\n",
      "  'RNN dropout is no longer supported with the Theano backend '\n"
     ]
    }
   ],
   "source": [
    "model_4.add(Embedding(10000, 50, input_length=100))\n",
    "model_4.add(LSTM(50, dropout=0.2))\n",
    "model_4.add(Dense(24, activation='softmax'))\n",
    "model_4.compile(optimizer='adam', loss='categorical_crossentropy', metrics=['accuracy'])\n"
   ]
  },
  {
   "cell_type": "code",
   "execution_count": 37,
   "metadata": {},
   "outputs": [
    {
     "name": "stdout",
     "output_type": "stream",
     "text": [
      "Train on 278612 samples, validate on 69649 samples\n",
      "Epoch 1/20\n",
      "278612/278612 [==============================] - 315s 1ms/step - loss: 1.7095 - acc: 0.5238 - val_loss: 0.9190 - val_acc: 0.7684\n",
      "Epoch 2/20\n",
      "278612/278612 [==============================] - 313s 1ms/step - loss: 0.7745 - acc: 0.8023 - val_loss: 0.6990 - val_acc: 0.8192\n",
      "Epoch 3/20\n",
      "278612/278612 [==============================] - 315s 1ms/step - loss: 0.6174 - acc: 0.8379 - val_loss: 0.6320 - val_acc: 0.8332\n",
      "Epoch 4/20\n",
      "278612/278612 [==============================] - 311s 1ms/step - loss: 0.5444 - acc: 0.8534 - val_loss: 0.5977 - val_acc: 0.8385\n",
      "Epoch 5/20\n",
      "278612/278612 [==============================] - 301s 1ms/step - loss: 0.4975 - acc: 0.8629 - val_loss: 0.5751 - val_acc: 0.8445\n",
      "Epoch 6/20\n",
      "278612/278612 [==============================] - 299s 1ms/step - loss: 0.4626 - acc: 0.8705 - val_loss: 0.5572 - val_acc: 0.8484\n",
      "Epoch 7/20\n",
      "278612/278612 [==============================] - 300s 1ms/step - loss: 0.4352 - acc: 0.8764 - val_loss: 0.5454 - val_acc: 0.8509\n",
      "Epoch 8/20\n",
      "278612/278612 [==============================] - 301s 1ms/step - loss: 0.4121 - acc: 0.8813 - val_loss: 0.5358 - val_acc: 0.8545\n",
      "Epoch 9/20\n",
      "278612/278612 [==============================] - 299s 1ms/step - loss: 0.3951 - acc: 0.8848 - val_loss: 0.5348 - val_acc: 0.8545\n",
      "Epoch 10/20\n",
      "278612/278612 [==============================] - 307s 1ms/step - loss: 0.3765 - acc: 0.8893 - val_loss: 0.5384 - val_acc: 0.8552\n",
      "Epoch 11/20\n",
      "278612/278612 [==============================] - 346s 1ms/step - loss: 0.3628 - acc: 0.8927 - val_loss: 0.5296 - val_acc: 0.8567\n",
      "Epoch 12/20\n",
      "278612/278612 [==============================] - 359s 1ms/step - loss: 0.3480 - acc: 0.8961 - val_loss: 0.5309 - val_acc: 0.8568\n",
      "Epoch 13/20\n",
      "278612/278612 [==============================] - 315s 1ms/step - loss: 0.3361 - acc: 0.8990 - val_loss: 0.5349 - val_acc: 0.8578\n",
      "Epoch 14/20\n",
      "278612/278612 [==============================] - 304s 1ms/step - loss: 0.3246 - acc: 0.9015 - val_loss: 0.5333 - val_acc: 0.8584\n",
      "Epoch 15/20\n",
      "278612/278612 [==============================] - 301s 1ms/step - loss: 0.3137 - acc: 0.9043 - val_loss: 0.5412 - val_acc: 0.8585\n",
      "Epoch 16/20\n",
      "278612/278612 [==============================] - 300s 1ms/step - loss: 0.3038 - acc: 0.9067 - val_loss: 0.5403 - val_acc: 0.8597\n",
      "Epoch 17/20\n",
      "278612/278612 [==============================] - 301s 1ms/step - loss: 0.2922 - acc: 0.9094 - val_loss: 0.5401 - val_acc: 0.8597\n",
      "Epoch 18/20\n",
      "278612/278612 [==============================] - 301s 1ms/step - loss: 0.2826 - acc: 0.9119 - val_loss: 0.5487 - val_acc: 0.8573\n",
      "Epoch 19/20\n",
      "278612/278612 [==============================] - 307s 1ms/step - loss: 0.2750 - acc: 0.9140 - val_loss: 0.5526 - val_acc: 0.8597\n",
      "Epoch 20/20\n",
      "278612/278612 [==============================] - 320s 1ms/step - loss: 0.2660 - acc: 0.9160 - val_loss: 0.5580 - val_acc: 0.8597\n"
     ]
    }
   ],
   "source": [
    "history_model_4 = model_4.fit(train_x, train_y, validation_data=(valid_x,valid_y), epochs=20, batch_size=512)"
   ]
  },
  {
   "cell_type": "markdown",
   "metadata": {},
   "source": [
    "We now use GRU with higher dimensional embeddings and ADAGRAD optimer."
   ]
  },
  {
   "cell_type": "code",
   "execution_count": 38,
   "metadata": {},
   "outputs": [],
   "source": [
    "model_5 = Sequential()"
   ]
  },
  {
   "cell_type": "code",
   "execution_count": 39,
   "metadata": {},
   "outputs": [
    {
     "name": "stderr",
     "output_type": "stream",
     "text": [
      "/Users/bhargavvader/open_source/perspectives/venv/lib/python3.5/site-packages/keras/layers/recurrent.py:1610: UserWarning: RNN dropout is no longer supported with the Theano backend due to technical limitations. You can either set `dropout` and `recurrent_dropout` to 0, or use the TensorFlow backend.\n",
      "  'RNN dropout is no longer supported with the Theano backend '\n"
     ]
    }
   ],
   "source": [
    "model_5.add(Embedding(10000, 50, input_length=100))\n",
    "model_5.add(GRU(50, dropout=0.2))\n",
    "model_5.add(Dense(24, activation='softmax'))\n",
    "model_5.compile(optimizer='adagrad', loss='categorical_crossentropy', metrics=['accuracy'])"
   ]
  },
  {
   "cell_type": "code",
   "execution_count": 40,
   "metadata": {},
   "outputs": [
    {
     "name": "stdout",
     "output_type": "stream",
     "text": [
      "Train on 278612 samples, validate on 69649 samples\n",
      "Epoch 1/20\n",
      "278612/278612 [==============================] - 223s 799us/step - loss: 1.7245 - acc: 0.5185 - val_loss: 1.1858 - val_acc: 0.6862\n",
      "Epoch 2/20\n",
      "278612/278612 [==============================] - 209s 749us/step - loss: 1.0172 - acc: 0.7386 - val_loss: 0.9367 - val_acc: 0.7596\n",
      "Epoch 3/20\n",
      "278612/278612 [==============================] - 207s 742us/step - loss: 0.8248 - acc: 0.7925 - val_loss: 0.8157 - val_acc: 0.7971\n",
      "Epoch 4/20\n",
      "278612/278612 [==============================] - 208s 746us/step - loss: 0.7384 - acc: 0.8156 - val_loss: 0.7634 - val_acc: 0.8093\n",
      "Epoch 5/20\n",
      "278612/278612 [==============================] - 221s 793us/step - loss: 0.6855 - acc: 0.8274 - val_loss: 0.7315 - val_acc: 0.8169\n",
      "Epoch 6/20\n",
      "278612/278612 [==============================] - 222s 795us/step - loss: 0.6510 - acc: 0.8351 - val_loss: 0.7101 - val_acc: 0.8208\n",
      "Epoch 7/20\n",
      "278612/278612 [==============================] - 227s 815us/step - loss: 0.6253 - acc: 0.8406 - val_loss: 0.6939 - val_acc: 0.8240\n",
      "Epoch 8/20\n",
      "278612/278612 [==============================] - 214s 767us/step - loss: 0.6052 - acc: 0.8450 - val_loss: 0.6851 - val_acc: 0.8267\n",
      "Epoch 9/20\n",
      "278612/278612 [==============================] - 207s 741us/step - loss: 0.5878 - acc: 0.8494 - val_loss: 0.6745 - val_acc: 0.8288\n",
      "Epoch 10/20\n",
      "278612/278612 [==============================] - 208s 747us/step - loss: 0.5731 - acc: 0.8522 - val_loss: 0.6700 - val_acc: 0.8299\n",
      "Epoch 11/20\n",
      "278612/278612 [==============================] - 221s 794us/step - loss: 0.5607 - acc: 0.8551 - val_loss: 0.6666 - val_acc: 0.8316\n",
      "Epoch 12/20\n",
      "278612/278612 [==============================] - 217s 779us/step - loss: 0.5495 - acc: 0.8576 - val_loss: 0.6577 - val_acc: 0.8311\n",
      "Epoch 13/20\n",
      "278612/278612 [==============================] - 200s 720us/step - loss: 0.5397 - acc: 0.8598 - val_loss: 0.6461 - val_acc: 0.8361\n",
      "Epoch 14/20\n",
      "278612/278612 [==============================] - 200s 719us/step - loss: 0.5305 - acc: 0.8619 - val_loss: 0.6458 - val_acc: 0.8361\n",
      "Epoch 15/20\n",
      "278612/278612 [==============================] - 232s 833us/step - loss: 0.5223 - acc: 0.8638 - val_loss: 0.6388 - val_acc: 0.8378\n",
      "Epoch 16/20\n",
      "278612/278612 [==============================] - 232s 833us/step - loss: 0.5145 - acc: 0.8657 - val_loss: 0.6348 - val_acc: 0.8386\n",
      "Epoch 17/20\n",
      "278612/278612 [==============================] - 213s 764us/step - loss: 0.5078 - acc: 0.8673 - val_loss: 0.6351 - val_acc: 0.8367\n",
      "Epoch 18/20\n",
      "278612/278612 [==============================] - 230s 827us/step - loss: 0.5015 - acc: 0.8686 - val_loss: 0.6336 - val_acc: 0.8385\n",
      "Epoch 19/20\n",
      "278612/278612 [==============================] - 233s 838us/step - loss: 0.4952 - acc: 0.8703 - val_loss: 0.6263 - val_acc: 0.8399\n",
      "Epoch 20/20\n",
      "278612/278612 [==============================] - 229s 821us/step - loss: 0.4892 - acc: 0.8717 - val_loss: 0.6239 - val_acc: 0.8408\n"
     ]
    }
   ],
   "source": [
    "result_model_5 = model_5.fit(train_x, train_y, validation_data=(valid_x,valid_y), epochs=20, batch_size=512)"
   ]
  },
  {
   "cell_type": "markdown",
   "metadata": {},
   "source": [
    "We now plot the results!"
   ]
  },
  {
   "cell_type": "code",
   "execution_count": 44,
   "metadata": {},
   "outputs": [],
   "source": [
    "loss_ff = history_feedforward.history['val_loss']\n",
    "loss_rnn = history_rnn.history['val_loss']\n",
    "loss_lstm = history_lstm.history['val_loss']\n",
    "loss_gru = history_gru.history['val_loss']\n",
    "loss_model_1 = history_model_1.history['val_loss']\n",
    "loss_model_2 = history_model_2.history['val_loss']\n",
    "loss_model_3 = history_model_3.history['val_loss']\n",
    "loss_model_4 = history_model_4.history['val_loss']\n",
    "loss_model_5 = result_model_5.history['val_loss']"
   ]
  },
  {
   "cell_type": "code",
   "execution_count": 43,
   "metadata": {},
   "outputs": [],
   "source": [
    "acc_ff = history_feedforward.history['val_acc']\n",
    "acc_rnn = history_rnn.history['val_acc']\n",
    "acc_lstm = history_lstm.history['val_acc']\n",
    "acc_gru = history_gru.history['val_acc']\n",
    "acc_model_1 = history_model_1.history['val_acc']\n",
    "acc_model_2 = history_model_2.history['val_acc']\n",
    "acc_model_3 = history_model_3.history['val_acc']\n",
    "acc_model_4 = history_model_4.history['val_acc']\n",
    "acc_model_5 = result_model_5.history['val_acc']"
   ]
  },
  {
   "cell_type": "code",
   "execution_count": 45,
   "metadata": {},
   "outputs": [
    {
     "data": {
      "image/png": "[encoded data removed]",
      "text/plain": [
       "<Figure size 432x288 with 1 Axes>"
      ]
     },
     "metadata": {
      "needs_background": "light"
     },
     "output_type": "display_data"
    }
   ],
   "source": [
    "plt.plot(loss_ff)\n",
    "plt.plot(loss_rnn)\n",
    "plt.plot(loss_lstm)\n",
    "plt.plot(loss_gru)\n",
    "plt.plot(loss_model_1)\n",
    "plt.plot(loss_model_2)\n",
    "plt.plot(loss_model_3)\n",
    "plt.plot(loss_model_4)\n",
    "plt.plot(loss_model_5)\n",
    "plt.legend(['ff', 'rnn', 'lstm', 'gru', 'model_1', 'model_2', 'model_3', 'model_4', 'model_5'])\n",
    "plt.title('The validation loss of the models')\n",
    "plt.show()"
   ]
  },
  {
   "cell_type": "code",
   "execution_count": 46,
   "metadata": {},
   "outputs": [
    {
     "data": {
      "image/png": "[encoded data removed]",
      "text/plain": [
       "<Figure size 432x288 with 1 Axes>"
      ]
     },
     "metadata": {
      "needs_background": "light"
     },
     "output_type": "display_data"
    }
   ],
   "source": [
    "plt.plot(acc_ff)\n",
    "plt.plot(acc_rnn)\n",
    "plt.plot(acc_lstm)\n",
    "plt.plot(acc_gru)\n",
    "plt.plot(acc_model_1)\n",
    "plt.plot(acc_model_2)\n",
    "plt.plot(acc_model_3)\n",
    "plt.plot(acc_model_4)\n",
    "plt.plot(acc_model_5)\n",
    "plt.legend(['ff', 'rnn', 'lstm', 'gru', 'model_1', 'model_2', 'model_3', 'model_4', 'model_5'])\n",
    "plt.title('The validation accuracy models')\n",
    "plt.show()"
   ]
  },
  {
   "cell_type": "code",
   "execution_count": 48,
   "metadata": {},
   "outputs": [
    {
     "name": "stdout",
     "output_type": "stream",
     "text": [
      "38693/38693 [==============================] - 11s 292us/step\n"
     ]
    },
    {
     "data": {
      "text/plain": [
       "[0.5727670295516608, 0.8588375158312771]"
      ]
     },
     "execution_count": 48,
     "metadata": {},
     "output_type": "execute_result"
    }
   ],
   "source": [
    "lstm.evaluate(test_x, test_y)"
   ]
  },
  {
   "cell_type": "code",
   "execution_count": 49,
   "metadata": {},
   "outputs": [
    {
     "name": "stdout",
     "output_type": "stream",
     "text": [
      "38693/38693 [==============================] - 18s 470us/step\n"
     ]
    },
    {
     "data": {
      "text/plain": [
       "[0.8708884593202277, 0.8241800842545061]"
      ]
     },
     "execution_count": 49,
     "metadata": {},
     "output_type": "execute_result"
    }
   ],
   "source": [
    "rnn.evaluate(test_x, test_y)"
   ]
  },
  {
   "cell_type": "code",
   "execution_count": 50,
   "metadata": {},
   "outputs": [
    {
     "name": "stdout",
     "output_type": "stream",
     "text": [
      "38693/38693 [==============================] - 2s 41us/step\n"
     ]
    },
    {
     "data": {
      "text/plain": [
       "[1.0543117769676966, 0.8302276897660872]"
      ]
     },
     "execution_count": 50,
     "metadata": {},
     "output_type": "execute_result"
    }
   ],
   "source": [
    "feedforward.evaluate(test_x, test_y)"
   ]
  },
  {
   "cell_type": "markdown",
   "metadata": {},
   "source": [
    "Some notes: we trained the last few models only on 20 epochs. Adding different variations didn't do a great job, and it seems that our LSTM performs the best with about 86% accuracy.\n",
    "\n",
    "This is still not as good as a human tagging it which reached 95% accuracy."
   ]
  }
 ],
 "metadata": {
  "kernelspec": {
   "display_name": "Python 3",
   "language": "python",
   "name": "python3"
  },
  "language_info": {
   "codemirror_mode": {
    "name": "ipython",
    "version": 3
   },
   "file_extension": ".py",
   "mimetype": "text/x-python",
   "name": "python",
   "nbconvert_exporter": "python",
   "pygments_lexer": "ipython3",
   "version": "3.5.2"
  }
 },
 "nbformat": 4,
 "nbformat_minor": 2
}
