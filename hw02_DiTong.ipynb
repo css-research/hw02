{
 "cells": [
  {
   "cell_type": "code",
   "execution_count": 1,
   "metadata": {},
   "outputs": [
    {
     "name": "stderr",
     "output_type": "stream",
     "text": [
      "Using TensorFlow backend.\n"
     ]
    }
   ],
   "source": [
    "# import packages\n",
    "import pandas as pd\n",
    "from keras.preprocessing.text import Tokenizer\n",
    "from keras.preprocessing.sequence import pad_sequences\n",
    "from keras.utils import to_categorical\n",
    "from keras.layers import Embedding, Flatten, Dense, SimpleRNN, LSTM, GRU\n",
    "from keras.models import Sequential\n",
    "import matplotlib.pyplot as plt"
   ]
  },
  {
   "cell_type": "code",
   "execution_count": 3,
   "metadata": {},
   "outputs": [],
   "source": [
    "# 1. Import the data and tokenize to use with Keras\n",
    "testfile = open('data/congress_test.csv', \"r+\",encoding='utf-8', errors='ignore')\n",
    "text = testfile.read()\n",
    "testfile.seek(0)\n",
    "testfile.write(text)\n",
    "testfile.close()\n",
    "\n",
    "trainfile = open('data/congress_train.csv', \"r+\",encoding='utf-8', errors='ignore')\n",
    "text = trainfile.read()\n",
    "trainfile.seek(0)\n",
    "trainfile.write(text)\n",
    "trainfile.close()\n",
    "\n",
    "valfile = open('data/congress_val.csv', \"r+\",encoding='utf-8', errors='ignore')\n",
    "text = valfile.read()\n",
    "valfile.seek(0)\n",
    "valfile.write(text)\n",
    "valfile.close()\n",
    "\n",
    "# import the data\n",
    "train_data = pd.read_csv('data/congress_train.csv').dropna()\n",
    "val_data = pd.read_csv('data/congress_val.csv').dropna()\n",
    "test_data = pd.read_csv('data/congress_test.csv').dropna()\n",
    "train_text = list(train_data['Title'])\n",
    "train_text = [str(i) for i in train_text]\n",
    "val_text = list(val_data['Title'])\n",
    "val_text = [str(i) for i in val_text]\n",
    "test_text = list(test_data['Title'])\n",
    "test_text = [str(i) for i in test_text]\n",
    "label_train = to_categorical(list(train_data['Major']))\n",
    "label_val = to_categorical(list(val_data['Major']))\n",
    "label_test = to_categorical(list(test_data['Major']))\n",
    "\n",
    "# tokenize the data\n",
    "# Keep only the 10000 most frequent words\n",
    "tokenizer = Tokenizer(num_words=10000)\n",
    "tokenizer.fit_on_texts(train_text)\n",
    "train_seq = tokenizer.texts_to_sequences(train_text)\n",
    "test_seq = tokenizer.texts_to_sequences(test_text)\n",
    "val_seq = tokenizer.texts_to_sequences(val_text)\n",
    "# Limit each bill's title to a maximum length of 100 words\n",
    "# Pad each sequence to be of length 100\n",
    "x_train = pad_sequences(train_seq, maxlen=100)\n",
    "x_test = pad_sequences(test_seq, maxlen=100)\n",
    "x_val = pad_sequences(val_seq, maxlen=100)"
   ]
  },
  {
   "cell_type": "code",
   "execution_count": null,
   "metadata": {},
   "outputs": [],
   "source": [
    "# 3. Estimate a basic feed-forward network\n",
    "basic_ff = Sequential()\n",
    "basic_ff.add(Embedding(10000, 32, input_length=100))\n",
    "basic_ff.add(Flatten())\n",
    "basic_ff.add(Dense(24, activation='softmax'))\n",
    "basic_ff.compile(optimizer='rmsprop', loss='categorical_crossentropy', metrics=['accuracy'])\n",
    "result_basic_ff = basic_ff.fit(x_train, label_train, validation_data=(x_val, label_val), \\\n",
    "                               epochs=50, batch_size=512, verbose=0)"
   ]
  },
  {
   "cell_type": "code",
   "execution_count": null,
   "metadata": {},
   "outputs": [],
   "source": [
    "# 4. Estimate a recurrent neural network (RNN) with a layer_simple_rnn\n",
    "rnn = Sequential()\n",
    "rnn.add(Embedding(10000, 32, input_length=100))\n",
    "rnn.add(SimpleRNN(32))\n",
    "rnn.add(Dense(24, activation='softmax'))\n",
    "rnn.compile(optimizer='rmsprop', loss='categorical_crossentropy', metrics=['accuracy'])\n",
    "result_rnn = rnn.fit(x_train, label_train, validation_data=(x_val, label_val), epochs=50, batch_size=512, verbose=0)"
   ]
  },
  {
   "cell_type": "code",
   "execution_count": null,
   "metadata": {},
   "outputs": [],
   "source": [
    "# 5. Estimate an RNN with an LSTM layer\n",
    "lstm = Sequential()\n",
    "lstm.add(Embedding(10000, 32, input_length=100))\n",
    "lstm.add(LSTM(32))\n",
    "lstm.add(Dense(24, activation='softmax'))\n",
    "lstm.compile(optimizer='rmsprop', loss='categorical_crossentropy', metrics=['accuracy'])\n",
    "result_lstm = lstm.fit(x_train, label_train, validation_data=(x_val, label_val), epochs=50, batch_size=512, verbose=0)"
   ]
  }
 ],
 "metadata": {
  "kernelspec": {
   "display_name": "Python 3",
   "language": "python",
   "name": "python3"
  },
  "language_info": {
   "codemirror_mode": {
    "name": "ipython",
    "version": 3
   },
   "file_extension": ".py",
   "mimetype": "text/x-python",
   "name": "python",
   "nbconvert_exporter": "python",
   "pygments_lexer": "ipython3",
   "version": "3.6.8"
  }
 },
 "nbformat": 4,
 "nbformat_minor": 2
}
